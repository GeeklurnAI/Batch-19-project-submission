{
 "cells": [
  {
   "cell_type": "code",
   "execution_count": 1,
   "id": "9192b817",
   "metadata": {},
   "outputs": [],
   "source": [
    "#importing the common packages\n",
    "import pandas as pd\n",
    "import numpy as np\n",
    "import matplotlib as mpl\n",
    "import matplotlib.pyplot as plt\n",
    "%matplotlib inline\n",
    "import scipy.stats as stats\n",
    "import seaborn as sns"
   ]
  },
  {
   "cell_type": "code",
   "execution_count": 2,
   "id": "caf05e2d",
   "metadata": {},
   "outputs": [],
   "source": [
    "#importing modeling packages\n",
    "from sklearn.linear_model import LogisticRegression\n",
    "from sklearn.tree import DecisionTreeClassifier\n",
    "from sklearn.ensemble import RandomForestClassifier\n",
    "from sklearn.svm import SVC"
   ]
  },
  {
   "cell_type": "code",
   "execution_count": 3,
   "id": "53b99ea9",
   "metadata": {},
   "outputs": [],
   "source": [
    "#importing the model parameters or matrix\n",
    "from sklearn.metrics import accuracy_score\n",
    "from sklearn.metrics import precision_score\n",
    "from sklearn.metrics import recall_score\n",
    "from sklearn.metrics import f1_score\n",
    "from sklearn.metrics import roc_auc_score\n",
    "from sklearn.metrics import log_loss\n"
   ]
  },
  {
   "cell_type": "code",
   "execution_count": 4,
   "id": "1db068fc",
   "metadata": {},
   "outputs": [],
   "source": [
    "import pandas as pd\n",
    "drinking = pd.read_csv(r'D:\\Sachin Sharma\\Downloads\\Classify cow positions using Machine Learning\\Classify cow positions using Machine Learning\\D2_train.csv')\n",
    "eating = pd.read_csv(r'D:\\Sachin Sharma\\Downloads\\Classify cow positions using Machine Learning\\Classify cow positions using Machine Learning\\E1_train.csv')\n",
    "walking = pd.read_csv(r'D:\\Sachin Sharma\\Downloads\\Classify cow positions using Machine Learning\\Classify cow positions using Machine Learning\\G8_train.csv')\n",
    "grooming = pd.read_csv(r'D:\\Sachin Sharma\\Downloads\\Classify cow positions using Machine Learning\\Classify cow positions using Machine Learning\\I9_train.csv')\n",
    "idle = pd.read_csv(r'D:\\Sachin Sharma\\Downloads\\Classify cow positions using Machine Learning\\Classify cow positions using Machine Learning\\L5_train.csv')\n",
    "lying = pd.read_csv(r'D:\\Sachin Sharma\\Downloads\\Classify cow positions using Machine Learning\\Classify cow positions using Machine Learning\\RL7_train.csv')\n",
    "ruminating_lying = pd.read_csv(r'D:\\Sachin Sharma\\Downloads\\Classify cow positions using Machine Learning\\Classify cow positions using Machine Learning\\RS6_train.csv')\n",
    "ruminating_standing = pd.read_csv(r'D:\\Sachin Sharma\\Downloads\\Classify cow positions using Machine Learning\\Classify cow positions using Machine Learning\\S4_train.csv')\n",
    "standing = pd.read_csv(r'D:\\Sachin Sharma\\Downloads\\Classify cow positions using Machine Learning\\Classify cow positions using Machine Learning\\W3_train.csv')"
   ]
  },
  {
   "cell_type": "code",
   "execution_count": 5,
   "id": "de935214",
   "metadata": {},
   "outputs": [
    {
     "data": {
      "text/plain": [
       "time     0\n",
       "acc_x    0\n",
       "acc_y    0\n",
       "acc_z    0\n",
       "gyr_x    0\n",
       "gyr_y    0\n",
       "gyr_z    0\n",
       "mag_x    0\n",
       "mag_y    0\n",
       "mag_z    0\n",
       "label    0\n",
       "dtype: int64"
      ]
     },
     "execution_count": 5,
     "metadata": {},
     "output_type": "execute_result"
    }
   ],
   "source": [
    "drinking.isnull().sum()"
   ]
  },
  {
   "cell_type": "code",
   "execution_count": 6,
   "id": "efce2969",
   "metadata": {},
   "outputs": [],
   "source": [
    "df = pd.concat([drinking,eating,walking,grooming,idle,lying,ruminating_lying,ruminating_standing,standing]) #\"\"\" concatenating all the datasets and are storing in a variable called df \"\"\""
   ]
  },
  {
   "cell_type": "code",
   "execution_count": 7,
   "id": "478b8fed",
   "metadata": {},
   "outputs": [
    {
     "name": "stdout",
     "output_type": "stream",
     "text": [
      "<class 'pandas.core.frame.DataFrame'>\n",
      "Int64Index: 12263524 entries, 0 to 145368\n",
      "Data columns (total 11 columns):\n",
      " #   Column  Dtype  \n",
      "---  ------  -----  \n",
      " 0   time    int64  \n",
      " 1   acc_x   float64\n",
      " 2   acc_y   float64\n",
      " 3   acc_z   float64\n",
      " 4   gyr_x   float64\n",
      " 5   gyr_y   float64\n",
      " 6   gyr_z   float64\n",
      " 7   mag_x   float64\n",
      " 8   mag_y   float64\n",
      " 9   mag_z   float64\n",
      " 10  label   int64  \n",
      "dtypes: float64(9), int64(2)\n",
      "memory usage: 1.1 GB\n"
     ]
    }
   ],
   "source": [
    "#checking the type of values under each column\n",
    "df.info()"
   ]
  },
  {
   "cell_type": "code",
   "execution_count": 8,
   "id": "598f8fab",
   "metadata": {},
   "outputs": [
    {
     "data": {
      "text/html": [
       "<div>\n",
       "<style scoped>\n",
       "    .dataframe tbody tr th:only-of-type {\n",
       "        vertical-align: middle;\n",
       "    }\n",
       "\n",
       "    .dataframe tbody tr th {\n",
       "        vertical-align: top;\n",
       "    }\n",
       "\n",
       "    .dataframe thead th {\n",
       "        text-align: right;\n",
       "    }\n",
       "</style>\n",
       "<table border=\"1\" class=\"dataframe\">\n",
       "  <thead>\n",
       "    <tr style=\"text-align: right;\">\n",
       "      <th></th>\n",
       "      <th>time</th>\n",
       "      <th>acc_x</th>\n",
       "      <th>acc_y</th>\n",
       "      <th>acc_z</th>\n",
       "      <th>gyr_x</th>\n",
       "      <th>gyr_y</th>\n",
       "      <th>gyr_z</th>\n",
       "      <th>mag_x</th>\n",
       "      <th>mag_y</th>\n",
       "      <th>mag_z</th>\n",
       "      <th>label</th>\n",
       "    </tr>\n",
       "  </thead>\n",
       "  <tbody>\n",
       "    <tr>\n",
       "      <th>0</th>\n",
       "      <td>1628079761</td>\n",
       "      <td>-0.187012</td>\n",
       "      <td>1.071289</td>\n",
       "      <td>0.321289</td>\n",
       "      <td>7.934570</td>\n",
       "      <td>-40.527344</td>\n",
       "      <td>17.028809</td>\n",
       "      <td>-526.5</td>\n",
       "      <td>1437.0</td>\n",
       "      <td>513.0</td>\n",
       "      <td>2</td>\n",
       "    </tr>\n",
       "    <tr>\n",
       "      <th>1</th>\n",
       "      <td>1628079761</td>\n",
       "      <td>-0.137207</td>\n",
       "      <td>1.099121</td>\n",
       "      <td>0.294922</td>\n",
       "      <td>0.305176</td>\n",
       "      <td>-44.677734</td>\n",
       "      <td>15.930176</td>\n",
       "      <td>-528.0</td>\n",
       "      <td>1423.5</td>\n",
       "      <td>495.0</td>\n",
       "      <td>2</td>\n",
       "    </tr>\n",
       "    <tr>\n",
       "      <th>2</th>\n",
       "      <td>1628079761</td>\n",
       "      <td>0.028320</td>\n",
       "      <td>1.053711</td>\n",
       "      <td>0.215820</td>\n",
       "      <td>-9.216309</td>\n",
       "      <td>-42.541504</td>\n",
       "      <td>10.681152</td>\n",
       "      <td>-510.0</td>\n",
       "      <td>1419.0</td>\n",
       "      <td>484.5</td>\n",
       "      <td>2</td>\n",
       "    </tr>\n",
       "    <tr>\n",
       "      <th>3</th>\n",
       "      <td>1628079761</td>\n",
       "      <td>0.151856</td>\n",
       "      <td>0.960938</td>\n",
       "      <td>0.206543</td>\n",
       "      <td>-15.502930</td>\n",
       "      <td>-31.433105</td>\n",
       "      <td>4.943848</td>\n",
       "      <td>-529.5</td>\n",
       "      <td>1428.0</td>\n",
       "      <td>496.5</td>\n",
       "      <td>2</td>\n",
       "    </tr>\n",
       "    <tr>\n",
       "      <th>4</th>\n",
       "      <td>1628079761</td>\n",
       "      <td>0.171387</td>\n",
       "      <td>0.883301</td>\n",
       "      <td>0.247070</td>\n",
       "      <td>-0.061035</td>\n",
       "      <td>-27.832031</td>\n",
       "      <td>-2.685547</td>\n",
       "      <td>-526.5</td>\n",
       "      <td>1420.5</td>\n",
       "      <td>505.5</td>\n",
       "      <td>2</td>\n",
       "    </tr>\n",
       "  </tbody>\n",
       "</table>\n",
       "</div>"
      ],
      "text/plain": [
       "         time     acc_x     acc_y     acc_z      gyr_x      gyr_y      gyr_z  \\\n",
       "0  1628079761 -0.187012  1.071289  0.321289   7.934570 -40.527344  17.028809   \n",
       "1  1628079761 -0.137207  1.099121  0.294922   0.305176 -44.677734  15.930176   \n",
       "2  1628079761  0.028320  1.053711  0.215820  -9.216309 -42.541504  10.681152   \n",
       "3  1628079761  0.151856  0.960938  0.206543 -15.502930 -31.433105   4.943848   \n",
       "4  1628079761  0.171387  0.883301  0.247070  -0.061035 -27.832031  -2.685547   \n",
       "\n",
       "   mag_x   mag_y  mag_z  label  \n",
       "0 -526.5  1437.0  513.0      2  \n",
       "1 -528.0  1423.5  495.0      2  \n",
       "2 -510.0  1419.0  484.5      2  \n",
       "3 -529.5  1428.0  496.5      2  \n",
       "4 -526.5  1420.5  505.5      2  "
      ]
     },
     "execution_count": 8,
     "metadata": {},
     "output_type": "execute_result"
    }
   ],
   "source": [
    "df.head() #top 5 rows"
   ]
  },
  {
   "cell_type": "code",
   "execution_count": 9,
   "id": "e6e9a66a",
   "metadata": {
    "scrolled": true
   },
   "outputs": [
    {
     "data": {
      "text/html": [
       "<div>\n",
       "<style scoped>\n",
       "    .dataframe tbody tr th:only-of-type {\n",
       "        vertical-align: middle;\n",
       "    }\n",
       "\n",
       "    .dataframe tbody tr th {\n",
       "        vertical-align: top;\n",
       "    }\n",
       "\n",
       "    .dataframe thead th {\n",
       "        text-align: right;\n",
       "    }\n",
       "</style>\n",
       "<table border=\"1\" class=\"dataframe\">\n",
       "  <thead>\n",
       "    <tr style=\"text-align: right;\">\n",
       "      <th></th>\n",
       "      <th>time</th>\n",
       "      <th>acc_x</th>\n",
       "      <th>acc_y</th>\n",
       "      <th>acc_z</th>\n",
       "      <th>gyr_x</th>\n",
       "      <th>gyr_y</th>\n",
       "      <th>gyr_z</th>\n",
       "      <th>mag_x</th>\n",
       "      <th>mag_y</th>\n",
       "      <th>mag_z</th>\n",
       "      <th>label</th>\n",
       "    </tr>\n",
       "  </thead>\n",
       "  <tbody>\n",
       "    <tr>\n",
       "      <th>145364</th>\n",
       "      <td>1628296552</td>\n",
       "      <td>-0.192871</td>\n",
       "      <td>-1.102051</td>\n",
       "      <td>-0.122559</td>\n",
       "      <td>-4.455566</td>\n",
       "      <td>-59.936523</td>\n",
       "      <td>7.507324</td>\n",
       "      <td>-337.5</td>\n",
       "      <td>271.5</td>\n",
       "      <td>631.5</td>\n",
       "      <td>3</td>\n",
       "    </tr>\n",
       "    <tr>\n",
       "      <th>145365</th>\n",
       "      <td>1628296552</td>\n",
       "      <td>-0.198242</td>\n",
       "      <td>-1.043457</td>\n",
       "      <td>-0.126465</td>\n",
       "      <td>-7.690430</td>\n",
       "      <td>-45.043945</td>\n",
       "      <td>5.676270</td>\n",
       "      <td>-330.0</td>\n",
       "      <td>294.0</td>\n",
       "      <td>610.5</td>\n",
       "      <td>3</td>\n",
       "    </tr>\n",
       "    <tr>\n",
       "      <th>145366</th>\n",
       "      <td>1628296552</td>\n",
       "      <td>-0.244141</td>\n",
       "      <td>-1.060059</td>\n",
       "      <td>-0.047852</td>\n",
       "      <td>-18.188477</td>\n",
       "      <td>-40.954590</td>\n",
       "      <td>7.507324</td>\n",
       "      <td>-345.0</td>\n",
       "      <td>298.5</td>\n",
       "      <td>612.0</td>\n",
       "      <td>3</td>\n",
       "    </tr>\n",
       "    <tr>\n",
       "      <th>145367</th>\n",
       "      <td>1628296552</td>\n",
       "      <td>-0.209473</td>\n",
       "      <td>-1.058594</td>\n",
       "      <td>-0.085938</td>\n",
       "      <td>-20.996094</td>\n",
       "      <td>-47.912598</td>\n",
       "      <td>3.295898</td>\n",
       "      <td>-334.5</td>\n",
       "      <td>297.0</td>\n",
       "      <td>612.0</td>\n",
       "      <td>3</td>\n",
       "    </tr>\n",
       "    <tr>\n",
       "      <th>145368</th>\n",
       "      <td>1628296552</td>\n",
       "      <td>-0.234375</td>\n",
       "      <td>-1.033691</td>\n",
       "      <td>-0.073242</td>\n",
       "      <td>-32.287598</td>\n",
       "      <td>-25.695801</td>\n",
       "      <td>-0.061035</td>\n",
       "      <td>-319.5</td>\n",
       "      <td>289.5</td>\n",
       "      <td>595.5</td>\n",
       "      <td>3</td>\n",
       "    </tr>\n",
       "  </tbody>\n",
       "</table>\n",
       "</div>"
      ],
      "text/plain": [
       "              time     acc_x     acc_y     acc_z      gyr_x      gyr_y  \\\n",
       "145364  1628296552 -0.192871 -1.102051 -0.122559  -4.455566 -59.936523   \n",
       "145365  1628296552 -0.198242 -1.043457 -0.126465  -7.690430 -45.043945   \n",
       "145366  1628296552 -0.244141 -1.060059 -0.047852 -18.188477 -40.954590   \n",
       "145367  1628296552 -0.209473 -1.058594 -0.085938 -20.996094 -47.912598   \n",
       "145368  1628296552 -0.234375 -1.033691 -0.073242 -32.287598 -25.695801   \n",
       "\n",
       "           gyr_z  mag_x  mag_y  mag_z  label  \n",
       "145364  7.507324 -337.5  271.5  631.5      3  \n",
       "145365  5.676270 -330.0  294.0  610.5      3  \n",
       "145366  7.507324 -345.0  298.5  612.0      3  \n",
       "145367  3.295898 -334.5  297.0  612.0      3  \n",
       "145368 -0.061035 -319.5  289.5  595.5      3  "
      ]
     },
     "execution_count": 9,
     "metadata": {},
     "output_type": "execute_result"
    }
   ],
   "source": [
    "df.tail()  #bottom 5 rows"
   ]
  },
  {
   "cell_type": "code",
   "execution_count": 10,
   "id": "53be52f6",
   "metadata": {},
   "outputs": [
    {
     "data": {
      "image/png": "[encoded data removed]",
      "text/plain": [
       "<Figure size 720x720 with 2 Axes>"
      ]
     },
     "metadata": {
      "needs_background": "light"
     },
     "output_type": "display_data"
    }
   ],
   "source": [
    "#Checking Correlation between all Variables\n",
    "plt.figure(figsize=(10,10))\n",
    "cor = df.corr()\n",
    "sns.heatmap(cor,annot = True, cmap=\"coolwarm\", fmt = '.0%' )\n",
    "plt.show()"
   ]
  },
  {
   "cell_type": "code",
   "execution_count": 11,
   "id": "50786cae",
   "metadata": {},
   "outputs": [
    {
     "data": {
      "text/plain": [
       "time     0\n",
       "acc_x    0\n",
       "acc_y    0\n",
       "acc_z    0\n",
       "gyr_x    0\n",
       "gyr_y    0\n",
       "gyr_z    0\n",
       "mag_x    0\n",
       "mag_y    0\n",
       "mag_z    0\n",
       "label    0\n",
       "dtype: int64"
      ]
     },
     "execution_count": 11,
     "metadata": {},
     "output_type": "execute_result"
    }
   ],
   "source": [
    "df.isnull().sum() #checking null values #No null value"
   ]
  },
  {
   "cell_type": "code",
   "execution_count": 12,
   "id": "fdb0e5c6",
   "metadata": {},
   "outputs": [
    {
     "data": {
      "text/html": [
       "<div>\n",
       "<style scoped>\n",
       "    .dataframe tbody tr th:only-of-type {\n",
       "        vertical-align: middle;\n",
       "    }\n",
       "\n",
       "    .dataframe tbody tr th {\n",
       "        vertical-align: top;\n",
       "    }\n",
       "\n",
       "    .dataframe thead th {\n",
       "        text-align: right;\n",
       "    }\n",
       "</style>\n",
       "<table border=\"1\" class=\"dataframe\">\n",
       "  <thead>\n",
       "    <tr style=\"text-align: right;\">\n",
       "      <th></th>\n",
       "      <th>label</th>\n",
       "    </tr>\n",
       "  </thead>\n",
       "  <tbody>\n",
       "    <tr>\n",
       "      <th>0</th>\n",
       "      <td>2</td>\n",
       "    </tr>\n",
       "    <tr>\n",
       "      <th>1</th>\n",
       "      <td>2</td>\n",
       "    </tr>\n",
       "    <tr>\n",
       "      <th>2</th>\n",
       "      <td>2</td>\n",
       "    </tr>\n",
       "    <tr>\n",
       "      <th>3</th>\n",
       "      <td>2</td>\n",
       "    </tr>\n",
       "    <tr>\n",
       "      <th>4</th>\n",
       "      <td>2</td>\n",
       "    </tr>\n",
       "    <tr>\n",
       "      <th>...</th>\n",
       "      <td>...</td>\n",
       "    </tr>\n",
       "    <tr>\n",
       "      <th>145364</th>\n",
       "      <td>3</td>\n",
       "    </tr>\n",
       "    <tr>\n",
       "      <th>145365</th>\n",
       "      <td>3</td>\n",
       "    </tr>\n",
       "    <tr>\n",
       "      <th>145366</th>\n",
       "      <td>3</td>\n",
       "    </tr>\n",
       "    <tr>\n",
       "      <th>145367</th>\n",
       "      <td>3</td>\n",
       "    </tr>\n",
       "    <tr>\n",
       "      <th>145368</th>\n",
       "      <td>3</td>\n",
       "    </tr>\n",
       "  </tbody>\n",
       "</table>\n",
       "<p>12263524 rows × 1 columns</p>\n",
       "</div>"
      ],
      "text/plain": [
       "        label\n",
       "0           2\n",
       "1           2\n",
       "2           2\n",
       "3           2\n",
       "4           2\n",
       "...       ...\n",
       "145364      3\n",
       "145365      3\n",
       "145366      3\n",
       "145367      3\n",
       "145368      3\n",
       "\n",
       "[12263524 rows x 1 columns]"
      ]
     },
     "execution_count": 12,
     "metadata": {},
     "output_type": "execute_result"
    }
   ],
   "source": [
    "#seperating the input and output variables into 2 different dataframes\n",
    "a = df.drop(['label'], axis = 1)\n",
    "a\n",
    "b = df[['label']]\n",
    "b"
   ]
  },
  {
   "cell_type": "code",
   "execution_count": 13,
   "id": "38ec1a10",
   "metadata": {},
   "outputs": [
    {
     "data": {
      "text/html": [
       "<div>\n",
       "<style scoped>\n",
       "    .dataframe tbody tr th:only-of-type {\n",
       "        vertical-align: middle;\n",
       "    }\n",
       "\n",
       "    .dataframe tbody tr th {\n",
       "        vertical-align: top;\n",
       "    }\n",
       "\n",
       "    .dataframe thead th {\n",
       "        text-align: right;\n",
       "    }\n",
       "</style>\n",
       "<table border=\"1\" class=\"dataframe\">\n",
       "  <thead>\n",
       "    <tr style=\"text-align: right;\">\n",
       "      <th></th>\n",
       "      <th>time</th>\n",
       "      <th>acc_x</th>\n",
       "      <th>acc_y</th>\n",
       "      <th>acc_z</th>\n",
       "      <th>gyr_x</th>\n",
       "      <th>gyr_y</th>\n",
       "      <th>gyr_z</th>\n",
       "      <th>mag_x</th>\n",
       "      <th>mag_y</th>\n",
       "      <th>mag_z</th>\n",
       "    </tr>\n",
       "  </thead>\n",
       "  <tbody>\n",
       "    <tr>\n",
       "      <th>count</th>\n",
       "      <td>1.226352e+07</td>\n",
       "      <td>1.226352e+07</td>\n",
       "      <td>1.226352e+07</td>\n",
       "      <td>1.226352e+07</td>\n",
       "      <td>1.226352e+07</td>\n",
       "      <td>1.226352e+07</td>\n",
       "      <td>1.226352e+07</td>\n",
       "      <td>1.226352e+07</td>\n",
       "      <td>1.226352e+07</td>\n",
       "      <td>1.226352e+07</td>\n",
       "    </tr>\n",
       "    <tr>\n",
       "      <th>mean</th>\n",
       "      <td>1.628243e+09</td>\n",
       "      <td>-2.807402e-02</td>\n",
       "      <td>6.211683e-01</td>\n",
       "      <td>1.081455e-01</td>\n",
       "      <td>8.722215e-01</td>\n",
       "      <td>-1.837340e+00</td>\n",
       "      <td>-6.375345e-01</td>\n",
       "      <td>-2.934089e+02</td>\n",
       "      <td>4.300977e+02</td>\n",
       "      <td>2.037158e+02</td>\n",
       "    </tr>\n",
       "    <tr>\n",
       "      <th>std</th>\n",
       "      <td>1.205662e+05</td>\n",
       "      <td>2.622167e-01</td>\n",
       "      <td>7.084800e-01</td>\n",
       "      <td>1.888613e-01</td>\n",
       "      <td>1.282481e+01</td>\n",
       "      <td>2.014151e+01</td>\n",
       "      <td>1.030093e+01</td>\n",
       "      <td>2.736141e+02</td>\n",
       "      <td>5.969720e+02</td>\n",
       "      <td>4.382996e+02</td>\n",
       "    </tr>\n",
       "    <tr>\n",
       "      <th>min</th>\n",
       "      <td>1.628067e+09</td>\n",
       "      <td>-1.599756e+01</td>\n",
       "      <td>-1.314160e+01</td>\n",
       "      <td>-1.599121e+01</td>\n",
       "      <td>-1.999756e+03</td>\n",
       "      <td>-1.998779e+03</td>\n",
       "      <td>-1.999756e+03</td>\n",
       "      <td>-1.534500e+03</td>\n",
       "      <td>-1.057500e+03</td>\n",
       "      <td>-1.152000e+03</td>\n",
       "    </tr>\n",
       "    <tr>\n",
       "      <th>25%</th>\n",
       "      <td>1.628106e+09</td>\n",
       "      <td>-2.182617e-01</td>\n",
       "      <td>8.281250e-01</td>\n",
       "      <td>3.173830e-02</td>\n",
       "      <td>-2.014160e+00</td>\n",
       "      <td>-5.676270e+00</td>\n",
       "      <td>-2.685547e+00</td>\n",
       "      <td>-4.635000e+02</td>\n",
       "      <td>-4.950000e+01</td>\n",
       "      <td>6.900000e+01</td>\n",
       "    </tr>\n",
       "    <tr>\n",
       "      <th>50%</th>\n",
       "      <td>1.628312e+09</td>\n",
       "      <td>-2.490230e-02</td>\n",
       "      <td>9.370118e-01</td>\n",
       "      <td>1.230469e-01</td>\n",
       "      <td>8.544922e-01</td>\n",
       "      <td>-1.892090e+00</td>\n",
       "      <td>-6.103516e-01</td>\n",
       "      <td>-2.535000e+02</td>\n",
       "      <td>1.395000e+02</td>\n",
       "      <td>3.165000e+02</td>\n",
       "    </tr>\n",
       "    <tr>\n",
       "      <th>75%</th>\n",
       "      <td>1.628335e+09</td>\n",
       "      <td>1.616211e-01</td>\n",
       "      <td>9.736329e-01</td>\n",
       "      <td>2.006836e-01</td>\n",
       "      <td>3.723145e+00</td>\n",
       "      <td>1.892090e+00</td>\n",
       "      <td>1.464844e+00</td>\n",
       "      <td>-1.260000e+02</td>\n",
       "      <td>9.795000e+02</td>\n",
       "      <td>5.520000e+02</td>\n",
       "    </tr>\n",
       "    <tr>\n",
       "      <th>max</th>\n",
       "      <td>1.628421e+09</td>\n",
       "      <td>1.051514e+01</td>\n",
       "      <td>1.182617e+01</td>\n",
       "      <td>1.599854e+01</td>\n",
       "      <td>1.999756e+03</td>\n",
       "      <td>1.999939e+03</td>\n",
       "      <td>1.973511e+03</td>\n",
       "      <td>7.920000e+02</td>\n",
       "      <td>1.918500e+03</td>\n",
       "      <td>1.179000e+03</td>\n",
       "    </tr>\n",
       "  </tbody>\n",
       "</table>\n",
       "</div>"
      ],
      "text/plain": [
       "               time         acc_x         acc_y         acc_z         gyr_x  \\\n",
       "count  1.226352e+07  1.226352e+07  1.226352e+07  1.226352e+07  1.226352e+07   \n",
       "mean   1.628243e+09 -2.807402e-02  6.211683e-01  1.081455e-01  8.722215e-01   \n",
       "std    1.205662e+05  2.622167e-01  7.084800e-01  1.888613e-01  1.282481e+01   \n",
       "min    1.628067e+09 -1.599756e+01 -1.314160e+01 -1.599121e+01 -1.999756e+03   \n",
       "25%    1.628106e+09 -2.182617e-01  8.281250e-01  3.173830e-02 -2.014160e+00   \n",
       "50%    1.628312e+09 -2.490230e-02  9.370118e-01  1.230469e-01  8.544922e-01   \n",
       "75%    1.628335e+09  1.616211e-01  9.736329e-01  2.006836e-01  3.723145e+00   \n",
       "max    1.628421e+09  1.051514e+01  1.182617e+01  1.599854e+01  1.999756e+03   \n",
       "\n",
       "              gyr_y         gyr_z         mag_x         mag_y         mag_z  \n",
       "count  1.226352e+07  1.226352e+07  1.226352e+07  1.226352e+07  1.226352e+07  \n",
       "mean  -1.837340e+00 -6.375345e-01 -2.934089e+02  4.300977e+02  2.037158e+02  \n",
       "std    2.014151e+01  1.030093e+01  2.736141e+02  5.969720e+02  4.382996e+02  \n",
       "min   -1.998779e+03 -1.999756e+03 -1.534500e+03 -1.057500e+03 -1.152000e+03  \n",
       "25%   -5.676270e+00 -2.685547e+00 -4.635000e+02 -4.950000e+01  6.900000e+01  \n",
       "50%   -1.892090e+00 -6.103516e-01 -2.535000e+02  1.395000e+02  3.165000e+02  \n",
       "75%    1.892090e+00  1.464844e+00 -1.260000e+02  9.795000e+02  5.520000e+02  \n",
       "max    1.999939e+03  1.973511e+03  7.920000e+02  1.918500e+03  1.179000e+03  "
      ]
     },
     "execution_count": 13,
     "metadata": {},
     "output_type": "execute_result"
    }
   ],
   "source": [
    "#checking the statistical parameters of values under each input variable\n",
    "a.describe()"
   ]
  },
  {
   "cell_type": "code",
   "execution_count": 14,
   "id": "7b956025",
   "metadata": {},
   "outputs": [],
   "source": [
    "#Performing basic Exploratory Data Analysis (EDA)."
   ]
  },
  {
   "cell_type": "code",
   "execution_count": 15,
   "id": "a58f6988",
   "metadata": {},
   "outputs": [
    {
     "name": "stderr",
     "output_type": "stream",
     "text": [
      "C:\\Users\\e19805\\Anaconda3\\lib\\site-packages\\seaborn\\_decorators.py:36: FutureWarning: Pass the following variable as a keyword arg: x. From version 0.12, the only valid positional argument will be `data`, and passing other arguments without an explicit keyword will result in an error or misinterpretation.\n",
      "  warnings.warn(\n"
     ]
    },
    {
     "data": {
      "text/plain": [
       "<AxesSubplot:xlabel='label', ylabel='count'>"
      ]
     },
     "execution_count": 15,
     "metadata": {},
     "output_type": "execute_result"
    },
    {
     "data": {
      "image/png": "[encoded data removed]",
      "text/plain": [
       "<Figure size 432x288 with 1 Axes>"
      ]
     },
     "metadata": {
      "needs_background": "light"
     },
     "output_type": "display_data"
    }
   ],
   "source": [
    "#checking the inbalance in the output variable ' label ' by plotting histogram\n",
    "sns.countplot(b['label'])"
   ]
  },
  {
   "cell_type": "code",
   "execution_count": 16,
   "id": "ba123835",
   "metadata": {},
   "outputs": [],
   "source": [
    "#seperating the x and y variables\n",
    "x = df.drop('label', axis = 1) #independent features\n",
    "y = df['label'] #dependent features"
   ]
  },
  {
   "cell_type": "code",
   "execution_count": 17,
   "id": "957c4d26",
   "metadata": {},
   "outputs": [
    {
     "data": {
      "text/html": [
       "<div>\n",
       "<style scoped>\n",
       "    .dataframe tbody tr th:only-of-type {\n",
       "        vertical-align: middle;\n",
       "    }\n",
       "\n",
       "    .dataframe tbody tr th {\n",
       "        vertical-align: top;\n",
       "    }\n",
       "\n",
       "    .dataframe thead th {\n",
       "        text-align: right;\n",
       "    }\n",
       "</style>\n",
       "<table border=\"1\" class=\"dataframe\">\n",
       "  <thead>\n",
       "    <tr style=\"text-align: right;\">\n",
       "      <th></th>\n",
       "      <th>time</th>\n",
       "      <th>acc_x</th>\n",
       "      <th>acc_y</th>\n",
       "      <th>acc_z</th>\n",
       "      <th>gyr_x</th>\n",
       "      <th>gyr_y</th>\n",
       "      <th>gyr_z</th>\n",
       "      <th>mag_x</th>\n",
       "      <th>mag_y</th>\n",
       "      <th>mag_z</th>\n",
       "    </tr>\n",
       "  </thead>\n",
       "  <tbody>\n",
       "    <tr>\n",
       "      <th>0</th>\n",
       "      <td>1628079761</td>\n",
       "      <td>-0.187012</td>\n",
       "      <td>1.071289</td>\n",
       "      <td>0.321289</td>\n",
       "      <td>7.934570</td>\n",
       "      <td>-40.527344</td>\n",
       "      <td>17.028809</td>\n",
       "      <td>-526.5</td>\n",
       "      <td>1437.0</td>\n",
       "      <td>513.0</td>\n",
       "    </tr>\n",
       "    <tr>\n",
       "      <th>1</th>\n",
       "      <td>1628079761</td>\n",
       "      <td>-0.137207</td>\n",
       "      <td>1.099121</td>\n",
       "      <td>0.294922</td>\n",
       "      <td>0.305176</td>\n",
       "      <td>-44.677734</td>\n",
       "      <td>15.930176</td>\n",
       "      <td>-528.0</td>\n",
       "      <td>1423.5</td>\n",
       "      <td>495.0</td>\n",
       "    </tr>\n",
       "  </tbody>\n",
       "</table>\n",
       "</div>"
      ],
      "text/plain": [
       "         time     acc_x     acc_y     acc_z     gyr_x      gyr_y      gyr_z  \\\n",
       "0  1628079761 -0.187012  1.071289  0.321289  7.934570 -40.527344  17.028809   \n",
       "1  1628079761 -0.137207  1.099121  0.294922  0.305176 -44.677734  15.930176   \n",
       "\n",
       "   mag_x   mag_y  mag_z  \n",
       "0 -526.5  1437.0  513.0  \n",
       "1 -528.0  1423.5  495.0  "
      ]
     },
     "execution_count": 17,
     "metadata": {},
     "output_type": "execute_result"
    }
   ],
   "source": [
    "#viewing the independent features\n",
    "x.head(2)"
   ]
  },
  {
   "cell_type": "code",
   "execution_count": 18,
   "id": "764defc5",
   "metadata": {},
   "outputs": [
    {
     "data": {
      "text/plain": [
       "0    2\n",
       "1    2\n",
       "Name: label, dtype: int64"
      ]
     },
     "execution_count": 18,
     "metadata": {},
     "output_type": "execute_result"
    }
   ],
   "source": [
    "#viewing the dependent features\n",
    "y.head(2)"
   ]
  },
  {
   "cell_type": "code",
   "execution_count": 19,
   "id": "3dc89ee1",
   "metadata": {},
   "outputs": [
    {
     "name": "stdout",
     "output_type": "stream",
     "text": [
      "['time', 'acc_x', 'acc_y', 'acc_z', 'gyr_x', 'gyr_y', 'gyr_z', 'mag_x', 'mag_y', 'mag_z']\n"
     ]
    }
   ],
   "source": [
    "col_name = a.columns.values.tolist()\n",
    "print (col_name)"
   ]
  },
  {
   "cell_type": "code",
   "execution_count": 20,
   "id": "e93e416e",
   "metadata": {},
   "outputs": [],
   "source": [
    "#defining a variable named column_name n giving it all the column names expect time and label\n",
    "column_name = ['acc_x', 'acc_y', 'acc_z', 'gyr_x', 'gyr_y', 'gyr_z', 'mag_x','mag_y', 'mag_z']"
   ]
  },
  {
   "cell_type": "code",
   "execution_count": 21,
   "id": "5f2ff2e1",
   "metadata": {},
   "outputs": [],
   "source": [
    "#identifying outliers"
   ]
  },
  {
   "cell_type": "code",
   "execution_count": 22,
   "id": "3907a743",
   "metadata": {},
   "outputs": [],
   "source": [
    "# Using a for loop inside a function to get the box plots(seaborn) of all the columns\n",
    "def identify_outliers(give_df_name, give_column_name):\n",
    "    for i in column_name:\n",
    "        fig = plt.figure(figsize=(6,8))\n",
    "        sns.boxplot(data = x, y = i)\n",
    "plt.show()"
   ]
  },
  {
   "cell_type": "code",
   "execution_count": 23,
   "id": "428fd8c9",
   "metadata": {},
   "outputs": [
    {
     "data": {
      "image/png": "[encoded data removed]",
      "text/plain": [
       "<Figure size 432x576 with 1 Axes>"
      ]
     },
     "metadata": {
      "needs_background": "light"
     },
     "output_type": "display_data"
    },
    {
     "data": {
      "image/png": "[encoded data removed]",
      "text/plain": [
       "<Figure size 432x576 with 1 Axes>"
      ]
     },
     "metadata": {
      "needs_background": "light"
     },
     "output_type": "display_data"
    },
    {
     "data": {
      "image/png": "[encoded data removed]",
      "text/plain": [
       "<Figure size 432x576 with 1 Axes>"
      ]
     },
     "metadata": {
      "needs_background": "light"
     },
     "output_type": "display_data"
    },
    {
     "data": {
      "image/png": "[encoded data removed]",
      "text/plain": [
       "<Figure size 432x576 with 1 Axes>"
      ]
     },
     "metadata": {
      "needs_background": "light"
     },
     "output_type": "display_data"
    },
    {
     "data": {
      "image/png": "[encoded data removed]",
      "text/plain": [
       "<Figure size 432x576 with 1 Axes>"
      ]
     },
     "metadata": {
      "needs_background": "light"
     },
     "output_type": "display_data"
    },
    {
     "data": {
      "image/png": "[encoded data removed]",
      "text/plain": [
       "<Figure size 432x576 with 1 Axes>"
      ]
     },
     "metadata": {
      "needs_background": "light"
     },
     "output_type": "display_data"
    },
    {
     "data": {
      "image/png": "[encoded data removed]",
      "text/plain": [
       "<Figure size 432x576 with 1 Axes>"
      ]
     },
     "metadata": {
      "needs_background": "light"
     },
     "output_type": "display_data"
    },
    {
     "data": {
      "image/png": "[encoded data removed]",
      "text/plain": [
       "<Figure size 432x576 with 1 Axes>"
      ]
     },
     "metadata": {
      "needs_background": "light"
     },
     "output_type": "display_data"
    },
    {
     "data": {
      "image/png": "[encoded data removed]",
      "text/plain": [
       "<Figure size 432x576 with 1 Axes>"
      ]
     },
     "metadata": {
      "needs_background": "light"
     },
     "output_type": "display_data"
    }
   ],
   "source": [
    "identify_outliers(x, column_name)"
   ]
  },
  {
   "cell_type": "code",
   "execution_count": 24,
   "id": "a74640c4",
   "metadata": {},
   "outputs": [
    {
     "data": {
      "image/png": "[encoded data removed]",
      "text/plain": [
       "<Figure size 360x252 with 1 Axes>"
      ]
     },
     "metadata": {
      "needs_background": "light"
     },
     "output_type": "display_data"
    }
   ],
   "source": [
    "#creating boxplot for every column to check for outlier values\n",
    "fig = plt.figure(figsize = (5,3.5))\n",
    "sns.boxplot(data = a,y = 'acc_x')\n",
    "plt.xticks(rotation = 'horizontal')\n",
    "plt.show()"
   ]
  },
  {
   "cell_type": "code",
   "execution_count": 25,
   "id": "cada0381",
   "metadata": {},
   "outputs": [
    {
     "data": {
      "image/png": "[encoded data removed]",
      "text/plain": [
       "<Figure size 360x252 with 1 Axes>"
      ]
     },
     "metadata": {
      "needs_background": "light"
     },
     "output_type": "display_data"
    }
   ],
   "source": [
    "fig = plt.figure(figsize = (5,3.5))\n",
    "sns.boxplot(data = a,y = 'acc_y')\n",
    "plt.xticks(rotation = 'horizontal')\n",
    "plt.show()\n"
   ]
  },
  {
   "cell_type": "code",
   "execution_count": 26,
   "id": "3c33e3fa",
   "metadata": {},
   "outputs": [
    {
     "data": {
      "image/png": "[encoded data removed]",
      "text/plain": [
       "<Figure size 360x252 with 1 Axes>"
      ]
     },
     "metadata": {
      "needs_background": "light"
     },
     "output_type": "display_data"
    }
   ],
   "source": [
    "fig = plt.figure(figsize = (5,3.5))\n",
    "sns.boxplot(data = a,y = 'acc_z')\n",
    "plt.xticks(rotation = 'horizontal')\n",
    "plt.show()"
   ]
  },
  {
   "cell_type": "code",
   "execution_count": 27,
   "id": "4ed8bd09",
   "metadata": {},
   "outputs": [
    {
     "data": {
      "image/png": "[encoded data removed]",
      "text/plain": [
       "<Figure size 360x252 with 1 Axes>"
      ]
     },
     "metadata": {
      "needs_background": "light"
     },
     "output_type": "display_data"
    }
   ],
   "source": [
    "fig = plt.figure(figsize = (5,3.5))\n",
    "sns.boxplot(data = a,y = 'gyr_x')\n",
    "plt.xticks(rotation = 'horizontal')\n",
    "plt.show()"
   ]
  },
  {
   "cell_type": "code",
   "execution_count": 28,
   "id": "8fec433d",
   "metadata": {},
   "outputs": [
    {
     "data": {
      "image/png": "[encoded data removed]",
      "text/plain": [
       "<Figure size 360x252 with 1 Axes>"
      ]
     },
     "metadata": {
      "needs_background": "light"
     },
     "output_type": "display_data"
    }
   ],
   "source": [
    "fig = plt.figure(figsize = (5,3.5))\n",
    "sns.boxplot(data = a,y = 'gyr_y')\n",
    "plt.xticks(rotation = 'horizontal')\n",
    "plt.show()"
   ]
  },
  {
   "cell_type": "code",
   "execution_count": 29,
   "id": "eeb7d17b",
   "metadata": {},
   "outputs": [
    {
     "data": {
      "image/png": "[encoded data removed]",
      "text/plain": [
       "<Figure size 360x252 with 1 Axes>"
      ]
     },
     "metadata": {
      "needs_background": "light"
     },
     "output_type": "display_data"
    }
   ],
   "source": [
    "fig = plt.figure(figsize = (5,3.5))\n",
    "sns.boxplot(data = a,y = 'gyr_z')\n",
    "plt.xticks(rotation = 'horizontal')\n",
    "plt.show()"
   ]
  },
  {
   "cell_type": "code",
   "execution_count": 30,
   "id": "66361a81",
   "metadata": {},
   "outputs": [
    {
     "data": {
      "image/png": "[encoded data removed]",
      "text/plain": [
       "<Figure size 360x252 with 1 Axes>"
      ]
     },
     "metadata": {
      "needs_background": "light"
     },
     "output_type": "display_data"
    }
   ],
   "source": [
    "fig = plt.figure(figsize = (5,3.5))\n",
    "sns.boxplot(data = a,y = 'mag_x')\n",
    "plt.xticks(rotation = 'horizontal')\n",
    "plt.show()"
   ]
  },
  {
   "cell_type": "code",
   "execution_count": 31,
   "id": "3ecc158f",
   "metadata": {},
   "outputs": [
    {
     "data": {
      "image/png": "[encoded data removed]",
      "text/plain": [
       "<Figure size 360x252 with 1 Axes>"
      ]
     },
     "metadata": {
      "needs_background": "light"
     },
     "output_type": "display_data"
    }
   ],
   "source": [
    "fig = plt.figure(figsize = (5,3.5))\n",
    "sns.boxplot(data = a,y = 'mag_y')\n",
    "plt.xticks(rotation = 'horizontal')\n",
    "plt.show()"
   ]
  },
  {
   "cell_type": "code",
   "execution_count": 32,
   "id": "0fedd173",
   "metadata": {},
   "outputs": [
    {
     "data": {
      "image/png": "[encoded data removed]",
      "text/plain": [
       "<Figure size 360x252 with 1 Axes>"
      ]
     },
     "metadata": {
      "needs_background": "light"
     },
     "output_type": "display_data"
    }
   ],
   "source": [
    "fig = plt.figure(figsize = (5,3.5))\n",
    "sns.boxplot(data = a,y = 'mag_z')\n",
    "plt.xticks(rotation = 'horizontal')\n",
    "plt.show()"
   ]
  },
  {
   "cell_type": "code",
   "execution_count": 33,
   "id": "926629ac",
   "metadata": {},
   "outputs": [],
   "source": [
    "#Outlier treatment using IQR method"
   ]
  },
  {
   "cell_type": "markdown",
   "id": "be9590b2",
   "metadata": {},
   "source": [
    "Imputing the upper and lower outlier values with median"
   ]
  },
  {
   "cell_type": "code",
   "execution_count": 34,
   "id": "efac4ac3",
   "metadata": {},
   "outputs": [],
   "source": [
    "# define a function called 'outliers' which returns a list of index of outliers\n",
    "def outliers(a,ft):\n",
    "  Q3 = a[ft].quantile(0.75)\n",
    "  Q1 = a[ft].quantile(0.25)\n",
    "  IQR = Q3-Q1\n",
    "\n",
    "  upper_limit = Q3 + 1.5*IQR\n",
    "  lower_limit = Q1 - 1.5*IQR\n",
    "\n",
    "  ls = a.index[(a[ft<lower_limit])] |  a.index[(a[ft>upper_limit])]\n",
    "  \n",
    "  return ls"
   ]
  },
  {
   "cell_type": "code",
   "execution_count": 35,
   "id": "fd8d289c",
   "metadata": {},
   "outputs": [],
   "source": [
    "#define a function called 'remove' which returns a clean dataframe into an array without outliers\n",
    "def remove(a,ls) :\n",
    "  ls = sorted(set(ls))\n",
    "  a1 = a.drop(ls)\n",
    "  return a1"
   ]
  },
  {
   "cell_type": "code",
   "execution_count": 36,
   "id": "4dcb782e",
   "metadata": {},
   "outputs": [
    {
     "name": "stdout",
     "output_type": "stream",
     "text": [
      "upper_limit 0.7314453000000001\n",
      "lower_limit -0.7880859000000002\n"
     ]
    },
    {
     "data": {
      "image/png": "[encoded data removed]",
      "text/plain": [
       "<Figure size 360x252 with 1 Axes>"
      ]
     },
     "metadata": {
      "needs_background": "light"
     },
     "output_type": "display_data"
    }
   ],
   "source": [
    "#printing the upper and lower limit values and the box plot with outliers removed\n",
    "Q3 = a['acc_x'].quantile(0.75)\n",
    "Q1 = a['acc_x'].quantile(0.25)\n",
    "IQR = Q3-Q1\n",
    "\n",
    "upper_limit = Q3 + 1.5*IQR\n",
    "lower_limit = Q1 - 1.5*IQR\n",
    "print ('upper_limit',upper_limit)\n",
    "print ('lower_limit',lower_limit)\n",
    "\n",
    "a.loc[a['acc_x']>upper_limit,'acc_x'] = np.median(a['acc_x'])\n",
    "a.loc[a['acc_x']<lower_limit,'acc_x'] = np.median(a['acc_x'])\n",
    "\n",
    "fig = plt.figure(figsize = (5,3.5))\n",
    "sns.boxplot(data = a,y = 'acc_x')\n",
    "plt.xticks(rotation = 'horizontal')\n",
    "plt.show()\n",
    "    "
   ]
  },
  {
   "cell_type": "code",
   "execution_count": 37,
   "id": "64149601",
   "metadata": {},
   "outputs": [
    {
     "name": "stdout",
     "output_type": "stream",
     "text": [
      "upper_limit 1.1918947500000001\n",
      "lower_limit 0.60986315\n"
     ]
    },
    {
     "data": {
      "image/png": "[encoded data removed]",
      "text/plain": [
       "<Figure size 360x252 with 1 Axes>"
      ]
     },
     "metadata": {
      "needs_background": "light"
     },
     "output_type": "display_data"
    }
   ],
   "source": [
    "Q3 = a['acc_y'].quantile(0.75)\n",
    "Q1 = a['acc_y'].quantile(0.25)\n",
    "IQR = Q3-Q1\n",
    "\n",
    "upper_limit = Q3 + 1.5*IQR\n",
    "lower_limit = Q1 - 1.5*IQR\n",
    "print ('upper_limit',upper_limit)\n",
    "print ('lower_limit',lower_limit)\n",
    "\n",
    "a.loc[a['acc_y']>upper_limit,'acc_y'] = np.median(a['acc_y'])\n",
    "a.loc[a['acc_y']<lower_limit,'acc_y'] = np.median(a['acc_y'])\n",
    "\n",
    "fig = plt.figure(figsize = (5,3.5))\n",
    "sns.boxplot(data = a,y = 'acc_y')\n",
    "plt.xticks(rotation = 'horizontal')\n",
    "plt.show()"
   ]
  },
  {
   "cell_type": "code",
   "execution_count": 38,
   "id": "dfd12556",
   "metadata": {},
   "outputs": [
    {
     "name": "stdout",
     "output_type": "stream",
     "text": [
      "upper_limit 0.45410154999999996\n",
      "lower_limit -0.22167965\n"
     ]
    },
    {
     "data": {
      "image/png": "[encoded data removed]",
      "text/plain": [
       "<Figure size 360x252 with 1 Axes>"
      ]
     },
     "metadata": {
      "needs_background": "light"
     },
     "output_type": "display_data"
    }
   ],
   "source": [
    "Q3 = a['acc_z'].quantile(0.75)\n",
    "Q1 = a['acc_z'].quantile(0.25)\n",
    "IQR = Q3-Q1\n",
    "\n",
    "upper_limit = Q3 + 1.5*IQR\n",
    "lower_limit = Q1 - 1.5*IQR\n",
    "print ('upper_limit',upper_limit)\n",
    "print ('lower_limit',lower_limit)\n",
    "\n",
    "a.loc[a['acc_y']>upper_limit,'acc_z'] = np.median(a['acc_z'])\n",
    "a.loc[a['acc_y']<lower_limit,'acc_z'] = np.median(a['acc_z'])\n",
    "\n",
    "fig = plt.figure(figsize = (5,3.5))\n",
    "sns.boxplot(data = a,y = 'acc_z')\n",
    "plt.xticks(rotation = 'horizontal')\n",
    "plt.show()"
   ]
  },
  {
   "cell_type": "code",
   "execution_count": 39,
   "id": "99a3dd2b",
   "metadata": {},
   "outputs": [
    {
     "name": "stdout",
     "output_type": "stream",
     "text": [
      "upper_limit 12.329101399999999\n",
      "lower_limit -10.620116999999999\n"
     ]
    },
    {
     "data": {
      "image/png": "[encoded data removed]",
      "text/plain": [
       "<Figure size 360x252 with 1 Axes>"
      ]
     },
     "metadata": {
      "needs_background": "light"
     },
     "output_type": "display_data"
    }
   ],
   "source": [
    "Q3 = a['gyr_x'].quantile(0.75)\n",
    "Q1 = a['gyr_x'].quantile(0.25)\n",
    "IQR = Q3-Q1\n",
    "\n",
    "upper_limit = Q3 + 1.5*IQR\n",
    "lower_limit = Q1 - 1.5*IQR\n",
    "print ('upper_limit',upper_limit)\n",
    "print ('lower_limit',lower_limit)\n",
    "\n",
    "a.loc[a['gyr_x']>upper_limit,'gyr_x'] = np.median(a['gyr_x'])\n",
    "a.loc[a['gyr_x']<lower_limit,'gyr_x'] = np.median(a['gyr_x'])\n",
    "\n",
    "fig = plt.figure(figsize = (5,3.5))\n",
    "sns.boxplot(data = a,y = 'gyr_x')\n",
    "plt.xticks(rotation = 'horizontal')\n",
    "plt.show()"
   ]
  },
  {
   "cell_type": "code",
   "execution_count": 40,
   "id": "2f4b13ef",
   "metadata": {},
   "outputs": [
    {
     "name": "stdout",
     "output_type": "stream",
     "text": [
      "upper_limit 13.24462875\n",
      "lower_limit -17.02880845\n"
     ]
    },
    {
     "data": {
      "image/png": "[encoded data removed]",
      "text/plain": [
       "<Figure size 360x252 with 1 Axes>"
      ]
     },
     "metadata": {
      "needs_background": "light"
     },
     "output_type": "display_data"
    }
   ],
   "source": [
    "Q3 = a['gyr_y'].quantile(0.75)\n",
    "Q1 = a['gyr_y'].quantile(0.25)\n",
    "IQR = Q3-Q1\n",
    "\n",
    "upper_limit = Q3 + 1.5*IQR\n",
    "lower_limit = Q1 - 1.5*IQR\n",
    "print ('upper_limit',upper_limit)\n",
    "print ('lower_limit',lower_limit)\n",
    "\n",
    "a.loc[a['gyr_y']>upper_limit,'gyr_y'] = np.median(a['gyr_y'])\n",
    "a.loc[a['gyr_y']<lower_limit,'gyr_y'] = np.median(a['gyr_y'])\n",
    "\n",
    "fig = plt.figure(figsize = (5,3.5))\n",
    "sns.boxplot(data = a,y = 'gyr_y')\n",
    "plt.xticks(rotation = 'horizontal')\n",
    "plt.show()"
   ]
  },
  {
   "cell_type": "code",
   "execution_count": 41,
   "id": "4963e67a",
   "metadata": {
    "scrolled": true
   },
   "outputs": [
    {
     "name": "stdout",
     "output_type": "stream",
     "text": [
      "upper_limit 7.6904296\n",
      "lower_limit -8.911132799999999\n"
     ]
    },
    {
     "data": {
      "image/png": "[encoded data removed]",
      "text/plain": [
       "<Figure size 720x540 with 1 Axes>"
      ]
     },
     "metadata": {
      "needs_background": "light"
     },
     "output_type": "display_data"
    }
   ],
   "source": [
    "Q3 = a['gyr_z'].quantile(0.75)\n",
    "Q1 = a['gyr_z'].quantile(0.25)\n",
    "IQR = Q3-Q1\n",
    "\n",
    "upper_limit = Q3 + 1.5*IQR\n",
    "lower_limit = Q1 - 1.5*IQR\n",
    "print ('upper_limit',upper_limit)\n",
    "print ('lower_limit',lower_limit)\n",
    "\n",
    "a.loc[a['gyr_z']>upper_limit,'gyr_z'] = np.median(a['gyr_z'])\n",
    "a.loc[a['gyr_z']<lower_limit,'gyr_z'] = np.median(a['gyr_z'])\n",
    "\n",
    "fig = plt.figure(figsize = (10,7.5))\n",
    "sns.boxplot(data = a,y = 'gyr_z')\n",
    "plt.xticks(rotation = 'horizontal')\n",
    "plt.show()"
   ]
  },
  {
   "cell_type": "code",
   "execution_count": 42,
   "id": "c5924c85",
   "metadata": {},
   "outputs": [
    {
     "name": "stdout",
     "output_type": "stream",
     "text": [
      "upper_limit 380.25\n",
      "lower_limit -969.75\n"
     ]
    },
    {
     "data": {
      "image/png": "[encoded data removed]",
      "text/plain": [
       "<Figure size 720x540 with 1 Axes>"
      ]
     },
     "metadata": {
      "needs_background": "light"
     },
     "output_type": "display_data"
    }
   ],
   "source": [
    "Q3 = a['mag_x'].quantile(0.75)\n",
    "Q1 = a['mag_x'].quantile(0.25)\n",
    "IQR = Q3-Q1\n",
    "\n",
    "upper_limit = Q3 + 1.5*IQR\n",
    "lower_limit = Q1 - 1.5*IQR\n",
    "print ('upper_limit',upper_limit)\n",
    "print ('lower_limit',lower_limit)\n",
    "\n",
    "a.loc[a['mag_x']>upper_limit,'mag_x'] = np.median(a['mag_x'])\n",
    "a.loc[a['mag_x']<lower_limit,'mag_x'] = np.median(a['mag_x'])\n",
    "\n",
    "fig = plt.figure(figsize = (10,7.5))\n",
    "sns.boxplot(data = a,y = 'mag_x')\n",
    "plt.xticks(rotation = 'horizontal')\n",
    "plt.show()"
   ]
  },
  {
   "cell_type": "code",
   "execution_count": 43,
   "id": "d8e18ff4",
   "metadata": {},
   "outputs": [
    {
     "name": "stdout",
     "output_type": "stream",
     "text": [
      "upper_limit 2523.0\n",
      "lower_limit -1593.0\n"
     ]
    },
    {
     "data": {
      "image/png": "[encoded data removed]",
      "text/plain": [
       "<Figure size 360x252 with 1 Axes>"
      ]
     },
     "metadata": {
      "needs_background": "light"
     },
     "output_type": "display_data"
    }
   ],
   "source": [
    "Q3 = a['mag_y'].quantile(0.75)\n",
    "Q1 = a['mag_y'].quantile(0.25)\n",
    "IQR = Q3-Q1\n",
    "\n",
    "upper_limit = Q3 + 1.5*IQR\n",
    "lower_limit = Q1 - 1.5*IQR\n",
    "print ('upper_limit',upper_limit)\n",
    "print ('lower_limit',lower_limit)\n",
    "\n",
    "a.loc[a['mag_y']>upper_limit,'mag_y'] = np.median(a['mag_y'])\n",
    "a.loc[a['mag_y']<lower_limit,'mag_y'] = np.median(a['mag_y'])\n",
    "\n",
    "fig = plt.figure(figsize = (5,3.5))\n",
    "sns.boxplot(data = a,y = 'mag_y')\n",
    "plt.xticks(rotation = 'horizontal')\n",
    "plt.show()"
   ]
  },
  {
   "cell_type": "code",
   "execution_count": 44,
   "id": "2e9a4a67",
   "metadata": {},
   "outputs": [
    {
     "name": "stdout",
     "output_type": "stream",
     "text": [
      "upper_limit 1276.5\n",
      "lower_limit -655.5\n"
     ]
    },
    {
     "data": {
      "image/png": "[encoded data removed]",
      "text/plain": [
       "<Figure size 360x252 with 1 Axes>"
      ]
     },
     "metadata": {
      "needs_background": "light"
     },
     "output_type": "display_data"
    }
   ],
   "source": [
    "Q3 = a['mag_z'].quantile(0.75)\n",
    "Q1 = a['mag_z'].quantile(0.25)\n",
    "IQR = Q3-Q1\n",
    "\n",
    "upper_limit = Q3 + 1.5*IQR\n",
    "lower_limit = Q1 - 1.5*IQR\n",
    "print ('upper_limit',upper_limit)\n",
    "print ('lower_limit',lower_limit)\n",
    "\n",
    "a.loc[a['mag_z']>upper_limit,'mag_z'] = np.median(a['mag_z'])\n",
    "a.loc[a['mag_z']<lower_limit,'mag_z'] = np.median(a['mag_z'])\n",
    "\n",
    "fig = plt.figure(figsize = (5,3.5))\n",
    "sns.boxplot(data = a,y = 'mag_z')\n",
    "plt.xticks(rotation = 'horizontal')\n",
    "plt.show()"
   ]
  },
  {
   "cell_type": "code",
   "execution_count": 45,
   "id": "c9d638e5",
   "metadata": {},
   "outputs": [],
   "source": [
    "numeric = a.select_dtypes(exclude = 'object')\n",
    "feature = a.columns"
   ]
  },
  {
   "cell_type": "code",
   "execution_count": 46,
   "id": "382be76e",
   "metadata": {},
   "outputs": [],
   "source": [
    "def report(feature):\n",
    "  fig,ax = plt.subplots(1,2)\n",
    "  fig.set_size_inches(15,3)\n",
    "  fig.suptitle(feature,fontsize = 15)\n",
    "  sns.histplot(data = numeric, x = feature ,kde = True,ax = ax[0])\n",
    "  sns.boxplot(data = numeric, x = feature , kde = True, ax = ax[1])\n",
    "  plt.show()\n",
    "\n",
    "#print (numeric[feature].describe())"
   ]
  },
  {
   "cell_type": "markdown",
   "id": "0644a415",
   "metadata": {},
   "source": [
    "# Normalizing"
   ]
  },
  {
   "cell_type": "code",
   "execution_count": 47,
   "id": "b04779c9",
   "metadata": {},
   "outputs": [],
   "source": [
    "from sklearn.preprocessing import MinMaxScaler"
   ]
  },
  {
   "cell_type": "code",
   "execution_count": 48,
   "id": "fbd46cb2",
   "metadata": {},
   "outputs": [],
   "source": [
    "scaling = MinMaxScaler()"
   ]
  },
  {
   "cell_type": "code",
   "execution_count": 49,
   "id": "d22fd86b",
   "metadata": {},
   "outputs": [
    {
     "data": {
      "text/plain": [
       "array([[0.03725611, 0.59633872, 0.56924942, ..., 0.43326886, 0.83820565,\n",
       "        0.71428571],\n",
       "       [0.03725611, 0.59821725, 0.57036414, ..., 0.43262411, 0.83366935,\n",
       "        0.70656371],\n",
       "       [0.03725611, 0.60446057, 0.56854539, ..., 0.44036106, 0.83215726,\n",
       "        0.7020592 ],\n",
       "       ...,\n",
       "       [0.64816213, 0.59418395, 0.48388548, ..., 0.51128304, 0.45564516,\n",
       "        0.75675676],\n",
       "       [0.64816213, 0.59549155, 0.48394415, ..., 0.51579626, 0.45514113,\n",
       "        0.75675676],\n",
       "       [0.64816213, 0.59455229, 0.48494152, ..., 0.52224371, 0.45262097,\n",
       "        0.74967825]])"
      ]
     },
     "execution_count": 49,
     "metadata": {},
     "output_type": "execute_result"
    }
   ],
   "source": [
    "scaling.fit_transform(x)"
   ]
  },
  {
   "cell_type": "code",
   "execution_count": 50,
   "id": "a396387f",
   "metadata": {},
   "outputs": [
    {
     "data": {
      "text/html": [
       "<div>\n",
       "<style scoped>\n",
       "    .dataframe tbody tr th:only-of-type {\n",
       "        vertical-align: middle;\n",
       "    }\n",
       "\n",
       "    .dataframe tbody tr th {\n",
       "        vertical-align: top;\n",
       "    }\n",
       "\n",
       "    .dataframe thead th {\n",
       "        text-align: right;\n",
       "    }\n",
       "</style>\n",
       "<table border=\"1\" class=\"dataframe\">\n",
       "  <thead>\n",
       "    <tr style=\"text-align: right;\">\n",
       "      <th></th>\n",
       "      <th>0</th>\n",
       "      <th>1</th>\n",
       "      <th>2</th>\n",
       "      <th>3</th>\n",
       "      <th>4</th>\n",
       "      <th>5</th>\n",
       "      <th>6</th>\n",
       "      <th>7</th>\n",
       "      <th>8</th>\n",
       "      <th>9</th>\n",
       "    </tr>\n",
       "  </thead>\n",
       "  <tbody>\n",
       "    <tr>\n",
       "      <th>0</th>\n",
       "      <td>0.037256</td>\n",
       "      <td>0.596339</td>\n",
       "      <td>0.569249</td>\n",
       "      <td>0.509929</td>\n",
       "      <td>0.501984</td>\n",
       "      <td>0.489720</td>\n",
       "      <td>0.507589</td>\n",
       "      <td>0.433269</td>\n",
       "      <td>0.838206</td>\n",
       "      <td>0.714286</td>\n",
       "    </tr>\n",
       "    <tr>\n",
       "      <th>1</th>\n",
       "      <td>0.037256</td>\n",
       "      <td>0.598217</td>\n",
       "      <td>0.570364</td>\n",
       "      <td>0.509105</td>\n",
       "      <td>0.500076</td>\n",
       "      <td>0.488682</td>\n",
       "      <td>0.507312</td>\n",
       "      <td>0.432624</td>\n",
       "      <td>0.833669</td>\n",
       "      <td>0.706564</td>\n",
       "    </tr>\n",
       "    <tr>\n",
       "      <th>2</th>\n",
       "      <td>0.037256</td>\n",
       "      <td>0.604461</td>\n",
       "      <td>0.568545</td>\n",
       "      <td>0.506632</td>\n",
       "      <td>0.497696</td>\n",
       "      <td>0.489216</td>\n",
       "      <td>0.505991</td>\n",
       "      <td>0.440361</td>\n",
       "      <td>0.832157</td>\n",
       "      <td>0.702059</td>\n",
       "    </tr>\n",
       "  </tbody>\n",
       "</table>\n",
       "</div>"
      ],
      "text/plain": [
       "          0         1         2         3         4         5         6  \\\n",
       "0  0.037256  0.596339  0.569249  0.509929  0.501984  0.489720  0.507589   \n",
       "1  0.037256  0.598217  0.570364  0.509105  0.500076  0.488682  0.507312   \n",
       "2  0.037256  0.604461  0.568545  0.506632  0.497696  0.489216  0.505991   \n",
       "\n",
       "          7         8         9  \n",
       "0  0.433269  0.838206  0.714286  \n",
       "1  0.432624  0.833669  0.706564  \n",
       "2  0.440361  0.832157  0.702059  "
      ]
     },
     "execution_count": 50,
     "metadata": {},
     "output_type": "execute_result"
    }
   ],
   "source": [
    "x_normalized = pd.DataFrame(scaling.fit_transform(x))\n",
    "x_normalized.head(3)"
   ]
  },
  {
   "cell_type": "code",
   "execution_count": 51,
   "id": "b1d5cbc5",
   "metadata": {},
   "outputs": [
    {
     "data": {
      "text/html": [
       "<div>\n",
       "<style scoped>\n",
       "    .dataframe tbody tr th:only-of-type {\n",
       "        vertical-align: middle;\n",
       "    }\n",
       "\n",
       "    .dataframe tbody tr th {\n",
       "        vertical-align: top;\n",
       "    }\n",
       "\n",
       "    .dataframe thead th {\n",
       "        text-align: right;\n",
       "    }\n",
       "</style>\n",
       "<table border=\"1\" class=\"dataframe\">\n",
       "  <thead>\n",
       "    <tr style=\"text-align: right;\">\n",
       "      <th></th>\n",
       "      <th>time</th>\n",
       "      <th>acc_x</th>\n",
       "      <th>acc_y</th>\n",
       "      <th>acc_z</th>\n",
       "      <th>gyr_x</th>\n",
       "      <th>gyr_y</th>\n",
       "      <th>gyr_z</th>\n",
       "      <th>mag_x</th>\n",
       "      <th>mag_y</th>\n",
       "      <th>mag_z</th>\n",
       "    </tr>\n",
       "  </thead>\n",
       "  <tbody>\n",
       "    <tr>\n",
       "      <th>0</th>\n",
       "      <td>0.037256</td>\n",
       "      <td>0.596339</td>\n",
       "      <td>0.569249</td>\n",
       "      <td>0.509929</td>\n",
       "      <td>0.501984</td>\n",
       "      <td>0.489720</td>\n",
       "      <td>0.507589</td>\n",
       "      <td>0.433269</td>\n",
       "      <td>0.838206</td>\n",
       "      <td>0.714286</td>\n",
       "    </tr>\n",
       "    <tr>\n",
       "      <th>1</th>\n",
       "      <td>0.037256</td>\n",
       "      <td>0.598217</td>\n",
       "      <td>0.570364</td>\n",
       "      <td>0.509105</td>\n",
       "      <td>0.500076</td>\n",
       "      <td>0.488682</td>\n",
       "      <td>0.507312</td>\n",
       "      <td>0.432624</td>\n",
       "      <td>0.833669</td>\n",
       "      <td>0.706564</td>\n",
       "    </tr>\n",
       "    <tr>\n",
       "      <th>2</th>\n",
       "      <td>0.037256</td>\n",
       "      <td>0.604461</td>\n",
       "      <td>0.568545</td>\n",
       "      <td>0.506632</td>\n",
       "      <td>0.497696</td>\n",
       "      <td>0.489216</td>\n",
       "      <td>0.505991</td>\n",
       "      <td>0.440361</td>\n",
       "      <td>0.832157</td>\n",
       "      <td>0.702059</td>\n",
       "    </tr>\n",
       "  </tbody>\n",
       "</table>\n",
       "</div>"
      ],
      "text/plain": [
       "       time     acc_x     acc_y     acc_z     gyr_x     gyr_y     gyr_z  \\\n",
       "0  0.037256  0.596339  0.569249  0.509929  0.501984  0.489720  0.507589   \n",
       "1  0.037256  0.598217  0.570364  0.509105  0.500076  0.488682  0.507312   \n",
       "2  0.037256  0.604461  0.568545  0.506632  0.497696  0.489216  0.505991   \n",
       "\n",
       "      mag_x     mag_y     mag_z  \n",
       "0  0.433269  0.838206  0.714286  \n",
       "1  0.432624  0.833669  0.706564  \n",
       "2  0.440361  0.832157  0.702059  "
      ]
     },
     "execution_count": 51,
     "metadata": {},
     "output_type": "execute_result"
    }
   ],
   "source": [
    "x_normalized = pd.DataFrame(scaling.fit_transform(x),columns = x.columns)\n",
    "x_normalized.head(3)"
   ]
  },
  {
   "cell_type": "code",
   "execution_count": 52,
   "id": "c0fa3f05",
   "metadata": {},
   "outputs": [],
   "source": [
    "#importing the KBest and Chisquare packages\n",
    "from sklearn.feature_selection import SelectKBest\n",
    "from sklearn.feature_selection import chi2"
   ]
  },
  {
   "cell_type": "code",
   "execution_count": 53,
   "id": "e16cffe8",
   "metadata": {},
   "outputs": [
    {
     "name": "stdout",
     "output_type": "stream",
     "text": [
      "  features        k_score\n",
      "0     time  551696.294963\n",
      "8    mag_y   67694.199464\n",
      "7    mag_x   50312.816786\n",
      "9    mag_z   11355.708428\n",
      "2    acc_y     586.474856\n",
      "1    acc_x     417.949102\n",
      "3    acc_z      82.346741\n",
      "5    gyr_y       0.016930\n",
      "4    gyr_x       0.010191\n",
      "6    gyr_z       0.002825\n"
     ]
    }
   ],
   "source": [
    "#ranking the features\n",
    "select_k_best_rank_features = SelectKBest(score_func = chi2, k = 5)\n",
    "k_best_features = select_k_best_rank_features.fit(x_normalized,y)\n",
    "\n",
    "df_k_scores = pd.DataFrame(k_best_features.scores_, columns = ['score'])\n",
    "dfcolumns = pd.DataFrame(x_normalized.columns)\n",
    "\n",
    "k_best_feature_rank = pd.concat([dfcolumns, df_k_scores], axis = 1)\n",
    "\n",
    "k_best_feature_rank.columns = ('features', 'k_score')\n",
    "print(k_best_feature_rank.nlargest(10, 'k_score'))"
   ]
  },
  {
   "cell_type": "code",
   "execution_count": 54,
   "id": "b14d6677",
   "metadata": {},
   "outputs": [
    {
     "data": {
      "text/plain": [
       "time     0.037281\n",
       "acc_x    0.615824\n",
       "mag_x    0.421019\n",
       "mag_y    0.810988\n",
       "acc_z    0.508189\n",
       "acc_y    0.563382\n",
       "Name: 450, dtype: float64"
      ]
     },
     "execution_count": 54,
     "metadata": {},
     "output_type": "execute_result"
    }
   ],
   "source": [
    "x_selected_features = x_normalized[['time' ,'acc_x', 'mag_x', 'mag_y', 'acc_z', 'acc_y']]\n",
    "x_selected_features.iloc[450,:]"
   ]
  },
  {
   "cell_type": "code",
   "execution_count": 55,
   "id": "49d083dc",
   "metadata": {},
   "outputs": [],
   "source": [
    "import random\n",
    "df1 = df.sample(10000)\n",
    "df2 = df.sample(10000)"
   ]
  },
  {
   "cell_type": "code",
   "execution_count": 56,
   "id": "fbfcc0e8",
   "metadata": {},
   "outputs": [
    {
     "data": {
      "text/plain": [
       "1    2732\n",
       "4    2065\n",
       "7    1568\n",
       "5    1462\n",
       "6    1376\n",
       "9     335\n",
       "8     309\n",
       "3     113\n",
       "2      40\n",
       "Name: label, dtype: int64"
      ]
     },
     "execution_count": 56,
     "metadata": {},
     "output_type": "execute_result"
    }
   ],
   "source": [
    "df1['label'].value_counts()"
   ]
  },
  {
   "cell_type": "code",
   "execution_count": 57,
   "id": "3b848d3e",
   "metadata": {},
   "outputs": [
    {
     "data": {
      "text/plain": [
       "1    2781\n",
       "4    2066\n",
       "7    1585\n",
       "6    1401\n",
       "5    1379\n",
       "9     333\n",
       "8     301\n",
       "3     114\n",
       "2      40\n",
       "Name: label, dtype: int64"
      ]
     },
     "execution_count": 57,
     "metadata": {},
     "output_type": "execute_result"
    }
   ],
   "source": [
    "df2['label'].value_counts()"
   ]
  },
  {
   "cell_type": "code",
   "execution_count": 58,
   "id": "aed9fbfa",
   "metadata": {},
   "outputs": [
    {
     "data": {
      "image/png": "[encoded data removed]",
      "text/plain": [
       "<Figure size 432x288 with 1 Axes>"
      ]
     },
     "metadata": {},
     "output_type": "display_data"
    }
   ],
   "source": [
    "#distribution of sample df1\n",
    "plt.pie(df1['label'].value_counts(), autopct = '%1.1f%%');"
   ]
  },
  {
   "cell_type": "code",
   "execution_count": 59,
   "id": "bba9640f",
   "metadata": {},
   "outputs": [
    {
     "data": {
      "image/png": "[encoded data removed]",
      "text/plain": [
       "<Figure size 432x288 with 1 Axes>"
      ]
     },
     "metadata": {},
     "output_type": "display_data"
    }
   ],
   "source": [
    "#distribution of sample df2\n",
    "plt.pie(df2['label'].value_counts(), autopct = '%1.1f%%');"
   ]
  },
  {
   "cell_type": "code",
   "execution_count": 60,
   "id": "e85d9a2e",
   "metadata": {},
   "outputs": [
    {
     "data": {
      "image/png": "[encoded data removed]",
      "text/plain": [
       "<Figure size 432x288 with 1 Axes>"
      ]
     },
     "metadata": {},
     "output_type": "display_data"
    }
   ],
   "source": [
    "#distribution of population\n",
    "plt.pie(df['label'].value_counts(), autopct = '%1.1f%%');"
   ]
  },
  {
   "cell_type": "code",
   "execution_count": 61,
   "id": "0fd9fec0",
   "metadata": {},
   "outputs": [],
   "source": [
    "#Applying LR Model on df1"
   ]
  },
  {
   "cell_type": "code",
   "execution_count": 68,
   "id": "646537b1",
   "metadata": {},
   "outputs": [],
   "source": [
    "#Seperating df1 into independent(x1) and dependent(y1) variables\n",
    "x1 = df1.drop('label', axis = 1)   #Independent features\n",
    "y1 = df1[['label']]    #Dependent feature"
   ]
  },
  {
   "cell_type": "code",
   "execution_count": 69,
   "id": "d248c5d9",
   "metadata": {},
   "outputs": [
    {
     "data": {
      "text/plain": [
       "(7500, 10)"
      ]
     },
     "execution_count": 69,
     "metadata": {},
     "output_type": "execute_result"
    }
   ],
   "source": [
    "#Splitting the data into train and test\n",
    "from sklearn.model_selection import train_test_split\n",
    "x1_train,x1_test,y1_train,y1_test = train_test_split(x1,y1,test_size=0.25,random_state=20)\n",
    "x1_train.shape"
   ]
  },
  {
   "cell_type": "code",
   "execution_count": 70,
   "id": "20d2e35b",
   "metadata": {},
   "outputs": [
    {
     "name": "stderr",
     "output_type": "stream",
     "text": [
      "C:\\Users\\e19805\\Anaconda3\\lib\\site-packages\\sklearn\\utils\\validation.py:1111: DataConversionWarning: A column-vector y was passed when a 1d array was expected. Please change the shape of y to (n_samples, ), for example using ravel().\n",
      "  y = column_or_1d(y, warn=True)\n"
     ]
    },
    {
     "data": {
      "text/html": [
       "<style>#sk-container-id-1 {color: black;background-color: white;}#sk-container-id-1 pre{padding: 0;}#sk-container-id-1 div.sk-toggleable {background-color: white;}#sk-container-id-1 label.sk-toggleable__label {cursor: pointer;display: block;width: 100%;margin-bottom: 0;padding: 0.3em;box-sizing: border-box;text-align: center;}#sk-container-id-1 label.sk-toggleable__label-arrow:before {content: \"▸\";float: left;margin-right: 0.25em;color: #696969;}#sk-container-id-1 label.sk-toggleable__label-arrow:hover:before {color: black;}#sk-container-id-1 div.sk-estimator:hover label.sk-toggleable__label-arrow:before {color: black;}#sk-container-id-1 div.sk-toggleable__content {max-height: 0;max-width: 0;overflow: hidden;text-align: left;background-color: #f0f8ff;}#sk-container-id-1 div.sk-toggleable__content pre {margin: 0.2em;color: black;border-radius: 0.25em;background-color: #f0f8ff;}#sk-container-id-1 input.sk-toggleable__control:checked~div.sk-toggleable__content {max-height: 200px;max-width: 100%;overflow: auto;}#sk-container-id-1 input.sk-toggleable__control:checked~label.sk-toggleable__label-arrow:before {content: \"▾\";}#sk-container-id-1 div.sk-estimator input.sk-toggleable__control:checked~label.sk-toggleable__label {background-color: #d4ebff;}#sk-container-id-1 div.sk-label input.sk-toggleable__control:checked~label.sk-toggleable__label {background-color: #d4ebff;}#sk-container-id-1 input.sk-hidden--visually {border: 0;clip: rect(1px 1px 1px 1px);clip: rect(1px, 1px, 1px, 1px);height: 1px;margin: -1px;overflow: hidden;padding: 0;position: absolute;width: 1px;}#sk-container-id-1 div.sk-estimator {font-family: monospace;background-color: #f0f8ff;border: 1px dotted black;border-radius: 0.25em;box-sizing: border-box;margin-bottom: 0.5em;}#sk-container-id-1 div.sk-estimator:hover {background-color: #d4ebff;}#sk-container-id-1 div.sk-parallel-item::after {content: \"\";width: 100%;border-bottom: 1px solid gray;flex-grow: 1;}#sk-container-id-1 div.sk-label:hover label.sk-toggleable__label {background-color: #d4ebff;}#sk-container-id-1 div.sk-serial::before {content: \"\";position: absolute;border-left: 1px solid gray;box-sizing: border-box;top: 0;bottom: 0;left: 50%;z-index: 0;}#sk-container-id-1 div.sk-serial {display: flex;flex-direction: column;align-items: center;background-color: white;padding-right: 0.2em;padding-left: 0.2em;position: relative;}#sk-container-id-1 div.sk-item {position: relative;z-index: 1;}#sk-container-id-1 div.sk-parallel {display: flex;align-items: stretch;justify-content: center;background-color: white;position: relative;}#sk-container-id-1 div.sk-item::before, #sk-container-id-1 div.sk-parallel-item::before {content: \"\";position: absolute;border-left: 1px solid gray;box-sizing: border-box;top: 0;bottom: 0;left: 50%;z-index: -1;}#sk-container-id-1 div.sk-parallel-item {display: flex;flex-direction: column;z-index: 1;position: relative;background-color: white;}#sk-container-id-1 div.sk-parallel-item:first-child::after {align-self: flex-end;width: 50%;}#sk-container-id-1 div.sk-parallel-item:last-child::after {align-self: flex-start;width: 50%;}#sk-container-id-1 div.sk-parallel-item:only-child::after {width: 0;}#sk-container-id-1 div.sk-dashed-wrapped {border: 1px dashed gray;margin: 0 0.4em 0.5em 0.4em;box-sizing: border-box;padding-bottom: 0.4em;background-color: white;}#sk-container-id-1 div.sk-label label {font-family: monospace;font-weight: bold;display: inline-block;line-height: 1.2em;}#sk-container-id-1 div.sk-label-container {text-align: center;}#sk-container-id-1 div.sk-container {/* jupyter's `normalize.less` sets `[hidden] { display: none; }` but bootstrap.min.css set `[hidden] { display: none !important; }` so we also need the `!important` here to be able to override the default hidden behavior on the sphinx rendered scikit-learn.org. See: https://github.com/scikit-learn/scikit-learn/issues/21755 */display: inline-block !important;position: relative;}#sk-container-id-1 div.sk-text-repr-fallback {display: none;}</style><div id=\"sk-container-id-1\" class=\"sk-top-container\"><div class=\"sk-text-repr-fallback\"><pre>LogisticRegression()</pre><b>In a Jupyter environment, please rerun this cell to show the HTML representation or trust the notebook. <br />On GitHub, the HTML representation is unable to render, please try loading this page with nbviewer.org.</b></div><div class=\"sk-container\" hidden><div class=\"sk-item\"><div class=\"sk-estimator sk-toggleable\"><input class=\"sk-toggleable__control sk-hidden--visually\" id=\"sk-estimator-id-1\" type=\"checkbox\" checked><label for=\"sk-estimator-id-1\" class=\"sk-toggleable__label sk-toggleable__label-arrow\">LogisticRegression</label><div class=\"sk-toggleable__content\"><pre>LogisticRegression()</pre></div></div></div></div></div>"
      ],
      "text/plain": [
       "LogisticRegression()"
      ]
     },
     "execution_count": 70,
     "metadata": {},
     "output_type": "execute_result"
    }
   ],
   "source": [
    "#Model building and training on train data\n",
    "from sklearn.linear_model import LogisticRegression\n",
    "log_reg = LogisticRegression()\n",
    "log_reg.fit(x1_train,y1_train)"
   ]
  },
  {
   "cell_type": "code",
   "execution_count": 71,
   "id": "769a5fb0",
   "metadata": {},
   "outputs": [
    {
     "data": {
      "text/plain": [
       "array([1, 1, 1, ..., 1, 1, 1], dtype=int64)"
      ]
     },
     "execution_count": 71,
     "metadata": {},
     "output_type": "execute_result"
    }
   ],
   "source": [
    "#Model prediction on test data\n",
    "y1_pred = log_reg.predict(x1_test)\n",
    "y1_pred"
   ]
  },
  {
   "cell_type": "code",
   "execution_count": 72,
   "id": "718174a5",
   "metadata": {},
   "outputs": [
    {
     "name": "stdout",
     "output_type": "stream",
     "text": [
      "Accuracy:  0.272 \n",
      "\n",
      "Confusion_Matrix:  [[680   0   0   0   0   0   0   0   0]\n",
      " [  6   0   0   0   0   0   0   0   0]\n",
      " [ 28   0   0   0   0   0   0   0   0]\n",
      " [469   0   0   0   0   0   0   0   0]\n",
      " [397   0   0   0   0   0   0   0   0]\n",
      " [352   0   0   0   0   0   0   0   0]\n",
      " [393   0   0   0   0   0   0   0   0]\n",
      " [ 72   0   0   0   0   0   0   0   0]\n",
      " [103   0   0   0   0   0   0   0   0]] \n",
      "\n",
      "Classification_Report:                precision    recall  f1-score   support\n",
      "\n",
      "           1       0.27      1.00      0.43       680\n",
      "           2       0.00      0.00      0.00         6\n",
      "           3       0.00      0.00      0.00        28\n",
      "           4       0.00      0.00      0.00       469\n",
      "           5       0.00      0.00      0.00       397\n",
      "           6       0.00      0.00      0.00       352\n",
      "           7       0.00      0.00      0.00       393\n",
      "           8       0.00      0.00      0.00        72\n",
      "           9       0.00      0.00      0.00       103\n",
      "\n",
      "    accuracy                           0.27      2500\n",
      "   macro avg       0.03      0.11      0.05      2500\n",
      "weighted avg       0.07      0.27      0.12      2500\n",
      "\n"
     ]
    },
    {
     "name": "stderr",
     "output_type": "stream",
     "text": [
      "C:\\Users\\e19805\\Anaconda3\\lib\\site-packages\\sklearn\\metrics\\_classification.py:1334: UndefinedMetricWarning: Precision and F-score are ill-defined and being set to 0.0 in labels with no predicted samples. Use `zero_division` parameter to control this behavior.\n",
      "  _warn_prf(average, modifier, msg_start, len(result))\n",
      "C:\\Users\\e19805\\Anaconda3\\lib\\site-packages\\sklearn\\metrics\\_classification.py:1334: UndefinedMetricWarning: Precision and F-score are ill-defined and being set to 0.0 in labels with no predicted samples. Use `zero_division` parameter to control this behavior.\n",
      "  _warn_prf(average, modifier, msg_start, len(result))\n",
      "C:\\Users\\e19805\\Anaconda3\\lib\\site-packages\\sklearn\\metrics\\_classification.py:1334: UndefinedMetricWarning: Precision and F-score are ill-defined and being set to 0.0 in labels with no predicted samples. Use `zero_division` parameter to control this behavior.\n",
      "  _warn_prf(average, modifier, msg_start, len(result))\n"
     ]
    }
   ],
   "source": [
    "#Model Evaluation\n",
    "from sklearn.metrics import confusion_matrix, classification_report, accuracy_score\n",
    "accuracy = accuracy_score(y1_test,y1_pred)\n",
    "print('Accuracy: ',accuracy,'\\n')\n",
    "print('Confusion_Matrix: ',confusion_matrix(y1_test,y1_pred),'\\n')\n",
    "print('Classification_Report: ', classification_report(y1_test,y1_pred))"
   ]
  },
  {
   "cell_type": "code",
   "execution_count": null,
   "id": "cddf20a7",
   "metadata": {},
   "outputs": [],
   "source": [
    "#Applying DT Model on df2"
   ]
  },
  {
   "cell_type": "code",
   "execution_count": 73,
   "id": "16316742",
   "metadata": {},
   "outputs": [
    {
     "data": {
      "text/plain": [
       "1    2781\n",
       "4    2066\n",
       "7    1585\n",
       "6    1401\n",
       "5    1379\n",
       "9     333\n",
       "8     301\n",
       "3     114\n",
       "2      40\n",
       "Name: label, dtype: int64"
      ]
     },
     "execution_count": 73,
     "metadata": {},
     "output_type": "execute_result"
    }
   ],
   "source": [
    "df2['label'].value_counts()"
   ]
  },
  {
   "cell_type": "code",
   "execution_count": 74,
   "id": "c3ce2213",
   "metadata": {},
   "outputs": [
    {
     "name": "stderr",
     "output_type": "stream",
     "text": [
      "C:\\Users\\e19805\\Anaconda3\\lib\\site-packages\\seaborn\\_decorators.py:36: FutureWarning: Pass the following variable as a keyword arg: x. From version 0.12, the only valid positional argument will be `data`, and passing other arguments without an explicit keyword will result in an error or misinterpretation.\n",
      "  warnings.warn(\n"
     ]
    },
    {
     "data": {
      "text/plain": [
       "<AxesSubplot:xlabel='label', ylabel='count'>"
      ]
     },
     "execution_count": 74,
     "metadata": {},
     "output_type": "execute_result"
    },
    {
     "data": {
      "image/png": "[encoded data removed]",
      "text/plain": [
       "<Figure size 432x288 with 1 Axes>"
      ]
     },
     "metadata": {
      "needs_background": "light"
     },
     "output_type": "display_data"
    }
   ],
   "source": [
    "#Distribution of target variable 'label' on df2\n",
    "sns.countplot(df2['label'])"
   ]
  },
  {
   "cell_type": "code",
   "execution_count": 77,
   "id": "1ba59d37",
   "metadata": {},
   "outputs": [],
   "source": [
    "#Using SMOTE to fix imbalance"
   ]
  },
  {
   "cell_type": "code",
   "execution_count": 78,
   "id": "1119c7cc",
   "metadata": {},
   "outputs": [],
   "source": [
    "#Splitting the data into x2 and y2(independent & dependent features)\n",
    "x2 = df2.drop('label', axis = 1)\n",
    "y2 = df2[['label']]"
   ]
  },
  {
   "cell_type": "code",
   "execution_count": 79,
   "id": "669cc8f6",
   "metadata": {},
   "outputs": [],
   "source": [
    "##Applying Decision Tree"
   ]
  },
  {
   "cell_type": "code",
   "execution_count": 80,
   "id": "44433dd2",
   "metadata": {},
   "outputs": [],
   "source": [
    "#Spitting into train and test\n",
    "x2_train, x2_test, y2_train, y2_test = train_test_split(x2, y2, test_size = 0.30, random_state = 25)"
   ]
  },
  {
   "cell_type": "code",
   "execution_count": 81,
   "id": "17f12d28",
   "metadata": {},
   "outputs": [
    {
     "data": {
      "text/plain": [
       "pandas.core.frame.DataFrame"
      ]
     },
     "execution_count": 81,
     "metadata": {},
     "output_type": "execute_result"
    }
   ],
   "source": [
    "type(y2_train)"
   ]
  },
  {
   "cell_type": "code",
   "execution_count": 82,
   "id": "30a35500",
   "metadata": {},
   "outputs": [
    {
     "name": "stdout",
     "output_type": "stream",
     "text": [
      "Classes and number of values in trainset after SMOTE: label\n",
      "1        1948\n",
      "2        1948\n",
      "3        1948\n",
      "4        1948\n",
      "5        1948\n",
      "6        1948\n",
      "7        1948\n",
      "8        1948\n",
      "9        1948\n",
      "dtype: int64 \n",
      "\n"
     ]
    }
   ],
   "source": [
    "#SMOTE\n",
    "from imblearn.over_sampling import SMOTE\n",
    "oversample = SMOTE()\n",
    "x2_train, y2_train = oversample.fit_resample(x2_train, y2_train)\n",
    "print('Classes and number of values in trainset after SMOTE:',y2_train.value_counts(),'\\n')"
   ]
  },
  {
   "cell_type": "code",
   "execution_count": 83,
   "id": "808b84b3",
   "metadata": {},
   "outputs": [],
   "source": [
    "#importing decision tree\n",
    "from sklearn.tree import DecisionTreeClassifier\n",
    "dt_model = DecisionTreeClassifier(random_state = 1000, max_depth = 5)"
   ]
  },
  {
   "cell_type": "code",
   "execution_count": 84,
   "id": "94e12f5b",
   "metadata": {},
   "outputs": [
    {
     "data": {
      "text/html": [
       "<style>#sk-container-id-2 {color: black;background-color: white;}#sk-container-id-2 pre{padding: 0;}#sk-container-id-2 div.sk-toggleable {background-color: white;}#sk-container-id-2 label.sk-toggleable__label {cursor: pointer;display: block;width: 100%;margin-bottom: 0;padding: 0.3em;box-sizing: border-box;text-align: center;}#sk-container-id-2 label.sk-toggleable__label-arrow:before {content: \"▸\";float: left;margin-right: 0.25em;color: #696969;}#sk-container-id-2 label.sk-toggleable__label-arrow:hover:before {color: black;}#sk-container-id-2 div.sk-estimator:hover label.sk-toggleable__label-arrow:before {color: black;}#sk-container-id-2 div.sk-toggleable__content {max-height: 0;max-width: 0;overflow: hidden;text-align: left;background-color: #f0f8ff;}#sk-container-id-2 div.sk-toggleable__content pre {margin: 0.2em;color: black;border-radius: 0.25em;background-color: #f0f8ff;}#sk-container-id-2 input.sk-toggleable__control:checked~div.sk-toggleable__content {max-height: 200px;max-width: 100%;overflow: auto;}#sk-container-id-2 input.sk-toggleable__control:checked~label.sk-toggleable__label-arrow:before {content: \"▾\";}#sk-container-id-2 div.sk-estimator input.sk-toggleable__control:checked~label.sk-toggleable__label {background-color: #d4ebff;}#sk-container-id-2 div.sk-label input.sk-toggleable__control:checked~label.sk-toggleable__label {background-color: #d4ebff;}#sk-container-id-2 input.sk-hidden--visually {border: 0;clip: rect(1px 1px 1px 1px);clip: rect(1px, 1px, 1px, 1px);height: 1px;margin: -1px;overflow: hidden;padding: 0;position: absolute;width: 1px;}#sk-container-id-2 div.sk-estimator {font-family: monospace;background-color: #f0f8ff;border: 1px dotted black;border-radius: 0.25em;box-sizing: border-box;margin-bottom: 0.5em;}#sk-container-id-2 div.sk-estimator:hover {background-color: #d4ebff;}#sk-container-id-2 div.sk-parallel-item::after {content: \"\";width: 100%;border-bottom: 1px solid gray;flex-grow: 1;}#sk-container-id-2 div.sk-label:hover label.sk-toggleable__label {background-color: #d4ebff;}#sk-container-id-2 div.sk-serial::before {content: \"\";position: absolute;border-left: 1px solid gray;box-sizing: border-box;top: 0;bottom: 0;left: 50%;z-index: 0;}#sk-container-id-2 div.sk-serial {display: flex;flex-direction: column;align-items: center;background-color: white;padding-right: 0.2em;padding-left: 0.2em;position: relative;}#sk-container-id-2 div.sk-item {position: relative;z-index: 1;}#sk-container-id-2 div.sk-parallel {display: flex;align-items: stretch;justify-content: center;background-color: white;position: relative;}#sk-container-id-2 div.sk-item::before, #sk-container-id-2 div.sk-parallel-item::before {content: \"\";position: absolute;border-left: 1px solid gray;box-sizing: border-box;top: 0;bottom: 0;left: 50%;z-index: -1;}#sk-container-id-2 div.sk-parallel-item {display: flex;flex-direction: column;z-index: 1;position: relative;background-color: white;}#sk-container-id-2 div.sk-parallel-item:first-child::after {align-self: flex-end;width: 50%;}#sk-container-id-2 div.sk-parallel-item:last-child::after {align-self: flex-start;width: 50%;}#sk-container-id-2 div.sk-parallel-item:only-child::after {width: 0;}#sk-container-id-2 div.sk-dashed-wrapped {border: 1px dashed gray;margin: 0 0.4em 0.5em 0.4em;box-sizing: border-box;padding-bottom: 0.4em;background-color: white;}#sk-container-id-2 div.sk-label label {font-family: monospace;font-weight: bold;display: inline-block;line-height: 1.2em;}#sk-container-id-2 div.sk-label-container {text-align: center;}#sk-container-id-2 div.sk-container {/* jupyter's `normalize.less` sets `[hidden] { display: none; }` but bootstrap.min.css set `[hidden] { display: none !important; }` so we also need the `!important` here to be able to override the default hidden behavior on the sphinx rendered scikit-learn.org. See: https://github.com/scikit-learn/scikit-learn/issues/21755 */display: inline-block !important;position: relative;}#sk-container-id-2 div.sk-text-repr-fallback {display: none;}</style><div id=\"sk-container-id-2\" class=\"sk-top-container\"><div class=\"sk-text-repr-fallback\"><pre>DecisionTreeClassifier(max_depth=5, random_state=1000)</pre><b>In a Jupyter environment, please rerun this cell to show the HTML representation or trust the notebook. <br />On GitHub, the HTML representation is unable to render, please try loading this page with nbviewer.org.</b></div><div class=\"sk-container\" hidden><div class=\"sk-item\"><div class=\"sk-estimator sk-toggleable\"><input class=\"sk-toggleable__control sk-hidden--visually\" id=\"sk-estimator-id-2\" type=\"checkbox\" checked><label for=\"sk-estimator-id-2\" class=\"sk-toggleable__label sk-toggleable__label-arrow\">DecisionTreeClassifier</label><div class=\"sk-toggleable__content\"><pre>DecisionTreeClassifier(max_depth=5, random_state=1000)</pre></div></div></div></div></div>"
      ],
      "text/plain": [
       "DecisionTreeClassifier(max_depth=5, random_state=1000)"
      ]
     },
     "execution_count": 84,
     "metadata": {},
     "output_type": "execute_result"
    }
   ],
   "source": [
    "#Training the model\n",
    "dt_model.fit(x2_train,y2_train)"
   ]
  },
  {
   "cell_type": "code",
   "execution_count": 85,
   "id": "8e9a5818",
   "metadata": {},
   "outputs": [
    {
     "name": "stdout",
     "output_type": "stream",
     "text": [
      "Model.predict :  [4 1 4 ... 4 5 9]\n"
     ]
    }
   ],
   "source": [
    "#Predictions on test data\n",
    "y2_pred = dt_model.predict(x2_test)\n",
    "print('Model.predict : ',y2_pred)"
   ]
  },
  {
   "cell_type": "code",
   "execution_count": 86,
   "id": "8af2e789",
   "metadata": {},
   "outputs": [
    {
     "name": "stdout",
     "output_type": "stream",
     "text": [
      "Accuracy:  0.4116666666666667\n",
      "[[140   8   5 188  22  73  42 117 238]\n",
      " [  0   2   1   1   1   2   0   0   1]\n",
      " [  0  11  11   0   2   2   0   0   3]\n",
      " [ 20   0   2 360   8  46  47  94  40]\n",
      " [  0   7   1  78 156  10  95  38  38]\n",
      " [  2   9   6 149   2 197   6  15  36]\n",
      " [  0   0   0  59  99   9 232  31  44]\n",
      " [  3   1   6  13   1   4   7  51   9]\n",
      " [  0   0   2   0   0   0   4   7  86]]\n",
      "              precision    recall  f1-score   support\n",
      "\n",
      "           1       0.85      0.17      0.28       833\n",
      "           2       0.05      0.25      0.09         8\n",
      "           3       0.32      0.38      0.35        29\n",
      "           4       0.42      0.58      0.49       617\n",
      "           5       0.54      0.37      0.44       423\n",
      "           6       0.57      0.47      0.52       422\n",
      "           7       0.54      0.49      0.51       474\n",
      "           8       0.14      0.54      0.23        95\n",
      "           9       0.17      0.87      0.29        99\n",
      "\n",
      "    accuracy                           0.41      3000\n",
      "   macro avg       0.40      0.46      0.35      3000\n",
      "weighted avg       0.58      0.41      0.41      3000\n",
      "\n"
     ]
    }
   ],
   "source": [
    "  #Model Evaluation\n",
    "  from sklearn.metrics import confusion_matrix, classification_report, accuracy_score\n",
    "  accuracy = accuracy_score(y2_test,y2_pred)\n",
    "  print('Accuracy: ',accuracy)\n",
    "  print(confusion_matrix(y2_test,y2_pred))\n",
    "  print(classification_report(y2_test,y2_pred))"
   ]
  },
  {
   "cell_type": "code",
   "execution_count": 87,
   "id": "73e1eb83",
   "metadata": {},
   "outputs": [],
   "source": [
    "# Applying Random Forest on df3"
   ]
  },
  {
   "cell_type": "code",
   "execution_count": 93,
   "id": "7e547d15",
   "metadata": {},
   "outputs": [],
   "source": [
    "df3 = df1.sample(10000)"
   ]
  },
  {
   "cell_type": "code",
   "execution_count": 94,
   "id": "3ebbebe7",
   "metadata": {},
   "outputs": [
    {
     "data": {
      "text/plain": [
       "1    2732\n",
       "4    2065\n",
       "7    1568\n",
       "5    1462\n",
       "6    1376\n",
       "9     335\n",
       "8     309\n",
       "3     113\n",
       "2      40\n",
       "Name: label, dtype: int64"
      ]
     },
     "execution_count": 94,
     "metadata": {},
     "output_type": "execute_result"
    }
   ],
   "source": [
    "df3['label'].value_counts()"
   ]
  },
  {
   "cell_type": "code",
   "execution_count": 95,
   "id": "f52b091f",
   "metadata": {},
   "outputs": [],
   "source": [
    "#Splitting the data into x3 and y3(independent & dependent features)\n",
    "x3 = df3.drop('label', axis = 1)\n",
    "y3 = df3[['label']]"
   ]
  },
  {
   "cell_type": "code",
   "execution_count": 96,
   "id": "c881e49c",
   "metadata": {},
   "outputs": [],
   "source": [
    "#Spitting into train and test\n",
    "x3_train, x3_test, y3_train, y3_test = train_test_split(x3, y3, test_size = 0.30, random_state = 30)"
   ]
  },
  {
   "cell_type": "code",
   "execution_count": 97,
   "id": "039f39e2",
   "metadata": {},
   "outputs": [
    {
     "name": "stdout",
     "output_type": "stream",
     "text": [
      "Classes and number of values in trainset after SMOTE: label\n",
      "1        1901\n",
      "2        1901\n",
      "3        1901\n",
      "4        1901\n",
      "5        1901\n",
      "6        1901\n",
      "7        1901\n",
      "8        1901\n",
      "9        1901\n",
      "dtype: int64 \n",
      "\n"
     ]
    }
   ],
   "source": [
    "#SMOTE\n",
    "from imblearn.over_sampling import SMOTE\n",
    "oversample = SMOTE()\n",
    "x3_train, y3_train = oversample.fit_resample(x3_train, y3_train)\n",
    "print('Classes and number of values in trainset after SMOTE:',y3_train.value_counts(),'\\n')"
   ]
  },
  {
   "cell_type": "code",
   "execution_count": 98,
   "id": "7e3671ef",
   "metadata": {},
   "outputs": [],
   "source": [
    "rf_model = RandomForestClassifier(n_estimators=10, criterion='entropy', random_state=500)"
   ]
  },
  {
   "cell_type": "code",
   "execution_count": 99,
   "id": "852207b0",
   "metadata": {},
   "outputs": [
    {
     "name": "stderr",
     "output_type": "stream",
     "text": [
      "C:\\Users\\e19805\\AppData\\Local\\Temp\\ipykernel_14256\\538494668.py:2: DataConversionWarning: A column-vector y was passed when a 1d array was expected. Please change the shape of y to (n_samples,), for example using ravel().\n",
      "  rf_model.fit(x3_train,y3_train)\n"
     ]
    },
    {
     "data": {
      "text/html": [
       "<style>#sk-container-id-3 {color: black;background-color: white;}#sk-container-id-3 pre{padding: 0;}#sk-container-id-3 div.sk-toggleable {background-color: white;}#sk-container-id-3 label.sk-toggleable__label {cursor: pointer;display: block;width: 100%;margin-bottom: 0;padding: 0.3em;box-sizing: border-box;text-align: center;}#sk-container-id-3 label.sk-toggleable__label-arrow:before {content: \"▸\";float: left;margin-right: 0.25em;color: #696969;}#sk-container-id-3 label.sk-toggleable__label-arrow:hover:before {color: black;}#sk-container-id-3 div.sk-estimator:hover label.sk-toggleable__label-arrow:before {color: black;}#sk-container-id-3 div.sk-toggleable__content {max-height: 0;max-width: 0;overflow: hidden;text-align: left;background-color: #f0f8ff;}#sk-container-id-3 div.sk-toggleable__content pre {margin: 0.2em;color: black;border-radius: 0.25em;background-color: #f0f8ff;}#sk-container-id-3 input.sk-toggleable__control:checked~div.sk-toggleable__content {max-height: 200px;max-width: 100%;overflow: auto;}#sk-container-id-3 input.sk-toggleable__control:checked~label.sk-toggleable__label-arrow:before {content: \"▾\";}#sk-container-id-3 div.sk-estimator input.sk-toggleable__control:checked~label.sk-toggleable__label {background-color: #d4ebff;}#sk-container-id-3 div.sk-label input.sk-toggleable__control:checked~label.sk-toggleable__label {background-color: #d4ebff;}#sk-container-id-3 input.sk-hidden--visually {border: 0;clip: rect(1px 1px 1px 1px);clip: rect(1px, 1px, 1px, 1px);height: 1px;margin: -1px;overflow: hidden;padding: 0;position: absolute;width: 1px;}#sk-container-id-3 div.sk-estimator {font-family: monospace;background-color: #f0f8ff;border: 1px dotted black;border-radius: 0.25em;box-sizing: border-box;margin-bottom: 0.5em;}#sk-container-id-3 div.sk-estimator:hover {background-color: #d4ebff;}#sk-container-id-3 div.sk-parallel-item::after {content: \"\";width: 100%;border-bottom: 1px solid gray;flex-grow: 1;}#sk-container-id-3 div.sk-label:hover label.sk-toggleable__label {background-color: #d4ebff;}#sk-container-id-3 div.sk-serial::before {content: \"\";position: absolute;border-left: 1px solid gray;box-sizing: border-box;top: 0;bottom: 0;left: 50%;z-index: 0;}#sk-container-id-3 div.sk-serial {display: flex;flex-direction: column;align-items: center;background-color: white;padding-right: 0.2em;padding-left: 0.2em;position: relative;}#sk-container-id-3 div.sk-item {position: relative;z-index: 1;}#sk-container-id-3 div.sk-parallel {display: flex;align-items: stretch;justify-content: center;background-color: white;position: relative;}#sk-container-id-3 div.sk-item::before, #sk-container-id-3 div.sk-parallel-item::before {content: \"\";position: absolute;border-left: 1px solid gray;box-sizing: border-box;top: 0;bottom: 0;left: 50%;z-index: -1;}#sk-container-id-3 div.sk-parallel-item {display: flex;flex-direction: column;z-index: 1;position: relative;background-color: white;}#sk-container-id-3 div.sk-parallel-item:first-child::after {align-self: flex-end;width: 50%;}#sk-container-id-3 div.sk-parallel-item:last-child::after {align-self: flex-start;width: 50%;}#sk-container-id-3 div.sk-parallel-item:only-child::after {width: 0;}#sk-container-id-3 div.sk-dashed-wrapped {border: 1px dashed gray;margin: 0 0.4em 0.5em 0.4em;box-sizing: border-box;padding-bottom: 0.4em;background-color: white;}#sk-container-id-3 div.sk-label label {font-family: monospace;font-weight: bold;display: inline-block;line-height: 1.2em;}#sk-container-id-3 div.sk-label-container {text-align: center;}#sk-container-id-3 div.sk-container {/* jupyter's `normalize.less` sets `[hidden] { display: none; }` but bootstrap.min.css set `[hidden] { display: none !important; }` so we also need the `!important` here to be able to override the default hidden behavior on the sphinx rendered scikit-learn.org. See: https://github.com/scikit-learn/scikit-learn/issues/21755 */display: inline-block !important;position: relative;}#sk-container-id-3 div.sk-text-repr-fallback {display: none;}</style><div id=\"sk-container-id-3\" class=\"sk-top-container\"><div class=\"sk-text-repr-fallback\"><pre>RandomForestClassifier(criterion=&#x27;entropy&#x27;, n_estimators=10, random_state=500)</pre><b>In a Jupyter environment, please rerun this cell to show the HTML representation or trust the notebook. <br />On GitHub, the HTML representation is unable to render, please try loading this page with nbviewer.org.</b></div><div class=\"sk-container\" hidden><div class=\"sk-item\"><div class=\"sk-estimator sk-toggleable\"><input class=\"sk-toggleable__control sk-hidden--visually\" id=\"sk-estimator-id-3\" type=\"checkbox\" checked><label for=\"sk-estimator-id-3\" class=\"sk-toggleable__label sk-toggleable__label-arrow\">RandomForestClassifier</label><div class=\"sk-toggleable__content\"><pre>RandomForestClassifier(criterion=&#x27;entropy&#x27;, n_estimators=10, random_state=500)</pre></div></div></div></div></div>"
      ],
      "text/plain": [
       "RandomForestClassifier(criterion='entropy', n_estimators=10, random_state=500)"
      ]
     },
     "execution_count": 99,
     "metadata": {},
     "output_type": "execute_result"
    }
   ],
   "source": [
    "#Training the model\n",
    "rf_model.fit(x3_train,y3_train)"
   ]
  },
  {
   "cell_type": "code",
   "execution_count": 100,
   "id": "a779ee6b",
   "metadata": {},
   "outputs": [
    {
     "name": "stdout",
     "output_type": "stream",
     "text": [
      "Model.predict :  [7 8 1 ... 7 6 5]\n"
     ]
    }
   ],
   "source": [
    "#Predictions on test data\n",
    "y3_pred = rf_model.predict(x3_test)\n",
    "print('Model.predict : ',y3_pred)"
   ]
  },
  {
   "cell_type": "code",
   "execution_count": 101,
   "id": "8b28f316",
   "metadata": {},
   "outputs": [
    {
     "name": "stdout",
     "output_type": "stream",
     "text": [
      "Accuracy:  0.8576666666666667 \n",
      "\n",
      "[[758   0   6  42   5   9   1   9   1]\n",
      " [  1   6   1   1   0   0   0   0   0]\n",
      " [  4   2  21   2   3   0   0   1   0]\n",
      " [ 66   4   0 526   5  29   2  31   0]\n",
      " [  3   0   0  10 397   4  15   1   6]\n",
      " [ 12   1   1  53   1 311   2   7   0]\n",
      " [  1   0   0   6  20   0 408   3   1]\n",
      " [ 11   0   1  21   0   5   2  49   0]\n",
      " [  3   0   0   2   8   0   1   1  97]] \n",
      "\n",
      "              precision    recall  f1-score   support\n",
      "\n",
      "           1       0.88      0.91      0.90       831\n",
      "           2       0.46      0.67      0.55         9\n",
      "           3       0.70      0.64      0.67        33\n",
      "           4       0.79      0.79      0.79       663\n",
      "           5       0.90      0.91      0.91       436\n",
      "           6       0.87      0.80      0.83       388\n",
      "           7       0.95      0.93      0.94       439\n",
      "           8       0.48      0.55      0.51        89\n",
      "           9       0.92      0.87      0.89       112\n",
      "\n",
      "    accuracy                           0.86      3000\n",
      "   macro avg       0.77      0.79      0.78      3000\n",
      "weighted avg       0.86      0.86      0.86      3000\n",
      "\n"
     ]
    }
   ],
   "source": [
    "#Model Evaluation\n",
    "from sklearn.metrics import confusion_matrix, classification_report, accuracy_score\n",
    "accuracy = accuracy_score(y3_test,y3_pred)\n",
    "print('Accuracy: ',accuracy,'\\n')\n",
    "print(confusion_matrix(y3_test,y3_pred),'\\n')\n",
    "print(classification_report(y3_test,y3_pred))"
   ]
  },
  {
   "cell_type": "code",
   "execution_count": 107,
   "id": "dd31f867",
   "metadata": {},
   "outputs": [],
   "source": [
    "df4 = df1.sample(10000)"
   ]
  },
  {
   "cell_type": "code",
   "execution_count": 108,
   "id": "904a3f3b",
   "metadata": {},
   "outputs": [],
   "source": [
    "#Splitting the data into x4 and y4(independent & dependent features)\n",
    "x4 = df4.drop('label', axis = 1)\n",
    "y4 = df4[['label']]"
   ]
  },
  {
   "cell_type": "code",
   "execution_count": 109,
   "id": "a7ca65b4",
   "metadata": {},
   "outputs": [
    {
     "name": "stderr",
     "output_type": "stream",
     "text": [
      "C:\\Users\\e19805\\Anaconda3\\lib\\site-packages\\sklearn\\utils\\validation.py:1111: DataConversionWarning: A column-vector y was passed when a 1d array was expected. Please change the shape of y to (n_samples, ), for example using ravel().\n",
      "  y = column_or_1d(y, warn=True)\n"
     ]
    },
    {
     "name": "stdout",
     "output_type": "stream",
     "text": [
      "Model.predict :  [1 1 1 ... 1 1 1]\n",
      "Accuracy:  0.2768\n",
      "[[692   0   0   0   0   0   0   0   0]\n",
      " [ 11   0   0   0   0   0   0   0   0]\n",
      " [ 24   0   0   0   0   0   0   0   0]\n",
      " [499   0   0   0   0   0   0   0   0]\n",
      " [390   0   0   0   0   0   0   0   0]\n",
      " [339   0   0   0   0   0   0   0   0]\n",
      " [369   0   0   0   0   0   0   0   0]\n",
      " [ 86   0   0   0   0   0   0   0   0]\n",
      " [ 90   0   0   0   0   0   0   0   0]]\n",
      "              precision    recall  f1-score   support\n",
      "\n",
      "           1       0.28      1.00      0.43       692\n",
      "           2       0.00      0.00      0.00        11\n",
      "           3       0.00      0.00      0.00        24\n",
      "           4       0.00      0.00      0.00       499\n",
      "           5       0.00      0.00      0.00       390\n",
      "           6       0.00      0.00      0.00       339\n",
      "           7       0.00      0.00      0.00       369\n",
      "           8       0.00      0.00      0.00        86\n",
      "           9       0.00      0.00      0.00        90\n",
      "\n",
      "    accuracy                           0.28      2500\n",
      "   macro avg       0.03      0.11      0.05      2500\n",
      "weighted avg       0.08      0.28      0.12      2500\n",
      "\n"
     ]
    },
    {
     "name": "stderr",
     "output_type": "stream",
     "text": [
      "C:\\Users\\e19805\\Anaconda3\\lib\\site-packages\\sklearn\\metrics\\_classification.py:1334: UndefinedMetricWarning: Precision and F-score are ill-defined and being set to 0.0 in labels with no predicted samples. Use `zero_division` parameter to control this behavior.\n",
      "  _warn_prf(average, modifier, msg_start, len(result))\n",
      "C:\\Users\\e19805\\Anaconda3\\lib\\site-packages\\sklearn\\metrics\\_classification.py:1334: UndefinedMetricWarning: Precision and F-score are ill-defined and being set to 0.0 in labels with no predicted samples. Use `zero_division` parameter to control this behavior.\n",
      "  _warn_prf(average, modifier, msg_start, len(result))\n",
      "C:\\Users\\e19805\\Anaconda3\\lib\\site-packages\\sklearn\\metrics\\_classification.py:1334: UndefinedMetricWarning: Precision and F-score are ill-defined and being set to 0.0 in labels with no predicted samples. Use `zero_division` parameter to control this behavior.\n",
      "  _warn_prf(average, modifier, msg_start, len(result))\n"
     ]
    }
   ],
   "source": [
    "#Spitting into train and test\n",
    "x4_train, x4_test, y4_train, y4_test = train_test_split(x4, y4, test_size = 0.25, random_state = 50)\n",
    "\n",
    "#Importing SVC\n",
    "from sklearn.svm import SVC\n",
    "svc_model = SVC()\n",
    "\n",
    "#Training the model\n",
    "svc_model.fit(x4_train,y4_train)\n",
    "\n",
    "#Predictions on test data\n",
    "y4_pred = svc_model.predict(x4_test)\n",
    "print('Model.predict : ',y4_pred)\n",
    "\n",
    "#Model Evaluation\n",
    "from sklearn.metrics import confusion_matrix, classification_report, accuracy_score\n",
    "accuracy = accuracy_score(y4_test,y4_pred)\n",
    "print('Accuracy: ',accuracy)\n",
    "print(confusion_matrix(y4_test,y4_pred))\n",
    "print(classification_report(y4_test,y4_pred))"
   ]
  },
  {
   "cell_type": "code",
   "execution_count": 110,
   "id": "0a0fe1ad",
   "metadata": {},
   "outputs": [
    {
     "data": {
      "text/plain": [
       "{'C': 1.0,\n",
       " 'break_ties': False,\n",
       " 'cache_size': 200,\n",
       " 'class_weight': None,\n",
       " 'coef0': 0.0,\n",
       " 'decision_function_shape': 'ovr',\n",
       " 'degree': 3,\n",
       " 'gamma': 'scale',\n",
       " 'kernel': 'rbf',\n",
       " 'max_iter': -1,\n",
       " 'probability': False,\n",
       " 'random_state': None,\n",
       " 'shrinking': True,\n",
       " 'tol': 0.001,\n",
       " 'verbose': False}"
      ]
     },
     "execution_count": 110,
     "metadata": {},
     "output_type": "execute_result"
    }
   ],
   "source": [
    "#Getting model parameters\n",
    "svc_model.get_params()"
   ]
  },
  {
   "cell_type": "code",
   "execution_count": 112,
   "id": "4bf41172",
   "metadata": {},
   "outputs": [],
   "source": [
    "##GridSearchCV"
   ]
  },
  {
   "cell_type": "code",
   "execution_count": 113,
   "id": "6182c118",
   "metadata": {},
   "outputs": [],
   "source": [
    "param_grid = {'C':[0.1,1], 'gamma':[1,0.1], 'kernel':['rbf']}"
   ]
  },
  {
   "cell_type": "code",
   "execution_count": 114,
   "id": "ed574fb1",
   "metadata": {},
   "outputs": [],
   "source": [
    "from sklearn.model_selection import GridSearchCV\n",
    "grid = GridSearchCV(SVC(), param_grid, refit = True, verbose = 3)"
   ]
  },
  {
   "cell_type": "code",
   "execution_count": 115,
   "id": "3470a14b",
   "metadata": {},
   "outputs": [
    {
     "name": "stdout",
     "output_type": "stream",
     "text": [
      "Fitting 5 folds for each of 4 candidates, totalling 20 fits\n"
     ]
    },
    {
     "name": "stderr",
     "output_type": "stream",
     "text": [
      "C:\\Users\\e19805\\Anaconda3\\lib\\site-packages\\sklearn\\utils\\validation.py:1111: DataConversionWarning: A column-vector y was passed when a 1d array was expected. Please change the shape of y to (n_samples, ), for example using ravel().\n",
      "  y = column_or_1d(y, warn=True)\n"
     ]
    },
    {
     "name": "stdout",
     "output_type": "stream",
     "text": [
      "[CV 1/5] END ........C=0.1, gamma=1, kernel=rbf;, score=0.272 total time=  11.7s\n"
     ]
    },
    {
     "name": "stderr",
     "output_type": "stream",
     "text": [
      "C:\\Users\\e19805\\Anaconda3\\lib\\site-packages\\sklearn\\utils\\validation.py:1111: DataConversionWarning: A column-vector y was passed when a 1d array was expected. Please change the shape of y to (n_samples, ), for example using ravel().\n",
      "  y = column_or_1d(y, warn=True)\n"
     ]
    },
    {
     "name": "stdout",
     "output_type": "stream",
     "text": [
      "[CV 2/5] END ........C=0.1, gamma=1, kernel=rbf;, score=0.272 total time=   9.4s\n"
     ]
    },
    {
     "name": "stderr",
     "output_type": "stream",
     "text": [
      "C:\\Users\\e19805\\Anaconda3\\lib\\site-packages\\sklearn\\utils\\validation.py:1111: DataConversionWarning: A column-vector y was passed when a 1d array was expected. Please change the shape of y to (n_samples, ), for example using ravel().\n",
      "  y = column_or_1d(y, warn=True)\n"
     ]
    },
    {
     "name": "stdout",
     "output_type": "stream",
     "text": [
      "[CV 3/5] END ........C=0.1, gamma=1, kernel=rbf;, score=0.272 total time=  10.5s\n"
     ]
    },
    {
     "name": "stderr",
     "output_type": "stream",
     "text": [
      "C:\\Users\\e19805\\Anaconda3\\lib\\site-packages\\sklearn\\utils\\validation.py:1111: DataConversionWarning: A column-vector y was passed when a 1d array was expected. Please change the shape of y to (n_samples, ), for example using ravel().\n",
      "  y = column_or_1d(y, warn=True)\n"
     ]
    },
    {
     "name": "stdout",
     "output_type": "stream",
     "text": [
      "[CV 4/5] END ........C=0.1, gamma=1, kernel=rbf;, score=0.272 total time=   9.8s\n"
     ]
    },
    {
     "name": "stderr",
     "output_type": "stream",
     "text": [
      "C:\\Users\\e19805\\Anaconda3\\lib\\site-packages\\sklearn\\utils\\validation.py:1111: DataConversionWarning: A column-vector y was passed when a 1d array was expected. Please change the shape of y to (n_samples, ), for example using ravel().\n",
      "  y = column_or_1d(y, warn=True)\n"
     ]
    },
    {
     "name": "stdout",
     "output_type": "stream",
     "text": [
      "[CV 5/5] END ........C=0.1, gamma=1, kernel=rbf;, score=0.272 total time=  11.3s\n"
     ]
    },
    {
     "name": "stderr",
     "output_type": "stream",
     "text": [
      "C:\\Users\\e19805\\Anaconda3\\lib\\site-packages\\sklearn\\utils\\validation.py:1111: DataConversionWarning: A column-vector y was passed when a 1d array was expected. Please change the shape of y to (n_samples, ), for example using ravel().\n",
      "  y = column_or_1d(y, warn=True)\n"
     ]
    },
    {
     "name": "stdout",
     "output_type": "stream",
     "text": [
      "[CV 1/5] END ......C=0.1, gamma=0.1, kernel=rbf;, score=0.272 total time=  11.3s\n"
     ]
    },
    {
     "name": "stderr",
     "output_type": "stream",
     "text": [
      "C:\\Users\\e19805\\Anaconda3\\lib\\site-packages\\sklearn\\utils\\validation.py:1111: DataConversionWarning: A column-vector y was passed when a 1d array was expected. Please change the shape of y to (n_samples, ), for example using ravel().\n",
      "  y = column_or_1d(y, warn=True)\n"
     ]
    },
    {
     "name": "stdout",
     "output_type": "stream",
     "text": [
      "[CV 2/5] END ......C=0.1, gamma=0.1, kernel=rbf;, score=0.272 total time=  12.3s\n"
     ]
    },
    {
     "name": "stderr",
     "output_type": "stream",
     "text": [
      "C:\\Users\\e19805\\Anaconda3\\lib\\site-packages\\sklearn\\utils\\validation.py:1111: DataConversionWarning: A column-vector y was passed when a 1d array was expected. Please change the shape of y to (n_samples, ), for example using ravel().\n",
      "  y = column_or_1d(y, warn=True)\n"
     ]
    },
    {
     "name": "stdout",
     "output_type": "stream",
     "text": [
      "[CV 3/5] END ......C=0.1, gamma=0.1, kernel=rbf;, score=0.272 total time=  13.3s\n"
     ]
    },
    {
     "name": "stderr",
     "output_type": "stream",
     "text": [
      "C:\\Users\\e19805\\Anaconda3\\lib\\site-packages\\sklearn\\utils\\validation.py:1111: DataConversionWarning: A column-vector y was passed when a 1d array was expected. Please change the shape of y to (n_samples, ), for example using ravel().\n",
      "  y = column_or_1d(y, warn=True)\n"
     ]
    },
    {
     "name": "stdout",
     "output_type": "stream",
     "text": [
      "[CV 4/5] END ......C=0.1, gamma=0.1, kernel=rbf;, score=0.272 total time=  10.5s\n"
     ]
    },
    {
     "name": "stderr",
     "output_type": "stream",
     "text": [
      "C:\\Users\\e19805\\Anaconda3\\lib\\site-packages\\sklearn\\utils\\validation.py:1111: DataConversionWarning: A column-vector y was passed when a 1d array was expected. Please change the shape of y to (n_samples, ), for example using ravel().\n",
      "  y = column_or_1d(y, warn=True)\n"
     ]
    },
    {
     "name": "stdout",
     "output_type": "stream",
     "text": [
      "[CV 5/5] END ......C=0.1, gamma=0.1, kernel=rbf;, score=0.272 total time=  12.6s\n"
     ]
    },
    {
     "name": "stderr",
     "output_type": "stream",
     "text": [
      "C:\\Users\\e19805\\Anaconda3\\lib\\site-packages\\sklearn\\utils\\validation.py:1111: DataConversionWarning: A column-vector y was passed when a 1d array was expected. Please change the shape of y to (n_samples, ), for example using ravel().\n",
      "  y = column_or_1d(y, warn=True)\n"
     ]
    },
    {
     "name": "stdout",
     "output_type": "stream",
     "text": [
      "[CV 1/5] END ..........C=1, gamma=1, kernel=rbf;, score=0.272 total time=  10.3s\n"
     ]
    },
    {
     "name": "stderr",
     "output_type": "stream",
     "text": [
      "C:\\Users\\e19805\\Anaconda3\\lib\\site-packages\\sklearn\\utils\\validation.py:1111: DataConversionWarning: A column-vector y was passed when a 1d array was expected. Please change the shape of y to (n_samples, ), for example using ravel().\n",
      "  y = column_or_1d(y, warn=True)\n"
     ]
    },
    {
     "name": "stdout",
     "output_type": "stream",
     "text": [
      "[CV 2/5] END ..........C=1, gamma=1, kernel=rbf;, score=0.272 total time=  12.9s\n"
     ]
    },
    {
     "name": "stderr",
     "output_type": "stream",
     "text": [
      "C:\\Users\\e19805\\Anaconda3\\lib\\site-packages\\sklearn\\utils\\validation.py:1111: DataConversionWarning: A column-vector y was passed when a 1d array was expected. Please change the shape of y to (n_samples, ), for example using ravel().\n",
      "  y = column_or_1d(y, warn=True)\n"
     ]
    },
    {
     "name": "stdout",
     "output_type": "stream",
     "text": [
      "[CV 3/5] END ..........C=1, gamma=1, kernel=rbf;, score=0.272 total time=  12.0s\n"
     ]
    },
    {
     "name": "stderr",
     "output_type": "stream",
     "text": [
      "C:\\Users\\e19805\\Anaconda3\\lib\\site-packages\\sklearn\\utils\\validation.py:1111: DataConversionWarning: A column-vector y was passed when a 1d array was expected. Please change the shape of y to (n_samples, ), for example using ravel().\n",
      "  y = column_or_1d(y, warn=True)\n"
     ]
    },
    {
     "name": "stdout",
     "output_type": "stream",
     "text": [
      "[CV 4/5] END ..........C=1, gamma=1, kernel=rbf;, score=0.272 total time=  13.1s\n"
     ]
    },
    {
     "name": "stderr",
     "output_type": "stream",
     "text": [
      "C:\\Users\\e19805\\Anaconda3\\lib\\site-packages\\sklearn\\utils\\validation.py:1111: DataConversionWarning: A column-vector y was passed when a 1d array was expected. Please change the shape of y to (n_samples, ), for example using ravel().\n",
      "  y = column_or_1d(y, warn=True)\n"
     ]
    },
    {
     "name": "stdout",
     "output_type": "stream",
     "text": [
      "[CV 5/5] END ..........C=1, gamma=1, kernel=rbf;, score=0.272 total time=  11.9s\n"
     ]
    },
    {
     "name": "stderr",
     "output_type": "stream",
     "text": [
      "C:\\Users\\e19805\\Anaconda3\\lib\\site-packages\\sklearn\\utils\\validation.py:1111: DataConversionWarning: A column-vector y was passed when a 1d array was expected. Please change the shape of y to (n_samples, ), for example using ravel().\n",
      "  y = column_or_1d(y, warn=True)\n"
     ]
    },
    {
     "name": "stdout",
     "output_type": "stream",
     "text": [
      "[CV 1/5] END ........C=1, gamma=0.1, kernel=rbf;, score=0.272 total time=  11.1s\n"
     ]
    },
    {
     "name": "stderr",
     "output_type": "stream",
     "text": [
      "C:\\Users\\e19805\\Anaconda3\\lib\\site-packages\\sklearn\\utils\\validation.py:1111: DataConversionWarning: A column-vector y was passed when a 1d array was expected. Please change the shape of y to (n_samples, ), for example using ravel().\n",
      "  y = column_or_1d(y, warn=True)\n"
     ]
    },
    {
     "name": "stdout",
     "output_type": "stream",
     "text": [
      "[CV 2/5] END ........C=1, gamma=0.1, kernel=rbf;, score=0.272 total time=  12.4s\n"
     ]
    },
    {
     "name": "stderr",
     "output_type": "stream",
     "text": [
      "C:\\Users\\e19805\\Anaconda3\\lib\\site-packages\\sklearn\\utils\\validation.py:1111: DataConversionWarning: A column-vector y was passed when a 1d array was expected. Please change the shape of y to (n_samples, ), for example using ravel().\n",
      "  y = column_or_1d(y, warn=True)\n"
     ]
    },
    {
     "name": "stdout",
     "output_type": "stream",
     "text": [
      "[CV 3/5] END ........C=1, gamma=0.1, kernel=rbf;, score=0.272 total time=  12.4s\n"
     ]
    },
    {
     "name": "stderr",
     "output_type": "stream",
     "text": [
      "C:\\Users\\e19805\\Anaconda3\\lib\\site-packages\\sklearn\\utils\\validation.py:1111: DataConversionWarning: A column-vector y was passed when a 1d array was expected. Please change the shape of y to (n_samples, ), for example using ravel().\n",
      "  y = column_or_1d(y, warn=True)\n"
     ]
    },
    {
     "name": "stdout",
     "output_type": "stream",
     "text": [
      "[CV 4/5] END ........C=1, gamma=0.1, kernel=rbf;, score=0.272 total time=  13.2s\n"
     ]
    },
    {
     "name": "stderr",
     "output_type": "stream",
     "text": [
      "C:\\Users\\e19805\\Anaconda3\\lib\\site-packages\\sklearn\\utils\\validation.py:1111: DataConversionWarning: A column-vector y was passed when a 1d array was expected. Please change the shape of y to (n_samples, ), for example using ravel().\n",
      "  y = column_or_1d(y, warn=True)\n"
     ]
    },
    {
     "name": "stdout",
     "output_type": "stream",
     "text": [
      "[CV 5/5] END ........C=1, gamma=0.1, kernel=rbf;, score=0.272 total time=  10.2s\n"
     ]
    },
    {
     "name": "stderr",
     "output_type": "stream",
     "text": [
      "C:\\Users\\e19805\\Anaconda3\\lib\\site-packages\\sklearn\\utils\\validation.py:1111: DataConversionWarning: A column-vector y was passed when a 1d array was expected. Please change the shape of y to (n_samples, ), for example using ravel().\n",
      "  y = column_or_1d(y, warn=True)\n"
     ]
    },
    {
     "data": {
      "text/html": [
       "<style>#sk-container-id-4 {color: black;background-color: white;}#sk-container-id-4 pre{padding: 0;}#sk-container-id-4 div.sk-toggleable {background-color: white;}#sk-container-id-4 label.sk-toggleable__label {cursor: pointer;display: block;width: 100%;margin-bottom: 0;padding: 0.3em;box-sizing: border-box;text-align: center;}#sk-container-id-4 label.sk-toggleable__label-arrow:before {content: \"▸\";float: left;margin-right: 0.25em;color: #696969;}#sk-container-id-4 label.sk-toggleable__label-arrow:hover:before {color: black;}#sk-container-id-4 div.sk-estimator:hover label.sk-toggleable__label-arrow:before {color: black;}#sk-container-id-4 div.sk-toggleable__content {max-height: 0;max-width: 0;overflow: hidden;text-align: left;background-color: #f0f8ff;}#sk-container-id-4 div.sk-toggleable__content pre {margin: 0.2em;color: black;border-radius: 0.25em;background-color: #f0f8ff;}#sk-container-id-4 input.sk-toggleable__control:checked~div.sk-toggleable__content {max-height: 200px;max-width: 100%;overflow: auto;}#sk-container-id-4 input.sk-toggleable__control:checked~label.sk-toggleable__label-arrow:before {content: \"▾\";}#sk-container-id-4 div.sk-estimator input.sk-toggleable__control:checked~label.sk-toggleable__label {background-color: #d4ebff;}#sk-container-id-4 div.sk-label input.sk-toggleable__control:checked~label.sk-toggleable__label {background-color: #d4ebff;}#sk-container-id-4 input.sk-hidden--visually {border: 0;clip: rect(1px 1px 1px 1px);clip: rect(1px, 1px, 1px, 1px);height: 1px;margin: -1px;overflow: hidden;padding: 0;position: absolute;width: 1px;}#sk-container-id-4 div.sk-estimator {font-family: monospace;background-color: #f0f8ff;border: 1px dotted black;border-radius: 0.25em;box-sizing: border-box;margin-bottom: 0.5em;}#sk-container-id-4 div.sk-estimator:hover {background-color: #d4ebff;}#sk-container-id-4 div.sk-parallel-item::after {content: \"\";width: 100%;border-bottom: 1px solid gray;flex-grow: 1;}#sk-container-id-4 div.sk-label:hover label.sk-toggleable__label {background-color: #d4ebff;}#sk-container-id-4 div.sk-serial::before {content: \"\";position: absolute;border-left: 1px solid gray;box-sizing: border-box;top: 0;bottom: 0;left: 50%;z-index: 0;}#sk-container-id-4 div.sk-serial {display: flex;flex-direction: column;align-items: center;background-color: white;padding-right: 0.2em;padding-left: 0.2em;position: relative;}#sk-container-id-4 div.sk-item {position: relative;z-index: 1;}#sk-container-id-4 div.sk-parallel {display: flex;align-items: stretch;justify-content: center;background-color: white;position: relative;}#sk-container-id-4 div.sk-item::before, #sk-container-id-4 div.sk-parallel-item::before {content: \"\";position: absolute;border-left: 1px solid gray;box-sizing: border-box;top: 0;bottom: 0;left: 50%;z-index: -1;}#sk-container-id-4 div.sk-parallel-item {display: flex;flex-direction: column;z-index: 1;position: relative;background-color: white;}#sk-container-id-4 div.sk-parallel-item:first-child::after {align-self: flex-end;width: 50%;}#sk-container-id-4 div.sk-parallel-item:last-child::after {align-self: flex-start;width: 50%;}#sk-container-id-4 div.sk-parallel-item:only-child::after {width: 0;}#sk-container-id-4 div.sk-dashed-wrapped {border: 1px dashed gray;margin: 0 0.4em 0.5em 0.4em;box-sizing: border-box;padding-bottom: 0.4em;background-color: white;}#sk-container-id-4 div.sk-label label {font-family: monospace;font-weight: bold;display: inline-block;line-height: 1.2em;}#sk-container-id-4 div.sk-label-container {text-align: center;}#sk-container-id-4 div.sk-container {/* jupyter's `normalize.less` sets `[hidden] { display: none; }` but bootstrap.min.css set `[hidden] { display: none !important; }` so we also need the `!important` here to be able to override the default hidden behavior on the sphinx rendered scikit-learn.org. See: https://github.com/scikit-learn/scikit-learn/issues/21755 */display: inline-block !important;position: relative;}#sk-container-id-4 div.sk-text-repr-fallback {display: none;}</style><div id=\"sk-container-id-4\" class=\"sk-top-container\"><div class=\"sk-text-repr-fallback\"><pre>GridSearchCV(estimator=SVC(),\n",
       "             param_grid={&#x27;C&#x27;: [0.1, 1], &#x27;gamma&#x27;: [1, 0.1], &#x27;kernel&#x27;: [&#x27;rbf&#x27;]},\n",
       "             verbose=3)</pre><b>In a Jupyter environment, please rerun this cell to show the HTML representation or trust the notebook. <br />On GitHub, the HTML representation is unable to render, please try loading this page with nbviewer.org.</b></div><div class=\"sk-container\" hidden><div class=\"sk-item sk-dashed-wrapped\"><div class=\"sk-label-container\"><div class=\"sk-label sk-toggleable\"><input class=\"sk-toggleable__control sk-hidden--visually\" id=\"sk-estimator-id-4\" type=\"checkbox\" ><label for=\"sk-estimator-id-4\" class=\"sk-toggleable__label sk-toggleable__label-arrow\">GridSearchCV</label><div class=\"sk-toggleable__content\"><pre>GridSearchCV(estimator=SVC(),\n",
       "             param_grid={&#x27;C&#x27;: [0.1, 1], &#x27;gamma&#x27;: [1, 0.1], &#x27;kernel&#x27;: [&#x27;rbf&#x27;]},\n",
       "             verbose=3)</pre></div></div></div><div class=\"sk-parallel\"><div class=\"sk-parallel-item\"><div class=\"sk-item\"><div class=\"sk-label-container\"><div class=\"sk-label sk-toggleable\"><input class=\"sk-toggleable__control sk-hidden--visually\" id=\"sk-estimator-id-5\" type=\"checkbox\" ><label for=\"sk-estimator-id-5\" class=\"sk-toggleable__label sk-toggleable__label-arrow\">estimator: SVC</label><div class=\"sk-toggleable__content\"><pre>SVC()</pre></div></div></div><div class=\"sk-serial\"><div class=\"sk-item\"><div class=\"sk-estimator sk-toggleable\"><input class=\"sk-toggleable__control sk-hidden--visually\" id=\"sk-estimator-id-6\" type=\"checkbox\" ><label for=\"sk-estimator-id-6\" class=\"sk-toggleable__label sk-toggleable__label-arrow\">SVC</label><div class=\"sk-toggleable__content\"><pre>SVC()</pre></div></div></div></div></div></div></div></div></div></div>"
      ],
      "text/plain": [
       "GridSearchCV(estimator=SVC(),\n",
       "             param_grid={'C': [0.1, 1], 'gamma': [1, 0.1], 'kernel': ['rbf']},\n",
       "             verbose=3)"
      ]
     },
     "execution_count": 115,
     "metadata": {},
     "output_type": "execute_result"
    }
   ],
   "source": [
    "#Fitting the grid to our training set\n",
    "grid.fit(x4_train,y4_train)"
   ]
  },
  {
   "cell_type": "code",
   "execution_count": 117,
   "id": "9101ef53",
   "metadata": {},
   "outputs": [
    {
     "data": {
      "text/plain": [
       "{'C': 0.1, 'gamma': 1, 'kernel': 'rbf'}"
      ]
     },
     "execution_count": 117,
     "metadata": {},
     "output_type": "execute_result"
    }
   ],
   "source": [
    "#Finding best parameters and estimators\n",
    "grid.best_params_"
   ]
  },
  {
   "cell_type": "code",
   "execution_count": 118,
   "id": "e55c62df",
   "metadata": {},
   "outputs": [
    {
     "data": {
      "text/html": [
       "<style>#sk-container-id-5 {color: black;background-color: white;}#sk-container-id-5 pre{padding: 0;}#sk-container-id-5 div.sk-toggleable {background-color: white;}#sk-container-id-5 label.sk-toggleable__label {cursor: pointer;display: block;width: 100%;margin-bottom: 0;padding: 0.3em;box-sizing: border-box;text-align: center;}#sk-container-id-5 label.sk-toggleable__label-arrow:before {content: \"▸\";float: left;margin-right: 0.25em;color: #696969;}#sk-container-id-5 label.sk-toggleable__label-arrow:hover:before {color: black;}#sk-container-id-5 div.sk-estimator:hover label.sk-toggleable__label-arrow:before {color: black;}#sk-container-id-5 div.sk-toggleable__content {max-height: 0;max-width: 0;overflow: hidden;text-align: left;background-color: #f0f8ff;}#sk-container-id-5 div.sk-toggleable__content pre {margin: 0.2em;color: black;border-radius: 0.25em;background-color: #f0f8ff;}#sk-container-id-5 input.sk-toggleable__control:checked~div.sk-toggleable__content {max-height: 200px;max-width: 100%;overflow: auto;}#sk-container-id-5 input.sk-toggleable__control:checked~label.sk-toggleable__label-arrow:before {content: \"▾\";}#sk-container-id-5 div.sk-estimator input.sk-toggleable__control:checked~label.sk-toggleable__label {background-color: #d4ebff;}#sk-container-id-5 div.sk-label input.sk-toggleable__control:checked~label.sk-toggleable__label {background-color: #d4ebff;}#sk-container-id-5 input.sk-hidden--visually {border: 0;clip: rect(1px 1px 1px 1px);clip: rect(1px, 1px, 1px, 1px);height: 1px;margin: -1px;overflow: hidden;padding: 0;position: absolute;width: 1px;}#sk-container-id-5 div.sk-estimator {font-family: monospace;background-color: #f0f8ff;border: 1px dotted black;border-radius: 0.25em;box-sizing: border-box;margin-bottom: 0.5em;}#sk-container-id-5 div.sk-estimator:hover {background-color: #d4ebff;}#sk-container-id-5 div.sk-parallel-item::after {content: \"\";width: 100%;border-bottom: 1px solid gray;flex-grow: 1;}#sk-container-id-5 div.sk-label:hover label.sk-toggleable__label {background-color: #d4ebff;}#sk-container-id-5 div.sk-serial::before {content: \"\";position: absolute;border-left: 1px solid gray;box-sizing: border-box;top: 0;bottom: 0;left: 50%;z-index: 0;}#sk-container-id-5 div.sk-serial {display: flex;flex-direction: column;align-items: center;background-color: white;padding-right: 0.2em;padding-left: 0.2em;position: relative;}#sk-container-id-5 div.sk-item {position: relative;z-index: 1;}#sk-container-id-5 div.sk-parallel {display: flex;align-items: stretch;justify-content: center;background-color: white;position: relative;}#sk-container-id-5 div.sk-item::before, #sk-container-id-5 div.sk-parallel-item::before {content: \"\";position: absolute;border-left: 1px solid gray;box-sizing: border-box;top: 0;bottom: 0;left: 50%;z-index: -1;}#sk-container-id-5 div.sk-parallel-item {display: flex;flex-direction: column;z-index: 1;position: relative;background-color: white;}#sk-container-id-5 div.sk-parallel-item:first-child::after {align-self: flex-end;width: 50%;}#sk-container-id-5 div.sk-parallel-item:last-child::after {align-self: flex-start;width: 50%;}#sk-container-id-5 div.sk-parallel-item:only-child::after {width: 0;}#sk-container-id-5 div.sk-dashed-wrapped {border: 1px dashed gray;margin: 0 0.4em 0.5em 0.4em;box-sizing: border-box;padding-bottom: 0.4em;background-color: white;}#sk-container-id-5 div.sk-label label {font-family: monospace;font-weight: bold;display: inline-block;line-height: 1.2em;}#sk-container-id-5 div.sk-label-container {text-align: center;}#sk-container-id-5 div.sk-container {/* jupyter's `normalize.less` sets `[hidden] { display: none; }` but bootstrap.min.css set `[hidden] { display: none !important; }` so we also need the `!important` here to be able to override the default hidden behavior on the sphinx rendered scikit-learn.org. See: https://github.com/scikit-learn/scikit-learn/issues/21755 */display: inline-block !important;position: relative;}#sk-container-id-5 div.sk-text-repr-fallback {display: none;}</style><div id=\"sk-container-id-5\" class=\"sk-top-container\"><div class=\"sk-text-repr-fallback\"><pre>SVC(C=0.1, gamma=1)</pre><b>In a Jupyter environment, please rerun this cell to show the HTML representation or trust the notebook. <br />On GitHub, the HTML representation is unable to render, please try loading this page with nbviewer.org.</b></div><div class=\"sk-container\" hidden><div class=\"sk-item\"><div class=\"sk-estimator sk-toggleable\"><input class=\"sk-toggleable__control sk-hidden--visually\" id=\"sk-estimator-id-7\" type=\"checkbox\" checked><label for=\"sk-estimator-id-7\" class=\"sk-toggleable__label sk-toggleable__label-arrow\">SVC</label><div class=\"sk-toggleable__content\"><pre>SVC(C=0.1, gamma=1)</pre></div></div></div></div></div>"
      ],
      "text/plain": [
       "SVC(C=0.1, gamma=1)"
      ]
     },
     "execution_count": 118,
     "metadata": {},
     "output_type": "execute_result"
    }
   ],
   "source": [
    "grid.best_estimator_"
   ]
  },
  {
   "cell_type": "code",
   "execution_count": 119,
   "id": "2a87f8b6",
   "metadata": {},
   "outputs": [],
   "source": [
    "#Re-run predictions on this grid object \n",
    "grid_predictions = grid.predict(x4_test)"
   ]
  },
  {
   "cell_type": "code",
   "execution_count": 120,
   "id": "274527c7",
   "metadata": {},
   "outputs": [
    {
     "name": "stdout",
     "output_type": "stream",
     "text": [
      "Accuracy:  0.2768 \n",
      "\n",
      "              precision    recall  f1-score   support\n",
      "\n",
      "           1       0.28      1.00      0.43       692\n",
      "           2       0.00      0.00      0.00        11\n",
      "           3       0.00      0.00      0.00        24\n",
      "           4       0.00      0.00      0.00       499\n",
      "           5       0.00      0.00      0.00       390\n",
      "           6       0.00      0.00      0.00       339\n",
      "           7       0.00      0.00      0.00       369\n",
      "           8       0.00      0.00      0.00        86\n",
      "           9       0.00      0.00      0.00        90\n",
      "\n",
      "    accuracy                           0.28      2500\n",
      "   macro avg       0.03      0.11      0.05      2500\n",
      "weighted avg       0.08      0.28      0.12      2500\n",
      "\n"
     ]
    },
    {
     "name": "stderr",
     "output_type": "stream",
     "text": [
      "C:\\Users\\e19805\\Anaconda3\\lib\\site-packages\\sklearn\\metrics\\_classification.py:1334: UndefinedMetricWarning: Precision and F-score are ill-defined and being set to 0.0 in labels with no predicted samples. Use `zero_division` parameter to control this behavior.\n",
      "  _warn_prf(average, modifier, msg_start, len(result))\n",
      "C:\\Users\\e19805\\Anaconda3\\lib\\site-packages\\sklearn\\metrics\\_classification.py:1334: UndefinedMetricWarning: Precision and F-score are ill-defined and being set to 0.0 in labels with no predicted samples. Use `zero_division` parameter to control this behavior.\n",
      "  _warn_prf(average, modifier, msg_start, len(result))\n",
      "C:\\Users\\e19805\\Anaconda3\\lib\\site-packages\\sklearn\\metrics\\_classification.py:1334: UndefinedMetricWarning: Precision and F-score are ill-defined and being set to 0.0 in labels with no predicted samples. Use `zero_division` parameter to control this behavior.\n",
      "  _warn_prf(average, modifier, msg_start, len(result))\n"
     ]
    }
   ],
   "source": [
    "accuracy = accuracy_score(y4_test,grid_predictions)\n",
    "print('Accuracy: ',accuracy,'\\n')\n",
    "print(classification_report(y4_test,grid_predictions))"
   ]
  },
  {
   "cell_type": "code",
   "execution_count": 121,
   "id": "cc73cf61",
   "metadata": {},
   "outputs": [
    {
     "name": "stdout",
     "output_type": "stream",
     "text": [
      "Classes and number of values in trainset after SMOTE: label\n",
      "1        1901\n",
      "2        1901\n",
      "3        1901\n",
      "4        1901\n",
      "5        1901\n",
      "6        1901\n",
      "7        1901\n",
      "8        1901\n",
      "9        1901\n",
      "dtype: int64 \n",
      "\n"
     ]
    }
   ],
   "source": [
    "#SMOTE\n",
    "from imblearn.over_sampling import SMOTE\n",
    "oversample = SMOTE()\n",
    "x3_train, y3_train = oversample.fit_resample(x3_train, y3_train)\n",
    "print('Classes and number of values in trainset after SMOTE:',y3_train.value_counts(),'\\n')"
   ]
  },
  {
   "cell_type": "code",
   "execution_count": null,
   "id": "983599fe",
   "metadata": {},
   "outputs": [],
   "source": []
  }
 ],
 "metadata": {
  "kernelspec": {
   "display_name": "Python 3 (ipykernel)",
   "language": "python",
   "name": "python3"
  },
  "language_info": {
   "codemirror_mode": {
    "name": "ipython",
    "version": 3
   },
   "file_extension": ".py",
   "mimetype": "text/x-python",
   "name": "python",
   "nbconvert_exporter": "python",
   "pygments_lexer": "ipython3",
   "version": "3.9.12"
  }
 },
 "nbformat": 4,
 "nbformat_minor": 5
}
