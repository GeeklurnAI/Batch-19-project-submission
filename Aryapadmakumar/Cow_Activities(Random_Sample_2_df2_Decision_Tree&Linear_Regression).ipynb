{
  "nbformat": 4,
  "nbformat_minor": 0,
  "metadata": {
    "colab": {
      "provenance": [],
      "collapsed_sections": []
    },
    "kernelspec": {
      "name": "python3",
      "display_name": "Python 3"
    },
    "language_info": {
      "name": "python"
    }
  },
  "cells": [
    {
      "cell_type": "code",
      "execution_count": null,
      "metadata": {
        "id": "xGmtw5oYzrwQ"
      },
      "outputs": [],
      "source": [
        "#importing the common packages\n",
        "import pandas as pd\n",
        "import numpy as np\n",
        "import matplotlib as mpl\n",
        "import matplotlib.pyplot as plt\n",
        "%matplotlib inline\n",
        "import scipy.stats as stats\n",
        "import seaborn as sns\n",
        "import warnings\n",
        "warnings.filterwarnings('ignore')"
      ]
    },
    {
      "cell_type": "code",
      "source": [
        "#importing modeling packages\n",
        "from sklearn.linear_model import LinearRegression\n",
        "from sklearn.tree import DecisionTreeClassifier"
      ],
      "metadata": {
        "id": "LXGdqKcZz5k-"
      },
      "execution_count": null,
      "outputs": []
    },
    {
      "cell_type": "code",
      "source": [
        "#importing the model parameters or matrix\n",
        "from sklearn.metrics import accuracy_score\n",
        "from sklearn.metrics import precision_score\n",
        "from sklearn.metrics import recall_score\n",
        "from sklearn.metrics import f1_score\n"
      ],
      "metadata": {
        "id": "HSRR-Tf70Ji6"
      },
      "execution_count": null,
      "outputs": []
    },
    {
      "cell_type": "code",
      "source": [
        "from google.colab import drive\n",
        "drive.mount('/content/drive/',force_remount = True)"
      ],
      "metadata": {
        "colab": {
          "base_uri": "https://localhost:8080/"
        },
        "id": "LoRkalm-0OYx",
        "outputId": "11482531-0987-4a44-bc76-a614f64f350b"
      },
      "execution_count": null,
      "outputs": [
        {
          "output_type": "stream",
          "name": "stdout",
          "text": [
            "Mounted at /content/drive/\n"
          ]
        }
      ]
    },
    {
      "cell_type": "code",
      "source": [
        "#mounting the files from google drive to colab and renaming and reading them\n",
        "path1 = '/content/drive/MyDrive/DM Certifications and Documents/Cow Positions - Data Sets/E1_train.csv'\n",
        "path2 = '/content/drive/MyDrive/DM Certifications and Documents/Cow Positions - Data Sets/D2_train.csv'\n",
        "path3 = '/content/drive/MyDrive/DM Certifications and Documents/Cow Positions - Data Sets/W3_train.csv'\n",
        "path4 = '/content/drive/MyDrive/DM Certifications and Documents/Cow Positions - Data Sets/S4_train.csv'\n",
        "path5 = '/content/drive/MyDrive/DM Certifications and Documents/Cow Positions - Data Sets/L5_train.csv'\n",
        "path6 ='/content/drive/MyDrive/DM Certifications and Documents/Cow Positions - Data Sets/RS6_train.csv'\n",
        "path7 = '/content/drive/MyDrive/DM Certifications and Documents/Cow Positions - Data Sets/RL7_train.csv'\n",
        "path8 = '/content/drive/MyDrive/DM Certifications and Documents/Cow Positions - Data Sets/G8_train.csv'\n",
        "path9 = '/content/drive/MyDrive/DM Certifications and Documents/Cow Positions - Data Sets/I9_train.csv'\n",
        "eating = pd.read_csv(path1)\n",
        "drinking = pd.read_csv(path2)\n",
        "walking = pd.read_csv(path3)\n",
        "standing = pd.read_csv(path4)\n",
        "lying = pd.read_csv(path5)\n",
        "rs = pd.read_csv(path6)\n",
        "rl = pd.read_csv(path7)\n",
        "grooming = pd.read_csv(path8)\n",
        "idle = pd.read_csv(path9)"
      ],
      "metadata": {
        "id": "TEsp7g8Y0XOS"
      },
      "execution_count": null,
      "outputs": []
    },
    {
      "cell_type": "markdown",
      "source": [
        "#Data Exploration & Analysis"
      ],
      "metadata": {
        "id": "Jwu_s6xb02qN"
      }
    },
    {
      "cell_type": "code",
      "source": [
        "#concatinating all the dataframes into a single dataframe and checking the number of rows and columns in the final dataframe\n",
        "df = pd.concat([eating,drinking,walking,standing,lying,rs,rl,grooming,idle])\n",
        "df.shape"
      ],
      "metadata": {
        "colab": {
          "base_uri": "https://localhost:8080/"
        },
        "id": "DOy-g0QU04kq",
        "outputId": "d3a30e54-149c-4fa5-b925-fa96a108a466"
      },
      "execution_count": null,
      "outputs": [
        {
          "output_type": "execute_result",
          "data": {
            "text/plain": [
              "(12263524, 11)"
            ]
          },
          "metadata": {},
          "execution_count": 53
        }
      ]
    },
    {
      "cell_type": "markdown",
      "source": [
        "##Working with Sample df2"
      ],
      "metadata": {
        "id": "zmGFQXdl1Dr3"
      }
    },
    {
      "cell_type": "code",
      "source": [
        "#creating a dataframe 'df2' of 10000 records from the original dataframe df \n",
        "import random\n",
        "df2 = df.sample(20000)"
      ],
      "metadata": {
        "id": "iOBaQagr1E0-"
      },
      "execution_count": null,
      "outputs": []
    },
    {
      "cell_type": "code",
      "source": [
        "#checking for the proportion of each feature in df2 and comparing it for similarity in proportion of each feature in df using piechart, using the feature ' label'\n",
        "plt.pie(df['label'].value_counts(),autopct = '%1.1f%%');"
      ],
      "metadata": {
        "colab": {
          "base_uri": "https://localhost:8080/",
          "height": 248
        },
        "id": "ifuc78oH1JaM",
        "outputId": "321e113a-368d-475c-8f0a-1fe2706116fb"
      },
      "execution_count": null,
      "outputs": [
        {
          "output_type": "display_data",
          "data": {
            "text/plain": [
              "<Figure size 432x288 with 1 Axes>"
            ],
            "image/png": "[encoded data removed]"
          },
          "metadata": {}
        }
      ]
    },
    {
      "cell_type": "code",
      "source": [
        "plt.pie(df2['label'].value_counts(),autopct = '%1.1f%%');"
      ],
      "metadata": {
        "colab": {
          "base_uri": "https://localhost:8080/",
          "height": 248
        },
        "id": "XnkiviNv1WGs",
        "outputId": "76d5f496-e1c8-48d8-c485-04f8d5addcef"
      },
      "execution_count": null,
      "outputs": [
        {
          "output_type": "display_data",
          "data": {
            "text/plain": [
              "<Figure size 432x288 with 1 Axes>"
            ],
            "image/png": "[encoded data removed]"
          },
          "metadata": {}
        }
      ]
    },
    {
      "cell_type": "markdown",
      "source": [
        "**We find that the proportion of each feature in the new dataframe df2 is similar to that of the original dataframe df. Hence this sampling is good enough and we can select df1 to proceed with our model building exercise.**"
      ],
      "metadata": {
        "id": "ZF6Ozrc01jOW"
      }
    },
    {
      "cell_type": "markdown",
      "source": [
        "**Data Visualisation and Analysis**"
      ],
      "metadata": {
        "id": "ADcNgLlI1sSi"
      }
    },
    {
      "cell_type": "code",
      "source": [
        "#checking the shape of the dataframes df1\n",
        "df2.shape"
      ],
      "metadata": {
        "colab": {
          "base_uri": "https://localhost:8080/"
        },
        "id": "pwqXMvGe1lRu",
        "outputId": "128ce218-5d67-427b-dfef-b846f0fe0746"
      },
      "execution_count": null,
      "outputs": [
        {
          "output_type": "execute_result",
          "data": {
            "text/plain": [
              "(20000, 11)"
            ]
          },
          "metadata": {},
          "execution_count": 57
        }
      ]
    },
    {
      "cell_type": "code",
      "source": [
        "#checking the top 5 rows of the new dataframe df2\n",
        "df2.head()"
      ],
      "metadata": {
        "colab": {
          "base_uri": "https://localhost:8080/",
          "height": 206
        },
        "id": "loNWvpa91zG0",
        "outputId": "c6983780-c1e2-4ee5-d96a-3156fed1cb97"
      },
      "execution_count": null,
      "outputs": [
        {
          "output_type": "execute_result",
          "data": {
            "text/plain": [
              "               time     acc_x     acc_y     acc_z     gyr_x      gyr_y  \\\n",
              "1797710  1628319099  0.015625  0.977051 -0.025391 -9.643555  -8.972168   \n",
              "2458835  1628316951 -0.184082  0.991699  0.100098 -8.117676 -13.977051   \n",
              "1409861  1628307592 -0.098144  0.974121  0.151367  0.549316  -1.403809   \n",
              "2392570  1628335182  0.201172  1.004395 -0.003418  0.549316 -11.718750   \n",
              "3026233  1628311322 -0.187012  0.975098 -0.076660  7.873535  -5.493164   \n",
              "\n",
              "            gyr_z  mag_x   mag_y  mag_z  label  \n",
              "1797710  7.629395 -429.0  1011.0  373.5      7  \n",
              "2458835  4.272461 -132.0   115.5  262.5      1  \n",
              "1409861 -1.586914 -505.5   174.0  133.5      6  \n",
              "2392570 -0.183106 -507.0  1078.5  489.0      4  \n",
              "3026233 -1.159668 -300.0   973.5  562.5      1  "
            ],
            "text/html": [
              "\n",
              "  <div id=\"df-b2847057-316e-469f-a547-21a910383409\">\n",
              "    <div class=\"colab-df-container\">\n",
              "      <div>\n",
              "<style scoped>\n",
              "    .dataframe tbody tr th:only-of-type {\n",
              "        vertical-align: middle;\n",
              "    }\n",
              "\n",
              "    .dataframe tbody tr th {\n",
              "        vertical-align: top;\n",
              "    }\n",
              "\n",
              "    .dataframe thead th {\n",
              "        text-align: right;\n",
              "    }\n",
              "</style>\n",
              "<table border=\"1\" class=\"dataframe\">\n",
              "  <thead>\n",
              "    <tr style=\"text-align: right;\">\n",
              "      <th></th>\n",
              "      <th>time</th>\n",
              "      <th>acc_x</th>\n",
              "      <th>acc_y</th>\n",
              "      <th>acc_z</th>\n",
              "      <th>gyr_x</th>\n",
              "      <th>gyr_y</th>\n",
              "      <th>gyr_z</th>\n",
              "      <th>mag_x</th>\n",
              "      <th>mag_y</th>\n",
              "      <th>mag_z</th>\n",
              "      <th>label</th>\n",
              "    </tr>\n",
              "  </thead>\n",
              "  <tbody>\n",
              "    <tr>\n",
              "      <th>1797710</th>\n",
              "      <td>1628319099</td>\n",
              "      <td>0.015625</td>\n",
              "      <td>0.977051</td>\n",
              "      <td>-0.025391</td>\n",
              "      <td>-9.643555</td>\n",
              "      <td>-8.972168</td>\n",
              "      <td>7.629395</td>\n",
              "      <td>-429.0</td>\n",
              "      <td>1011.0</td>\n",
              "      <td>373.5</td>\n",
              "      <td>7</td>\n",
              "    </tr>\n",
              "    <tr>\n",
              "      <th>2458835</th>\n",
              "      <td>1628316951</td>\n",
              "      <td>-0.184082</td>\n",
              "      <td>0.991699</td>\n",
              "      <td>0.100098</td>\n",
              "      <td>-8.117676</td>\n",
              "      <td>-13.977051</td>\n",
              "      <td>4.272461</td>\n",
              "      <td>-132.0</td>\n",
              "      <td>115.5</td>\n",
              "      <td>262.5</td>\n",
              "      <td>1</td>\n",
              "    </tr>\n",
              "    <tr>\n",
              "      <th>1409861</th>\n",
              "      <td>1628307592</td>\n",
              "      <td>-0.098144</td>\n",
              "      <td>0.974121</td>\n",
              "      <td>0.151367</td>\n",
              "      <td>0.549316</td>\n",
              "      <td>-1.403809</td>\n",
              "      <td>-1.586914</td>\n",
              "      <td>-505.5</td>\n",
              "      <td>174.0</td>\n",
              "      <td>133.5</td>\n",
              "      <td>6</td>\n",
              "    </tr>\n",
              "    <tr>\n",
              "      <th>2392570</th>\n",
              "      <td>1628335182</td>\n",
              "      <td>0.201172</td>\n",
              "      <td>1.004395</td>\n",
              "      <td>-0.003418</td>\n",
              "      <td>0.549316</td>\n",
              "      <td>-11.718750</td>\n",
              "      <td>-0.183106</td>\n",
              "      <td>-507.0</td>\n",
              "      <td>1078.5</td>\n",
              "      <td>489.0</td>\n",
              "      <td>4</td>\n",
              "    </tr>\n",
              "    <tr>\n",
              "      <th>3026233</th>\n",
              "      <td>1628311322</td>\n",
              "      <td>-0.187012</td>\n",
              "      <td>0.975098</td>\n",
              "      <td>-0.076660</td>\n",
              "      <td>7.873535</td>\n",
              "      <td>-5.493164</td>\n",
              "      <td>-1.159668</td>\n",
              "      <td>-300.0</td>\n",
              "      <td>973.5</td>\n",
              "      <td>562.5</td>\n",
              "      <td>1</td>\n",
              "    </tr>\n",
              "  </tbody>\n",
              "</table>\n",
              "</div>\n",
              "      <button class=\"colab-df-convert\" onclick=\"convertToInteractive('df-b2847057-316e-469f-a547-21a910383409')\"\n",
              "              title=\"Convert this dataframe to an interactive table.\"\n",
              "              style=\"display:none;\">\n",
              "        \n",
              "  <svg xmlns=\"http://www.w3.org/2000/svg\" height=\"24px\"viewBox=\"0 0 24 24\"\n",
              "       width=\"24px\">\n",
              "    <path d=\"M0 0h24v24H0V0z\" fill=\"none\"/>\n",
              "    <path d=\"M18.56 5.44l.94 2.06.94-2.06 2.06-.94-2.06-.94-.94-2.06-.94 2.06-2.06.94zm-11 1L8.5 8.5l.94-2.06 2.06-.94-2.06-.94L8.5 2.5l-.94 2.06-2.06.94zm10 10l.94 2.06.94-2.06 2.06-.94-2.06-.94-.94-2.06-.94 2.06-2.06.94z\"/><path d=\"M17.41 7.96l-1.37-1.37c-.4-.4-.92-.59-1.43-.59-.52 0-1.04.2-1.43.59L10.3 9.45l-7.72 7.72c-.78.78-.78 2.05 0 2.83L4 21.41c.39.39.9.59 1.41.59.51 0 1.02-.2 1.41-.59l7.78-7.78 2.81-2.81c.8-.78.8-2.07 0-2.86zM5.41 20L4 18.59l7.72-7.72 1.47 1.35L5.41 20z\"/>\n",
              "  </svg>\n",
              "      </button>\n",
              "      \n",
              "  <style>\n",
              "    .colab-df-container {\n",
              "      display:flex;\n",
              "      flex-wrap:wrap;\n",
              "      gap: 12px;\n",
              "    }\n",
              "\n",
              "    .colab-df-convert {\n",
              "      background-color: #E8F0FE;\n",
              "      border: none;\n",
              "      border-radius: 50%;\n",
              "      cursor: pointer;\n",
              "      display: none;\n",
              "      fill: #1967D2;\n",
              "      height: 32px;\n",
              "      padding: 0 0 0 0;\n",
              "      width: 32px;\n",
              "    }\n",
              "\n",
              "    .colab-df-convert:hover {\n",
              "      background-color: #E2EBFA;\n",
              "      box-shadow: 0px 1px 2px rgba(60, 64, 67, 0.3), 0px 1px 3px 1px rgba(60, 64, 67, 0.15);\n",
              "      fill: #174EA6;\n",
              "    }\n",
              "\n",
              "    [theme=dark] .colab-df-convert {\n",
              "      background-color: #3B4455;\n",
              "      fill: #D2E3FC;\n",
              "    }\n",
              "\n",
              "    [theme=dark] .colab-df-convert:hover {\n",
              "      background-color: #434B5C;\n",
              "      box-shadow: 0px 1px 3px 1px rgba(0, 0, 0, 0.15);\n",
              "      filter: drop-shadow(0px 1px 2px rgba(0, 0, 0, 0.3));\n",
              "      fill: #FFFFFF;\n",
              "    }\n",
              "  </style>\n",
              "\n",
              "      <script>\n",
              "        const buttonEl =\n",
              "          document.querySelector('#df-b2847057-316e-469f-a547-21a910383409 button.colab-df-convert');\n",
              "        buttonEl.style.display =\n",
              "          google.colab.kernel.accessAllowed ? 'block' : 'none';\n",
              "\n",
              "        async function convertToInteractive(key) {\n",
              "          const element = document.querySelector('#df-b2847057-316e-469f-a547-21a910383409');\n",
              "          const dataTable =\n",
              "            await google.colab.kernel.invokeFunction('convertToInteractive',\n",
              "                                                     [key], {});\n",
              "          if (!dataTable) return;\n",
              "\n",
              "          const docLinkHtml = 'Like what you see? Visit the ' +\n",
              "            '<a target=\"_blank\" href=https://colab.research.google.com/notebooks/data_table.ipynb>data table notebook</a>'\n",
              "            + ' to learn more about interactive tables.';\n",
              "          element.innerHTML = '';\n",
              "          dataTable['output_type'] = 'display_data';\n",
              "          await google.colab.output.renderOutput(dataTable, element);\n",
              "          const docLink = document.createElement('div');\n",
              "          docLink.innerHTML = docLinkHtml;\n",
              "          element.appendChild(docLink);\n",
              "        }\n",
              "      </script>\n",
              "    </div>\n",
              "  </div>\n",
              "  "
            ]
          },
          "metadata": {},
          "execution_count": 58
        }
      ]
    },
    {
      "cell_type": "code",
      "source": [
        "#checking the bottom 5 rows of the new dataframe df2\n",
        "df2.tail()"
      ],
      "metadata": {
        "colab": {
          "base_uri": "https://localhost:8080/",
          "height": 206
        },
        "id": "F9nXD3YF15Io",
        "outputId": "2f884a38-b707-48b5-f91f-5c7d6aa0edb4"
      },
      "execution_count": null,
      "outputs": [
        {
          "output_type": "execute_result",
          "data": {
            "text/plain": [
              "               time     acc_x     acc_y     acc_z      gyr_x       gyr_y  \\\n",
              "1886165  1628319267 -0.247070  0.988770  0.037109 -33.935547  132.446289   \n",
              "1227957  1628315169 -0.229492  0.954102  0.055664  -2.014160    0.000000   \n",
              "830666   1628100529  0.096680  0.981445  0.128906  -0.061035   -2.502441   \n",
              "1021741  1628096732  0.162109  1.005859  0.100098  -5.249023    8.117676   \n",
              "217087   1628339062 -0.171387  0.964844  0.176758  -1.525879    1.647949   \n",
              "\n",
              "             gyr_z  mag_x   mag_y  mag_z  label  \n",
              "1886165  17.028809 -507.0   193.5  211.5      4  \n",
              "1227957   0.366211  -69.0  -126.0  336.0      4  \n",
              "830666    0.122070 -516.0   103.5   51.0      5  \n",
              "1021741  -0.183106 -564.0   127.5   88.5      7  \n",
              "217087    0.366211 -466.5  1431.0  562.5      4  "
            ],
            "text/html": [
              "\n",
              "  <div id=\"df-7e8e9d76-876f-4ecd-8c2b-c99c7b58dfcb\">\n",
              "    <div class=\"colab-df-container\">\n",
              "      <div>\n",
              "<style scoped>\n",
              "    .dataframe tbody tr th:only-of-type {\n",
              "        vertical-align: middle;\n",
              "    }\n",
              "\n",
              "    .dataframe tbody tr th {\n",
              "        vertical-align: top;\n",
              "    }\n",
              "\n",
              "    .dataframe thead th {\n",
              "        text-align: right;\n",
              "    }\n",
              "</style>\n",
              "<table border=\"1\" class=\"dataframe\">\n",
              "  <thead>\n",
              "    <tr style=\"text-align: right;\">\n",
              "      <th></th>\n",
              "      <th>time</th>\n",
              "      <th>acc_x</th>\n",
              "      <th>acc_y</th>\n",
              "      <th>acc_z</th>\n",
              "      <th>gyr_x</th>\n",
              "      <th>gyr_y</th>\n",
              "      <th>gyr_z</th>\n",
              "      <th>mag_x</th>\n",
              "      <th>mag_y</th>\n",
              "      <th>mag_z</th>\n",
              "      <th>label</th>\n",
              "    </tr>\n",
              "  </thead>\n",
              "  <tbody>\n",
              "    <tr>\n",
              "      <th>1886165</th>\n",
              "      <td>1628319267</td>\n",
              "      <td>-0.247070</td>\n",
              "      <td>0.988770</td>\n",
              "      <td>0.037109</td>\n",
              "      <td>-33.935547</td>\n",
              "      <td>132.446289</td>\n",
              "      <td>17.028809</td>\n",
              "      <td>-507.0</td>\n",
              "      <td>193.5</td>\n",
              "      <td>211.5</td>\n",
              "      <td>4</td>\n",
              "    </tr>\n",
              "    <tr>\n",
              "      <th>1227957</th>\n",
              "      <td>1628315169</td>\n",
              "      <td>-0.229492</td>\n",
              "      <td>0.954102</td>\n",
              "      <td>0.055664</td>\n",
              "      <td>-2.014160</td>\n",
              "      <td>0.000000</td>\n",
              "      <td>0.366211</td>\n",
              "      <td>-69.0</td>\n",
              "      <td>-126.0</td>\n",
              "      <td>336.0</td>\n",
              "      <td>4</td>\n",
              "    </tr>\n",
              "    <tr>\n",
              "      <th>830666</th>\n",
              "      <td>1628100529</td>\n",
              "      <td>0.096680</td>\n",
              "      <td>0.981445</td>\n",
              "      <td>0.128906</td>\n",
              "      <td>-0.061035</td>\n",
              "      <td>-2.502441</td>\n",
              "      <td>0.122070</td>\n",
              "      <td>-516.0</td>\n",
              "      <td>103.5</td>\n",
              "      <td>51.0</td>\n",
              "      <td>5</td>\n",
              "    </tr>\n",
              "    <tr>\n",
              "      <th>1021741</th>\n",
              "      <td>1628096732</td>\n",
              "      <td>0.162109</td>\n",
              "      <td>1.005859</td>\n",
              "      <td>0.100098</td>\n",
              "      <td>-5.249023</td>\n",
              "      <td>8.117676</td>\n",
              "      <td>-0.183106</td>\n",
              "      <td>-564.0</td>\n",
              "      <td>127.5</td>\n",
              "      <td>88.5</td>\n",
              "      <td>7</td>\n",
              "    </tr>\n",
              "    <tr>\n",
              "      <th>217087</th>\n",
              "      <td>1628339062</td>\n",
              "      <td>-0.171387</td>\n",
              "      <td>0.964844</td>\n",
              "      <td>0.176758</td>\n",
              "      <td>-1.525879</td>\n",
              "      <td>1.647949</td>\n",
              "      <td>0.366211</td>\n",
              "      <td>-466.5</td>\n",
              "      <td>1431.0</td>\n",
              "      <td>562.5</td>\n",
              "      <td>4</td>\n",
              "    </tr>\n",
              "  </tbody>\n",
              "</table>\n",
              "</div>\n",
              "      <button class=\"colab-df-convert\" onclick=\"convertToInteractive('df-7e8e9d76-876f-4ecd-8c2b-c99c7b58dfcb')\"\n",
              "              title=\"Convert this dataframe to an interactive table.\"\n",
              "              style=\"display:none;\">\n",
              "        \n",
              "  <svg xmlns=\"http://www.w3.org/2000/svg\" height=\"24px\"viewBox=\"0 0 24 24\"\n",
              "       width=\"24px\">\n",
              "    <path d=\"M0 0h24v24H0V0z\" fill=\"none\"/>\n",
              "    <path d=\"M18.56 5.44l.94 2.06.94-2.06 2.06-.94-2.06-.94-.94-2.06-.94 2.06-2.06.94zm-11 1L8.5 8.5l.94-2.06 2.06-.94-2.06-.94L8.5 2.5l-.94 2.06-2.06.94zm10 10l.94 2.06.94-2.06 2.06-.94-2.06-.94-.94-2.06-.94 2.06-2.06.94z\"/><path d=\"M17.41 7.96l-1.37-1.37c-.4-.4-.92-.59-1.43-.59-.52 0-1.04.2-1.43.59L10.3 9.45l-7.72 7.72c-.78.78-.78 2.05 0 2.83L4 21.41c.39.39.9.59 1.41.59.51 0 1.02-.2 1.41-.59l7.78-7.78 2.81-2.81c.8-.78.8-2.07 0-2.86zM5.41 20L4 18.59l7.72-7.72 1.47 1.35L5.41 20z\"/>\n",
              "  </svg>\n",
              "      </button>\n",
              "      \n",
              "  <style>\n",
              "    .colab-df-container {\n",
              "      display:flex;\n",
              "      flex-wrap:wrap;\n",
              "      gap: 12px;\n",
              "    }\n",
              "\n",
              "    .colab-df-convert {\n",
              "      background-color: #E8F0FE;\n",
              "      border: none;\n",
              "      border-radius: 50%;\n",
              "      cursor: pointer;\n",
              "      display: none;\n",
              "      fill: #1967D2;\n",
              "      height: 32px;\n",
              "      padding: 0 0 0 0;\n",
              "      width: 32px;\n",
              "    }\n",
              "\n",
              "    .colab-df-convert:hover {\n",
              "      background-color: #E2EBFA;\n",
              "      box-shadow: 0px 1px 2px rgba(60, 64, 67, 0.3), 0px 1px 3px 1px rgba(60, 64, 67, 0.15);\n",
              "      fill: #174EA6;\n",
              "    }\n",
              "\n",
              "    [theme=dark] .colab-df-convert {\n",
              "      background-color: #3B4455;\n",
              "      fill: #D2E3FC;\n",
              "    }\n",
              "\n",
              "    [theme=dark] .colab-df-convert:hover {\n",
              "      background-color: #434B5C;\n",
              "      box-shadow: 0px 1px 3px 1px rgba(0, 0, 0, 0.15);\n",
              "      filter: drop-shadow(0px 1px 2px rgba(0, 0, 0, 0.3));\n",
              "      fill: #FFFFFF;\n",
              "    }\n",
              "  </style>\n",
              "\n",
              "      <script>\n",
              "        const buttonEl =\n",
              "          document.querySelector('#df-7e8e9d76-876f-4ecd-8c2b-c99c7b58dfcb button.colab-df-convert');\n",
              "        buttonEl.style.display =\n",
              "          google.colab.kernel.accessAllowed ? 'block' : 'none';\n",
              "\n",
              "        async function convertToInteractive(key) {\n",
              "          const element = document.querySelector('#df-7e8e9d76-876f-4ecd-8c2b-c99c7b58dfcb');\n",
              "          const dataTable =\n",
              "            await google.colab.kernel.invokeFunction('convertToInteractive',\n",
              "                                                     [key], {});\n",
              "          if (!dataTable) return;\n",
              "\n",
              "          const docLinkHtml = 'Like what you see? Visit the ' +\n",
              "            '<a target=\"_blank\" href=https://colab.research.google.com/notebooks/data_table.ipynb>data table notebook</a>'\n",
              "            + ' to learn more about interactive tables.';\n",
              "          element.innerHTML = '';\n",
              "          dataTable['output_type'] = 'display_data';\n",
              "          await google.colab.output.renderOutput(dataTable, element);\n",
              "          const docLink = document.createElement('div');\n",
              "          docLink.innerHTML = docLinkHtml;\n",
              "          element.appendChild(docLink);\n",
              "        }\n",
              "      </script>\n",
              "    </div>\n",
              "  </div>\n",
              "  "
            ]
          },
          "metadata": {},
          "execution_count": 59
        }
      ]
    },
    {
      "cell_type": "code",
      "source": [
        "#checking the type of data under each feature of the dataframe df2\n",
        "df2.info()"
      ],
      "metadata": {
        "colab": {
          "base_uri": "https://localhost:8080/"
        },
        "id": "g8J52yp42Fbn",
        "outputId": "bc7800d0-ee4f-45fb-98e1-e9076be1f59a"
      },
      "execution_count": null,
      "outputs": [
        {
          "output_type": "stream",
          "name": "stdout",
          "text": [
            "<class 'pandas.core.frame.DataFrame'>\n",
            "Int64Index: 20000 entries, 1797710 to 217087\n",
            "Data columns (total 11 columns):\n",
            " #   Column  Non-Null Count  Dtype  \n",
            "---  ------  --------------  -----  \n",
            " 0   time    20000 non-null  int64  \n",
            " 1   acc_x   20000 non-null  float64\n",
            " 2   acc_y   20000 non-null  float64\n",
            " 3   acc_z   20000 non-null  float64\n",
            " 4   gyr_x   20000 non-null  float64\n",
            " 5   gyr_y   20000 non-null  float64\n",
            " 6   gyr_z   20000 non-null  float64\n",
            " 7   mag_x   20000 non-null  float64\n",
            " 8   mag_y   20000 non-null  float64\n",
            " 9   mag_z   20000 non-null  float64\n",
            " 10  label   20000 non-null  int64  \n",
            "dtypes: float64(9), int64(2)\n",
            "memory usage: 1.8 MB\n"
          ]
        }
      ]
    },
    {
      "cell_type": "code",
      "source": [
        "#checking for any null values under each feature of the dataframe df2\n",
        "df2.isnull().sum()"
      ],
      "metadata": {
        "colab": {
          "base_uri": "https://localhost:8080/"
        },
        "id": "7A9XUY1r2QEi",
        "outputId": "0ee228c6-4e27-4eb6-da6a-1ce2b8c53068"
      },
      "execution_count": null,
      "outputs": [
        {
          "output_type": "execute_result",
          "data": {
            "text/plain": [
              "time     0\n",
              "acc_x    0\n",
              "acc_y    0\n",
              "acc_z    0\n",
              "gyr_x    0\n",
              "gyr_y    0\n",
              "gyr_z    0\n",
              "mag_x    0\n",
              "mag_y    0\n",
              "mag_z    0\n",
              "label    0\n",
              "dtype: int64"
            ]
          },
          "metadata": {},
          "execution_count": 61
        }
      ]
    },
    {
      "cell_type": "markdown",
      "source": [
        "**We find that there are no missing values**"
      ],
      "metadata": {
        "id": "hVuoOGRS2Zey"
      }
    },
    {
      "cell_type": "code",
      "source": [
        "#checking for the statistial parameters of the values under each feature of the dataframe df2\n",
        "df2.describe()"
      ],
      "metadata": {
        "colab": {
          "base_uri": "https://localhost:8080/",
          "height": 364
        },
        "id": "AgSiX6bJ2cNn",
        "outputId": "6a6e756e-6ac3-49f2-e1e9-6c5e216e530d"
      },
      "execution_count": null,
      "outputs": [
        {
          "output_type": "execute_result",
          "data": {
            "text/plain": [
              "               time         acc_x         acc_y         acc_z         gyr_x  \\\n",
              "count  2.000000e+04  20000.000000  20000.000000  20000.000000  20000.000000   \n",
              "mean   1.628242e+09     -0.026735      0.620342      0.107923      1.010214   \n",
              "std    1.207363e+05      0.261773      0.708751      0.186557     12.188202   \n",
              "min    1.628067e+09     -1.776367     -2.563965     -3.474609   -249.206543   \n",
              "25%    1.628104e+09     -0.217285      0.827637      0.029785     -2.014160   \n",
              "50%    1.628312e+09     -0.022949      0.936523      0.121826      0.854492   \n",
              "75%    1.628335e+09      0.166016      0.973633      0.199707      3.723145   \n",
              "max    1.628421e+09      1.118164      2.763184      1.631348    550.231934   \n",
              "\n",
              "              gyr_y         gyr_z         mag_x         mag_y         mag_z  \\\n",
              "count  20000.000000  20000.000000  20000.000000  20000.000000  20000.000000   \n",
              "mean      -1.737314     -0.588651   -294.455400    426.861300    201.191025   \n",
              "std       20.436224      9.563774    273.767253    596.554232    438.555884   \n",
              "min     -481.201172   -164.306641  -1215.000000   -985.500000   -883.500000   \n",
              "25%       -5.676270     -2.563477   -466.500000    -49.500000     60.000000   \n",
              "50%       -1.892090     -0.549316   -256.500000    139.500000    311.250000   \n",
              "75%        1.953125      1.464844   -127.500000    976.500000    552.000000   \n",
              "max      518.493652    166.137695    564.000000   1611.000000   1045.500000   \n",
              "\n",
              "              label  \n",
              "count  20000.000000  \n",
              "mean       4.327600  \n",
              "std        2.416706  \n",
              "min        1.000000  \n",
              "25%        1.000000  \n",
              "50%        5.000000  \n",
              "75%        6.000000  \n",
              "max        9.000000  "
            ],
            "text/html": [
              "\n",
              "  <div id=\"df-a5b8b3c9-23a7-42c8-86f6-028e74db1600\">\n",
              "    <div class=\"colab-df-container\">\n",
              "      <div>\n",
              "<style scoped>\n",
              "    .dataframe tbody tr th:only-of-type {\n",
              "        vertical-align: middle;\n",
              "    }\n",
              "\n",
              "    .dataframe tbody tr th {\n",
              "        vertical-align: top;\n",
              "    }\n",
              "\n",
              "    .dataframe thead th {\n",
              "        text-align: right;\n",
              "    }\n",
              "</style>\n",
              "<table border=\"1\" class=\"dataframe\">\n",
              "  <thead>\n",
              "    <tr style=\"text-align: right;\">\n",
              "      <th></th>\n",
              "      <th>time</th>\n",
              "      <th>acc_x</th>\n",
              "      <th>acc_y</th>\n",
              "      <th>acc_z</th>\n",
              "      <th>gyr_x</th>\n",
              "      <th>gyr_y</th>\n",
              "      <th>gyr_z</th>\n",
              "      <th>mag_x</th>\n",
              "      <th>mag_y</th>\n",
              "      <th>mag_z</th>\n",
              "      <th>label</th>\n",
              "    </tr>\n",
              "  </thead>\n",
              "  <tbody>\n",
              "    <tr>\n",
              "      <th>count</th>\n",
              "      <td>2.000000e+04</td>\n",
              "      <td>20000.000000</td>\n",
              "      <td>20000.000000</td>\n",
              "      <td>20000.000000</td>\n",
              "      <td>20000.000000</td>\n",
              "      <td>20000.000000</td>\n",
              "      <td>20000.000000</td>\n",
              "      <td>20000.000000</td>\n",
              "      <td>20000.000000</td>\n",
              "      <td>20000.000000</td>\n",
              "      <td>20000.000000</td>\n",
              "    </tr>\n",
              "    <tr>\n",
              "      <th>mean</th>\n",
              "      <td>1.628242e+09</td>\n",
              "      <td>-0.026735</td>\n",
              "      <td>0.620342</td>\n",
              "      <td>0.107923</td>\n",
              "      <td>1.010214</td>\n",
              "      <td>-1.737314</td>\n",
              "      <td>-0.588651</td>\n",
              "      <td>-294.455400</td>\n",
              "      <td>426.861300</td>\n",
              "      <td>201.191025</td>\n",
              "      <td>4.327600</td>\n",
              "    </tr>\n",
              "    <tr>\n",
              "      <th>std</th>\n",
              "      <td>1.207363e+05</td>\n",
              "      <td>0.261773</td>\n",
              "      <td>0.708751</td>\n",
              "      <td>0.186557</td>\n",
              "      <td>12.188202</td>\n",
              "      <td>20.436224</td>\n",
              "      <td>9.563774</td>\n",
              "      <td>273.767253</td>\n",
              "      <td>596.554232</td>\n",
              "      <td>438.555884</td>\n",
              "      <td>2.416706</td>\n",
              "    </tr>\n",
              "    <tr>\n",
              "      <th>min</th>\n",
              "      <td>1.628067e+09</td>\n",
              "      <td>-1.776367</td>\n",
              "      <td>-2.563965</td>\n",
              "      <td>-3.474609</td>\n",
              "      <td>-249.206543</td>\n",
              "      <td>-481.201172</td>\n",
              "      <td>-164.306641</td>\n",
              "      <td>-1215.000000</td>\n",
              "      <td>-985.500000</td>\n",
              "      <td>-883.500000</td>\n",
              "      <td>1.000000</td>\n",
              "    </tr>\n",
              "    <tr>\n",
              "      <th>25%</th>\n",
              "      <td>1.628104e+09</td>\n",
              "      <td>-0.217285</td>\n",
              "      <td>0.827637</td>\n",
              "      <td>0.029785</td>\n",
              "      <td>-2.014160</td>\n",
              "      <td>-5.676270</td>\n",
              "      <td>-2.563477</td>\n",
              "      <td>-466.500000</td>\n",
              "      <td>-49.500000</td>\n",
              "      <td>60.000000</td>\n",
              "      <td>1.000000</td>\n",
              "    </tr>\n",
              "    <tr>\n",
              "      <th>50%</th>\n",
              "      <td>1.628312e+09</td>\n",
              "      <td>-0.022949</td>\n",
              "      <td>0.936523</td>\n",
              "      <td>0.121826</td>\n",
              "      <td>0.854492</td>\n",
              "      <td>-1.892090</td>\n",
              "      <td>-0.549316</td>\n",
              "      <td>-256.500000</td>\n",
              "      <td>139.500000</td>\n",
              "      <td>311.250000</td>\n",
              "      <td>5.000000</td>\n",
              "    </tr>\n",
              "    <tr>\n",
              "      <th>75%</th>\n",
              "      <td>1.628335e+09</td>\n",
              "      <td>0.166016</td>\n",
              "      <td>0.973633</td>\n",
              "      <td>0.199707</td>\n",
              "      <td>3.723145</td>\n",
              "      <td>1.953125</td>\n",
              "      <td>1.464844</td>\n",
              "      <td>-127.500000</td>\n",
              "      <td>976.500000</td>\n",
              "      <td>552.000000</td>\n",
              "      <td>6.000000</td>\n",
              "    </tr>\n",
              "    <tr>\n",
              "      <th>max</th>\n",
              "      <td>1.628421e+09</td>\n",
              "      <td>1.118164</td>\n",
              "      <td>2.763184</td>\n",
              "      <td>1.631348</td>\n",
              "      <td>550.231934</td>\n",
              "      <td>518.493652</td>\n",
              "      <td>166.137695</td>\n",
              "      <td>564.000000</td>\n",
              "      <td>1611.000000</td>\n",
              "      <td>1045.500000</td>\n",
              "      <td>9.000000</td>\n",
              "    </tr>\n",
              "  </tbody>\n",
              "</table>\n",
              "</div>\n",
              "      <button class=\"colab-df-convert\" onclick=\"convertToInteractive('df-a5b8b3c9-23a7-42c8-86f6-028e74db1600')\"\n",
              "              title=\"Convert this dataframe to an interactive table.\"\n",
              "              style=\"display:none;\">\n",
              "        \n",
              "  <svg xmlns=\"http://www.w3.org/2000/svg\" height=\"24px\"viewBox=\"0 0 24 24\"\n",
              "       width=\"24px\">\n",
              "    <path d=\"M0 0h24v24H0V0z\" fill=\"none\"/>\n",
              "    <path d=\"M18.56 5.44l.94 2.06.94-2.06 2.06-.94-2.06-.94-.94-2.06-.94 2.06-2.06.94zm-11 1L8.5 8.5l.94-2.06 2.06-.94-2.06-.94L8.5 2.5l-.94 2.06-2.06.94zm10 10l.94 2.06.94-2.06 2.06-.94-2.06-.94-.94-2.06-.94 2.06-2.06.94z\"/><path d=\"M17.41 7.96l-1.37-1.37c-.4-.4-.92-.59-1.43-.59-.52 0-1.04.2-1.43.59L10.3 9.45l-7.72 7.72c-.78.78-.78 2.05 0 2.83L4 21.41c.39.39.9.59 1.41.59.51 0 1.02-.2 1.41-.59l7.78-7.78 2.81-2.81c.8-.78.8-2.07 0-2.86zM5.41 20L4 18.59l7.72-7.72 1.47 1.35L5.41 20z\"/>\n",
              "  </svg>\n",
              "      </button>\n",
              "      \n",
              "  <style>\n",
              "    .colab-df-container {\n",
              "      display:flex;\n",
              "      flex-wrap:wrap;\n",
              "      gap: 12px;\n",
              "    }\n",
              "\n",
              "    .colab-df-convert {\n",
              "      background-color: #E8F0FE;\n",
              "      border: none;\n",
              "      border-radius: 50%;\n",
              "      cursor: pointer;\n",
              "      display: none;\n",
              "      fill: #1967D2;\n",
              "      height: 32px;\n",
              "      padding: 0 0 0 0;\n",
              "      width: 32px;\n",
              "    }\n",
              "\n",
              "    .colab-df-convert:hover {\n",
              "      background-color: #E2EBFA;\n",
              "      box-shadow: 0px 1px 2px rgba(60, 64, 67, 0.3), 0px 1px 3px 1px rgba(60, 64, 67, 0.15);\n",
              "      fill: #174EA6;\n",
              "    }\n",
              "\n",
              "    [theme=dark] .colab-df-convert {\n",
              "      background-color: #3B4455;\n",
              "      fill: #D2E3FC;\n",
              "    }\n",
              "\n",
              "    [theme=dark] .colab-df-convert:hover {\n",
              "      background-color: #434B5C;\n",
              "      box-shadow: 0px 1px 3px 1px rgba(0, 0, 0, 0.15);\n",
              "      filter: drop-shadow(0px 1px 2px rgba(0, 0, 0, 0.3));\n",
              "      fill: #FFFFFF;\n",
              "    }\n",
              "  </style>\n",
              "\n",
              "      <script>\n",
              "        const buttonEl =\n",
              "          document.querySelector('#df-a5b8b3c9-23a7-42c8-86f6-028e74db1600 button.colab-df-convert');\n",
              "        buttonEl.style.display =\n",
              "          google.colab.kernel.accessAllowed ? 'block' : 'none';\n",
              "\n",
              "        async function convertToInteractive(key) {\n",
              "          const element = document.querySelector('#df-a5b8b3c9-23a7-42c8-86f6-028e74db1600');\n",
              "          const dataTable =\n",
              "            await google.colab.kernel.invokeFunction('convertToInteractive',\n",
              "                                                     [key], {});\n",
              "          if (!dataTable) return;\n",
              "\n",
              "          const docLinkHtml = 'Like what you see? Visit the ' +\n",
              "            '<a target=\"_blank\" href=https://colab.research.google.com/notebooks/data_table.ipynb>data table notebook</a>'\n",
              "            + ' to learn more about interactive tables.';\n",
              "          element.innerHTML = '';\n",
              "          dataTable['output_type'] = 'display_data';\n",
              "          await google.colab.output.renderOutput(dataTable, element);\n",
              "          const docLink = document.createElement('div');\n",
              "          docLink.innerHTML = docLinkHtml;\n",
              "          element.appendChild(docLink);\n",
              "        }\n",
              "      </script>\n",
              "    </div>\n",
              "  </div>\n",
              "  "
            ]
          },
          "metadata": {},
          "execution_count": 62
        }
      ]
    },
    {
      "cell_type": "code",
      "source": [
        "#the same statistical parameters in transpose format\n",
        "df2.describe().T"
      ],
      "metadata": {
        "colab": {
          "base_uri": "https://localhost:8080/",
          "height": 394
        },
        "id": "8bosmt5r2jYl",
        "outputId": "359eaa6d-cfa0-46e8-80c7-4cc00adb3224"
      },
      "execution_count": null,
      "outputs": [
        {
          "output_type": "execute_result",
          "data": {
            "text/plain": [
              "         count          mean            std           min           25%  \\\n",
              "time   20000.0  1.628242e+09  120736.264512  1.628067e+09  1.628104e+09   \n",
              "acc_x  20000.0 -2.673477e-02       0.261773 -1.776367e+00 -2.172852e-01   \n",
              "acc_y  20000.0  6.203417e-01       0.708751 -2.563965e+00  8.276368e-01   \n",
              "acc_z  20000.0  1.079226e-01       0.186557 -3.474609e+00  2.978520e-02   \n",
              "gyr_x  20000.0  1.010214e+00      12.188202 -2.492065e+02 -2.014160e+00   \n",
              "gyr_y  20000.0 -1.737314e+00      20.436224 -4.812012e+02 -5.676270e+00   \n",
              "gyr_z  20000.0 -5.886505e-01       9.563774 -1.643066e+02 -2.563477e+00   \n",
              "mag_x  20000.0 -2.944554e+02     273.767253 -1.215000e+03 -4.665000e+02   \n",
              "mag_y  20000.0  4.268613e+02     596.554232 -9.855000e+02 -4.950000e+01   \n",
              "mag_z  20000.0  2.011910e+02     438.555884 -8.835000e+02  6.000000e+01   \n",
              "label  20000.0  4.327600e+00       2.416706  1.000000e+00  1.000000e+00   \n",
              "\n",
              "                50%           75%           max  \n",
              "time   1.628312e+09  1.628335e+09  1.628421e+09  \n",
              "acc_x -2.294920e-02  1.660156e-01  1.118164e+00  \n",
              "acc_y  9.365235e-01  9.736329e-01  2.763184e+00  \n",
              "acc_z  1.218261e-01  1.997070e-01  1.631348e+00  \n",
              "gyr_x  8.544922e-01  3.723145e+00  5.502319e+02  \n",
              "gyr_y -1.892090e+00  1.953125e+00  5.184937e+02  \n",
              "gyr_z -5.493164e-01  1.464844e+00  1.661377e+02  \n",
              "mag_x -2.565000e+02 -1.275000e+02  5.640000e+02  \n",
              "mag_y  1.395000e+02  9.765000e+02  1.611000e+03  \n",
              "mag_z  3.112500e+02  5.520000e+02  1.045500e+03  \n",
              "label  5.000000e+00  6.000000e+00  9.000000e+00  "
            ],
            "text/html": [
              "\n",
              "  <div id=\"df-0bd3d360-5745-424e-b274-a71d9585a475\">\n",
              "    <div class=\"colab-df-container\">\n",
              "      <div>\n",
              "<style scoped>\n",
              "    .dataframe tbody tr th:only-of-type {\n",
              "        vertical-align: middle;\n",
              "    }\n",
              "\n",
              "    .dataframe tbody tr th {\n",
              "        vertical-align: top;\n",
              "    }\n",
              "\n",
              "    .dataframe thead th {\n",
              "        text-align: right;\n",
              "    }\n",
              "</style>\n",
              "<table border=\"1\" class=\"dataframe\">\n",
              "  <thead>\n",
              "    <tr style=\"text-align: right;\">\n",
              "      <th></th>\n",
              "      <th>count</th>\n",
              "      <th>mean</th>\n",
              "      <th>std</th>\n",
              "      <th>min</th>\n",
              "      <th>25%</th>\n",
              "      <th>50%</th>\n",
              "      <th>75%</th>\n",
              "      <th>max</th>\n",
              "    </tr>\n",
              "  </thead>\n",
              "  <tbody>\n",
              "    <tr>\n",
              "      <th>time</th>\n",
              "      <td>20000.0</td>\n",
              "      <td>1.628242e+09</td>\n",
              "      <td>120736.264512</td>\n",
              "      <td>1.628067e+09</td>\n",
              "      <td>1.628104e+09</td>\n",
              "      <td>1.628312e+09</td>\n",
              "      <td>1.628335e+09</td>\n",
              "      <td>1.628421e+09</td>\n",
              "    </tr>\n",
              "    <tr>\n",
              "      <th>acc_x</th>\n",
              "      <td>20000.0</td>\n",
              "      <td>-2.673477e-02</td>\n",
              "      <td>0.261773</td>\n",
              "      <td>-1.776367e+00</td>\n",
              "      <td>-2.172852e-01</td>\n",
              "      <td>-2.294920e-02</td>\n",
              "      <td>1.660156e-01</td>\n",
              "      <td>1.118164e+00</td>\n",
              "    </tr>\n",
              "    <tr>\n",
              "      <th>acc_y</th>\n",
              "      <td>20000.0</td>\n",
              "      <td>6.203417e-01</td>\n",
              "      <td>0.708751</td>\n",
              "      <td>-2.563965e+00</td>\n",
              "      <td>8.276368e-01</td>\n",
              "      <td>9.365235e-01</td>\n",
              "      <td>9.736329e-01</td>\n",
              "      <td>2.763184e+00</td>\n",
              "    </tr>\n",
              "    <tr>\n",
              "      <th>acc_z</th>\n",
              "      <td>20000.0</td>\n",
              "      <td>1.079226e-01</td>\n",
              "      <td>0.186557</td>\n",
              "      <td>-3.474609e+00</td>\n",
              "      <td>2.978520e-02</td>\n",
              "      <td>1.218261e-01</td>\n",
              "      <td>1.997070e-01</td>\n",
              "      <td>1.631348e+00</td>\n",
              "    </tr>\n",
              "    <tr>\n",
              "      <th>gyr_x</th>\n",
              "      <td>20000.0</td>\n",
              "      <td>1.010214e+00</td>\n",
              "      <td>12.188202</td>\n",
              "      <td>-2.492065e+02</td>\n",
              "      <td>-2.014160e+00</td>\n",
              "      <td>8.544922e-01</td>\n",
              "      <td>3.723145e+00</td>\n",
              "      <td>5.502319e+02</td>\n",
              "    </tr>\n",
              "    <tr>\n",
              "      <th>gyr_y</th>\n",
              "      <td>20000.0</td>\n",
              "      <td>-1.737314e+00</td>\n",
              "      <td>20.436224</td>\n",
              "      <td>-4.812012e+02</td>\n",
              "      <td>-5.676270e+00</td>\n",
              "      <td>-1.892090e+00</td>\n",
              "      <td>1.953125e+00</td>\n",
              "      <td>5.184937e+02</td>\n",
              "    </tr>\n",
              "    <tr>\n",
              "      <th>gyr_z</th>\n",
              "      <td>20000.0</td>\n",
              "      <td>-5.886505e-01</td>\n",
              "      <td>9.563774</td>\n",
              "      <td>-1.643066e+02</td>\n",
              "      <td>-2.563477e+00</td>\n",
              "      <td>-5.493164e-01</td>\n",
              "      <td>1.464844e+00</td>\n",
              "      <td>1.661377e+02</td>\n",
              "    </tr>\n",
              "    <tr>\n",
              "      <th>mag_x</th>\n",
              "      <td>20000.0</td>\n",
              "      <td>-2.944554e+02</td>\n",
              "      <td>273.767253</td>\n",
              "      <td>-1.215000e+03</td>\n",
              "      <td>-4.665000e+02</td>\n",
              "      <td>-2.565000e+02</td>\n",
              "      <td>-1.275000e+02</td>\n",
              "      <td>5.640000e+02</td>\n",
              "    </tr>\n",
              "    <tr>\n",
              "      <th>mag_y</th>\n",
              "      <td>20000.0</td>\n",
              "      <td>4.268613e+02</td>\n",
              "      <td>596.554232</td>\n",
              "      <td>-9.855000e+02</td>\n",
              "      <td>-4.950000e+01</td>\n",
              "      <td>1.395000e+02</td>\n",
              "      <td>9.765000e+02</td>\n",
              "      <td>1.611000e+03</td>\n",
              "    </tr>\n",
              "    <tr>\n",
              "      <th>mag_z</th>\n",
              "      <td>20000.0</td>\n",
              "      <td>2.011910e+02</td>\n",
              "      <td>438.555884</td>\n",
              "      <td>-8.835000e+02</td>\n",
              "      <td>6.000000e+01</td>\n",
              "      <td>3.112500e+02</td>\n",
              "      <td>5.520000e+02</td>\n",
              "      <td>1.045500e+03</td>\n",
              "    </tr>\n",
              "    <tr>\n",
              "      <th>label</th>\n",
              "      <td>20000.0</td>\n",
              "      <td>4.327600e+00</td>\n",
              "      <td>2.416706</td>\n",
              "      <td>1.000000e+00</td>\n",
              "      <td>1.000000e+00</td>\n",
              "      <td>5.000000e+00</td>\n",
              "      <td>6.000000e+00</td>\n",
              "      <td>9.000000e+00</td>\n",
              "    </tr>\n",
              "  </tbody>\n",
              "</table>\n",
              "</div>\n",
              "      <button class=\"colab-df-convert\" onclick=\"convertToInteractive('df-0bd3d360-5745-424e-b274-a71d9585a475')\"\n",
              "              title=\"Convert this dataframe to an interactive table.\"\n",
              "              style=\"display:none;\">\n",
              "        \n",
              "  <svg xmlns=\"http://www.w3.org/2000/svg\" height=\"24px\"viewBox=\"0 0 24 24\"\n",
              "       width=\"24px\">\n",
              "    <path d=\"M0 0h24v24H0V0z\" fill=\"none\"/>\n",
              "    <path d=\"M18.56 5.44l.94 2.06.94-2.06 2.06-.94-2.06-.94-.94-2.06-.94 2.06-2.06.94zm-11 1L8.5 8.5l.94-2.06 2.06-.94-2.06-.94L8.5 2.5l-.94 2.06-2.06.94zm10 10l.94 2.06.94-2.06 2.06-.94-2.06-.94-.94-2.06-.94 2.06-2.06.94z\"/><path d=\"M17.41 7.96l-1.37-1.37c-.4-.4-.92-.59-1.43-.59-.52 0-1.04.2-1.43.59L10.3 9.45l-7.72 7.72c-.78.78-.78 2.05 0 2.83L4 21.41c.39.39.9.59 1.41.59.51 0 1.02-.2 1.41-.59l7.78-7.78 2.81-2.81c.8-.78.8-2.07 0-2.86zM5.41 20L4 18.59l7.72-7.72 1.47 1.35L5.41 20z\"/>\n",
              "  </svg>\n",
              "      </button>\n",
              "      \n",
              "  <style>\n",
              "    .colab-df-container {\n",
              "      display:flex;\n",
              "      flex-wrap:wrap;\n",
              "      gap: 12px;\n",
              "    }\n",
              "\n",
              "    .colab-df-convert {\n",
              "      background-color: #E8F0FE;\n",
              "      border: none;\n",
              "      border-radius: 50%;\n",
              "      cursor: pointer;\n",
              "      display: none;\n",
              "      fill: #1967D2;\n",
              "      height: 32px;\n",
              "      padding: 0 0 0 0;\n",
              "      width: 32px;\n",
              "    }\n",
              "\n",
              "    .colab-df-convert:hover {\n",
              "      background-color: #E2EBFA;\n",
              "      box-shadow: 0px 1px 2px rgba(60, 64, 67, 0.3), 0px 1px 3px 1px rgba(60, 64, 67, 0.15);\n",
              "      fill: #174EA6;\n",
              "    }\n",
              "\n",
              "    [theme=dark] .colab-df-convert {\n",
              "      background-color: #3B4455;\n",
              "      fill: #D2E3FC;\n",
              "    }\n",
              "\n",
              "    [theme=dark] .colab-df-convert:hover {\n",
              "      background-color: #434B5C;\n",
              "      box-shadow: 0px 1px 3px 1px rgba(0, 0, 0, 0.15);\n",
              "      filter: drop-shadow(0px 1px 2px rgba(0, 0, 0, 0.3));\n",
              "      fill: #FFFFFF;\n",
              "    }\n",
              "  </style>\n",
              "\n",
              "      <script>\n",
              "        const buttonEl =\n",
              "          document.querySelector('#df-0bd3d360-5745-424e-b274-a71d9585a475 button.colab-df-convert');\n",
              "        buttonEl.style.display =\n",
              "          google.colab.kernel.accessAllowed ? 'block' : 'none';\n",
              "\n",
              "        async function convertToInteractive(key) {\n",
              "          const element = document.querySelector('#df-0bd3d360-5745-424e-b274-a71d9585a475');\n",
              "          const dataTable =\n",
              "            await google.colab.kernel.invokeFunction('convertToInteractive',\n",
              "                                                     [key], {});\n",
              "          if (!dataTable) return;\n",
              "\n",
              "          const docLinkHtml = 'Like what you see? Visit the ' +\n",
              "            '<a target=\"_blank\" href=https://colab.research.google.com/notebooks/data_table.ipynb>data table notebook</a>'\n",
              "            + ' to learn more about interactive tables.';\n",
              "          element.innerHTML = '';\n",
              "          dataTable['output_type'] = 'display_data';\n",
              "          await google.colab.output.renderOutput(dataTable, element);\n",
              "          const docLink = document.createElement('div');\n",
              "          docLink.innerHTML = docLinkHtml;\n",
              "          element.appendChild(docLink);\n",
              "        }\n",
              "      </script>\n",
              "    </div>\n",
              "  </div>\n",
              "  "
            ]
          },
          "metadata": {},
          "execution_count": 63
        }
      ]
    },
    {
      "cell_type": "code",
      "source": [
        "#checking the correlation between all the features of df2 using heatmap\n",
        "plt.figure(figsize=(10,10))\n",
        "cor = df2.corr()\n",
        "sns.heatmap(cor,annot = True, cmap=\"coolwarm\", fmt = '.0%' )\n",
        "plt.show()"
      ],
      "metadata": {
        "colab": {
          "base_uri": "https://localhost:8080/",
          "height": 595
        },
        "id": "MUnMrdh02qsY",
        "outputId": "4475615d-c5e8-4ff5-cee6-406f26cff54c"
      },
      "execution_count": null,
      "outputs": [
        {
          "output_type": "display_data",
          "data": {
            "text/plain": [
              "<Figure size 720x720 with 2 Axes>"
            ],
            "image/png": "[encoded data removed]"
          },
          "metadata": {
            "needs_background": "light"
          }
        }
      ]
    },
    {
      "cell_type": "code",
      "source": [
        "#listing down the feature names in df2\n",
        "list(df2)"
      ],
      "metadata": {
        "colab": {
          "base_uri": "https://localhost:8080/"
        },
        "id": "ewGc9zCA45_i",
        "outputId": "cdb293b2-0fd9-490f-9852-71087e3e1c79"
      },
      "execution_count": null,
      "outputs": [
        {
          "output_type": "execute_result",
          "data": {
            "text/plain": [
              "['time',\n",
              " 'acc_x',\n",
              " 'acc_y',\n",
              " 'acc_z',\n",
              " 'gyr_x',\n",
              " 'gyr_y',\n",
              " 'gyr_z',\n",
              " 'mag_x',\n",
              " 'mag_y',\n",
              " 'mag_z',\n",
              " 'label']"
            ]
          },
          "metadata": {},
          "execution_count": 65
        }
      ]
    },
    {
      "cell_type": "code",
      "source": [
        "#checking for the distibution of data under each feature in terms of skewness etc. using distribution plot\n",
        "for column in df2.columns:\n",
        "    plt.figure()             \n",
        "    sns.distplot(df[column])"
      ],
      "metadata": {
        "colab": {
          "base_uri": "https://localhost:8080/",
          "height": 1000
        },
        "id": "vXCuvB2X5BRx",
        "outputId": "0485629b-0e10-4e76-a7c0-0a6ebada9a6b"
      },
      "execution_count": null,
      "outputs": [
        {
          "output_type": "display_data",
          "data": {
            "text/plain": [
              "<Figure size 432x288 with 1 Axes>"
            ],
            "image/png": "[encoded data removed]"
          },
          "metadata": {
            "needs_background": "light"
          }
        },
        {
          "output_type": "display_data",
          "data": {
            "text/plain": [
              "<Figure size 432x288 with 1 Axes>"
            ],
            "image/png": "[encoded data removed]"
          },
          "metadata": {
            "needs_background": "light"
          }
        },
        {
          "output_type": "display_data",
          "data": {
            "text/plain": [
              "<Figure size 432x288 with 1 Axes>"
            ],
            "image/png": "[encoded data removed]"
          },
          "metadata": {
            "needs_background": "light"
          }
        },
        {
          "output_type": "display_data",
          "data": {
            "text/plain": [
              "<Figure size 432x288 with 1 Axes>"
            ],
            "image/png": "[encoded data removed]"
          },
          "metadata": {
            "needs_background": "light"
          }
        },
        {
          "output_type": "display_data",
          "data": {
            "text/plain": [
              "<Figure size 432x288 with 1 Axes>"
            ],
            "image/png": "[encoded data removed]"
          },
          "metadata": {
            "needs_background": "light"
          }
        },
        {
          "output_type": "display_data",
          "data": {
            "text/plain": [
              "<Figure size 432x288 with 1 Axes>"
            ],
            "image/png": "[encoded data removed]"
          },
          "metadata": {
            "needs_background": "light"
          }
        },
        {
          "output_type": "display_data",
          "data": {
            "text/plain": [
              "<Figure size 432x288 with 1 Axes>"
            ],
            "image/png": "[encoded data removed]"
          },
          "metadata": {
            "needs_background": "light"
          }
        },
        {
          "output_type": "display_data",
          "data": {
            "text/plain": [
              "<Figure size 432x288 with 1 Axes>"
            ],
            "image/png": "[encoded data removed]"
          },
          "metadata": {
            "needs_background": "light"
          }
        },
        {
          "output_type": "display_data",
          "data": {
            "text/plain": [
              "<Figure size 432x288 with 1 Axes>"
            ],
            "image/png": "[encoded data removed]"
          },
          "metadata": {
            "needs_background": "light"
          }
        },
        {
          "output_type": "display_data",
          "data": {
            "text/plain": [
              "<Figure size 432x288 with 1 Axes>"
            ],
            "image/png": "[encoded data removed]"
          },
          "metadata": {
            "needs_background": "light"
          }
        },
        {
          "output_type": "display_data",
          "data": {
            "text/plain": [
              "<Figure size 432x288 with 1 Axes>"
            ],
            "image/png": "[encoded data removed]"
          },
          "metadata": {
            "needs_background": "light"
          }
        }
      ]
    },
    {
      "cell_type": "code",
      "source": [
        "#seperating the input and output variables into 2 different databases.\n",
        "df2x = df2.drop(['label'],axis = 1)\n",
        "df2x.head()"
      ],
      "metadata": {
        "colab": {
          "base_uri": "https://localhost:8080/",
          "height": 206
        },
        "id": "63-g-xAf_AhH",
        "outputId": "a9477614-56a9-41e6-aa6a-dfcbd24dcef9"
      },
      "execution_count": null,
      "outputs": [
        {
          "output_type": "execute_result",
          "data": {
            "text/plain": [
              "               time     acc_x     acc_y     acc_z     gyr_x      gyr_y  \\\n",
              "1797710  1628319099  0.015625  0.977051 -0.025391 -9.643555  -8.972168   \n",
              "2458835  1628316951 -0.184082  0.991699  0.100098 -8.117676 -13.977051   \n",
              "1409861  1628307592 -0.098144  0.974121  0.151367  0.549316  -1.403809   \n",
              "2392570  1628335182  0.201172  1.004395 -0.003418  0.549316 -11.718750   \n",
              "3026233  1628311322 -0.187012  0.975098 -0.076660  7.873535  -5.493164   \n",
              "\n",
              "            gyr_z  mag_x   mag_y  mag_z  \n",
              "1797710  7.629395 -429.0  1011.0  373.5  \n",
              "2458835  4.272461 -132.0   115.5  262.5  \n",
              "1409861 -1.586914 -505.5   174.0  133.5  \n",
              "2392570 -0.183106 -507.0  1078.5  489.0  \n",
              "3026233 -1.159668 -300.0   973.5  562.5  "
            ],
            "text/html": [
              "\n",
              "  <div id=\"df-4d598088-c030-4560-a548-6db3f449ba1b\">\n",
              "    <div class=\"colab-df-container\">\n",
              "      <div>\n",
              "<style scoped>\n",
              "    .dataframe tbody tr th:only-of-type {\n",
              "        vertical-align: middle;\n",
              "    }\n",
              "\n",
              "    .dataframe tbody tr th {\n",
              "        vertical-align: top;\n",
              "    }\n",
              "\n",
              "    .dataframe thead th {\n",
              "        text-align: right;\n",
              "    }\n",
              "</style>\n",
              "<table border=\"1\" class=\"dataframe\">\n",
              "  <thead>\n",
              "    <tr style=\"text-align: right;\">\n",
              "      <th></th>\n",
              "      <th>time</th>\n",
              "      <th>acc_x</th>\n",
              "      <th>acc_y</th>\n",
              "      <th>acc_z</th>\n",
              "      <th>gyr_x</th>\n",
              "      <th>gyr_y</th>\n",
              "      <th>gyr_z</th>\n",
              "      <th>mag_x</th>\n",
              "      <th>mag_y</th>\n",
              "      <th>mag_z</th>\n",
              "    </tr>\n",
              "  </thead>\n",
              "  <tbody>\n",
              "    <tr>\n",
              "      <th>1797710</th>\n",
              "      <td>1628319099</td>\n",
              "      <td>0.015625</td>\n",
              "      <td>0.977051</td>\n",
              "      <td>-0.025391</td>\n",
              "      <td>-9.643555</td>\n",
              "      <td>-8.972168</td>\n",
              "      <td>7.629395</td>\n",
              "      <td>-429.0</td>\n",
              "      <td>1011.0</td>\n",
              "      <td>373.5</td>\n",
              "    </tr>\n",
              "    <tr>\n",
              "      <th>2458835</th>\n",
              "      <td>1628316951</td>\n",
              "      <td>-0.184082</td>\n",
              "      <td>0.991699</td>\n",
              "      <td>0.100098</td>\n",
              "      <td>-8.117676</td>\n",
              "      <td>-13.977051</td>\n",
              "      <td>4.272461</td>\n",
              "      <td>-132.0</td>\n",
              "      <td>115.5</td>\n",
              "      <td>262.5</td>\n",
              "    </tr>\n",
              "    <tr>\n",
              "      <th>1409861</th>\n",
              "      <td>1628307592</td>\n",
              "      <td>-0.098144</td>\n",
              "      <td>0.974121</td>\n",
              "      <td>0.151367</td>\n",
              "      <td>0.549316</td>\n",
              "      <td>-1.403809</td>\n",
              "      <td>-1.586914</td>\n",
              "      <td>-505.5</td>\n",
              "      <td>174.0</td>\n",
              "      <td>133.5</td>\n",
              "    </tr>\n",
              "    <tr>\n",
              "      <th>2392570</th>\n",
              "      <td>1628335182</td>\n",
              "      <td>0.201172</td>\n",
              "      <td>1.004395</td>\n",
              "      <td>-0.003418</td>\n",
              "      <td>0.549316</td>\n",
              "      <td>-11.718750</td>\n",
              "      <td>-0.183106</td>\n",
              "      <td>-507.0</td>\n",
              "      <td>1078.5</td>\n",
              "      <td>489.0</td>\n",
              "    </tr>\n",
              "    <tr>\n",
              "      <th>3026233</th>\n",
              "      <td>1628311322</td>\n",
              "      <td>-0.187012</td>\n",
              "      <td>0.975098</td>\n",
              "      <td>-0.076660</td>\n",
              "      <td>7.873535</td>\n",
              "      <td>-5.493164</td>\n",
              "      <td>-1.159668</td>\n",
              "      <td>-300.0</td>\n",
              "      <td>973.5</td>\n",
              "      <td>562.5</td>\n",
              "    </tr>\n",
              "  </tbody>\n",
              "</table>\n",
              "</div>\n",
              "      <button class=\"colab-df-convert\" onclick=\"convertToInteractive('df-4d598088-c030-4560-a548-6db3f449ba1b')\"\n",
              "              title=\"Convert this dataframe to an interactive table.\"\n",
              "              style=\"display:none;\">\n",
              "        \n",
              "  <svg xmlns=\"http://www.w3.org/2000/svg\" height=\"24px\"viewBox=\"0 0 24 24\"\n",
              "       width=\"24px\">\n",
              "    <path d=\"M0 0h24v24H0V0z\" fill=\"none\"/>\n",
              "    <path d=\"M18.56 5.44l.94 2.06.94-2.06 2.06-.94-2.06-.94-.94-2.06-.94 2.06-2.06.94zm-11 1L8.5 8.5l.94-2.06 2.06-.94-2.06-.94L8.5 2.5l-.94 2.06-2.06.94zm10 10l.94 2.06.94-2.06 2.06-.94-2.06-.94-.94-2.06-.94 2.06-2.06.94z\"/><path d=\"M17.41 7.96l-1.37-1.37c-.4-.4-.92-.59-1.43-.59-.52 0-1.04.2-1.43.59L10.3 9.45l-7.72 7.72c-.78.78-.78 2.05 0 2.83L4 21.41c.39.39.9.59 1.41.59.51 0 1.02-.2 1.41-.59l7.78-7.78 2.81-2.81c.8-.78.8-2.07 0-2.86zM5.41 20L4 18.59l7.72-7.72 1.47 1.35L5.41 20z\"/>\n",
              "  </svg>\n",
              "      </button>\n",
              "      \n",
              "  <style>\n",
              "    .colab-df-container {\n",
              "      display:flex;\n",
              "      flex-wrap:wrap;\n",
              "      gap: 12px;\n",
              "    }\n",
              "\n",
              "    .colab-df-convert {\n",
              "      background-color: #E8F0FE;\n",
              "      border: none;\n",
              "      border-radius: 50%;\n",
              "      cursor: pointer;\n",
              "      display: none;\n",
              "      fill: #1967D2;\n",
              "      height: 32px;\n",
              "      padding: 0 0 0 0;\n",
              "      width: 32px;\n",
              "    }\n",
              "\n",
              "    .colab-df-convert:hover {\n",
              "      background-color: #E2EBFA;\n",
              "      box-shadow: 0px 1px 2px rgba(60, 64, 67, 0.3), 0px 1px 3px 1px rgba(60, 64, 67, 0.15);\n",
              "      fill: #174EA6;\n",
              "    }\n",
              "\n",
              "    [theme=dark] .colab-df-convert {\n",
              "      background-color: #3B4455;\n",
              "      fill: #D2E3FC;\n",
              "    }\n",
              "\n",
              "    [theme=dark] .colab-df-convert:hover {\n",
              "      background-color: #434B5C;\n",
              "      box-shadow: 0px 1px 3px 1px rgba(0, 0, 0, 0.15);\n",
              "      filter: drop-shadow(0px 1px 2px rgba(0, 0, 0, 0.3));\n",
              "      fill: #FFFFFF;\n",
              "    }\n",
              "  </style>\n",
              "\n",
              "      <script>\n",
              "        const buttonEl =\n",
              "          document.querySelector('#df-4d598088-c030-4560-a548-6db3f449ba1b button.colab-df-convert');\n",
              "        buttonEl.style.display =\n",
              "          google.colab.kernel.accessAllowed ? 'block' : 'none';\n",
              "\n",
              "        async function convertToInteractive(key) {\n",
              "          const element = document.querySelector('#df-4d598088-c030-4560-a548-6db3f449ba1b');\n",
              "          const dataTable =\n",
              "            await google.colab.kernel.invokeFunction('convertToInteractive',\n",
              "                                                     [key], {});\n",
              "          if (!dataTable) return;\n",
              "\n",
              "          const docLinkHtml = 'Like what you see? Visit the ' +\n",
              "            '<a target=\"_blank\" href=https://colab.research.google.com/notebooks/data_table.ipynb>data table notebook</a>'\n",
              "            + ' to learn more about interactive tables.';\n",
              "          element.innerHTML = '';\n",
              "          dataTable['output_type'] = 'display_data';\n",
              "          await google.colab.output.renderOutput(dataTable, element);\n",
              "          const docLink = document.createElement('div');\n",
              "          docLink.innerHTML = docLinkHtml;\n",
              "          element.appendChild(docLink);\n",
              "        }\n",
              "      </script>\n",
              "    </div>\n",
              "  </div>\n",
              "  "
            ]
          },
          "metadata": {},
          "execution_count": 67
        }
      ]
    },
    {
      "cell_type": "code",
      "source": [
        "df2y = df2[['label']]\n",
        "df2y.head()"
      ],
      "metadata": {
        "colab": {
          "base_uri": "https://localhost:8080/",
          "height": 206
        },
        "id": "5U459aiu_KkQ",
        "outputId": "01f9681e-3e7c-404d-9398-ba2794a80ad4"
      },
      "execution_count": null,
      "outputs": [
        {
          "output_type": "execute_result",
          "data": {
            "text/plain": [
              "         label\n",
              "1797710      7\n",
              "2458835      1\n",
              "1409861      6\n",
              "2392570      4\n",
              "3026233      1"
            ],
            "text/html": [
              "\n",
              "  <div id=\"df-a174a478-d935-4b85-ab90-10b11972aac6\">\n",
              "    <div class=\"colab-df-container\">\n",
              "      <div>\n",
              "<style scoped>\n",
              "    .dataframe tbody tr th:only-of-type {\n",
              "        vertical-align: middle;\n",
              "    }\n",
              "\n",
              "    .dataframe tbody tr th {\n",
              "        vertical-align: top;\n",
              "    }\n",
              "\n",
              "    .dataframe thead th {\n",
              "        text-align: right;\n",
              "    }\n",
              "</style>\n",
              "<table border=\"1\" class=\"dataframe\">\n",
              "  <thead>\n",
              "    <tr style=\"text-align: right;\">\n",
              "      <th></th>\n",
              "      <th>label</th>\n",
              "    </tr>\n",
              "  </thead>\n",
              "  <tbody>\n",
              "    <tr>\n",
              "      <th>1797710</th>\n",
              "      <td>7</td>\n",
              "    </tr>\n",
              "    <tr>\n",
              "      <th>2458835</th>\n",
              "      <td>1</td>\n",
              "    </tr>\n",
              "    <tr>\n",
              "      <th>1409861</th>\n",
              "      <td>6</td>\n",
              "    </tr>\n",
              "    <tr>\n",
              "      <th>2392570</th>\n",
              "      <td>4</td>\n",
              "    </tr>\n",
              "    <tr>\n",
              "      <th>3026233</th>\n",
              "      <td>1</td>\n",
              "    </tr>\n",
              "  </tbody>\n",
              "</table>\n",
              "</div>\n",
              "      <button class=\"colab-df-convert\" onclick=\"convertToInteractive('df-a174a478-d935-4b85-ab90-10b11972aac6')\"\n",
              "              title=\"Convert this dataframe to an interactive table.\"\n",
              "              style=\"display:none;\">\n",
              "        \n",
              "  <svg xmlns=\"http://www.w3.org/2000/svg\" height=\"24px\"viewBox=\"0 0 24 24\"\n",
              "       width=\"24px\">\n",
              "    <path d=\"M0 0h24v24H0V0z\" fill=\"none\"/>\n",
              "    <path d=\"M18.56 5.44l.94 2.06.94-2.06 2.06-.94-2.06-.94-.94-2.06-.94 2.06-2.06.94zm-11 1L8.5 8.5l.94-2.06 2.06-.94-2.06-.94L8.5 2.5l-.94 2.06-2.06.94zm10 10l.94 2.06.94-2.06 2.06-.94-2.06-.94-.94-2.06-.94 2.06-2.06.94z\"/><path d=\"M17.41 7.96l-1.37-1.37c-.4-.4-.92-.59-1.43-.59-.52 0-1.04.2-1.43.59L10.3 9.45l-7.72 7.72c-.78.78-.78 2.05 0 2.83L4 21.41c.39.39.9.59 1.41.59.51 0 1.02-.2 1.41-.59l7.78-7.78 2.81-2.81c.8-.78.8-2.07 0-2.86zM5.41 20L4 18.59l7.72-7.72 1.47 1.35L5.41 20z\"/>\n",
              "  </svg>\n",
              "      </button>\n",
              "      \n",
              "  <style>\n",
              "    .colab-df-container {\n",
              "      display:flex;\n",
              "      flex-wrap:wrap;\n",
              "      gap: 12px;\n",
              "    }\n",
              "\n",
              "    .colab-df-convert {\n",
              "      background-color: #E8F0FE;\n",
              "      border: none;\n",
              "      border-radius: 50%;\n",
              "      cursor: pointer;\n",
              "      display: none;\n",
              "      fill: #1967D2;\n",
              "      height: 32px;\n",
              "      padding: 0 0 0 0;\n",
              "      width: 32px;\n",
              "    }\n",
              "\n",
              "    .colab-df-convert:hover {\n",
              "      background-color: #E2EBFA;\n",
              "      box-shadow: 0px 1px 2px rgba(60, 64, 67, 0.3), 0px 1px 3px 1px rgba(60, 64, 67, 0.15);\n",
              "      fill: #174EA6;\n",
              "    }\n",
              "\n",
              "    [theme=dark] .colab-df-convert {\n",
              "      background-color: #3B4455;\n",
              "      fill: #D2E3FC;\n",
              "    }\n",
              "\n",
              "    [theme=dark] .colab-df-convert:hover {\n",
              "      background-color: #434B5C;\n",
              "      box-shadow: 0px 1px 3px 1px rgba(0, 0, 0, 0.15);\n",
              "      filter: drop-shadow(0px 1px 2px rgba(0, 0, 0, 0.3));\n",
              "      fill: #FFFFFF;\n",
              "    }\n",
              "  </style>\n",
              "\n",
              "      <script>\n",
              "        const buttonEl =\n",
              "          document.querySelector('#df-a174a478-d935-4b85-ab90-10b11972aac6 button.colab-df-convert');\n",
              "        buttonEl.style.display =\n",
              "          google.colab.kernel.accessAllowed ? 'block' : 'none';\n",
              "\n",
              "        async function convertToInteractive(key) {\n",
              "          const element = document.querySelector('#df-a174a478-d935-4b85-ab90-10b11972aac6');\n",
              "          const dataTable =\n",
              "            await google.colab.kernel.invokeFunction('convertToInteractive',\n",
              "                                                     [key], {});\n",
              "          if (!dataTable) return;\n",
              "\n",
              "          const docLinkHtml = 'Like what you see? Visit the ' +\n",
              "            '<a target=\"_blank\" href=https://colab.research.google.com/notebooks/data_table.ipynb>data table notebook</a>'\n",
              "            + ' to learn more about interactive tables.';\n",
              "          element.innerHTML = '';\n",
              "          dataTable['output_type'] = 'display_data';\n",
              "          await google.colab.output.renderOutput(dataTable, element);\n",
              "          const docLink = document.createElement('div');\n",
              "          docLink.innerHTML = docLinkHtml;\n",
              "          element.appendChild(docLink);\n",
              "        }\n",
              "      </script>\n",
              "    </div>\n",
              "  </div>\n",
              "  "
            ]
          },
          "metadata": {},
          "execution_count": 68
        }
      ]
    },
    {
      "cell_type": "code",
      "source": [
        "#creating countplot to check the imbalance in the output variable\n",
        "sns.countplot(df2y['label'])"
      ],
      "metadata": {
        "colab": {
          "base_uri": "https://localhost:8080/",
          "height": 296
        },
        "id": "ha5dU5A6_WX7",
        "outputId": "3fbc1527-6ba5-4520-c3e4-e06f86326063"
      },
      "execution_count": null,
      "outputs": [
        {
          "output_type": "execute_result",
          "data": {
            "text/plain": [
              "<matplotlib.axes._subplots.AxesSubplot at 0x7f0f7dde5a10>"
            ]
          },
          "metadata": {},
          "execution_count": 69
        },
        {
          "output_type": "display_data",
          "data": {
            "text/plain": [
              "<Figure size 432x288 with 1 Axes>"
            ],
            "image/png": "[encoded data removed]"
          },
          "metadata": {
            "needs_background": "light"
          }
        }
      ]
    },
    {
      "cell_type": "markdown",
      "source": [
        "#Outlier Identification and Treatment ( Using IQR Method)"
      ],
      "metadata": {
        "id": "v5kHotsO_eNk"
      }
    },
    {
      "cell_type": "code",
      "source": [
        "#giving a common name to all the features of datafram df2x, to call them in future\n",
        "column_name = ['time', 'acc_x', 'acc_y', 'acc_z', 'gyr_x', 'gyr_y', 'gyr_z', 'mag_x', 'mag_y', 'mag_z',]"
      ],
      "metadata": {
        "id": "r9hPsX67_hG7"
      },
      "execution_count": null,
      "outputs": []
    },
    {
      "cell_type": "code",
      "source": [
        "#creating a common function to identify outliers for each feature by drawing a box plot\n",
        "def identify_outliers(df2x, column_name):\n",
        "    fig = plt.figure(figsize=(4,2))\n",
        "    sns.boxplot(data = df2x, y = column_name)\n",
        "plt.show()"
      ],
      "metadata": {
        "id": "-X2FScGs_puR"
      },
      "execution_count": null,
      "outputs": []
    },
    {
      "cell_type": "code",
      "source": [
        "#identifying the outliers for each feature by calling the common function\n",
        "identify_outliers(df2x, 'time')\n",
        "identify_outliers(df2x, 'acc_x')\n",
        "identify_outliers(df2x, 'acc_y')\n",
        "identify_outliers(df2x, 'acc_z')\n",
        "identify_outliers(df2x, 'gyr_x')\n",
        "identify_outliers(df2x, 'gyr_y')\n",
        "identify_outliers(df2x, 'gyr_z')\n",
        "identify_outliers(df2x, 'mag_x')\n",
        "identify_outliers(df2x, 'mag_y')\n",
        "identify_outliers(df2x, 'mag_z')"
      ],
      "metadata": {
        "colab": {
          "base_uri": "https://localhost:8080/",
          "height": 1000
        },
        "id": "6O5QTK6v_uBO",
        "outputId": "d558161b-1f1c-44f8-c567-94171dc75f62"
      },
      "execution_count": null,
      "outputs": [
        {
          "output_type": "display_data",
          "data": {
            "text/plain": [
              "<Figure size 288x144 with 1 Axes>"
            ],
            "image/png": "[encoded data removed]"
          },
          "metadata": {
            "needs_background": "light"
          }
        },
        {
          "output_type": "display_data",
          "data": {
            "text/plain": [
              "<Figure size 288x144 with 1 Axes>"
            ],
            "image/png": "[encoded data removed]"
          },
          "metadata": {
            "needs_background": "light"
          }
        },
        {
          "output_type": "display_data",
          "data": {
            "text/plain": [
              "<Figure size 288x144 with 1 Axes>"
            ],
            "image/png": "[encoded data removed]"
          },
          "metadata": {
            "needs_background": "light"
          }
        },
        {
          "output_type": "display_data",
          "data": {
            "text/plain": [
              "<Figure size 288x144 with 1 Axes>"
            ],
            "image/png": "[encoded data removed]"
          },
          "metadata": {
            "needs_background": "light"
          }
        },
        {
          "output_type": "display_data",
          "data": {
            "text/plain": [
              "<Figure size 288x144 with 1 Axes>"
            ],
            "image/png": "[encoded data removed]"
          },
          "metadata": {
            "needs_background": "light"
          }
        },
        {
          "output_type": "display_data",
          "data": {
            "text/plain": [
              "<Figure size 288x144 with 1 Axes>"
            ],
            "image/png": "[encoded data removed]"
          },
          "metadata": {
            "needs_background": "light"
          }
        },
        {
          "output_type": "display_data",
          "data": {
            "text/plain": [
              "<Figure size 288x144 with 1 Axes>"
            ],
            "image/png": "[encoded data removed]"
          },
          "metadata": {
            "needs_background": "light"
          }
        },
        {
          "output_type": "display_data",
          "data": {
            "text/plain": [
              "<Figure size 288x144 with 1 Axes>"
            ],
            "image/png": "[encoded data removed]"
          },
          "metadata": {
            "needs_background": "light"
          }
        },
        {
          "output_type": "display_data",
          "data": {
            "text/plain": [
              "<Figure size 288x144 with 1 Axes>"
            ],
            "image/png": "[encoded data removed]"
          },
          "metadata": {
            "needs_background": "light"
          }
        },
        {
          "output_type": "display_data",
          "data": {
            "text/plain": [
              "<Figure size 288x144 with 1 Axes>"
            ],
            "image/png": "[encoded data removed]"
          },
          "metadata": {
            "needs_background": "light"
          }
        }
      ]
    },
    {
      "cell_type": "code",
      "source": [
        "#creating common function to replace outlier values with the median value and print boxplot thereafter to recheck the removal of outliers ; print upper and lower values of each feature \n",
        "#IQR\n",
        "def replace_outliers(df2x, column_name):\n",
        "        Q1 = np.percentile(df2x[column_name], 25)\n",
        "        Q2 = np.percentile(df2x[column_name], 50)\n",
        "        Q3 = np.percentile(df2x[column_name], 75)\n",
        "        IQR = Q3 - Q1\n",
        "\n",
        "        upper_val = Q3 + (1.5 * IQR)\n",
        "        print('upper', upper_val)\n",
        "        lower_val = Q1 - (1.5 * IQR)\n",
        "        print('lower', lower_val)\n",
        "\n",
        "        df2x.loc[df2x[column_name] > upper_val, column_name] = np.median(df2x[column_name])\n",
        "        df2x.loc[df2x[column_name] < lower_val, column_name] = np.median(df2x[column_name])\n",
        "        \n",
        "        fig = plt.figure(figsize = (4,2))\n",
        "        sns.boxplot(data = df2x,y = column_name)\n",
        "        plt.xticks(rotation = 'horizontal')\n",
        "        plt.show()"
      ],
      "metadata": {
        "id": "6xvt6rfOATTS"
      },
      "execution_count": null,
      "outputs": []
    },
    {
      "cell_type": "code",
      "source": [
        "#recalling the common function for replacing the outliers in each feature with median value and visualising using boxplot\n",
        "replace_outliers(df2x, 'time')\n",
        "replace_outliers(df2x, 'acc_x')\n",
        "replace_outliers(df2x, 'acc_y')\n",
        "replace_outliers(df2x, 'acc_z')\n",
        "replace_outliers(df2x, 'gyr_x')\n",
        "replace_outliers(df2x, 'gyr_y')\n",
        "replace_outliers(df2x, 'gyr_z')\n",
        "replace_outliers(df2x, 'mag_x')\n",
        "replace_outliers(df2x, 'mag_y')\n",
        "replace_outliers(df2x, 'mag_z')"
      ],
      "metadata": {
        "colab": {
          "base_uri": "https://localhost:8080/",
          "height": 1000
        },
        "id": "5mXWCDNiAvaL",
        "outputId": "08a9e94d-2a42-4123-cfe5-4fea1cfcb488"
      },
      "execution_count": null,
      "outputs": [
        {
          "output_type": "stream",
          "name": "stdout",
          "text": [
            "upper 1628680899.5\n",
            "lower 1627758549.5\n"
          ]
        },
        {
          "output_type": "display_data",
          "data": {
            "text/plain": [
              "<Figure size 288x144 with 1 Axes>"
            ],
            "image/png": "[encoded data removed]"
          },
          "metadata": {
            "needs_background": "light"
          }
        },
        {
          "output_type": "stream",
          "name": "stdout",
          "text": [
            "upper 0.7409668\n",
            "lower -0.7922364\n"
          ]
        },
        {
          "output_type": "display_data",
          "data": {
            "text/plain": [
              "<Figure size 288x144 with 1 Axes>"
            ],
            "image/png": "[encoded data removed]"
          },
          "metadata": {
            "needs_background": "light"
          }
        },
        {
          "output_type": "stream",
          "name": "stdout",
          "text": [
            "upper 1.19262705\n",
            "lower 0.6086426500000002\n"
          ]
        },
        {
          "output_type": "display_data",
          "data": {
            "text/plain": [
              "<Figure size 288x144 with 1 Axes>"
            ],
            "image/png": "[encoded data removed]"
          },
          "metadata": {
            "needs_background": "light"
          }
        },
        {
          "output_type": "stream",
          "name": "stdout",
          "text": [
            "upper 0.4545897\n",
            "lower -0.22509749999999995\n"
          ]
        },
        {
          "output_type": "display_data",
          "data": {
            "text/plain": [
              "<Figure size 288x144 with 1 Axes>"
            ],
            "image/png": "[encoded data removed]"
          },
          "metadata": {
            "needs_background": "light"
          }
        },
        {
          "output_type": "stream",
          "name": "stdout",
          "text": [
            "upper 12.329101399999999\n",
            "lower -10.620116999999999\n"
          ]
        },
        {
          "output_type": "display_data",
          "data": {
            "text/plain": [
              "<Figure size 288x144 with 1 Axes>"
            ],
            "image/png": "[encoded data removed]"
          },
          "metadata": {
            "needs_background": "light"
          }
        },
        {
          "output_type": "stream",
          "name": "stdout",
          "text": [
            "upper 13.39721675\n",
            "lower -17.120361250000002\n"
          ]
        },
        {
          "output_type": "display_data",
          "data": {
            "text/plain": [
              "<Figure size 288x144 with 1 Axes>"
            ],
            "image/png": "[encoded data removed]"
          },
          "metadata": {
            "needs_background": "light"
          }
        },
        {
          "output_type": "stream",
          "name": "stdout",
          "text": [
            "upper 7.507324000000001\n",
            "lower -8.605956800000001\n"
          ]
        },
        {
          "output_type": "display_data",
          "data": {
            "text/plain": [
              "<Figure size 288x144 with 1 Axes>"
            ],
            "image/png": "[encoded data removed]"
          },
          "metadata": {
            "needs_background": "light"
          }
        },
        {
          "output_type": "stream",
          "name": "stdout",
          "text": [
            "upper 381.0\n",
            "lower -975.0\n"
          ]
        },
        {
          "output_type": "display_data",
          "data": {
            "text/plain": [
              "<Figure size 288x144 with 1 Axes>"
            ],
            "image/png": "[encoded data removed]"
          },
          "metadata": {
            "needs_background": "light"
          }
        },
        {
          "output_type": "stream",
          "name": "stdout",
          "text": [
            "upper 2515.5\n",
            "lower -1588.5\n"
          ]
        },
        {
          "output_type": "display_data",
          "data": {
            "text/plain": [
              "<Figure size 288x144 with 1 Axes>"
            ],
            "image/png": "[encoded data removed]"
          },
          "metadata": {
            "needs_background": "light"
          }
        },
        {
          "output_type": "stream",
          "name": "stdout",
          "text": [
            "upper 1290.0\n",
            "lower -678.0\n"
          ]
        },
        {
          "output_type": "display_data",
          "data": {
            "text/plain": [
              "<Figure size 288x144 with 1 Axes>"
            ],
            "image/png": "[encoded data removed]"
          },
          "metadata": {
            "needs_background": "light"
          }
        }
      ]
    },
    {
      "cell_type": "markdown",
      "source": [
        "#Data Normalisation"
      ],
      "metadata": {
        "id": "vuwYi4ztA-UT"
      }
    },
    {
      "cell_type": "code",
      "source": [
        "from sklearn.preprocessing import MinMaxScaler\n",
        "scaling = MinMaxScaler()\n",
        "df2x_normalised = pd.DataFrame(scaling.fit_transform(df2x),columns = df2x.columns)\n",
        "df2x_normalised.head()"
      ],
      "metadata": {
        "colab": {
          "base_uri": "https://localhost:8080/",
          "height": 206
        },
        "id": "rfHMxWASA_Ua",
        "outputId": "d52a72cc-94e6-47de-f4a0-72a27fb1e7e1"
      },
      "execution_count": null,
      "outputs": [
        {
          "output_type": "execute_result",
          "data": {
            "text/plain": [
              "       time     acc_x     acc_y     acc_z     gyr_x     gyr_y     gyr_z  \\\n",
              "0  0.711734  0.526165  0.632020  0.293525  0.040107  0.266533  0.500000   \n",
              "1  0.705680  0.395661  0.657167  0.478417  0.106952  0.102204  0.801527   \n",
              "2  0.679305  0.451819  0.626991  0.553957  0.486631  0.515030  0.435115   \n",
              "3  0.757058  0.647415  0.678961  0.325899  0.486631  0.176353  0.522901   \n",
              "4  0.689817  0.393746  0.628667  0.217986  0.807487  0.380762  0.461832   \n",
              "\n",
              "      mag_x     mag_y     mag_z  \n",
              "0  0.402655  0.768920  0.610096  \n",
              "1  0.621681  0.424032  0.545692  \n",
              "2  0.346239  0.446563  0.470844  \n",
              "3  0.345133  0.794916  0.677111  \n",
              "4  0.497788  0.754477  0.719756  "
            ],
            "text/html": [
              "\n",
              "  <div id=\"df-d1dac3b3-1f06-4721-8bfe-df8b2988cfaf\">\n",
              "    <div class=\"colab-df-container\">\n",
              "      <div>\n",
              "<style scoped>\n",
              "    .dataframe tbody tr th:only-of-type {\n",
              "        vertical-align: middle;\n",
              "    }\n",
              "\n",
              "    .dataframe tbody tr th {\n",
              "        vertical-align: top;\n",
              "    }\n",
              "\n",
              "    .dataframe thead th {\n",
              "        text-align: right;\n",
              "    }\n",
              "</style>\n",
              "<table border=\"1\" class=\"dataframe\">\n",
              "  <thead>\n",
              "    <tr style=\"text-align: right;\">\n",
              "      <th></th>\n",
              "      <th>time</th>\n",
              "      <th>acc_x</th>\n",
              "      <th>acc_y</th>\n",
              "      <th>acc_z</th>\n",
              "      <th>gyr_x</th>\n",
              "      <th>gyr_y</th>\n",
              "      <th>gyr_z</th>\n",
              "      <th>mag_x</th>\n",
              "      <th>mag_y</th>\n",
              "      <th>mag_z</th>\n",
              "    </tr>\n",
              "  </thead>\n",
              "  <tbody>\n",
              "    <tr>\n",
              "      <th>0</th>\n",
              "      <td>0.711734</td>\n",
              "      <td>0.526165</td>\n",
              "      <td>0.632020</td>\n",
              "      <td>0.293525</td>\n",
              "      <td>0.040107</td>\n",
              "      <td>0.266533</td>\n",
              "      <td>0.500000</td>\n",
              "      <td>0.402655</td>\n",
              "      <td>0.768920</td>\n",
              "      <td>0.610096</td>\n",
              "    </tr>\n",
              "    <tr>\n",
              "      <th>1</th>\n",
              "      <td>0.705680</td>\n",
              "      <td>0.395661</td>\n",
              "      <td>0.657167</td>\n",
              "      <td>0.478417</td>\n",
              "      <td>0.106952</td>\n",
              "      <td>0.102204</td>\n",
              "      <td>0.801527</td>\n",
              "      <td>0.621681</td>\n",
              "      <td>0.424032</td>\n",
              "      <td>0.545692</td>\n",
              "    </tr>\n",
              "    <tr>\n",
              "      <th>2</th>\n",
              "      <td>0.679305</td>\n",
              "      <td>0.451819</td>\n",
              "      <td>0.626991</td>\n",
              "      <td>0.553957</td>\n",
              "      <td>0.486631</td>\n",
              "      <td>0.515030</td>\n",
              "      <td>0.435115</td>\n",
              "      <td>0.346239</td>\n",
              "      <td>0.446563</td>\n",
              "      <td>0.470844</td>\n",
              "    </tr>\n",
              "    <tr>\n",
              "      <th>3</th>\n",
              "      <td>0.757058</td>\n",
              "      <td>0.647415</td>\n",
              "      <td>0.678961</td>\n",
              "      <td>0.325899</td>\n",
              "      <td>0.486631</td>\n",
              "      <td>0.176353</td>\n",
              "      <td>0.522901</td>\n",
              "      <td>0.345133</td>\n",
              "      <td>0.794916</td>\n",
              "      <td>0.677111</td>\n",
              "    </tr>\n",
              "    <tr>\n",
              "      <th>4</th>\n",
              "      <td>0.689817</td>\n",
              "      <td>0.393746</td>\n",
              "      <td>0.628667</td>\n",
              "      <td>0.217986</td>\n",
              "      <td>0.807487</td>\n",
              "      <td>0.380762</td>\n",
              "      <td>0.461832</td>\n",
              "      <td>0.497788</td>\n",
              "      <td>0.754477</td>\n",
              "      <td>0.719756</td>\n",
              "    </tr>\n",
              "  </tbody>\n",
              "</table>\n",
              "</div>\n",
              "      <button class=\"colab-df-convert\" onclick=\"convertToInteractive('df-d1dac3b3-1f06-4721-8bfe-df8b2988cfaf')\"\n",
              "              title=\"Convert this dataframe to an interactive table.\"\n",
              "              style=\"display:none;\">\n",
              "        \n",
              "  <svg xmlns=\"http://www.w3.org/2000/svg\" height=\"24px\"viewBox=\"0 0 24 24\"\n",
              "       width=\"24px\">\n",
              "    <path d=\"M0 0h24v24H0V0z\" fill=\"none\"/>\n",
              "    <path d=\"M18.56 5.44l.94 2.06.94-2.06 2.06-.94-2.06-.94-.94-2.06-.94 2.06-2.06.94zm-11 1L8.5 8.5l.94-2.06 2.06-.94-2.06-.94L8.5 2.5l-.94 2.06-2.06.94zm10 10l.94 2.06.94-2.06 2.06-.94-2.06-.94-.94-2.06-.94 2.06-2.06.94z\"/><path d=\"M17.41 7.96l-1.37-1.37c-.4-.4-.92-.59-1.43-.59-.52 0-1.04.2-1.43.59L10.3 9.45l-7.72 7.72c-.78.78-.78 2.05 0 2.83L4 21.41c.39.39.9.59 1.41.59.51 0 1.02-.2 1.41-.59l7.78-7.78 2.81-2.81c.8-.78.8-2.07 0-2.86zM5.41 20L4 18.59l7.72-7.72 1.47 1.35L5.41 20z\"/>\n",
              "  </svg>\n",
              "      </button>\n",
              "      \n",
              "  <style>\n",
              "    .colab-df-container {\n",
              "      display:flex;\n",
              "      flex-wrap:wrap;\n",
              "      gap: 12px;\n",
              "    }\n",
              "\n",
              "    .colab-df-convert {\n",
              "      background-color: #E8F0FE;\n",
              "      border: none;\n",
              "      border-radius: 50%;\n",
              "      cursor: pointer;\n",
              "      display: none;\n",
              "      fill: #1967D2;\n",
              "      height: 32px;\n",
              "      padding: 0 0 0 0;\n",
              "      width: 32px;\n",
              "    }\n",
              "\n",
              "    .colab-df-convert:hover {\n",
              "      background-color: #E2EBFA;\n",
              "      box-shadow: 0px 1px 2px rgba(60, 64, 67, 0.3), 0px 1px 3px 1px rgba(60, 64, 67, 0.15);\n",
              "      fill: #174EA6;\n",
              "    }\n",
              "\n",
              "    [theme=dark] .colab-df-convert {\n",
              "      background-color: #3B4455;\n",
              "      fill: #D2E3FC;\n",
              "    }\n",
              "\n",
              "    [theme=dark] .colab-df-convert:hover {\n",
              "      background-color: #434B5C;\n",
              "      box-shadow: 0px 1px 3px 1px rgba(0, 0, 0, 0.15);\n",
              "      filter: drop-shadow(0px 1px 2px rgba(0, 0, 0, 0.3));\n",
              "      fill: #FFFFFF;\n",
              "    }\n",
              "  </style>\n",
              "\n",
              "      <script>\n",
              "        const buttonEl =\n",
              "          document.querySelector('#df-d1dac3b3-1f06-4721-8bfe-df8b2988cfaf button.colab-df-convert');\n",
              "        buttonEl.style.display =\n",
              "          google.colab.kernel.accessAllowed ? 'block' : 'none';\n",
              "\n",
              "        async function convertToInteractive(key) {\n",
              "          const element = document.querySelector('#df-d1dac3b3-1f06-4721-8bfe-df8b2988cfaf');\n",
              "          const dataTable =\n",
              "            await google.colab.kernel.invokeFunction('convertToInteractive',\n",
              "                                                     [key], {});\n",
              "          if (!dataTable) return;\n",
              "\n",
              "          const docLinkHtml = 'Like what you see? Visit the ' +\n",
              "            '<a target=\"_blank\" href=https://colab.research.google.com/notebooks/data_table.ipynb>data table notebook</a>'\n",
              "            + ' to learn more about interactive tables.';\n",
              "          element.innerHTML = '';\n",
              "          dataTable['output_type'] = 'display_data';\n",
              "          await google.colab.output.renderOutput(dataTable, element);\n",
              "          const docLink = document.createElement('div');\n",
              "          docLink.innerHTML = docLinkHtml;\n",
              "          element.appendChild(docLink);\n",
              "        }\n",
              "      </script>\n",
              "    </div>\n",
              "  </div>\n",
              "  "
            ]
          },
          "metadata": {},
          "execution_count": 75
        }
      ]
    },
    {
      "cell_type": "markdown",
      "source": [
        "#Feature Selection - KBest using Chi2 tests"
      ],
      "metadata": {
        "id": "dnzUdqOKBMrn"
      }
    },
    {
      "cell_type": "code",
      "source": [
        "#importing the KBest and Chi2 packages\n",
        "from sklearn.feature_selection import SelectKBest\n",
        "from sklearn.feature_selection import chi2"
      ],
      "metadata": {
        "id": "nJ8TM6pDBNqk"
      },
      "execution_count": null,
      "outputs": []
    },
    {
      "cell_type": "code",
      "source": [
        "#ranking the features\n",
        "select_k_best_rank_features = SelectKBest(score_func = chi2, k = 5)\n",
        "k_best_features = select_k_best_rank_features.fit(df2x_normalised,df2y)\n",
        "\n",
        "df_k_scores = pd.DataFrame(k_best_features.scores_, columns = ['score'])\n",
        "dfcolumns = pd.DataFrame(df2x_normalised.columns)\n",
        "\n",
        "k_best_feature_rank = pd.concat([dfcolumns, df_k_scores], axis = 1)\n",
        "\n",
        "k_best_feature_rank.columns = ('features', 'k_score')\n",
        "print(k_best_feature_rank.nlargest(10, 'k_score'))"
      ],
      "metadata": {
        "colab": {
          "base_uri": "https://localhost:8080/"
        },
        "id": "_ujai4cOBSjA",
        "outputId": "05e9f8f3-0079-479b-c6c7-2fdfabfa5b51"
      },
      "execution_count": null,
      "outputs": [
        {
          "output_type": "stream",
          "name": "stdout",
          "text": [
            "  features     k_score\n",
            "0     time  940.273325\n",
            "1    acc_x  255.570729\n",
            "7    mag_x  175.434053\n",
            "8    mag_y  136.217973\n",
            "3    acc_z   68.554951\n",
            "2    acc_y   62.404380\n",
            "9    mag_z   43.392760\n",
            "4    gyr_x    1.128435\n",
            "5    gyr_y    0.687867\n",
            "6    gyr_z    0.684788\n"
          ]
        }
      ]
    },
    {
      "cell_type": "code",
      "source": [
        "#Feature Selection using Mutual Info. Classifier\n",
        "from sklearn.feature_selection import mutual_info_classif\n",
        "mutual_info = mutual_info_classif(df2x_normalised, df2y)\n",
        "\n",
        "mutual_data = pd.Series(mutual_info, index = df2x_normalised.columns)\n",
        "mutual_data.sort_values(ascending = False)\n",
        "\n",
        "print(mutual_data.nlargest(10))\n",
        "\n",
        "mutual_data.nlargest(10).plot(kind = 'barh')\n",
        "plt.show()"
      ],
      "metadata": {
        "colab": {
          "base_uri": "https://localhost:8080/",
          "height": 456
        },
        "id": "8WosRMRjB7w8",
        "outputId": "139aa358-5b6b-4e6a-c137-7c3faf6ac512"
      },
      "execution_count": null,
      "outputs": [
        {
          "output_type": "stream",
          "name": "stdout",
          "text": [
            "time     1.303614\n",
            "mag_y    0.421753\n",
            "mag_x    0.290664\n",
            "acc_x    0.281616\n",
            "mag_z    0.211629\n",
            "gyr_y    0.159022\n",
            "gyr_z    0.157191\n",
            "gyr_x    0.147541\n",
            "acc_y    0.130596\n",
            "acc_z    0.129696\n",
            "dtype: float64\n"
          ]
        },
        {
          "output_type": "display_data",
          "data": {
            "text/plain": [
              "<Figure size 432x288 with 1 Axes>"
            ],
            "image/png": "[encoded data removed]"
          },
          "metadata": {
            "needs_background": "light"
          }
        }
      ]
    },
    {
      "cell_type": "markdown",
      "source": [
        "**From the above 2 methods of feature selection, we can find that the insignificant features are gyr_x, gyr_y, gyr_z , acc_y and mag_z. Hence we need to drop these features while we create the models**"
      ],
      "metadata": {
        "id": "2TuUXLNnCRjx"
      }
    },
    {
      "cell_type": "code",
      "source": [
        "#dropping the insignificant features\n",
        "df2x_normalised.drop(['acc_y','gyr_x','gyr_y','gyr_z','mag_z'],inplace = True, axis = 1)"
      ],
      "metadata": {
        "id": "08HZO8-eCSvO"
      },
      "execution_count": null,
      "outputs": []
    },
    {
      "cell_type": "code",
      "source": [
        "#checking if the insignificant features are dropped\n",
        "df2x_normalised.head()"
      ],
      "metadata": {
        "colab": {
          "base_uri": "https://localhost:8080/",
          "height": 206
        },
        "id": "h4I0h_jpCbPQ",
        "outputId": "b4e8492b-5dfb-48a3-c5eb-b327069373a9"
      },
      "execution_count": null,
      "outputs": [
        {
          "output_type": "execute_result",
          "data": {
            "text/plain": [
              "       time     acc_x     acc_z     mag_x     mag_y\n",
              "0  0.711734  0.526165  0.293525  0.402655  0.768920\n",
              "1  0.705680  0.395661  0.478417  0.621681  0.424032\n",
              "2  0.679305  0.451819  0.553957  0.346239  0.446563\n",
              "3  0.757058  0.647415  0.325899  0.345133  0.794916\n",
              "4  0.689817  0.393746  0.217986  0.497788  0.754477"
            ],
            "text/html": [
              "\n",
              "  <div id=\"df-e1d22189-ff78-40dc-a00b-7fe2fe3744e6\">\n",
              "    <div class=\"colab-df-container\">\n",
              "      <div>\n",
              "<style scoped>\n",
              "    .dataframe tbody tr th:only-of-type {\n",
              "        vertical-align: middle;\n",
              "    }\n",
              "\n",
              "    .dataframe tbody tr th {\n",
              "        vertical-align: top;\n",
              "    }\n",
              "\n",
              "    .dataframe thead th {\n",
              "        text-align: right;\n",
              "    }\n",
              "</style>\n",
              "<table border=\"1\" class=\"dataframe\">\n",
              "  <thead>\n",
              "    <tr style=\"text-align: right;\">\n",
              "      <th></th>\n",
              "      <th>time</th>\n",
              "      <th>acc_x</th>\n",
              "      <th>acc_z</th>\n",
              "      <th>mag_x</th>\n",
              "      <th>mag_y</th>\n",
              "    </tr>\n",
              "  </thead>\n",
              "  <tbody>\n",
              "    <tr>\n",
              "      <th>0</th>\n",
              "      <td>0.711734</td>\n",
              "      <td>0.526165</td>\n",
              "      <td>0.293525</td>\n",
              "      <td>0.402655</td>\n",
              "      <td>0.768920</td>\n",
              "    </tr>\n",
              "    <tr>\n",
              "      <th>1</th>\n",
              "      <td>0.705680</td>\n",
              "      <td>0.395661</td>\n",
              "      <td>0.478417</td>\n",
              "      <td>0.621681</td>\n",
              "      <td>0.424032</td>\n",
              "    </tr>\n",
              "    <tr>\n",
              "      <th>2</th>\n",
              "      <td>0.679305</td>\n",
              "      <td>0.451819</td>\n",
              "      <td>0.553957</td>\n",
              "      <td>0.346239</td>\n",
              "      <td>0.446563</td>\n",
              "    </tr>\n",
              "    <tr>\n",
              "      <th>3</th>\n",
              "      <td>0.757058</td>\n",
              "      <td>0.647415</td>\n",
              "      <td>0.325899</td>\n",
              "      <td>0.345133</td>\n",
              "      <td>0.794916</td>\n",
              "    </tr>\n",
              "    <tr>\n",
              "      <th>4</th>\n",
              "      <td>0.689817</td>\n",
              "      <td>0.393746</td>\n",
              "      <td>0.217986</td>\n",
              "      <td>0.497788</td>\n",
              "      <td>0.754477</td>\n",
              "    </tr>\n",
              "  </tbody>\n",
              "</table>\n",
              "</div>\n",
              "      <button class=\"colab-df-convert\" onclick=\"convertToInteractive('df-e1d22189-ff78-40dc-a00b-7fe2fe3744e6')\"\n",
              "              title=\"Convert this dataframe to an interactive table.\"\n",
              "              style=\"display:none;\">\n",
              "        \n",
              "  <svg xmlns=\"http://www.w3.org/2000/svg\" height=\"24px\"viewBox=\"0 0 24 24\"\n",
              "       width=\"24px\">\n",
              "    <path d=\"M0 0h24v24H0V0z\" fill=\"none\"/>\n",
              "    <path d=\"M18.56 5.44l.94 2.06.94-2.06 2.06-.94-2.06-.94-.94-2.06-.94 2.06-2.06.94zm-11 1L8.5 8.5l.94-2.06 2.06-.94-2.06-.94L8.5 2.5l-.94 2.06-2.06.94zm10 10l.94 2.06.94-2.06 2.06-.94-2.06-.94-.94-2.06-.94 2.06-2.06.94z\"/><path d=\"M17.41 7.96l-1.37-1.37c-.4-.4-.92-.59-1.43-.59-.52 0-1.04.2-1.43.59L10.3 9.45l-7.72 7.72c-.78.78-.78 2.05 0 2.83L4 21.41c.39.39.9.59 1.41.59.51 0 1.02-.2 1.41-.59l7.78-7.78 2.81-2.81c.8-.78.8-2.07 0-2.86zM5.41 20L4 18.59l7.72-7.72 1.47 1.35L5.41 20z\"/>\n",
              "  </svg>\n",
              "      </button>\n",
              "      \n",
              "  <style>\n",
              "    .colab-df-container {\n",
              "      display:flex;\n",
              "      flex-wrap:wrap;\n",
              "      gap: 12px;\n",
              "    }\n",
              "\n",
              "    .colab-df-convert {\n",
              "      background-color: #E8F0FE;\n",
              "      border: none;\n",
              "      border-radius: 50%;\n",
              "      cursor: pointer;\n",
              "      display: none;\n",
              "      fill: #1967D2;\n",
              "      height: 32px;\n",
              "      padding: 0 0 0 0;\n",
              "      width: 32px;\n",
              "    }\n",
              "\n",
              "    .colab-df-convert:hover {\n",
              "      background-color: #E2EBFA;\n",
              "      box-shadow: 0px 1px 2px rgba(60, 64, 67, 0.3), 0px 1px 3px 1px rgba(60, 64, 67, 0.15);\n",
              "      fill: #174EA6;\n",
              "    }\n",
              "\n",
              "    [theme=dark] .colab-df-convert {\n",
              "      background-color: #3B4455;\n",
              "      fill: #D2E3FC;\n",
              "    }\n",
              "\n",
              "    [theme=dark] .colab-df-convert:hover {\n",
              "      background-color: #434B5C;\n",
              "      box-shadow: 0px 1px 3px 1px rgba(0, 0, 0, 0.15);\n",
              "      filter: drop-shadow(0px 1px 2px rgba(0, 0, 0, 0.3));\n",
              "      fill: #FFFFFF;\n",
              "    }\n",
              "  </style>\n",
              "\n",
              "      <script>\n",
              "        const buttonEl =\n",
              "          document.querySelector('#df-e1d22189-ff78-40dc-a00b-7fe2fe3744e6 button.colab-df-convert');\n",
              "        buttonEl.style.display =\n",
              "          google.colab.kernel.accessAllowed ? 'block' : 'none';\n",
              "\n",
              "        async function convertToInteractive(key) {\n",
              "          const element = document.querySelector('#df-e1d22189-ff78-40dc-a00b-7fe2fe3744e6');\n",
              "          const dataTable =\n",
              "            await google.colab.kernel.invokeFunction('convertToInteractive',\n",
              "                                                     [key], {});\n",
              "          if (!dataTable) return;\n",
              "\n",
              "          const docLinkHtml = 'Like what you see? Visit the ' +\n",
              "            '<a target=\"_blank\" href=https://colab.research.google.com/notebooks/data_table.ipynb>data table notebook</a>'\n",
              "            + ' to learn more about interactive tables.';\n",
              "          element.innerHTML = '';\n",
              "          dataTable['output_type'] = 'display_data';\n",
              "          await google.colab.output.renderOutput(dataTable, element);\n",
              "          const docLink = document.createElement('div');\n",
              "          docLink.innerHTML = docLinkHtml;\n",
              "          element.appendChild(docLink);\n",
              "        }\n",
              "      </script>\n",
              "    </div>\n",
              "  </div>\n",
              "  "
            ]
          },
          "metadata": {},
          "execution_count": 80
        }
      ]
    },
    {
      "cell_type": "markdown",
      "source": [
        "#Splitting the data into Training and Testing data"
      ],
      "metadata": {
        "id": "NIqYlSBlCkik"
      }
    },
    {
      "cell_type": "code",
      "source": [
        "#splitting the data into train and combined data(test data +validation data) in 80-20 ratio\n",
        "from sklearn.model_selection import train_test_split\n",
        "X_train,X_combine,Y_train,Y_combine = train_test_split(df2x_normalised,df2y,train_size=0.80, random_state=500)\n",
        "X_train.shape,X_combine.shape,Y_train.shape,Y_combine.shape"
      ],
      "metadata": {
        "colab": {
          "base_uri": "https://localhost:8080/"
        },
        "id": "SSkX34vnClkC",
        "outputId": "e9b98737-3c83-48e3-9f69-47bccbf8adb5"
      },
      "execution_count": null,
      "outputs": [
        {
          "output_type": "execute_result",
          "data": {
            "text/plain": [
              "((16000, 5), (4000, 5), (16000, 1), (4000, 1))"
            ]
          },
          "metadata": {},
          "execution_count": 81
        }
      ]
    },
    {
      "cell_type": "code",
      "source": [
        "#splitting the combined data into test and validation data in 50-50 percentage\n",
        "X_val,X_test,Y_val,Y_test = train_test_split(X_combine,Y_combine,test_size=0.50, random_state=500)\n",
        "X_val.shape,X_test.shape,Y_val.shape,Y_test.shape"
      ],
      "metadata": {
        "colab": {
          "base_uri": "https://localhost:8080/"
        },
        "id": "GuXmNocHCw8D",
        "outputId": "979fc6c5-fd72-4729-84de-e5ac12e4ce4c"
      },
      "execution_count": null,
      "outputs": [
        {
          "output_type": "execute_result",
          "data": {
            "text/plain": [
              "((2000, 5), (2000, 5), (2000, 1), (2000, 1))"
            ]
          },
          "metadata": {},
          "execution_count": 82
        }
      ]
    },
    {
      "cell_type": "markdown",
      "source": [
        "#Build Model - Decision Tree Classifier for df2"
      ],
      "metadata": {
        "id": "1cjKnV9qC4Gz"
      }
    },
    {
      "cell_type": "code",
      "source": [
        "#model training on training data and predicting for test data\n",
        "from sklearn.tree import DecisionTreeClassifier\n",
        "dtc = DecisionTreeClassifier(criterion = 'entropy', max_depth = 10)\n",
        "dtc.fit(X_train,Y_train)\n",
        "y_pred = dtc.predict(X_test)"
      ],
      "metadata": {
        "id": "IXidiVI7C9q2"
      },
      "execution_count": null,
      "outputs": []
    },
    {
      "cell_type": "markdown",
      "source": [
        "**Model Evaluation - Decision Tree**"
      ],
      "metadata": {
        "id": "Y3u8Az7yDePY"
      }
    },
    {
      "cell_type": "code",
      "source": [
        "# importing and creating a confusion matrix,which compares the Y_test and y_pred values\n",
        "\n",
        "from sklearn.metrics import confusion_matrix\n",
        "cm = confusion_matrix(Y_test, y_pred)\n",
        "print ('Confusion\\n')\n",
        "print (cm)"
      ],
      "metadata": {
        "colab": {
          "base_uri": "https://localhost:8080/"
        },
        "id": "hciAoIcmDfGB",
        "outputId": "828aa01d-781c-40d9-9298-d133ffdc7165"
      },
      "execution_count": null,
      "outputs": [
        {
          "output_type": "stream",
          "name": "stdout",
          "text": [
            "Confusion\n",
            "\n",
            "[[469   0   1  48   2  10  12   8   0]\n",
            " [  2   3   2   1   0   1   0   0   0]\n",
            " [  0   0  22   0   1   2   2   0   1]\n",
            " [ 14   0   0 310   3  35  15  12   0]\n",
            " [  5   0   1   8 257   5  27   0   4]\n",
            " [  9   0   0  13   1 235   1   5   0]\n",
            " [  0   0   0   2  22   1 300   2   1]\n",
            " [  6   1   3   9   0   2   1  34   1]\n",
            " [  0   0   0   0   1   1   2   0  64]]\n"
          ]
        }
      ]
    },
    {
      "cell_type": "code",
      "source": [
        "#importing accuracy_score, precision_score, recall_score, f1_score\n",
        "from sklearn.metrics import accuracy_score, precision_score, recall_score, f1_score\n",
        "print('\\nAccuracy: {:.2f}\\n'.format(accuracy_score(Y_test, y_pred)))\n",
        "\n",
        "print('Micro Precision: {:.2f}'.format(precision_score(Y_test, y_pred, average='micro')))\n",
        "print('Micro Recall: {:.2f}'.format(recall_score(Y_test, y_pred, average='micro')))\n",
        "print('Micro F1-score: {:.2f}\\n'.format(f1_score(Y_test, y_pred, average='micro')))\n",
        "\n",
        "print('Macro Precision: {:.2f}'.format(precision_score(Y_test, y_pred, average='macro')))\n",
        "print('Macro Recall: {:.2f}'.format(recall_score(Y_test, y_pred, average='macro')))\n",
        "print('Macro F1-score: {:.2f}\\n'.format(f1_score(Y_test, y_pred, average='macro')))\n",
        "\n",
        "print('Weighted Precision: {:.2f}'.format(precision_score(Y_test, y_pred, average='weighted')))\n",
        "print('Weighted Recall: {:.2f}'.format(recall_score(Y_test, y_pred, average='weighted')))\n",
        "print('Weighted F1-score: {:.2f}'.format(f1_score(Y_test, y_pred, average='weighted')))\n",
        "\n",
        "from sklearn.metrics import classification_report\n",
        "print('\\nClassification Report\\n')\n",
        "print(classification_report(Y_test, y_pred))"
      ],
      "metadata": {
        "colab": {
          "base_uri": "https://localhost:8080/"
        },
        "id": "Cl_55z8SD7Ez",
        "outputId": "598e0dd3-c1e9-4179-ace6-8eac73ac1416"
      },
      "execution_count": null,
      "outputs": [
        {
          "output_type": "stream",
          "name": "stdout",
          "text": [
            "\n",
            "Accuracy: 0.85\n",
            "\n",
            "Micro Precision: 0.85\n",
            "Micro Recall: 0.85\n",
            "Micro F1-score: 0.85\n",
            "\n",
            "Macro Precision: 0.80\n",
            "Macro Recall: 0.77\n",
            "Macro F1-score: 0.78\n",
            "\n",
            "Weighted Precision: 0.85\n",
            "Weighted Recall: 0.85\n",
            "Weighted F1-score: 0.85\n",
            "\n",
            "Classification Report\n",
            "\n",
            "              precision    recall  f1-score   support\n",
            "\n",
            "           1       0.93      0.85      0.89       550\n",
            "           2       0.75      0.33      0.46         9\n",
            "           3       0.76      0.79      0.77        28\n",
            "           4       0.79      0.80      0.79       389\n",
            "           5       0.90      0.84      0.87       307\n",
            "           6       0.80      0.89      0.85       264\n",
            "           7       0.83      0.91      0.87       328\n",
            "           8       0.56      0.60      0.58        57\n",
            "           9       0.90      0.94      0.92        68\n",
            "\n",
            "    accuracy                           0.85      2000\n",
            "   macro avg       0.80      0.77      0.78      2000\n",
            "weighted avg       0.85      0.85      0.85      2000\n",
            "\n"
          ]
        }
      ]
    },
    {
      "cell_type": "markdown",
      "source": [
        "#Build Model - Linear Regression for df2"
      ],
      "metadata": {
        "id": "UxPIC0syFulG"
      }
    },
    {
      "cell_type": "code",
      "source": [
        "#splitting the data into train and combined data(test data +validation data) in 80-20 ratio\n",
        "from sklearn.model_selection import train_test_split\n",
        "X_train,X_combine,Y_train,Y_combine = train_test_split(df2x_normalised,df2y,train_size=0.80, random_state=0)\n",
        "X_train.shape,X_combine.shape,Y_train.shape,Y_combine.shape"
      ],
      "metadata": {
        "colab": {
          "base_uri": "https://localhost:8080/"
        },
        "id": "9e5IsUPmRC_D",
        "outputId": "c38eb6f6-3e30-4678-900a-e18acf381001"
      },
      "execution_count": null,
      "outputs": [
        {
          "output_type": "execute_result",
          "data": {
            "text/plain": [
              "((16000, 5), (4000, 5), (16000, 1), (4000, 1))"
            ]
          },
          "metadata": {},
          "execution_count": 86
        }
      ]
    },
    {
      "cell_type": "code",
      "source": [
        "#splitting the combined data into test and validation data in 50-50 percentage\n",
        "X_val,X_test,Y_val,Y_test = train_test_split(X_combine,Y_combine,test_size=0.50, random_state=0)\n",
        "X_val.shape,X_test.shape,Y_val.shape,Y_test.shape"
      ],
      "metadata": {
        "colab": {
          "base_uri": "https://localhost:8080/"
        },
        "id": "1WlcX0HHRHjx",
        "outputId": "2677fca2-59c3-4c53-901a-48405955dc93"
      },
      "execution_count": null,
      "outputs": [
        {
          "output_type": "execute_result",
          "data": {
            "text/plain": [
              "((2000, 5), (2000, 5), (2000, 1), (2000, 1))"
            ]
          },
          "metadata": {},
          "execution_count": 87
        }
      ]
    },
    {
      "cell_type": "code",
      "source": [
        "#model training on training data and predicting for test data\n",
        "from sklearn.linear_model import LogisticRegression\n",
        "LG = LogisticRegression()\n",
        "LG.fit(X_train,Y_train)\n",
        "y_pred = LG.predict(X_test)"
      ],
      "metadata": {
        "id": "DC8djOaTFt7D"
      },
      "execution_count": null,
      "outputs": []
    },
    {
      "cell_type": "markdown",
      "source": [
        "**Model Evaluation - Logistic Regression**"
      ],
      "metadata": {
        "id": "AAEOnAf3GQ5R"
      }
    },
    {
      "cell_type": "code",
      "source": [
        "# importing and creating a confusion matrix,which compares the Y_test and y_pred values\n",
        "\n",
        "from sklearn.metrics import confusion_matrix\n",
        "cm = confusion_matrix(Y_test, y_pred)\n",
        "print ('Confusion\\n')\n",
        "print (cm)"
      ],
      "metadata": {
        "colab": {
          "base_uri": "https://localhost:8080/"
        },
        "id": "5iQy3re8GVxq",
        "outputId": "c351845e-1c0b-4798-aa5c-d843820e5ead"
      },
      "execution_count": null,
      "outputs": [
        {
          "output_type": "stream",
          "name": "stdout",
          "text": [
            "Confusion\n",
            "\n",
            "[[320   0   0 181  28   7  19   0   2]\n",
            " [  3   0   0   0   0   0   2   0   0]\n",
            " [ 13   0   0   2   5   2   2   0   0]\n",
            " [147   0   0 235  16   3  12   0   0]\n",
            " [ 55   0   0  27  85   0 107   0   1]\n",
            " [ 88   0   0 113   0  37  10   0   1]\n",
            " [ 81   0   0  33  74   0 157   0   0]\n",
            " [ 34   0   0  32   2   0   0   0   0]\n",
            " [ 30   0   0   4   1   0   1   0  28]]\n"
          ]
        }
      ]
    },
    {
      "cell_type": "code",
      "source": [
        "#importing accuracy_score, precision_score, recall_score, f1_score\n",
        "from sklearn.metrics import accuracy_score, precision_score, recall_score, f1_score\n",
        "print('\\nAccuracy: {:.2f}\\n'.format(accuracy_score(Y_test, y_pred)))\n",
        "\n",
        "print('Micro Precision: {:.2f}'.format(precision_score(Y_test, y_pred, average='micro')))\n",
        "print('Micro Recall: {:.2f}'.format(recall_score(Y_test, y_pred, average='micro')))\n",
        "print('Micro F1-score: {:.2f}\\n'.format(f1_score(Y_test, y_pred, average='micro')))\n",
        "\n",
        "print('Macro Precision: {:.2f}'.format(precision_score(Y_test, y_pred, average='macro')))\n",
        "print('Macro Recall: {:.2f}'.format(recall_score(Y_test, y_pred, average='macro')))\n",
        "print('Macro F1-score: {:.2f}\\n'.format(f1_score(Y_test, y_pred, average='macro')))\n",
        "\n",
        "print('Weighted Precision: {:.2f}'.format(precision_score(Y_test, y_pred, average='weighted')))\n",
        "print('Weighted Recall: {:.2f}'.format(recall_score(Y_test, y_pred, average='weighted')))\n",
        "print('Weighted F1-score: {:.2f}'.format(f1_score(Y_test, y_pred, average='weighted')))\n",
        "\n",
        "from sklearn.metrics import classification_report\n",
        "print('\\nClassification Report\\n')\n",
        "print(classification_report(Y_test, y_pred))"
      ],
      "metadata": {
        "colab": {
          "base_uri": "https://localhost:8080/"
        },
        "id": "B82JdBeJQtQJ",
        "outputId": "05dedfd2-0938-4f8b-ff6f-491ffb0edd79"
      },
      "execution_count": null,
      "outputs": [
        {
          "output_type": "stream",
          "name": "stdout",
          "text": [
            "\n",
            "Accuracy: 0.43\n",
            "\n",
            "Micro Precision: 0.43\n",
            "Micro Recall: 0.43\n",
            "Micro F1-score: 0.43\n",
            "\n",
            "Macro Precision: 0.37\n",
            "Macro Recall: 0.28\n",
            "Macro F1-score: 0.29\n",
            "\n",
            "Weighted Precision: 0.46\n",
            "Weighted Recall: 0.43\n",
            "Weighted F1-score: 0.41\n",
            "\n",
            "Classification Report\n",
            "\n",
            "              precision    recall  f1-score   support\n",
            "\n",
            "           1       0.42      0.57      0.48       557\n",
            "           2       0.00      0.00      0.00         5\n",
            "           3       0.00      0.00      0.00        24\n",
            "           4       0.37      0.57      0.45       413\n",
            "           5       0.40      0.31      0.35       275\n",
            "           6       0.76      0.15      0.25       249\n",
            "           7       0.51      0.46      0.48       345\n",
            "           8       0.00      0.00      0.00        68\n",
            "           9       0.88      0.44      0.58        64\n",
            "\n",
            "    accuracy                           0.43      2000\n",
            "   macro avg       0.37      0.28      0.29      2000\n",
            "weighted avg       0.46      0.43      0.41      2000\n",
            "\n"
          ]
        }
      ]
    },
    {
      "cell_type": "markdown",
      "source": [
        "#Checking if the evaluation parameter scores can be bettered using SMOTE"
      ],
      "metadata": {
        "id": "haHZTil2pKLr"
      }
    },
    {
      "cell_type": "markdown",
      "source": [
        "*SMOTE - Synthetic Minority Oversampling Technique is an oversampling technique where the synthetic samples are generated for the minority class. This algorithm helps to overcome the overfitting problem posed by random oversampling.*"
      ],
      "metadata": {
        "id": "VWAYRX8JpPWn"
      }
    },
    {
      "cell_type": "code",
      "source": [
        "!pip install imblearn"
      ],
      "metadata": {
        "colab": {
          "base_uri": "https://localhost:8080/"
        },
        "id": "pb57Vi2SpLxa",
        "outputId": "40f45809-5299-4df7-99b7-1366a36e599c"
      },
      "execution_count": null,
      "outputs": [
        {
          "output_type": "stream",
          "name": "stdout",
          "text": [
            "Looking in indexes: https://pypi.org/simple, https://us-python.pkg.dev/colab-wheels/public/simple/\n",
            "Requirement already satisfied: imblearn in /usr/local/lib/python3.7/dist-packages (0.0)\n",
            "Requirement already satisfied: imbalanced-learn in /usr/local/lib/python3.7/dist-packages (from imblearn) (0.8.1)\n",
            "Requirement already satisfied: scikit-learn>=0.24 in /usr/local/lib/python3.7/dist-packages (from imbalanced-learn->imblearn) (1.0.2)\n",
            "Requirement already satisfied: joblib>=0.11 in /usr/local/lib/python3.7/dist-packages (from imbalanced-learn->imblearn) (1.2.0)\n",
            "Requirement already satisfied: numpy>=1.13.3 in /usr/local/lib/python3.7/dist-packages (from imbalanced-learn->imblearn) (1.21.6)\n",
            "Requirement already satisfied: scipy>=0.19.1 in /usr/local/lib/python3.7/dist-packages (from imbalanced-learn->imblearn) (1.7.3)\n",
            "Requirement already satisfied: threadpoolctl>=2.0.0 in /usr/local/lib/python3.7/dist-packages (from scikit-learn>=0.24->imbalanced-learn->imblearn) (3.1.0)\n"
          ]
        }
      ]
    },
    {
      "cell_type": "code",
      "source": [
        "#checking the count of each 'label' in Y_train \n",
        "df2y , count = np.unique(Y_train,return_counts = True)\n",
        "Y_train_dict_value_count = { k:v for (k,v) in zip(df2x_normalised , count)}\n",
        "Y_train_dict_value_count"
      ],
      "metadata": {
        "colab": {
          "base_uri": "https://localhost:8080/"
        },
        "id": "cZpTgciypVhz",
        "outputId": "41f5291f-ec14-4e8a-df97-952cb20cbb1e"
      },
      "execution_count": null,
      "outputs": [
        {
          "output_type": "execute_result",
          "data": {
            "text/plain": [
              "{1: 4413, 2: 76, 3: 194, 4: 3317, 5: 2247, 6: 2236, 7: 2519, 8: 453, 9: 545}"
            ]
          },
          "metadata": {},
          "execution_count": 102
        }
      ]
    },
    {
      "cell_type": "code",
      "source": [
        "#importing the SMOTE package and fitting the same for the test and train data\n",
        "from imblearn.over_sampling import SMOTE\n",
        "smote = SMOTE(random_state = 10)\n",
        "\n",
        "X_train_smote, Y_train_smote = smote.fit_resample(X_train,Y_train)"
      ],
      "metadata": {
        "id": "bwMTi2ukp1xh"
      },
      "execution_count": null,
      "outputs": []
    },
    {
      "cell_type": "code",
      "source": [
        "#checking the count of each 'label' in Y_train after SMOTE\n",
        "df2y , count = np.unique(Y_train_smote,return_counts = True)\n",
        "Y_train_smote_value_count = { k:v for (k,v) in zip(df2x_normalised , count)}\n",
        "Y_train_smote_value_count"
      ],
      "metadata": {
        "colab": {
          "base_uri": "https://localhost:8080/"
        },
        "id": "n7nGe0DDp79e",
        "outputId": "e86ed09b-45b1-41d6-d09a-2292f47b5d54"
      },
      "execution_count": null,
      "outputs": [
        {
          "output_type": "execute_result",
          "data": {
            "text/plain": [
              "{1: 4413,\n",
              " 2: 4413,\n",
              " 3: 4413,\n",
              " 4: 4413,\n",
              " 5: 4413,\n",
              " 6: 4413,\n",
              " 7: 4413,\n",
              " 8: 4413,\n",
              " 9: 4413}"
            ]
          },
          "metadata": {},
          "execution_count": 103
        }
      ]
    },
    {
      "cell_type": "markdown",
      "source": [
        "#Model Building using Decision Tree after SMOTE "
      ],
      "metadata": {
        "id": "fo2Xn8yzqZcG"
      }
    },
    {
      "cell_type": "code",
      "source": [
        "#model training on training data and predicting for test data\n",
        "from sklearn.tree import DecisionTreeClassifier\n",
        "dtc = DecisionTreeClassifier(criterion = 'entropy', max_depth = 10)\n",
        "dtc.fit(X_train_smote,Y_train_smote)\n",
        "Y_pred = dtc.predict(X_test)"
      ],
      "metadata": {
        "id": "ey-W6VELqYQB"
      },
      "execution_count": null,
      "outputs": []
    },
    {
      "cell_type": "markdown",
      "source": [
        "Evaluating the model built on SVC , after SMOTE is done\n"
      ],
      "metadata": {
        "id": "0leWnkJYq3Bi"
      }
    },
    {
      "cell_type": "code",
      "source": [
        "from sklearn.metrics import confusion_matrix\n",
        "cm = confusion_matrix(Y_test, Y_pred)\n",
        "print ('Confusion\\n')\n",
        "print (cm)"
      ],
      "metadata": {
        "colab": {
          "base_uri": "https://localhost:8080/"
        },
        "id": "7M5Yz_U8q16h",
        "outputId": "b8fc8c9a-d21b-4fbb-edf6-7d29497eb41d"
      },
      "execution_count": null,
      "outputs": [
        {
          "output_type": "stream",
          "name": "stdout",
          "text": [
            "Confusion\n",
            "\n",
            "[[397   0   6 101   5  22   2  24   0]\n",
            " [  0   4   1   0   0   0   0   0   0]\n",
            " [  0   2  17   1   2   1   0   1   0]\n",
            " [ 13   0   3 318   4  23  23  29   0]\n",
            " [  1   0   4   7 188   7  60   3   5]\n",
            " [  4   1   1  72   1 157   4   9   0]\n",
            " [  4   1   0   2  41  10 279   7   1]\n",
            " [  8   5   1   4   1   1   0  48   0]\n",
            " [  0   0   0   2   1   0   1   2  58]]\n"
          ]
        }
      ]
    },
    {
      "cell_type": "code",
      "source": [
        "#importing accuracy_score, precision_score, recall_score, f1_score\n",
        "from sklearn.metrics import accuracy_score, precision_score, recall_score, f1_score\n",
        "print('\\nAccuracy: {:.2f}\\n'.format(accuracy_score(Y_test, Y_pred)))\n",
        "\n",
        "print('Micro Precision: {:.2f}'.format(precision_score(Y_test, Y_pred, average='micro')))\n",
        "print('Micro Recall: {:.2f}'.format(recall_score(Y_test, Y_pred, average='micro')))\n",
        "print('Micro F1-score: {:.2f}\\n'.format(f1_score(Y_test, Y_pred, average='micro')))\n",
        "\n",
        "print('Macro Precision: {:.2f}'.format(precision_score(Y_test, Y_pred, average='macro')))\n",
        "print('Macro Recall: {:.2f}'.format(recall_score(Y_test, Y_pred, average='macro')))\n",
        "print('Macro F1-score: {:.2f}\\n'.format(f1_score(Y_test, Y_pred, average='macro')))\n",
        "\n",
        "print('Weighted Precision: {:.2f}'.format(precision_score(Y_test, Y_pred, average='weighted')))\n",
        "print('Weighted Recall: {:.2f}'.format(recall_score(Y_test, Y_pred, average='weighted')))\n",
        "print('Weighted F1-score: {:.2f}'.format(f1_score(Y_test, Y_pred, average='weighted')))\n",
        "\n",
        "from sklearn.metrics import classification_report\n",
        "print('\\nClassification Report\\n')\n",
        "print(classification_report(Y_test, Y_pred))"
      ],
      "metadata": {
        "colab": {
          "base_uri": "https://localhost:8080/"
        },
        "id": "FSnhSmUArDQJ",
        "outputId": "740c0eae-de29-444c-9735-f016100fb0c2"
      },
      "execution_count": null,
      "outputs": [
        {
          "output_type": "stream",
          "name": "stdout",
          "text": [
            "\n",
            "Accuracy: 0.73\n",
            "\n",
            "Micro Precision: 0.73\n",
            "Micro Recall: 0.73\n",
            "Micro F1-score: 0.73\n",
            "\n",
            "Macro Precision: 0.66\n",
            "Macro Recall: 0.75\n",
            "Macro F1-score: 0.68\n",
            "\n",
            "Weighted Precision: 0.76\n",
            "Weighted Recall: 0.73\n",
            "Weighted F1-score: 0.74\n",
            "\n",
            "Classification Report\n",
            "\n",
            "              precision    recall  f1-score   support\n",
            "\n",
            "           1       0.93      0.71      0.81       557\n",
            "           2       0.31      0.80      0.44         5\n",
            "           3       0.52      0.71      0.60        24\n",
            "           4       0.63      0.77      0.69       413\n",
            "           5       0.77      0.68      0.73       275\n",
            "           6       0.71      0.63      0.67       249\n",
            "           7       0.76      0.81      0.78       345\n",
            "           8       0.39      0.71      0.50        68\n",
            "           9       0.91      0.91      0.91        64\n",
            "\n",
            "    accuracy                           0.73      2000\n",
            "   macro avg       0.66      0.75      0.68      2000\n",
            "weighted avg       0.76      0.73      0.74      2000\n",
            "\n"
          ]
        }
      ]
    },
    {
      "cell_type": "markdown",
      "source": [
        "#Model Building using Linear Regression after SMOTE "
      ],
      "metadata": {
        "id": "ukxwBsRjrIVo"
      }
    },
    {
      "cell_type": "code",
      "source": [
        "#model training on training data and predicting for test data\n",
        "from sklearn.linear_model import LogisticRegression\n",
        "LG = LogisticRegression()\n",
        "LG.fit(X_train_smote,Y_train_smote)\n",
        "y_pred = LG.predict(X_test)"
      ],
      "metadata": {
        "id": "FGtJW8UKrRE_"
      },
      "execution_count": null,
      "outputs": []
    },
    {
      "cell_type": "markdown",
      "source": [
        "**Model Evaluation - Random Forest - After SMOTE"
      ],
      "metadata": {
        "id": "QQSNzGE4roRT"
      }
    },
    {
      "cell_type": "code",
      "source": [
        "# importing and creating a confusion matrix,which compares the Y_test and Y_pred values\n",
        "\n",
        "from sklearn.metrics import confusion_matrix\n",
        "cm = confusion_matrix(Y_test, Y_pred)\n",
        "print ('Confusion\\n')\n",
        "print (cm)"
      ],
      "metadata": {
        "colab": {
          "base_uri": "https://localhost:8080/"
        },
        "id": "R9Yh8zp_rn1L",
        "outputId": "57f18b01-9a0b-488b-b6c3-924b9bfbac44"
      },
      "execution_count": null,
      "outputs": [
        {
          "output_type": "stream",
          "name": "stdout",
          "text": [
            "Confusion\n",
            "\n",
            "[[397   0   6 101   5  22   2  24   0]\n",
            " [  0   4   1   0   0   0   0   0   0]\n",
            " [  0   2  17   1   2   1   0   1   0]\n",
            " [ 13   0   3 318   4  23  23  29   0]\n",
            " [  1   0   4   7 188   7  60   3   5]\n",
            " [  4   1   1  72   1 157   4   9   0]\n",
            " [  4   1   0   2  41  10 279   7   1]\n",
            " [  8   5   1   4   1   1   0  48   0]\n",
            " [  0   0   0   2   1   0   1   2  58]]\n"
          ]
        }
      ]
    },
    {
      "cell_type": "code",
      "source": [
        "#importing accuracy_score, precision_score, recall_score, f1_score\n",
        "from sklearn.metrics import accuracy_score, precision_score, recall_score, f1_score\n",
        "print('\\nAccuracy: {:.2f}\\n'.format(accuracy_score(Y_test, Y_pred)))\n",
        "\n",
        "print('Micro Precision: {:.2f}'.format(precision_score(Y_test, Y_pred, average='micro')))\n",
        "print('Micro Recall: {:.2f}'.format(recall_score(Y_test, Y_pred, average='micro')))\n",
        "print('Micro F1-score: {:.2f}\\n'.format(f1_score(Y_test, Y_pred, average='micro')))\n",
        "\n",
        "print('Macro Precision: {:.2f}'.format(precision_score(Y_test, Y_pred, average='macro')))\n",
        "print('Macro Recall: {:.2f}'.format(recall_score(Y_test, Y_pred, average='macro')))\n",
        "print('Macro F1-score: {:.2f}\\n'.format(f1_score(Y_test, Y_pred, average='macro')))\n",
        "\n",
        "print('Weighted Precision: {:.2f}'.format(precision_score(Y_test, Y_pred, average='weighted')))\n",
        "print('Weighted Recall: {:.2f}'.format(recall_score(Y_test, Y_pred, average='weighted')))\n",
        "print('Weighted F1-score: {:.2f}'.format(f1_score(Y_test, Y_pred, average='weighted')))\n",
        "\n",
        "from sklearn.metrics import classification_report\n",
        "print('\\nClassification Report\\n')\n",
        "print(classification_report(Y_test, Y_pred))"
      ],
      "metadata": {
        "colab": {
          "base_uri": "https://localhost:8080/"
        },
        "id": "an6vWfCxr6bQ",
        "outputId": "6e903485-cb60-4633-c08a-1f9a3077ab85"
      },
      "execution_count": null,
      "outputs": [
        {
          "output_type": "stream",
          "name": "stdout",
          "text": [
            "\n",
            "Accuracy: 0.73\n",
            "\n",
            "Micro Precision: 0.73\n",
            "Micro Recall: 0.73\n",
            "Micro F1-score: 0.73\n",
            "\n",
            "Macro Precision: 0.66\n",
            "Macro Recall: 0.75\n",
            "Macro F1-score: 0.68\n",
            "\n",
            "Weighted Precision: 0.76\n",
            "Weighted Recall: 0.73\n",
            "Weighted F1-score: 0.74\n",
            "\n",
            "Classification Report\n",
            "\n",
            "              precision    recall  f1-score   support\n",
            "\n",
            "           1       0.93      0.71      0.81       557\n",
            "           2       0.31      0.80      0.44         5\n",
            "           3       0.52      0.71      0.60        24\n",
            "           4       0.63      0.77      0.69       413\n",
            "           5       0.77      0.68      0.73       275\n",
            "           6       0.71      0.63      0.67       249\n",
            "           7       0.76      0.81      0.78       345\n",
            "           8       0.39      0.71      0.50        68\n",
            "           9       0.91      0.91      0.91        64\n",
            "\n",
            "    accuracy                           0.73      2000\n",
            "   macro avg       0.66      0.75      0.68      2000\n",
            "weighted avg       0.76      0.73      0.74      2000\n",
            "\n"
          ]
        }
      ]
    }
  ]
}