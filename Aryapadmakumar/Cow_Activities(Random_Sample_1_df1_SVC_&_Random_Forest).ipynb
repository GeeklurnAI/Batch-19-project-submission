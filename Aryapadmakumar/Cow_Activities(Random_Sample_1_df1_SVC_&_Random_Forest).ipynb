{
  "cells": [
    {
      "cell_type": "code",
      "execution_count": null,
      "metadata": {
        "id": "q3w7XNJ1kqo5"
      },
      "outputs": [],
      "source": [
        "#importing the common packages\n",
        "import pandas as pd\n",
        "import numpy as np\n",
        "import matplotlib as mpl\n",
        "import matplotlib.pyplot as plt\n",
        "%matplotlib inline\n",
        "import scipy.stats as stats\n",
        "import seaborn as sns\n",
        "import warnings\n",
        "warnings.filterwarnings('ignore')"
      ]
    },
    {
      "cell_type": "code",
      "execution_count": null,
      "metadata": {
        "id": "xyT443Brk5hJ"
      },
      "outputs": [],
      "source": [
        "#importing modeling packages\n",
        "from sklearn.linear_model import LinearRegression\n",
        "from sklearn.ensemble import RandomForestClassifier\n",
        "from sklearn.tree import DecisionTreeClassifier\n",
        "from sklearn.svm import SVC"
      ]
    },
    {
      "cell_type": "code",
      "execution_count": null,
      "metadata": {
        "id": "WTBPZ0HVk9Yh"
      },
      "outputs": [],
      "source": [
        "#importing the model parameters or matrix\n",
        "from sklearn.metrics import accuracy_score\n",
        "from sklearn.metrics import precision_score\n",
        "from sklearn.metrics import recall_score\n",
        "from sklearn.metrics import f1_score\n"
      ]
    },
    {
      "cell_type": "code",
      "execution_count": null,
      "metadata": {
        "colab": {
          "base_uri": "https://localhost:8080/"
        },
        "id": "AaaiVAlfcDsW",
        "outputId": "853cb993-58ae-476d-dc7a-a183be8c28a3"
      },
      "outputs": [
        {
          "output_type": "stream",
          "name": "stdout",
          "text": [
            "Mounted at /content/drive/\n"
          ]
        }
      ],
      "source": [
        "from google.colab import drive\n",
        "drive.mount('/content/drive/',force_remount = True)"
      ]
    },
    {
      "cell_type": "code",
      "execution_count": null,
      "metadata": {
        "id": "rWiP1AMxU6Vw"
      },
      "outputs": [],
      "source": [
        "#mounting the files from google drive to colab and renaming and reading them\n",
        "path1 = '/content/drive/MyDrive/DM Certifications and Documents/Cow Positions - Data Sets/E1_train.csv'\n",
        "path2 = '/content/drive/MyDrive/DM Certifications and Documents/Cow Positions - Data Sets/D2_train.csv'\n",
        "path3 = '/content/drive/MyDrive/DM Certifications and Documents/Cow Positions - Data Sets/W3_train.csv'\n",
        "path4 = '/content/drive/MyDrive/DM Certifications and Documents/Cow Positions - Data Sets/S4_train.csv'\n",
        "path5 = '/content/drive/MyDrive/DM Certifications and Documents/Cow Positions - Data Sets/L5_train.csv'\n",
        "path6 ='/content/drive/MyDrive/DM Certifications and Documents/Cow Positions - Data Sets/RS6_train.csv'\n",
        "path7 = '/content/drive/MyDrive/DM Certifications and Documents/Cow Positions - Data Sets/RL7_train.csv'\n",
        "path8 = '/content/drive/MyDrive/DM Certifications and Documents/Cow Positions - Data Sets/G8_train.csv'\n",
        "path9 = '/content/drive/MyDrive/DM Certifications and Documents/Cow Positions - Data Sets/I9_train.csv'\n",
        "eating = pd.read_csv(path1)\n",
        "drinking = pd.read_csv(path2)\n",
        "walking = pd.read_csv(path3)\n",
        "standing = pd.read_csv(path4)\n",
        "lying = pd.read_csv(path5)\n",
        "rs = pd.read_csv(path6)\n",
        "rl = pd.read_csv(path7)\n",
        "grooming = pd.read_csv(path8)\n",
        "idle = pd.read_csv(path9)"
      ]
    },
    {
      "cell_type": "markdown",
      "metadata": {
        "id": "p4kzuDkj3zAv"
      },
      "source": [
        "#Data Exploration & Analysis"
      ]
    },
    {
      "cell_type": "code",
      "execution_count": null,
      "metadata": {
        "colab": {
          "base_uri": "https://localhost:8080/"
        },
        "id": "QBghR_XPi7rL",
        "outputId": "fb61b6fc-22f9-47bb-9c27-334da8583e60"
      },
      "outputs": [
        {
          "output_type": "execute_result",
          "data": {
            "text/plain": [
              "(12263524, 11)"
            ]
          },
          "metadata": {},
          "execution_count": 6
        }
      ],
      "source": [
        "#concatinating all the dataframes into a single dataframe and checking the number of rows and columns in the final dataframe\n",
        "df = pd.concat([eating,drinking,walking,standing,lying,rs,rl,grooming,idle])\n",
        "df.shape"
      ]
    },
    {
      "cell_type": "markdown",
      "source": [
        "##Working with Sample df1"
      ],
      "metadata": {
        "id": "kGM4KlP3yBm4"
      }
    },
    {
      "cell_type": "code",
      "source": [
        "#creating a dataframe 'df1' of 20000 records from the original dataframe df \n",
        "import random\n",
        "df1 = df.sample(20000)"
      ],
      "metadata": {
        "id": "SPP-OL4hH1Fo"
      },
      "execution_count": null,
      "outputs": []
    },
    {
      "cell_type": "code",
      "source": [
        "#checking for the proportion of each feature in df1 and comparing it for similarity in proportion of each feature in df using piechart, using the feature ' label'\n",
        "plt.pie(df['label'].value_counts(),autopct = '%1.1f%%');"
      ],
      "metadata": {
        "colab": {
          "base_uri": "https://localhost:8080/",
          "height": 248
        },
        "id": "LcbZUO7rIw9_",
        "outputId": "56f1145d-0df0-4757-b6db-90b27bcdb1e8"
      },
      "execution_count": null,
      "outputs": [
        {
          "output_type": "display_data",
          "data": {
            "text/plain": [
              "<Figure size 432x288 with 1 Axes>"
            ],
            "image/png": "[encoded data removed]"
          },
          "metadata": {}
        }
      ]
    },
    {
      "cell_type": "code",
      "source": [
        "plt.pie(df1['label'].value_counts(),autopct = '%1.1f%%');"
      ],
      "metadata": {
        "colab": {
          "base_uri": "https://localhost:8080/",
          "height": 248
        },
        "id": "isSCkDCUQrqQ",
        "outputId": "0a6ed561-c6c8-4483-e904-ad040ecfa6ea"
      },
      "execution_count": null,
      "outputs": [
        {
          "output_type": "display_data",
          "data": {
            "text/plain": [
              "<Figure size 432x288 with 1 Axes>"
            ],
            "image/png": "[encoded data removed]"
          },
          "metadata": {}
        }
      ]
    },
    {
      "cell_type": "markdown",
      "source": [
        "**We find that the proportion of each feature in the new dataframe df1 is similar to that of the original dataframe df. Hence this sampling is good enough and we can select df1 to proceed with our model building exercise.**"
      ],
      "metadata": {
        "id": "PuRFviTGQ1qS"
      }
    },
    {
      "cell_type": "markdown",
      "source": [
        "**Data Visualisation and Analysis**"
      ],
      "metadata": {
        "id": "AA-eZ87cy_AZ"
      }
    },
    {
      "cell_type": "code",
      "source": [
        "#checking the shape of the dataframes df1\n",
        "df1.shape"
      ],
      "metadata": {
        "colab": {
          "base_uri": "https://localhost:8080/"
        },
        "id": "evFOh0PLIR23",
        "outputId": "42a80b1f-07fc-4a8b-d03a-d1db7424e89d"
      },
      "execution_count": null,
      "outputs": [
        {
          "output_type": "execute_result",
          "data": {
            "text/plain": [
              "(20000, 11)"
            ]
          },
          "metadata": {},
          "execution_count": 10
        }
      ]
    },
    {
      "cell_type": "code",
      "source": [
        "#checking the top 5 rows of the new dataframe df1\n",
        "df1.head()"
      ],
      "metadata": {
        "colab": {
          "base_uri": "https://localhost:8080/",
          "height": 206
        },
        "id": "lTSdX4X3OTc5",
        "outputId": "58457010-48c7-457e-86d6-9e950220d219"
      },
      "execution_count": null,
      "outputs": [
        {
          "output_type": "execute_result",
          "data": {
            "text/plain": [
              "               time     acc_x     acc_y     acc_z     gyr_x      gyr_y  \\\n",
              "700509   1628335180 -0.108887 -0.976074  0.161133  6.896973   7.263184   \n",
              "230593   1628118192 -0.308105  0.905273  0.267578 -0.122070 -12.573242   \n",
              "1219842  1628131079  0.364258 -0.900391  0.255371 -0.671387   0.549316   \n",
              "607088   1628082247 -0.351562  0.927734  0.120117  0.732422  -1.220703   \n",
              "311725   1628133508 -0.110840  0.975586  0.144043  5.859375  -3.723145   \n",
              "\n",
              "            gyr_z  mag_x  mag_y  mag_z  label  \n",
              "700509  -3.417969   33.0  106.5 -723.0      4  \n",
              "230593   2.014160 -172.5  732.0 -399.0      6  \n",
              "1219842  0.427246 -690.0 -490.5   78.0      7  \n",
              "607088   2.380371  486.0 -312.0  559.5      7  \n",
              "311725  -0.610352 -300.0  775.5 -342.0      6  "
            ],
            "text/html": [
              "\n",
              "  <div id=\"df-ed0e4fff-9b58-4ebc-8829-1127c4186650\">\n",
              "    <div class=\"colab-df-container\">\n",
              "      <div>\n",
              "<style scoped>\n",
              "    .dataframe tbody tr th:only-of-type {\n",
              "        vertical-align: middle;\n",
              "    }\n",
              "\n",
              "    .dataframe tbody tr th {\n",
              "        vertical-align: top;\n",
              "    }\n",
              "\n",
              "    .dataframe thead th {\n",
              "        text-align: right;\n",
              "    }\n",
              "</style>\n",
              "<table border=\"1\" class=\"dataframe\">\n",
              "  <thead>\n",
              "    <tr style=\"text-align: right;\">\n",
              "      <th></th>\n",
              "      <th>time</th>\n",
              "      <th>acc_x</th>\n",
              "      <th>acc_y</th>\n",
              "      <th>acc_z</th>\n",
              "      <th>gyr_x</th>\n",
              "      <th>gyr_y</th>\n",
              "      <th>gyr_z</th>\n",
              "      <th>mag_x</th>\n",
              "      <th>mag_y</th>\n",
              "      <th>mag_z</th>\n",
              "      <th>label</th>\n",
              "    </tr>\n",
              "  </thead>\n",
              "  <tbody>\n",
              "    <tr>\n",
              "      <th>700509</th>\n",
              "      <td>1628335180</td>\n",
              "      <td>-0.108887</td>\n",
              "      <td>-0.976074</td>\n",
              "      <td>0.161133</td>\n",
              "      <td>6.896973</td>\n",
              "      <td>7.263184</td>\n",
              "      <td>-3.417969</td>\n",
              "      <td>33.0</td>\n",
              "      <td>106.5</td>\n",
              "      <td>-723.0</td>\n",
              "      <td>4</td>\n",
              "    </tr>\n",
              "    <tr>\n",
              "      <th>230593</th>\n",
              "      <td>1628118192</td>\n",
              "      <td>-0.308105</td>\n",
              "      <td>0.905273</td>\n",
              "      <td>0.267578</td>\n",
              "      <td>-0.122070</td>\n",
              "      <td>-12.573242</td>\n",
              "      <td>2.014160</td>\n",
              "      <td>-172.5</td>\n",
              "      <td>732.0</td>\n",
              "      <td>-399.0</td>\n",
              "      <td>6</td>\n",
              "    </tr>\n",
              "    <tr>\n",
              "      <th>1219842</th>\n",
              "      <td>1628131079</td>\n",
              "      <td>0.364258</td>\n",
              "      <td>-0.900391</td>\n",
              "      <td>0.255371</td>\n",
              "      <td>-0.671387</td>\n",
              "      <td>0.549316</td>\n",
              "      <td>0.427246</td>\n",
              "      <td>-690.0</td>\n",
              "      <td>-490.5</td>\n",
              "      <td>78.0</td>\n",
              "      <td>7</td>\n",
              "    </tr>\n",
              "    <tr>\n",
              "      <th>607088</th>\n",
              "      <td>1628082247</td>\n",
              "      <td>-0.351562</td>\n",
              "      <td>0.927734</td>\n",
              "      <td>0.120117</td>\n",
              "      <td>0.732422</td>\n",
              "      <td>-1.220703</td>\n",
              "      <td>2.380371</td>\n",
              "      <td>486.0</td>\n",
              "      <td>-312.0</td>\n",
              "      <td>559.5</td>\n",
              "      <td>7</td>\n",
              "    </tr>\n",
              "    <tr>\n",
              "      <th>311725</th>\n",
              "      <td>1628133508</td>\n",
              "      <td>-0.110840</td>\n",
              "      <td>0.975586</td>\n",
              "      <td>0.144043</td>\n",
              "      <td>5.859375</td>\n",
              "      <td>-3.723145</td>\n",
              "      <td>-0.610352</td>\n",
              "      <td>-300.0</td>\n",
              "      <td>775.5</td>\n",
              "      <td>-342.0</td>\n",
              "      <td>6</td>\n",
              "    </tr>\n",
              "  </tbody>\n",
              "</table>\n",
              "</div>\n",
              "      <button class=\"colab-df-convert\" onclick=\"convertToInteractive('df-ed0e4fff-9b58-4ebc-8829-1127c4186650')\"\n",
              "              title=\"Convert this dataframe to an interactive table.\"\n",
              "              style=\"display:none;\">\n",
              "        \n",
              "  <svg xmlns=\"http://www.w3.org/2000/svg\" height=\"24px\"viewBox=\"0 0 24 24\"\n",
              "       width=\"24px\">\n",
              "    <path d=\"M0 0h24v24H0V0z\" fill=\"none\"/>\n",
              "    <path d=\"M18.56 5.44l.94 2.06.94-2.06 2.06-.94-2.06-.94-.94-2.06-.94 2.06-2.06.94zm-11 1L8.5 8.5l.94-2.06 2.06-.94-2.06-.94L8.5 2.5l-.94 2.06-2.06.94zm10 10l.94 2.06.94-2.06 2.06-.94-2.06-.94-.94-2.06-.94 2.06-2.06.94z\"/><path d=\"M17.41 7.96l-1.37-1.37c-.4-.4-.92-.59-1.43-.59-.52 0-1.04.2-1.43.59L10.3 9.45l-7.72 7.72c-.78.78-.78 2.05 0 2.83L4 21.41c.39.39.9.59 1.41.59.51 0 1.02-.2 1.41-.59l7.78-7.78 2.81-2.81c.8-.78.8-2.07 0-2.86zM5.41 20L4 18.59l7.72-7.72 1.47 1.35L5.41 20z\"/>\n",
              "  </svg>\n",
              "      </button>\n",
              "      \n",
              "  <style>\n",
              "    .colab-df-container {\n",
              "      display:flex;\n",
              "      flex-wrap:wrap;\n",
              "      gap: 12px;\n",
              "    }\n",
              "\n",
              "    .colab-df-convert {\n",
              "      background-color: #E8F0FE;\n",
              "      border: none;\n",
              "      border-radius: 50%;\n",
              "      cursor: pointer;\n",
              "      display: none;\n",
              "      fill: #1967D2;\n",
              "      height: 32px;\n",
              "      padding: 0 0 0 0;\n",
              "      width: 32px;\n",
              "    }\n",
              "\n",
              "    .colab-df-convert:hover {\n",
              "      background-color: #E2EBFA;\n",
              "      box-shadow: 0px 1px 2px rgba(60, 64, 67, 0.3), 0px 1px 3px 1px rgba(60, 64, 67, 0.15);\n",
              "      fill: #174EA6;\n",
              "    }\n",
              "\n",
              "    [theme=dark] .colab-df-convert {\n",
              "      background-color: #3B4455;\n",
              "      fill: #D2E3FC;\n",
              "    }\n",
              "\n",
              "    [theme=dark] .colab-df-convert:hover {\n",
              "      background-color: #434B5C;\n",
              "      box-shadow: 0px 1px 3px 1px rgba(0, 0, 0, 0.15);\n",
              "      filter: drop-shadow(0px 1px 2px rgba(0, 0, 0, 0.3));\n",
              "      fill: #FFFFFF;\n",
              "    }\n",
              "  </style>\n",
              "\n",
              "      <script>\n",
              "        const buttonEl =\n",
              "          document.querySelector('#df-ed0e4fff-9b58-4ebc-8829-1127c4186650 button.colab-df-convert');\n",
              "        buttonEl.style.display =\n",
              "          google.colab.kernel.accessAllowed ? 'block' : 'none';\n",
              "\n",
              "        async function convertToInteractive(key) {\n",
              "          const element = document.querySelector('#df-ed0e4fff-9b58-4ebc-8829-1127c4186650');\n",
              "          const dataTable =\n",
              "            await google.colab.kernel.invokeFunction('convertToInteractive',\n",
              "                                                     [key], {});\n",
              "          if (!dataTable) return;\n",
              "\n",
              "          const docLinkHtml = 'Like what you see? Visit the ' +\n",
              "            '<a target=\"_blank\" href=https://colab.research.google.com/notebooks/data_table.ipynb>data table notebook</a>'\n",
              "            + ' to learn more about interactive tables.';\n",
              "          element.innerHTML = '';\n",
              "          dataTable['output_type'] = 'display_data';\n",
              "          await google.colab.output.renderOutput(dataTable, element);\n",
              "          const docLink = document.createElement('div');\n",
              "          docLink.innerHTML = docLinkHtml;\n",
              "          element.appendChild(docLink);\n",
              "        }\n",
              "      </script>\n",
              "    </div>\n",
              "  </div>\n",
              "  "
            ]
          },
          "metadata": {},
          "execution_count": 11
        }
      ]
    },
    {
      "cell_type": "code",
      "source": [
        "#checking the bottom 5 rows of the new dataframe df1\n",
        "df1.tail()"
      ],
      "metadata": {
        "colab": {
          "base_uri": "https://localhost:8080/",
          "height": 206
        },
        "id": "0THDVqzDO3B6",
        "outputId": "6f26b099-bd7f-42c1-f624-4e91c32574eb"
      },
      "execution_count": null,
      "outputs": [
        {
          "output_type": "execute_result",
          "data": {
            "text/plain": [
              "               time     acc_x     acc_y     acc_z     gyr_x      gyr_y  \\\n",
              "319309   1628396834  0.263672  0.956543 -0.032227 -4.638672   9.765625   \n",
              "644893   1628089707  0.184082  0.969727  0.141113  2.319336 -15.319824   \n",
              "171054   1628334320 -0.264160  0.944336  0.166016  0.549316  -1.220703   \n",
              "2151226  1628392723  0.069336  0.973145  0.134277  4.760742  12.878418   \n",
              "2276168  1628106871  0.077148  0.982422  0.119629  0.732422  -1.281738   \n",
              "\n",
              "            gyr_z  mag_x   mag_y  mag_z  label  \n",
              "319309   2.014160 -280.5  1450.5  465.0      1  \n",
              "644893  -1.281738 -535.5    99.0   63.0      5  \n",
              "171054   0.549316  -55.5  1413.0  234.0      4  \n",
              "2151226 -0.671387 -201.0   153.0  295.5      4  \n",
              "2276168 -0.671387 -483.0  1006.5  474.0      4  "
            ],
            "text/html": [
              "\n",
              "  <div id=\"df-27443db6-cdc9-4af1-a389-bc77fa61e0b0\">\n",
              "    <div class=\"colab-df-container\">\n",
              "      <div>\n",
              "<style scoped>\n",
              "    .dataframe tbody tr th:only-of-type {\n",
              "        vertical-align: middle;\n",
              "    }\n",
              "\n",
              "    .dataframe tbody tr th {\n",
              "        vertical-align: top;\n",
              "    }\n",
              "\n",
              "    .dataframe thead th {\n",
              "        text-align: right;\n",
              "    }\n",
              "</style>\n",
              "<table border=\"1\" class=\"dataframe\">\n",
              "  <thead>\n",
              "    <tr style=\"text-align: right;\">\n",
              "      <th></th>\n",
              "      <th>time</th>\n",
              "      <th>acc_x</th>\n",
              "      <th>acc_y</th>\n",
              "      <th>acc_z</th>\n",
              "      <th>gyr_x</th>\n",
              "      <th>gyr_y</th>\n",
              "      <th>gyr_z</th>\n",
              "      <th>mag_x</th>\n",
              "      <th>mag_y</th>\n",
              "      <th>mag_z</th>\n",
              "      <th>label</th>\n",
              "    </tr>\n",
              "  </thead>\n",
              "  <tbody>\n",
              "    <tr>\n",
              "      <th>319309</th>\n",
              "      <td>1628396834</td>\n",
              "      <td>0.263672</td>\n",
              "      <td>0.956543</td>\n",
              "      <td>-0.032227</td>\n",
              "      <td>-4.638672</td>\n",
              "      <td>9.765625</td>\n",
              "      <td>2.014160</td>\n",
              "      <td>-280.5</td>\n",
              "      <td>1450.5</td>\n",
              "      <td>465.0</td>\n",
              "      <td>1</td>\n",
              "    </tr>\n",
              "    <tr>\n",
              "      <th>644893</th>\n",
              "      <td>1628089707</td>\n",
              "      <td>0.184082</td>\n",
              "      <td>0.969727</td>\n",
              "      <td>0.141113</td>\n",
              "      <td>2.319336</td>\n",
              "      <td>-15.319824</td>\n",
              "      <td>-1.281738</td>\n",
              "      <td>-535.5</td>\n",
              "      <td>99.0</td>\n",
              "      <td>63.0</td>\n",
              "      <td>5</td>\n",
              "    </tr>\n",
              "    <tr>\n",
              "      <th>171054</th>\n",
              "      <td>1628334320</td>\n",
              "      <td>-0.264160</td>\n",
              "      <td>0.944336</td>\n",
              "      <td>0.166016</td>\n",
              "      <td>0.549316</td>\n",
              "      <td>-1.220703</td>\n",
              "      <td>0.549316</td>\n",
              "      <td>-55.5</td>\n",
              "      <td>1413.0</td>\n",
              "      <td>234.0</td>\n",
              "      <td>4</td>\n",
              "    </tr>\n",
              "    <tr>\n",
              "      <th>2151226</th>\n",
              "      <td>1628392723</td>\n",
              "      <td>0.069336</td>\n",
              "      <td>0.973145</td>\n",
              "      <td>0.134277</td>\n",
              "      <td>4.760742</td>\n",
              "      <td>12.878418</td>\n",
              "      <td>-0.671387</td>\n",
              "      <td>-201.0</td>\n",
              "      <td>153.0</td>\n",
              "      <td>295.5</td>\n",
              "      <td>4</td>\n",
              "    </tr>\n",
              "    <tr>\n",
              "      <th>2276168</th>\n",
              "      <td>1628106871</td>\n",
              "      <td>0.077148</td>\n",
              "      <td>0.982422</td>\n",
              "      <td>0.119629</td>\n",
              "      <td>0.732422</td>\n",
              "      <td>-1.281738</td>\n",
              "      <td>-0.671387</td>\n",
              "      <td>-483.0</td>\n",
              "      <td>1006.5</td>\n",
              "      <td>474.0</td>\n",
              "      <td>4</td>\n",
              "    </tr>\n",
              "  </tbody>\n",
              "</table>\n",
              "</div>\n",
              "      <button class=\"colab-df-convert\" onclick=\"convertToInteractive('df-27443db6-cdc9-4af1-a389-bc77fa61e0b0')\"\n",
              "              title=\"Convert this dataframe to an interactive table.\"\n",
              "              style=\"display:none;\">\n",
              "        \n",
              "  <svg xmlns=\"http://www.w3.org/2000/svg\" height=\"24px\"viewBox=\"0 0 24 24\"\n",
              "       width=\"24px\">\n",
              "    <path d=\"M0 0h24v24H0V0z\" fill=\"none\"/>\n",
              "    <path d=\"M18.56 5.44l.94 2.06.94-2.06 2.06-.94-2.06-.94-.94-2.06-.94 2.06-2.06.94zm-11 1L8.5 8.5l.94-2.06 2.06-.94-2.06-.94L8.5 2.5l-.94 2.06-2.06.94zm10 10l.94 2.06.94-2.06 2.06-.94-2.06-.94-.94-2.06-.94 2.06-2.06.94z\"/><path d=\"M17.41 7.96l-1.37-1.37c-.4-.4-.92-.59-1.43-.59-.52 0-1.04.2-1.43.59L10.3 9.45l-7.72 7.72c-.78.78-.78 2.05 0 2.83L4 21.41c.39.39.9.59 1.41.59.51 0 1.02-.2 1.41-.59l7.78-7.78 2.81-2.81c.8-.78.8-2.07 0-2.86zM5.41 20L4 18.59l7.72-7.72 1.47 1.35L5.41 20z\"/>\n",
              "  </svg>\n",
              "      </button>\n",
              "      \n",
              "  <style>\n",
              "    .colab-df-container {\n",
              "      display:flex;\n",
              "      flex-wrap:wrap;\n",
              "      gap: 12px;\n",
              "    }\n",
              "\n",
              "    .colab-df-convert {\n",
              "      background-color: #E8F0FE;\n",
              "      border: none;\n",
              "      border-radius: 50%;\n",
              "      cursor: pointer;\n",
              "      display: none;\n",
              "      fill: #1967D2;\n",
              "      height: 32px;\n",
              "      padding: 0 0 0 0;\n",
              "      width: 32px;\n",
              "    }\n",
              "\n",
              "    .colab-df-convert:hover {\n",
              "      background-color: #E2EBFA;\n",
              "      box-shadow: 0px 1px 2px rgba(60, 64, 67, 0.3), 0px 1px 3px 1px rgba(60, 64, 67, 0.15);\n",
              "      fill: #174EA6;\n",
              "    }\n",
              "\n",
              "    [theme=dark] .colab-df-convert {\n",
              "      background-color: #3B4455;\n",
              "      fill: #D2E3FC;\n",
              "    }\n",
              "\n",
              "    [theme=dark] .colab-df-convert:hover {\n",
              "      background-color: #434B5C;\n",
              "      box-shadow: 0px 1px 3px 1px rgba(0, 0, 0, 0.15);\n",
              "      filter: drop-shadow(0px 1px 2px rgba(0, 0, 0, 0.3));\n",
              "      fill: #FFFFFF;\n",
              "    }\n",
              "  </style>\n",
              "\n",
              "      <script>\n",
              "        const buttonEl =\n",
              "          document.querySelector('#df-27443db6-cdc9-4af1-a389-bc77fa61e0b0 button.colab-df-convert');\n",
              "        buttonEl.style.display =\n",
              "          google.colab.kernel.accessAllowed ? 'block' : 'none';\n",
              "\n",
              "        async function convertToInteractive(key) {\n",
              "          const element = document.querySelector('#df-27443db6-cdc9-4af1-a389-bc77fa61e0b0');\n",
              "          const dataTable =\n",
              "            await google.colab.kernel.invokeFunction('convertToInteractive',\n",
              "                                                     [key], {});\n",
              "          if (!dataTable) return;\n",
              "\n",
              "          const docLinkHtml = 'Like what you see? Visit the ' +\n",
              "            '<a target=\"_blank\" href=https://colab.research.google.com/notebooks/data_table.ipynb>data table notebook</a>'\n",
              "            + ' to learn more about interactive tables.';\n",
              "          element.innerHTML = '';\n",
              "          dataTable['output_type'] = 'display_data';\n",
              "          await google.colab.output.renderOutput(dataTable, element);\n",
              "          const docLink = document.createElement('div');\n",
              "          docLink.innerHTML = docLinkHtml;\n",
              "          element.appendChild(docLink);\n",
              "        }\n",
              "      </script>\n",
              "    </div>\n",
              "  </div>\n",
              "  "
            ]
          },
          "metadata": {},
          "execution_count": 12
        }
      ]
    },
    {
      "cell_type": "code",
      "source": [
        "#checking the type of data under each feature of the dataframe df1\n",
        "df1.info()"
      ],
      "metadata": {
        "colab": {
          "base_uri": "https://localhost:8080/"
        },
        "id": "ai2RztDPRzPo",
        "outputId": "9bd6a3c8-0d56-4171-81d4-ab5964188a37"
      },
      "execution_count": null,
      "outputs": [
        {
          "output_type": "stream",
          "name": "stdout",
          "text": [
            "<class 'pandas.core.frame.DataFrame'>\n",
            "Int64Index: 20000 entries, 700509 to 2276168\n",
            "Data columns (total 11 columns):\n",
            " #   Column  Non-Null Count  Dtype  \n",
            "---  ------  --------------  -----  \n",
            " 0   time    20000 non-null  int64  \n",
            " 1   acc_x   20000 non-null  float64\n",
            " 2   acc_y   20000 non-null  float64\n",
            " 3   acc_z   20000 non-null  float64\n",
            " 4   gyr_x   20000 non-null  float64\n",
            " 5   gyr_y   20000 non-null  float64\n",
            " 6   gyr_z   20000 non-null  float64\n",
            " 7   mag_x   20000 non-null  float64\n",
            " 8   mag_y   20000 non-null  float64\n",
            " 9   mag_z   20000 non-null  float64\n",
            " 10  label   20000 non-null  int64  \n",
            "dtypes: float64(9), int64(2)\n",
            "memory usage: 1.8 MB\n"
          ]
        }
      ]
    },
    {
      "cell_type": "code",
      "source": [
        "#checking for any null values under each feature of the dataframe df1\n",
        "df1.isnull().sum()"
      ],
      "metadata": {
        "colab": {
          "base_uri": "https://localhost:8080/"
        },
        "id": "Y27gh49MSFKi",
        "outputId": "b11ad9ee-5d65-4dbe-d197-94243bfefaac"
      },
      "execution_count": null,
      "outputs": [
        {
          "output_type": "execute_result",
          "data": {
            "text/plain": [
              "time     0\n",
              "acc_x    0\n",
              "acc_y    0\n",
              "acc_z    0\n",
              "gyr_x    0\n",
              "gyr_y    0\n",
              "gyr_z    0\n",
              "mag_x    0\n",
              "mag_y    0\n",
              "mag_z    0\n",
              "label    0\n",
              "dtype: int64"
            ]
          },
          "metadata": {},
          "execution_count": 18
        }
      ]
    },
    {
      "cell_type": "markdown",
      "source": [
        "**We find that there are no missing values**"
      ],
      "metadata": {
        "id": "RM234_M0TqzT"
      }
    },
    {
      "cell_type": "code",
      "source": [
        "#checking for the statistial parameters of the values under each feature of the dataframe df1\n",
        "df1.describe()"
      ],
      "metadata": {
        "colab": {
          "base_uri": "https://localhost:8080/",
          "height": 364
        },
        "id": "jsP5JH_uSK9f",
        "outputId": "c8f19faf-4d2a-4346-e093-3fdec4f02b16"
      },
      "execution_count": null,
      "outputs": [
        {
          "output_type": "execute_result",
          "data": {
            "text/plain": [
              "               time         acc_x         acc_y         acc_z         gyr_x  \\\n",
              "count  2.000000e+04  20000.000000  20000.000000  20000.000000  20000.000000   \n",
              "mean   1.628242e+09     -0.028431      0.620354      0.109847      0.807510   \n",
              "std    1.203645e+05      0.260119      0.708709      0.184624     12.026622   \n",
              "min    1.628067e+09     -1.258301     -2.704102     -1.076660   -369.506836   \n",
              "25%    1.628106e+09     -0.217285      0.829102      0.033203     -2.075195   \n",
              "50%    1.628312e+09     -0.024658      0.937012      0.123535      0.854492   \n",
              "75%    1.628335e+09      0.158203      0.973633      0.200684      3.662109   \n",
              "max    1.628421e+09      1.296387      2.441406      2.180176    283.935547   \n",
              "\n",
              "              gyr_y         gyr_z         mag_x        mag_y         mag_z  \\\n",
              "count  20000.000000  20000.000000  20000.000000  20000.00000  20000.000000   \n",
              "mean      -1.656216     -0.632880   -293.366625    427.17450    202.070700   \n",
              "std       20.632530      9.967909    274.555162    597.34455    437.724325   \n",
              "min     -318.969727   -242.553711  -1215.000000   -969.00000  -1144.500000   \n",
              "25%       -5.798340     -2.685547   -462.000000    -48.00000     67.500000   \n",
              "50%       -1.953125     -0.610352   -252.000000    139.50000    307.500000   \n",
              "75%        1.831055      1.403809   -123.000000    976.50000    550.500000   \n",
              "max      820.861816    168.151855    565.500000   1795.50000   1075.500000   \n",
              "\n",
              "              label  \n",
              "count  20000.000000  \n",
              "mean       4.324050  \n",
              "std        2.406892  \n",
              "min        1.000000  \n",
              "25%        1.000000  \n",
              "50%        4.000000  \n",
              "75%        6.000000  \n",
              "max        9.000000  "
            ],
            "text/html": [
              "\n",
              "  <div id=\"df-fc5a3356-c082-4cc4-8de4-cdfcb90aae58\">\n",
              "    <div class=\"colab-df-container\">\n",
              "      <div>\n",
              "<style scoped>\n",
              "    .dataframe tbody tr th:only-of-type {\n",
              "        vertical-align: middle;\n",
              "    }\n",
              "\n",
              "    .dataframe tbody tr th {\n",
              "        vertical-align: top;\n",
              "    }\n",
              "\n",
              "    .dataframe thead th {\n",
              "        text-align: right;\n",
              "    }\n",
              "</style>\n",
              "<table border=\"1\" class=\"dataframe\">\n",
              "  <thead>\n",
              "    <tr style=\"text-align: right;\">\n",
              "      <th></th>\n",
              "      <th>time</th>\n",
              "      <th>acc_x</th>\n",
              "      <th>acc_y</th>\n",
              "      <th>acc_z</th>\n",
              "      <th>gyr_x</th>\n",
              "      <th>gyr_y</th>\n",
              "      <th>gyr_z</th>\n",
              "      <th>mag_x</th>\n",
              "      <th>mag_y</th>\n",
              "      <th>mag_z</th>\n",
              "      <th>label</th>\n",
              "    </tr>\n",
              "  </thead>\n",
              "  <tbody>\n",
              "    <tr>\n",
              "      <th>count</th>\n",
              "      <td>2.000000e+04</td>\n",
              "      <td>20000.000000</td>\n",
              "      <td>20000.000000</td>\n",
              "      <td>20000.000000</td>\n",
              "      <td>20000.000000</td>\n",
              "      <td>20000.000000</td>\n",
              "      <td>20000.000000</td>\n",
              "      <td>20000.000000</td>\n",
              "      <td>20000.00000</td>\n",
              "      <td>20000.000000</td>\n",
              "      <td>20000.000000</td>\n",
              "    </tr>\n",
              "    <tr>\n",
              "      <th>mean</th>\n",
              "      <td>1.628242e+09</td>\n",
              "      <td>-0.028431</td>\n",
              "      <td>0.620354</td>\n",
              "      <td>0.109847</td>\n",
              "      <td>0.807510</td>\n",
              "      <td>-1.656216</td>\n",
              "      <td>-0.632880</td>\n",
              "      <td>-293.366625</td>\n",
              "      <td>427.17450</td>\n",
              "      <td>202.070700</td>\n",
              "      <td>4.324050</td>\n",
              "    </tr>\n",
              "    <tr>\n",
              "      <th>std</th>\n",
              "      <td>1.203645e+05</td>\n",
              "      <td>0.260119</td>\n",
              "      <td>0.708709</td>\n",
              "      <td>0.184624</td>\n",
              "      <td>12.026622</td>\n",
              "      <td>20.632530</td>\n",
              "      <td>9.967909</td>\n",
              "      <td>274.555162</td>\n",
              "      <td>597.34455</td>\n",
              "      <td>437.724325</td>\n",
              "      <td>2.406892</td>\n",
              "    </tr>\n",
              "    <tr>\n",
              "      <th>min</th>\n",
              "      <td>1.628067e+09</td>\n",
              "      <td>-1.258301</td>\n",
              "      <td>-2.704102</td>\n",
              "      <td>-1.076660</td>\n",
              "      <td>-369.506836</td>\n",
              "      <td>-318.969727</td>\n",
              "      <td>-242.553711</td>\n",
              "      <td>-1215.000000</td>\n",
              "      <td>-969.00000</td>\n",
              "      <td>-1144.500000</td>\n",
              "      <td>1.000000</td>\n",
              "    </tr>\n",
              "    <tr>\n",
              "      <th>25%</th>\n",
              "      <td>1.628106e+09</td>\n",
              "      <td>-0.217285</td>\n",
              "      <td>0.829102</td>\n",
              "      <td>0.033203</td>\n",
              "      <td>-2.075195</td>\n",
              "      <td>-5.798340</td>\n",
              "      <td>-2.685547</td>\n",
              "      <td>-462.000000</td>\n",
              "      <td>-48.00000</td>\n",
              "      <td>67.500000</td>\n",
              "      <td>1.000000</td>\n",
              "    </tr>\n",
              "    <tr>\n",
              "      <th>50%</th>\n",
              "      <td>1.628312e+09</td>\n",
              "      <td>-0.024658</td>\n",
              "      <td>0.937012</td>\n",
              "      <td>0.123535</td>\n",
              "      <td>0.854492</td>\n",
              "      <td>-1.953125</td>\n",
              "      <td>-0.610352</td>\n",
              "      <td>-252.000000</td>\n",
              "      <td>139.50000</td>\n",
              "      <td>307.500000</td>\n",
              "      <td>4.000000</td>\n",
              "    </tr>\n",
              "    <tr>\n",
              "      <th>75%</th>\n",
              "      <td>1.628335e+09</td>\n",
              "      <td>0.158203</td>\n",
              "      <td>0.973633</td>\n",
              "      <td>0.200684</td>\n",
              "      <td>3.662109</td>\n",
              "      <td>1.831055</td>\n",
              "      <td>1.403809</td>\n",
              "      <td>-123.000000</td>\n",
              "      <td>976.50000</td>\n",
              "      <td>550.500000</td>\n",
              "      <td>6.000000</td>\n",
              "    </tr>\n",
              "    <tr>\n",
              "      <th>max</th>\n",
              "      <td>1.628421e+09</td>\n",
              "      <td>1.296387</td>\n",
              "      <td>2.441406</td>\n",
              "      <td>2.180176</td>\n",
              "      <td>283.935547</td>\n",
              "      <td>820.861816</td>\n",
              "      <td>168.151855</td>\n",
              "      <td>565.500000</td>\n",
              "      <td>1795.50000</td>\n",
              "      <td>1075.500000</td>\n",
              "      <td>9.000000</td>\n",
              "    </tr>\n",
              "  </tbody>\n",
              "</table>\n",
              "</div>\n",
              "      <button class=\"colab-df-convert\" onclick=\"convertToInteractive('df-fc5a3356-c082-4cc4-8de4-cdfcb90aae58')\"\n",
              "              title=\"Convert this dataframe to an interactive table.\"\n",
              "              style=\"display:none;\">\n",
              "        \n",
              "  <svg xmlns=\"http://www.w3.org/2000/svg\" height=\"24px\"viewBox=\"0 0 24 24\"\n",
              "       width=\"24px\">\n",
              "    <path d=\"M0 0h24v24H0V0z\" fill=\"none\"/>\n",
              "    <path d=\"M18.56 5.44l.94 2.06.94-2.06 2.06-.94-2.06-.94-.94-2.06-.94 2.06-2.06.94zm-11 1L8.5 8.5l.94-2.06 2.06-.94-2.06-.94L8.5 2.5l-.94 2.06-2.06.94zm10 10l.94 2.06.94-2.06 2.06-.94-2.06-.94-.94-2.06-.94 2.06-2.06.94z\"/><path d=\"M17.41 7.96l-1.37-1.37c-.4-.4-.92-.59-1.43-.59-.52 0-1.04.2-1.43.59L10.3 9.45l-7.72 7.72c-.78.78-.78 2.05 0 2.83L4 21.41c.39.39.9.59 1.41.59.51 0 1.02-.2 1.41-.59l7.78-7.78 2.81-2.81c.8-.78.8-2.07 0-2.86zM5.41 20L4 18.59l7.72-7.72 1.47 1.35L5.41 20z\"/>\n",
              "  </svg>\n",
              "      </button>\n",
              "      \n",
              "  <style>\n",
              "    .colab-df-container {\n",
              "      display:flex;\n",
              "      flex-wrap:wrap;\n",
              "      gap: 12px;\n",
              "    }\n",
              "\n",
              "    .colab-df-convert {\n",
              "      background-color: #E8F0FE;\n",
              "      border: none;\n",
              "      border-radius: 50%;\n",
              "      cursor: pointer;\n",
              "      display: none;\n",
              "      fill: #1967D2;\n",
              "      height: 32px;\n",
              "      padding: 0 0 0 0;\n",
              "      width: 32px;\n",
              "    }\n",
              "\n",
              "    .colab-df-convert:hover {\n",
              "      background-color: #E2EBFA;\n",
              "      box-shadow: 0px 1px 2px rgba(60, 64, 67, 0.3), 0px 1px 3px 1px rgba(60, 64, 67, 0.15);\n",
              "      fill: #174EA6;\n",
              "    }\n",
              "\n",
              "    [theme=dark] .colab-df-convert {\n",
              "      background-color: #3B4455;\n",
              "      fill: #D2E3FC;\n",
              "    }\n",
              "\n",
              "    [theme=dark] .colab-df-convert:hover {\n",
              "      background-color: #434B5C;\n",
              "      box-shadow: 0px 1px 3px 1px rgba(0, 0, 0, 0.15);\n",
              "      filter: drop-shadow(0px 1px 2px rgba(0, 0, 0, 0.3));\n",
              "      fill: #FFFFFF;\n",
              "    }\n",
              "  </style>\n",
              "\n",
              "      <script>\n",
              "        const buttonEl =\n",
              "          document.querySelector('#df-fc5a3356-c082-4cc4-8de4-cdfcb90aae58 button.colab-df-convert');\n",
              "        buttonEl.style.display =\n",
              "          google.colab.kernel.accessAllowed ? 'block' : 'none';\n",
              "\n",
              "        async function convertToInteractive(key) {\n",
              "          const element = document.querySelector('#df-fc5a3356-c082-4cc4-8de4-cdfcb90aae58');\n",
              "          const dataTable =\n",
              "            await google.colab.kernel.invokeFunction('convertToInteractive',\n",
              "                                                     [key], {});\n",
              "          if (!dataTable) return;\n",
              "\n",
              "          const docLinkHtml = 'Like what you see? Visit the ' +\n",
              "            '<a target=\"_blank\" href=https://colab.research.google.com/notebooks/data_table.ipynb>data table notebook</a>'\n",
              "            + ' to learn more about interactive tables.';\n",
              "          element.innerHTML = '';\n",
              "          dataTable['output_type'] = 'display_data';\n",
              "          await google.colab.output.renderOutput(dataTable, element);\n",
              "          const docLink = document.createElement('div');\n",
              "          docLink.innerHTML = docLinkHtml;\n",
              "          element.appendChild(docLink);\n",
              "        }\n",
              "      </script>\n",
              "    </div>\n",
              "  </div>\n",
              "  "
            ]
          },
          "metadata": {},
          "execution_count": 14
        }
      ]
    },
    {
      "cell_type": "code",
      "source": [
        "#the same statistical parameters in transpose format\n",
        "df1.describe().T"
      ],
      "metadata": {
        "colab": {
          "base_uri": "https://localhost:8080/",
          "height": 394
        },
        "id": "tfivNhW1SiwD",
        "outputId": "22775459-0c88-4d44-88fb-faf69f0b893e"
      },
      "execution_count": null,
      "outputs": [
        {
          "output_type": "execute_result",
          "data": {
            "text/plain": [
              "         count          mean            std           min           25%  \\\n",
              "time   20000.0  1.628242e+09  120364.544912  1.628067e+09  1.628106e+09   \n",
              "acc_x  20000.0 -2.843120e-02       0.260119 -1.258301e+00 -2.172852e-01   \n",
              "acc_y  20000.0  6.203544e-01       0.708709 -2.704102e+00  8.291016e-01   \n",
              "acc_z  20000.0  1.098474e-01       0.184624 -1.076660e+00  3.320310e-02   \n",
              "gyr_x  20000.0  8.075104e-01      12.026622 -3.695068e+02 -2.075195e+00   \n",
              "gyr_y  20000.0 -1.656216e+00      20.632530 -3.189697e+02 -5.798340e+00   \n",
              "gyr_z  20000.0 -6.328796e-01       9.967909 -2.425537e+02 -2.685547e+00   \n",
              "mag_x  20000.0 -2.933666e+02     274.555162 -1.215000e+03 -4.620000e+02   \n",
              "mag_y  20000.0  4.271745e+02     597.344550 -9.690000e+02 -4.800000e+01   \n",
              "mag_z  20000.0  2.020707e+02     437.724325 -1.144500e+03  6.750000e+01   \n",
              "label  20000.0  4.324050e+00       2.406892  1.000000e+00  1.000000e+00   \n",
              "\n",
              "                50%           75%           max  \n",
              "time   1.628312e+09  1.628335e+09  1.628421e+09  \n",
              "acc_x -2.465820e-02  1.582031e-01  1.296387e+00  \n",
              "acc_y  9.370118e-01  9.736329e-01  2.441406e+00  \n",
              "acc_z  1.235352e-01  2.006836e-01  2.180176e+00  \n",
              "gyr_x  8.544922e-01  3.662109e+00  2.839355e+02  \n",
              "gyr_y -1.953125e+00  1.831055e+00  8.208618e+02  \n",
              "gyr_z -6.103516e-01  1.403809e+00  1.681519e+02  \n",
              "mag_x -2.520000e+02 -1.230000e+02  5.655000e+02  \n",
              "mag_y  1.395000e+02  9.765000e+02  1.795500e+03  \n",
              "mag_z  3.075000e+02  5.505000e+02  1.075500e+03  \n",
              "label  4.000000e+00  6.000000e+00  9.000000e+00  "
            ],
            "text/html": [
              "\n",
              "  <div id=\"df-6703529d-6487-493b-8304-8483997f781a\">\n",
              "    <div class=\"colab-df-container\">\n",
              "      <div>\n",
              "<style scoped>\n",
              "    .dataframe tbody tr th:only-of-type {\n",
              "        vertical-align: middle;\n",
              "    }\n",
              "\n",
              "    .dataframe tbody tr th {\n",
              "        vertical-align: top;\n",
              "    }\n",
              "\n",
              "    .dataframe thead th {\n",
              "        text-align: right;\n",
              "    }\n",
              "</style>\n",
              "<table border=\"1\" class=\"dataframe\">\n",
              "  <thead>\n",
              "    <tr style=\"text-align: right;\">\n",
              "      <th></th>\n",
              "      <th>count</th>\n",
              "      <th>mean</th>\n",
              "      <th>std</th>\n",
              "      <th>min</th>\n",
              "      <th>25%</th>\n",
              "      <th>50%</th>\n",
              "      <th>75%</th>\n",
              "      <th>max</th>\n",
              "    </tr>\n",
              "  </thead>\n",
              "  <tbody>\n",
              "    <tr>\n",
              "      <th>time</th>\n",
              "      <td>20000.0</td>\n",
              "      <td>1.628242e+09</td>\n",
              "      <td>120364.544912</td>\n",
              "      <td>1.628067e+09</td>\n",
              "      <td>1.628106e+09</td>\n",
              "      <td>1.628312e+09</td>\n",
              "      <td>1.628335e+09</td>\n",
              "      <td>1.628421e+09</td>\n",
              "    </tr>\n",
              "    <tr>\n",
              "      <th>acc_x</th>\n",
              "      <td>20000.0</td>\n",
              "      <td>-2.843120e-02</td>\n",
              "      <td>0.260119</td>\n",
              "      <td>-1.258301e+00</td>\n",
              "      <td>-2.172852e-01</td>\n",
              "      <td>-2.465820e-02</td>\n",
              "      <td>1.582031e-01</td>\n",
              "      <td>1.296387e+00</td>\n",
              "    </tr>\n",
              "    <tr>\n",
              "      <th>acc_y</th>\n",
              "      <td>20000.0</td>\n",
              "      <td>6.203544e-01</td>\n",
              "      <td>0.708709</td>\n",
              "      <td>-2.704102e+00</td>\n",
              "      <td>8.291016e-01</td>\n",
              "      <td>9.370118e-01</td>\n",
              "      <td>9.736329e-01</td>\n",
              "      <td>2.441406e+00</td>\n",
              "    </tr>\n",
              "    <tr>\n",
              "      <th>acc_z</th>\n",
              "      <td>20000.0</td>\n",
              "      <td>1.098474e-01</td>\n",
              "      <td>0.184624</td>\n",
              "      <td>-1.076660e+00</td>\n",
              "      <td>3.320310e-02</td>\n",
              "      <td>1.235352e-01</td>\n",
              "      <td>2.006836e-01</td>\n",
              "      <td>2.180176e+00</td>\n",
              "    </tr>\n",
              "    <tr>\n",
              "      <th>gyr_x</th>\n",
              "      <td>20000.0</td>\n",
              "      <td>8.075104e-01</td>\n",
              "      <td>12.026622</td>\n",
              "      <td>-3.695068e+02</td>\n",
              "      <td>-2.075195e+00</td>\n",
              "      <td>8.544922e-01</td>\n",
              "      <td>3.662109e+00</td>\n",
              "      <td>2.839355e+02</td>\n",
              "    </tr>\n",
              "    <tr>\n",
              "      <th>gyr_y</th>\n",
              "      <td>20000.0</td>\n",
              "      <td>-1.656216e+00</td>\n",
              "      <td>20.632530</td>\n",
              "      <td>-3.189697e+02</td>\n",
              "      <td>-5.798340e+00</td>\n",
              "      <td>-1.953125e+00</td>\n",
              "      <td>1.831055e+00</td>\n",
              "      <td>8.208618e+02</td>\n",
              "    </tr>\n",
              "    <tr>\n",
              "      <th>gyr_z</th>\n",
              "      <td>20000.0</td>\n",
              "      <td>-6.328796e-01</td>\n",
              "      <td>9.967909</td>\n",
              "      <td>-2.425537e+02</td>\n",
              "      <td>-2.685547e+00</td>\n",
              "      <td>-6.103516e-01</td>\n",
              "      <td>1.403809e+00</td>\n",
              "      <td>1.681519e+02</td>\n",
              "    </tr>\n",
              "    <tr>\n",
              "      <th>mag_x</th>\n",
              "      <td>20000.0</td>\n",
              "      <td>-2.933666e+02</td>\n",
              "      <td>274.555162</td>\n",
              "      <td>-1.215000e+03</td>\n",
              "      <td>-4.620000e+02</td>\n",
              "      <td>-2.520000e+02</td>\n",
              "      <td>-1.230000e+02</td>\n",
              "      <td>5.655000e+02</td>\n",
              "    </tr>\n",
              "    <tr>\n",
              "      <th>mag_y</th>\n",
              "      <td>20000.0</td>\n",
              "      <td>4.271745e+02</td>\n",
              "      <td>597.344550</td>\n",
              "      <td>-9.690000e+02</td>\n",
              "      <td>-4.800000e+01</td>\n",
              "      <td>1.395000e+02</td>\n",
              "      <td>9.765000e+02</td>\n",
              "      <td>1.795500e+03</td>\n",
              "    </tr>\n",
              "    <tr>\n",
              "      <th>mag_z</th>\n",
              "      <td>20000.0</td>\n",
              "      <td>2.020707e+02</td>\n",
              "      <td>437.724325</td>\n",
              "      <td>-1.144500e+03</td>\n",
              "      <td>6.750000e+01</td>\n",
              "      <td>3.075000e+02</td>\n",
              "      <td>5.505000e+02</td>\n",
              "      <td>1.075500e+03</td>\n",
              "    </tr>\n",
              "    <tr>\n",
              "      <th>label</th>\n",
              "      <td>20000.0</td>\n",
              "      <td>4.324050e+00</td>\n",
              "      <td>2.406892</td>\n",
              "      <td>1.000000e+00</td>\n",
              "      <td>1.000000e+00</td>\n",
              "      <td>4.000000e+00</td>\n",
              "      <td>6.000000e+00</td>\n",
              "      <td>9.000000e+00</td>\n",
              "    </tr>\n",
              "  </tbody>\n",
              "</table>\n",
              "</div>\n",
              "      <button class=\"colab-df-convert\" onclick=\"convertToInteractive('df-6703529d-6487-493b-8304-8483997f781a')\"\n",
              "              title=\"Convert this dataframe to an interactive table.\"\n",
              "              style=\"display:none;\">\n",
              "        \n",
              "  <svg xmlns=\"http://www.w3.org/2000/svg\" height=\"24px\"viewBox=\"0 0 24 24\"\n",
              "       width=\"24px\">\n",
              "    <path d=\"M0 0h24v24H0V0z\" fill=\"none\"/>\n",
              "    <path d=\"M18.56 5.44l.94 2.06.94-2.06 2.06-.94-2.06-.94-.94-2.06-.94 2.06-2.06.94zm-11 1L8.5 8.5l.94-2.06 2.06-.94-2.06-.94L8.5 2.5l-.94 2.06-2.06.94zm10 10l.94 2.06.94-2.06 2.06-.94-2.06-.94-.94-2.06-.94 2.06-2.06.94z\"/><path d=\"M17.41 7.96l-1.37-1.37c-.4-.4-.92-.59-1.43-.59-.52 0-1.04.2-1.43.59L10.3 9.45l-7.72 7.72c-.78.78-.78 2.05 0 2.83L4 21.41c.39.39.9.59 1.41.59.51 0 1.02-.2 1.41-.59l7.78-7.78 2.81-2.81c.8-.78.8-2.07 0-2.86zM5.41 20L4 18.59l7.72-7.72 1.47 1.35L5.41 20z\"/>\n",
              "  </svg>\n",
              "      </button>\n",
              "      \n",
              "  <style>\n",
              "    .colab-df-container {\n",
              "      display:flex;\n",
              "      flex-wrap:wrap;\n",
              "      gap: 12px;\n",
              "    }\n",
              "\n",
              "    .colab-df-convert {\n",
              "      background-color: #E8F0FE;\n",
              "      border: none;\n",
              "      border-radius: 50%;\n",
              "      cursor: pointer;\n",
              "      display: none;\n",
              "      fill: #1967D2;\n",
              "      height: 32px;\n",
              "      padding: 0 0 0 0;\n",
              "      width: 32px;\n",
              "    }\n",
              "\n",
              "    .colab-df-convert:hover {\n",
              "      background-color: #E2EBFA;\n",
              "      box-shadow: 0px 1px 2px rgba(60, 64, 67, 0.3), 0px 1px 3px 1px rgba(60, 64, 67, 0.15);\n",
              "      fill: #174EA6;\n",
              "    }\n",
              "\n",
              "    [theme=dark] .colab-df-convert {\n",
              "      background-color: #3B4455;\n",
              "      fill: #D2E3FC;\n",
              "    }\n",
              "\n",
              "    [theme=dark] .colab-df-convert:hover {\n",
              "      background-color: #434B5C;\n",
              "      box-shadow: 0px 1px 3px 1px rgba(0, 0, 0, 0.15);\n",
              "      filter: drop-shadow(0px 1px 2px rgba(0, 0, 0, 0.3));\n",
              "      fill: #FFFFFF;\n",
              "    }\n",
              "  </style>\n",
              "\n",
              "      <script>\n",
              "        const buttonEl =\n",
              "          document.querySelector('#df-6703529d-6487-493b-8304-8483997f781a button.colab-df-convert');\n",
              "        buttonEl.style.display =\n",
              "          google.colab.kernel.accessAllowed ? 'block' : 'none';\n",
              "\n",
              "        async function convertToInteractive(key) {\n",
              "          const element = document.querySelector('#df-6703529d-6487-493b-8304-8483997f781a');\n",
              "          const dataTable =\n",
              "            await google.colab.kernel.invokeFunction('convertToInteractive',\n",
              "                                                     [key], {});\n",
              "          if (!dataTable) return;\n",
              "\n",
              "          const docLinkHtml = 'Like what you see? Visit the ' +\n",
              "            '<a target=\"_blank\" href=https://colab.research.google.com/notebooks/data_table.ipynb>data table notebook</a>'\n",
              "            + ' to learn more about interactive tables.';\n",
              "          element.innerHTML = '';\n",
              "          dataTable['output_type'] = 'display_data';\n",
              "          await google.colab.output.renderOutput(dataTable, element);\n",
              "          const docLink = document.createElement('div');\n",
              "          docLink.innerHTML = docLinkHtml;\n",
              "          element.appendChild(docLink);\n",
              "        }\n",
              "      </script>\n",
              "    </div>\n",
              "  </div>\n",
              "  "
            ]
          },
          "metadata": {},
          "execution_count": 15
        }
      ]
    },
    {
      "cell_type": "code",
      "source": [
        "#checking the correlation between all the features of df1 using heatmap\n",
        "plt.figure(figsize=(10,10))\n",
        "cor = df1.corr()\n",
        "sns.heatmap(cor,annot = True, cmap=\"coolwarm\", fmt = '.0%' )\n",
        "plt.show()"
      ],
      "metadata": {
        "colab": {
          "base_uri": "https://localhost:8080/",
          "height": 595
        },
        "id": "gOG4s3uQTkus",
        "outputId": "44472b86-c9de-415c-f714-5318f419df0f"
      },
      "execution_count": null,
      "outputs": [
        {
          "output_type": "display_data",
          "data": {
            "text/plain": [
              "<Figure size 720x720 with 2 Axes>"
            ],
            "image/png": "[encoded data removed]"
          },
          "metadata": {
            "needs_background": "light"
          }
        }
      ]
    },
    {
      "cell_type": "code",
      "source": [
        "#listing down the feature names in df1\n",
        "list(df1)"
      ],
      "metadata": {
        "colab": {
          "base_uri": "https://localhost:8080/"
        },
        "id": "M7T9kngpX6xT",
        "outputId": "bd4760e8-e170-416d-faf2-0e6c706a4ea8"
      },
      "execution_count": null,
      "outputs": [
        {
          "output_type": "execute_result",
          "data": {
            "text/plain": [
              "['time',\n",
              " 'acc_x',\n",
              " 'acc_y',\n",
              " 'acc_z',\n",
              " 'gyr_x',\n",
              " 'gyr_y',\n",
              " 'gyr_z',\n",
              " 'mag_x',\n",
              " 'mag_y',\n",
              " 'mag_z',\n",
              " 'label']"
            ]
          },
          "metadata": {},
          "execution_count": 17
        }
      ]
    },
    {
      "cell_type": "code",
      "source": [
        "#checking for the distibution of data under each feature in terms of skewness etc. using distribution plot\n",
        "for column in df1.columns:\n",
        "    plt.figure()             \n",
        "    sns.distplot(df[column])"
      ],
      "metadata": {
        "colab": {
          "base_uri": "https://localhost:8080/",
          "height": 1000
        },
        "id": "uvBzIxYfW7HP",
        "outputId": "27ed265e-189e-4a75-c70d-eff9406780eb"
      },
      "execution_count": null,
      "outputs": [
        {
          "output_type": "display_data",
          "data": {
            "text/plain": [
              "<Figure size 432x288 with 1 Axes>"
            ],
            "image/png": "[encoded data removed]"
          },
          "metadata": {
            "needs_background": "light"
          }
        },
        {
          "output_type": "display_data",
          "data": {
            "text/plain": [
              "<Figure size 432x288 with 1 Axes>"
            ],
            "image/png": "[encoded data removed]"
          },
          "metadata": {
            "needs_background": "light"
          }
        },
        {
          "output_type": "display_data",
          "data": {
            "text/plain": [
              "<Figure size 432x288 with 1 Axes>"
            ],
            "image/png": "[encoded data removed]"
          },
          "metadata": {
            "needs_background": "light"
          }
        },
        {
          "output_type": "display_data",
          "data": {
            "text/plain": [
              "<Figure size 432x288 with 1 Axes>"
            ],
            "image/png": "[encoded data removed]"
          },
          "metadata": {
            "needs_background": "light"
          }
        },
        {
          "output_type": "display_data",
          "data": {
            "text/plain": [
              "<Figure size 432x288 with 1 Axes>"
            ],
            "image/png": "[encoded data removed]"
          },
          "metadata": {
            "needs_background": "light"
          }
        },
        {
          "output_type": "display_data",
          "data": {
            "text/plain": [
              "<Figure size 432x288 with 1 Axes>"
            ],
            "image/png": "[encoded data removed]"
          },
          "metadata": {
            "needs_background": "light"
          }
        },
        {
          "output_type": "display_data",
          "data": {
            "text/plain": [
              "<Figure size 432x288 with 1 Axes>"
            ],
            "image/png": "[encoded data removed]"
          },
          "metadata": {
            "needs_background": "light"
          }
        },
        {
          "output_type": "display_data",
          "data": {
            "text/plain": [
              "<Figure size 432x288 with 1 Axes>"
            ],
            "image/png": "[encoded data removed]"
          },
          "metadata": {
            "needs_background": "light"
          }
        },
        {
          "output_type": "display_data",
          "data": {
            "text/plain": [
              "<Figure size 432x288 with 1 Axes>"
            ],
            "image/png": "[encoded data removed]"
          },
          "metadata": {
            "needs_background": "light"
          }
        },
        {
          "output_type": "display_data",
          "data": {
            "text/plain": [
              "<Figure size 432x288 with 1 Axes>"
            ],
            "image/png": "[encoded data removed]"
          },
          "metadata": {
            "needs_background": "light"
          }
        },
        {
          "output_type": "display_data",
          "data": {
            "text/plain": [
              "<Figure size 432x288 with 1 Axes>"
            ],
            "image/png": "[encoded data removed]"
          },
          "metadata": {
            "needs_background": "light"
          }
        }
      ]
    },
    {
      "cell_type": "code",
      "source": [
        "#seperating the input and output variables into 2 different databases.\n",
        "df1x = df1.drop(['label'],axis = 1)\n",
        "df1x.head()"
      ],
      "metadata": {
        "colab": {
          "base_uri": "https://localhost:8080/",
          "height": 206
        },
        "id": "syvyyvOCiQoS",
        "outputId": "ad963f6a-363c-4201-fffe-6c7d4095d5f7"
      },
      "execution_count": null,
      "outputs": [
        {
          "output_type": "execute_result",
          "data": {
            "text/plain": [
              "               time     acc_x     acc_y     acc_z     gyr_x      gyr_y  \\\n",
              "700509   1628335180 -0.108887 -0.976074  0.161133  6.896973   7.263184   \n",
              "230593   1628118192 -0.308105  0.905273  0.267578 -0.122070 -12.573242   \n",
              "1219842  1628131079  0.364258 -0.900391  0.255371 -0.671387   0.549316   \n",
              "607088   1628082247 -0.351562  0.927734  0.120117  0.732422  -1.220703   \n",
              "311725   1628133508 -0.110840  0.975586  0.144043  5.859375  -3.723145   \n",
              "\n",
              "            gyr_z  mag_x  mag_y  mag_z  \n",
              "700509  -3.417969   33.0  106.5 -723.0  \n",
              "230593   2.014160 -172.5  732.0 -399.0  \n",
              "1219842  0.427246 -690.0 -490.5   78.0  \n",
              "607088   2.380371  486.0 -312.0  559.5  \n",
              "311725  -0.610352 -300.0  775.5 -342.0  "
            ],
            "text/html": [
              "\n",
              "  <div id=\"df-8b999f77-b11c-47cb-8558-0a10de67971e\">\n",
              "    <div class=\"colab-df-container\">\n",
              "      <div>\n",
              "<style scoped>\n",
              "    .dataframe tbody tr th:only-of-type {\n",
              "        vertical-align: middle;\n",
              "    }\n",
              "\n",
              "    .dataframe tbody tr th {\n",
              "        vertical-align: top;\n",
              "    }\n",
              "\n",
              "    .dataframe thead th {\n",
              "        text-align: right;\n",
              "    }\n",
              "</style>\n",
              "<table border=\"1\" class=\"dataframe\">\n",
              "  <thead>\n",
              "    <tr style=\"text-align: right;\">\n",
              "      <th></th>\n",
              "      <th>time</th>\n",
              "      <th>acc_x</th>\n",
              "      <th>acc_y</th>\n",
              "      <th>acc_z</th>\n",
              "      <th>gyr_x</th>\n",
              "      <th>gyr_y</th>\n",
              "      <th>gyr_z</th>\n",
              "      <th>mag_x</th>\n",
              "      <th>mag_y</th>\n",
              "      <th>mag_z</th>\n",
              "    </tr>\n",
              "  </thead>\n",
              "  <tbody>\n",
              "    <tr>\n",
              "      <th>700509</th>\n",
              "      <td>1628335180</td>\n",
              "      <td>-0.108887</td>\n",
              "      <td>-0.976074</td>\n",
              "      <td>0.161133</td>\n",
              "      <td>6.896973</td>\n",
              "      <td>7.263184</td>\n",
              "      <td>-3.417969</td>\n",
              "      <td>33.0</td>\n",
              "      <td>106.5</td>\n",
              "      <td>-723.0</td>\n",
              "    </tr>\n",
              "    <tr>\n",
              "      <th>230593</th>\n",
              "      <td>1628118192</td>\n",
              "      <td>-0.308105</td>\n",
              "      <td>0.905273</td>\n",
              "      <td>0.267578</td>\n",
              "      <td>-0.122070</td>\n",
              "      <td>-12.573242</td>\n",
              "      <td>2.014160</td>\n",
              "      <td>-172.5</td>\n",
              "      <td>732.0</td>\n",
              "      <td>-399.0</td>\n",
              "    </tr>\n",
              "    <tr>\n",
              "      <th>1219842</th>\n",
              "      <td>1628131079</td>\n",
              "      <td>0.364258</td>\n",
              "      <td>-0.900391</td>\n",
              "      <td>0.255371</td>\n",
              "      <td>-0.671387</td>\n",
              "      <td>0.549316</td>\n",
              "      <td>0.427246</td>\n",
              "      <td>-690.0</td>\n",
              "      <td>-490.5</td>\n",
              "      <td>78.0</td>\n",
              "    </tr>\n",
              "    <tr>\n",
              "      <th>607088</th>\n",
              "      <td>1628082247</td>\n",
              "      <td>-0.351562</td>\n",
              "      <td>0.927734</td>\n",
              "      <td>0.120117</td>\n",
              "      <td>0.732422</td>\n",
              "      <td>-1.220703</td>\n",
              "      <td>2.380371</td>\n",
              "      <td>486.0</td>\n",
              "      <td>-312.0</td>\n",
              "      <td>559.5</td>\n",
              "    </tr>\n",
              "    <tr>\n",
              "      <th>311725</th>\n",
              "      <td>1628133508</td>\n",
              "      <td>-0.110840</td>\n",
              "      <td>0.975586</td>\n",
              "      <td>0.144043</td>\n",
              "      <td>5.859375</td>\n",
              "      <td>-3.723145</td>\n",
              "      <td>-0.610352</td>\n",
              "      <td>-300.0</td>\n",
              "      <td>775.5</td>\n",
              "      <td>-342.0</td>\n",
              "    </tr>\n",
              "  </tbody>\n",
              "</table>\n",
              "</div>\n",
              "      <button class=\"colab-df-convert\" onclick=\"convertToInteractive('df-8b999f77-b11c-47cb-8558-0a10de67971e')\"\n",
              "              title=\"Convert this dataframe to an interactive table.\"\n",
              "              style=\"display:none;\">\n",
              "        \n",
              "  <svg xmlns=\"http://www.w3.org/2000/svg\" height=\"24px\"viewBox=\"0 0 24 24\"\n",
              "       width=\"24px\">\n",
              "    <path d=\"M0 0h24v24H0V0z\" fill=\"none\"/>\n",
              "    <path d=\"M18.56 5.44l.94 2.06.94-2.06 2.06-.94-2.06-.94-.94-2.06-.94 2.06-2.06.94zm-11 1L8.5 8.5l.94-2.06 2.06-.94-2.06-.94L8.5 2.5l-.94 2.06-2.06.94zm10 10l.94 2.06.94-2.06 2.06-.94-2.06-.94-.94-2.06-.94 2.06-2.06.94z\"/><path d=\"M17.41 7.96l-1.37-1.37c-.4-.4-.92-.59-1.43-.59-.52 0-1.04.2-1.43.59L10.3 9.45l-7.72 7.72c-.78.78-.78 2.05 0 2.83L4 21.41c.39.39.9.59 1.41.59.51 0 1.02-.2 1.41-.59l7.78-7.78 2.81-2.81c.8-.78.8-2.07 0-2.86zM5.41 20L4 18.59l7.72-7.72 1.47 1.35L5.41 20z\"/>\n",
              "  </svg>\n",
              "      </button>\n",
              "      \n",
              "  <style>\n",
              "    .colab-df-container {\n",
              "      display:flex;\n",
              "      flex-wrap:wrap;\n",
              "      gap: 12px;\n",
              "    }\n",
              "\n",
              "    .colab-df-convert {\n",
              "      background-color: #E8F0FE;\n",
              "      border: none;\n",
              "      border-radius: 50%;\n",
              "      cursor: pointer;\n",
              "      display: none;\n",
              "      fill: #1967D2;\n",
              "      height: 32px;\n",
              "      padding: 0 0 0 0;\n",
              "      width: 32px;\n",
              "    }\n",
              "\n",
              "    .colab-df-convert:hover {\n",
              "      background-color: #E2EBFA;\n",
              "      box-shadow: 0px 1px 2px rgba(60, 64, 67, 0.3), 0px 1px 3px 1px rgba(60, 64, 67, 0.15);\n",
              "      fill: #174EA6;\n",
              "    }\n",
              "\n",
              "    [theme=dark] .colab-df-convert {\n",
              "      background-color: #3B4455;\n",
              "      fill: #D2E3FC;\n",
              "    }\n",
              "\n",
              "    [theme=dark] .colab-df-convert:hover {\n",
              "      background-color: #434B5C;\n",
              "      box-shadow: 0px 1px 3px 1px rgba(0, 0, 0, 0.15);\n",
              "      filter: drop-shadow(0px 1px 2px rgba(0, 0, 0, 0.3));\n",
              "      fill: #FFFFFF;\n",
              "    }\n",
              "  </style>\n",
              "\n",
              "      <script>\n",
              "        const buttonEl =\n",
              "          document.querySelector('#df-8b999f77-b11c-47cb-8558-0a10de67971e button.colab-df-convert');\n",
              "        buttonEl.style.display =\n",
              "          google.colab.kernel.accessAllowed ? 'block' : 'none';\n",
              "\n",
              "        async function convertToInteractive(key) {\n",
              "          const element = document.querySelector('#df-8b999f77-b11c-47cb-8558-0a10de67971e');\n",
              "          const dataTable =\n",
              "            await google.colab.kernel.invokeFunction('convertToInteractive',\n",
              "                                                     [key], {});\n",
              "          if (!dataTable) return;\n",
              "\n",
              "          const docLinkHtml = 'Like what you see? Visit the ' +\n",
              "            '<a target=\"_blank\" href=https://colab.research.google.com/notebooks/data_table.ipynb>data table notebook</a>'\n",
              "            + ' to learn more about interactive tables.';\n",
              "          element.innerHTML = '';\n",
              "          dataTable['output_type'] = 'display_data';\n",
              "          await google.colab.output.renderOutput(dataTable, element);\n",
              "          const docLink = document.createElement('div');\n",
              "          docLink.innerHTML = docLinkHtml;\n",
              "          element.appendChild(docLink);\n",
              "        }\n",
              "      </script>\n",
              "    </div>\n",
              "  </div>\n",
              "  "
            ]
          },
          "metadata": {},
          "execution_count": 18
        }
      ]
    },
    {
      "cell_type": "code",
      "source": [
        "df1y = df1[['label']]\n",
        "df1y.head()"
      ],
      "metadata": {
        "colab": {
          "base_uri": "https://localhost:8080/",
          "height": 206
        },
        "id": "UJoT7K7kjEVd",
        "outputId": "0b3455cd-fb4d-4bb8-9ed0-a70c6e3bd89f"
      },
      "execution_count": null,
      "outputs": [
        {
          "output_type": "execute_result",
          "data": {
            "text/plain": [
              "         label\n",
              "700509       4\n",
              "230593       6\n",
              "1219842      7\n",
              "607088       7\n",
              "311725       6"
            ],
            "text/html": [
              "\n",
              "  <div id=\"df-742feb8d-25f9-4edb-af10-56ce15f4245c\">\n",
              "    <div class=\"colab-df-container\">\n",
              "      <div>\n",
              "<style scoped>\n",
              "    .dataframe tbody tr th:only-of-type {\n",
              "        vertical-align: middle;\n",
              "    }\n",
              "\n",
              "    .dataframe tbody tr th {\n",
              "        vertical-align: top;\n",
              "    }\n",
              "\n",
              "    .dataframe thead th {\n",
              "        text-align: right;\n",
              "    }\n",
              "</style>\n",
              "<table border=\"1\" class=\"dataframe\">\n",
              "  <thead>\n",
              "    <tr style=\"text-align: right;\">\n",
              "      <th></th>\n",
              "      <th>label</th>\n",
              "    </tr>\n",
              "  </thead>\n",
              "  <tbody>\n",
              "    <tr>\n",
              "      <th>700509</th>\n",
              "      <td>4</td>\n",
              "    </tr>\n",
              "    <tr>\n",
              "      <th>230593</th>\n",
              "      <td>6</td>\n",
              "    </tr>\n",
              "    <tr>\n",
              "      <th>1219842</th>\n",
              "      <td>7</td>\n",
              "    </tr>\n",
              "    <tr>\n",
              "      <th>607088</th>\n",
              "      <td>7</td>\n",
              "    </tr>\n",
              "    <tr>\n",
              "      <th>311725</th>\n",
              "      <td>6</td>\n",
              "    </tr>\n",
              "  </tbody>\n",
              "</table>\n",
              "</div>\n",
              "      <button class=\"colab-df-convert\" onclick=\"convertToInteractive('df-742feb8d-25f9-4edb-af10-56ce15f4245c')\"\n",
              "              title=\"Convert this dataframe to an interactive table.\"\n",
              "              style=\"display:none;\">\n",
              "        \n",
              "  <svg xmlns=\"http://www.w3.org/2000/svg\" height=\"24px\"viewBox=\"0 0 24 24\"\n",
              "       width=\"24px\">\n",
              "    <path d=\"M0 0h24v24H0V0z\" fill=\"none\"/>\n",
              "    <path d=\"M18.56 5.44l.94 2.06.94-2.06 2.06-.94-2.06-.94-.94-2.06-.94 2.06-2.06.94zm-11 1L8.5 8.5l.94-2.06 2.06-.94-2.06-.94L8.5 2.5l-.94 2.06-2.06.94zm10 10l.94 2.06.94-2.06 2.06-.94-2.06-.94-.94-2.06-.94 2.06-2.06.94z\"/><path d=\"M17.41 7.96l-1.37-1.37c-.4-.4-.92-.59-1.43-.59-.52 0-1.04.2-1.43.59L10.3 9.45l-7.72 7.72c-.78.78-.78 2.05 0 2.83L4 21.41c.39.39.9.59 1.41.59.51 0 1.02-.2 1.41-.59l7.78-7.78 2.81-2.81c.8-.78.8-2.07 0-2.86zM5.41 20L4 18.59l7.72-7.72 1.47 1.35L5.41 20z\"/>\n",
              "  </svg>\n",
              "      </button>\n",
              "      \n",
              "  <style>\n",
              "    .colab-df-container {\n",
              "      display:flex;\n",
              "      flex-wrap:wrap;\n",
              "      gap: 12px;\n",
              "    }\n",
              "\n",
              "    .colab-df-convert {\n",
              "      background-color: #E8F0FE;\n",
              "      border: none;\n",
              "      border-radius: 50%;\n",
              "      cursor: pointer;\n",
              "      display: none;\n",
              "      fill: #1967D2;\n",
              "      height: 32px;\n",
              "      padding: 0 0 0 0;\n",
              "      width: 32px;\n",
              "    }\n",
              "\n",
              "    .colab-df-convert:hover {\n",
              "      background-color: #E2EBFA;\n",
              "      box-shadow: 0px 1px 2px rgba(60, 64, 67, 0.3), 0px 1px 3px 1px rgba(60, 64, 67, 0.15);\n",
              "      fill: #174EA6;\n",
              "    }\n",
              "\n",
              "    [theme=dark] .colab-df-convert {\n",
              "      background-color: #3B4455;\n",
              "      fill: #D2E3FC;\n",
              "    }\n",
              "\n",
              "    [theme=dark] .colab-df-convert:hover {\n",
              "      background-color: #434B5C;\n",
              "      box-shadow: 0px 1px 3px 1px rgba(0, 0, 0, 0.15);\n",
              "      filter: drop-shadow(0px 1px 2px rgba(0, 0, 0, 0.3));\n",
              "      fill: #FFFFFF;\n",
              "    }\n",
              "  </style>\n",
              "\n",
              "      <script>\n",
              "        const buttonEl =\n",
              "          document.querySelector('#df-742feb8d-25f9-4edb-af10-56ce15f4245c button.colab-df-convert');\n",
              "        buttonEl.style.display =\n",
              "          google.colab.kernel.accessAllowed ? 'block' : 'none';\n",
              "\n",
              "        async function convertToInteractive(key) {\n",
              "          const element = document.querySelector('#df-742feb8d-25f9-4edb-af10-56ce15f4245c');\n",
              "          const dataTable =\n",
              "            await google.colab.kernel.invokeFunction('convertToInteractive',\n",
              "                                                     [key], {});\n",
              "          if (!dataTable) return;\n",
              "\n",
              "          const docLinkHtml = 'Like what you see? Visit the ' +\n",
              "            '<a target=\"_blank\" href=https://colab.research.google.com/notebooks/data_table.ipynb>data table notebook</a>'\n",
              "            + ' to learn more about interactive tables.';\n",
              "          element.innerHTML = '';\n",
              "          dataTable['output_type'] = 'display_data';\n",
              "          await google.colab.output.renderOutput(dataTable, element);\n",
              "          const docLink = document.createElement('div');\n",
              "          docLink.innerHTML = docLinkHtml;\n",
              "          element.appendChild(docLink);\n",
              "        }\n",
              "      </script>\n",
              "    </div>\n",
              "  </div>\n",
              "  "
            ]
          },
          "metadata": {},
          "execution_count": 19
        }
      ]
    },
    {
      "cell_type": "code",
      "source": [
        "#creating a countplot to check the imbalance in the output variable\n",
        "sns.countplot(df1y['label'])"
      ],
      "metadata": {
        "colab": {
          "base_uri": "https://localhost:8080/",
          "height": 296
        },
        "id": "WJ9zTqsZjfp1",
        "outputId": "b524c6c7-472d-47c8-cf60-2fb88fad3c84"
      },
      "execution_count": null,
      "outputs": [
        {
          "output_type": "execute_result",
          "data": {
            "text/plain": [
              "<matplotlib.axes._subplots.AxesSubplot at 0x7fea1f94e7d0>"
            ]
          },
          "metadata": {},
          "execution_count": 20
        },
        {
          "output_type": "display_data",
          "data": {
            "text/plain": [
              "<Figure size 432x288 with 1 Axes>"
            ],
            "image/png": "[encoded data removed]"
          },
          "metadata": {
            "needs_background": "light"
          }
        }
      ]
    },
    {
      "cell_type": "code",
      "source": [
        "#find out the % of each unique label values in the entire database\n",
        "print('label 1:', round(df1y['label'].value_counts()[1]/len(df1y) * 100,2), '% of the database')\n",
        "print('label 2:', round(df1y['label'].value_counts()[2]/len(df1y) * 100,2), '% of the database')\n",
        "print('label 3:', round(df1y['label'].value_counts()[3]/len(df1y) * 100,2), '% of the dataset')\n",
        "print('label 4:', round(df1y['label'].value_counts()[4]/len(df1y) * 100,2), '% of the dataset')\n",
        "print('label 5:', round(df1y['label'].value_counts()[5]/len(df1y) * 100,2), '% of the dataset')\n",
        "print('label 6:', round(df1y['label'].value_counts()[6]/len(df1y) * 100,2), '% of the dataset')\n",
        "print('label 7:', round(df1y['label'].value_counts()[7]/len(df1y) * 100,2), '% of the dataset')\n",
        "print('label 8:', round(df1y['label'].value_counts()[8]/len(df1y) * 100,2), '% of the dataset')\n",
        "print('label 9:', round(df1y['label'].value_counts()[9]/len(df1y) * 100,2), '% of the dataset')"
      ],
      "metadata": {
        "colab": {
          "base_uri": "https://localhost:8080/"
        },
        "id": "Q9fhKKRwxi9m",
        "outputId": "f5320fa8-0835-44dd-a0d1-e604fefb303c"
      },
      "execution_count": null,
      "outputs": [
        {
          "output_type": "stream",
          "name": "stdout",
          "text": [
            "label 1: 27.56 % of the database\n",
            "label 2: 0.37 % of the database\n",
            "label 3: 1.21 % of the dataset\n",
            "label 4: 20.93 % of the dataset\n",
            "label 5: 14.01 % of the dataset\n",
            "label 6: 14.08 % of the dataset\n",
            "label 7: 15.66 % of the dataset\n",
            "label 8: 2.96 % of the dataset\n",
            "label 9: 3.22 % of the dataset\n"
          ]
        }
      ]
    },
    {
      "cell_type": "markdown",
      "source": [
        "#Outlier Identification and Treatment ( Using IQR Method)"
      ],
      "metadata": {
        "id": "zWnA9o7FljkW"
      }
    },
    {
      "cell_type": "code",
      "source": [
        "#giving a common name to all the features of datafram df1x, to call them in future\n",
        "column_name = ['time', 'acc_x', 'acc_y', 'acc_z', 'gyr_x', 'gyr_y', 'gyr_z', 'mag_x', 'mag_y', 'mag_z',]"
      ],
      "metadata": {
        "id": "OopfidH_lbQI"
      },
      "execution_count": null,
      "outputs": []
    },
    {
      "cell_type": "code",
      "source": [
        "#creating a common function to identify outliers for each feature by drawing a box plot\n",
        "def identify_outliers(df1x, column_name):\n",
        "    fig = plt.figure(figsize=(4,2))\n",
        "    sns.boxplot(data = df1x, y = column_name)\n",
        "plt.show() "
      ],
      "metadata": {
        "id": "jU53BpmXmVxk"
      },
      "execution_count": null,
      "outputs": []
    },
    {
      "cell_type": "code",
      "source": [
        "#identifying the outliers for each feature by calling the common function\n",
        "identify_outliers(df1x, 'time')\n",
        "identify_outliers(df1x, 'acc_x')\n",
        "identify_outliers(df1x, 'acc_y')\n",
        "identify_outliers(df1x, 'acc_z')\n",
        "identify_outliers(df1x, 'gyr_x')\n",
        "identify_outliers(df1x, 'gyr_y')\n",
        "identify_outliers(df1x, 'gyr_z')\n",
        "identify_outliers(df1x, 'mag_x')\n",
        "identify_outliers(df1x, 'mag_y')\n",
        "identify_outliers(df1x, 'mag_z')"
      ],
      "metadata": {
        "colab": {
          "base_uri": "https://localhost:8080/",
          "height": 1000
        },
        "id": "W26DI4tfm2Ss",
        "outputId": "0a19a906-c93d-4e07-aad5-909a20225f01"
      },
      "execution_count": null,
      "outputs": [
        {
          "output_type": "display_data",
          "data": {
            "text/plain": [
              "<Figure size 288x144 with 1 Axes>"
            ],
            "image/png": "[encoded data removed]"
          },
          "metadata": {
            "needs_background": "light"
          }
        },
        {
          "output_type": "display_data",
          "data": {
            "text/plain": [
              "<Figure size 288x144 with 1 Axes>"
            ],
            "image/png": "[encoded data removed]"
          },
          "metadata": {
            "needs_background": "light"
          }
        },
        {
          "output_type": "display_data",
          "data": {
            "text/plain": [
              "<Figure size 288x144 with 1 Axes>"
            ],
            "image/png": "[encoded data removed]"
          },
          "metadata": {
            "needs_background": "light"
          }
        },
        {
          "output_type": "display_data",
          "data": {
            "text/plain": [
              "<Figure size 288x144 with 1 Axes>"
            ],
            "image/png": "[encoded data removed]"
          },
          "metadata": {
            "needs_background": "light"
          }
        },
        {
          "output_type": "display_data",
          "data": {
            "text/plain": [
              "<Figure size 288x144 with 1 Axes>"
            ],
            "image/png": "[encoded data removed]"
          },
          "metadata": {
            "needs_background": "light"
          }
        },
        {
          "output_type": "display_data",
          "data": {
            "text/plain": [
              "<Figure size 288x144 with 1 Axes>"
            ],
            "image/png": "[encoded data removed]"
          },
          "metadata": {
            "needs_background": "light"
          }
        },
        {
          "output_type": "display_data",
          "data": {
            "text/plain": [
              "<Figure size 288x144 with 1 Axes>"
            ],
            "image/png": "[encoded data removed]"
          },
          "metadata": {
            "needs_background": "light"
          }
        },
        {
          "output_type": "display_data",
          "data": {
            "text/plain": [
              "<Figure size 288x144 with 1 Axes>"
            ],
            "image/png": "[encoded data removed]"
          },
          "metadata": {
            "needs_background": "light"
          }
        },
        {
          "output_type": "display_data",
          "data": {
            "text/plain": [
              "<Figure size 288x144 with 1 Axes>"
            ],
            "image/png": "[encoded data removed]"
          },
          "metadata": {
            "needs_background": "light"
          }
        },
        {
          "output_type": "display_data",
          "data": {
            "text/plain": [
              "<Figure size 288x144 with 1 Axes>"
            ],
            "image/png": "[encoded data removed]"
          },
          "metadata": {
            "needs_background": "light"
          }
        }
      ]
    },
    {
      "cell_type": "code",
      "source": [
        "#creating common function to replace outlier values with the median value and print boxplot thereafter to recheck the removal of outliers ; print upper and lower values of each feature \n",
        "#IQR\n",
        "def replace_outliers(df1x, column_name):\n",
        "        Q1 = np.percentile(df1x[column_name], 25)\n",
        "        Q2 = np.percentile(df1x[column_name], 50)\n",
        "        Q3 = np.percentile(df1x[column_name], 75)\n",
        "        IQR = Q3 - Q1\n",
        "\n",
        "        upper_val = Q3 + (1.5 * IQR)\n",
        "        print('upper', upper_val)\n",
        "        lower_val = Q1 - (1.5 * IQR)\n",
        "        print('lower', lower_val)\n",
        "\n",
        "        df1x.loc[df1x[column_name] > upper_val, column_name] = np.median(df1x[column_name])\n",
        "        df1x.loc[df1x[column_name] < lower_val, column_name] = np.median(df1x[column_name])\n",
        "        \n",
        "        fig = plt.figure(figsize = (4,2))\n",
        "        sns.boxplot(data = df1x,y = column_name)\n",
        "        plt.xticks(rotation = 'horizontal')\n",
        "        plt.show()"
      ],
      "metadata": {
        "id": "4ByCq3BZoSXc"
      },
      "execution_count": null,
      "outputs": []
    },
    {
      "cell_type": "code",
      "source": [
        "#recalling the common function for replacing the outliers in each feature with median value and visualising using boxplot\n",
        "replace_outliers(df1x, 'time')\n",
        "replace_outliers(df1x, 'acc_x')\n",
        "replace_outliers(df1x, 'acc_y')\n",
        "replace_outliers(df1x, 'acc_z')\n",
        "replace_outliers(df1x, 'gyr_x')\n",
        "replace_outliers(df1x, 'gyr_y')\n",
        "replace_outliers(df1x, 'gyr_z')\n",
        "replace_outliers(df1x, 'mag_x')\n",
        "replace_outliers(df1x, 'mag_y')\n",
        "replace_outliers(df1x, 'mag_z')"
      ],
      "metadata": {
        "colab": {
          "base_uri": "https://localhost:8080/",
          "height": 1000
        },
        "id": "HEmLNNf2pPg4",
        "outputId": "e4df4d5c-7daf-4d47-9089-4ffb3a7eca78"
      },
      "execution_count": null,
      "outputs": [
        {
          "output_type": "stream",
          "name": "stdout",
          "text": [
            "upper 1628678095.125\n",
            "lower 1627762672.125\n"
          ]
        },
        {
          "output_type": "display_data",
          "data": {
            "text/plain": [
              "<Figure size 288x144 with 1 Axes>"
            ],
            "image/png": "[encoded data removed]"
          },
          "metadata": {
            "needs_background": "light"
          }
        },
        {
          "output_type": "stream",
          "name": "stdout",
          "text": [
            "upper 0.72143555\n",
            "lower -0.78051765\n"
          ]
        },
        {
          "output_type": "display_data",
          "data": {
            "text/plain": [
              "<Figure size 288x144 with 1 Axes>"
            ],
            "image/png": "[encoded data removed]"
          },
          "metadata": {
            "needs_background": "light"
          }
        },
        {
          "output_type": "stream",
          "name": "stdout",
          "text": [
            "upper 1.1904298500000001\n",
            "lower 0.61230465\n"
          ]
        },
        {
          "output_type": "display_data",
          "data": {
            "text/plain": [
              "<Figure size 288x144 with 1 Axes>"
            ],
            "image/png": "[encoded data removed]"
          },
          "metadata": {
            "needs_background": "light"
          }
        },
        {
          "output_type": "stream",
          "name": "stdout",
          "text": [
            "upper 0.45190434999999995\n",
            "lower -0.21801765\n"
          ]
        },
        {
          "output_type": "display_data",
          "data": {
            "text/plain": [
              "<Figure size 288x144 with 1 Axes>"
            ],
            "image/png": "[encoded data removed]"
          },
          "metadata": {
            "needs_background": "light"
          }
        },
        {
          "output_type": "stream",
          "name": "stdout",
          "text": [
            "upper 12.268066450000001\n",
            "lower -10.681152350000001\n"
          ]
        },
        {
          "output_type": "display_data",
          "data": {
            "text/plain": [
              "<Figure size 288x144 with 1 Axes>"
            ],
            "image/png": "[encoded data removed]"
          },
          "metadata": {
            "needs_background": "light"
          }
        },
        {
          "output_type": "stream",
          "name": "stdout",
          "text": [
            "upper 13.27514645\n",
            "lower -17.24243155\n"
          ]
        },
        {
          "output_type": "display_data",
          "data": {
            "text/plain": [
              "<Figure size 288x144 with 1 Axes>"
            ],
            "image/png": "[encoded data removed]"
          },
          "metadata": {
            "needs_background": "light"
          }
        },
        {
          "output_type": "stream",
          "name": "stdout",
          "text": [
            "upper 7.5378418499999995\n",
            "lower -8.81958015\n"
          ]
        },
        {
          "output_type": "display_data",
          "data": {
            "text/plain": [
              "<Figure size 288x144 with 1 Axes>"
            ],
            "image/png": "[encoded data removed]"
          },
          "metadata": {
            "needs_background": "light"
          }
        },
        {
          "output_type": "stream",
          "name": "stdout",
          "text": [
            "upper 385.5\n",
            "lower -970.5\n"
          ]
        },
        {
          "output_type": "display_data",
          "data": {
            "text/plain": [
              "<Figure size 288x144 with 1 Axes>"
            ],
            "image/png": "[encoded data removed]"
          },
          "metadata": {
            "needs_background": "light"
          }
        },
        {
          "output_type": "stream",
          "name": "stdout",
          "text": [
            "upper 2513.25\n",
            "lower -1584.75\n"
          ]
        },
        {
          "output_type": "display_data",
          "data": {
            "text/plain": [
              "<Figure size 288x144 with 1 Axes>"
            ],
            "image/png": "[encoded data removed]"
          },
          "metadata": {
            "needs_background": "light"
          }
        },
        {
          "output_type": "stream",
          "name": "stdout",
          "text": [
            "upper 1275.0\n",
            "lower -657.0\n"
          ]
        },
        {
          "output_type": "display_data",
          "data": {
            "text/plain": [
              "<Figure size 288x144 with 1 Axes>"
            ],
            "image/png": "[encoded data removed]"
          },
          "metadata": {
            "needs_background": "light"
          }
        }
      ]
    },
    {
      "cell_type": "markdown",
      "source": [
        "#Data Normalisation\n",
        "\n",
        "\n"
      ],
      "metadata": {
        "id": "PXELazEd804w"
      }
    },
    {
      "cell_type": "code",
      "source": [
        "from sklearn.preprocessing import MinMaxScaler\n",
        "scaling = MinMaxScaler()\n",
        "df1x_normalised = pd.DataFrame(scaling.fit_transform(df1x),columns = df1x.columns)\n",
        "df1x_normalised.head()"
      ],
      "metadata": {
        "colab": {
          "base_uri": "https://localhost:8080/",
          "height": 206
        },
        "id": "_ap4OTjy86N0",
        "outputId": "a53e9c3d-a948-4ce2-ab1d-0e2858a8e400"
      },
      "execution_count": null,
      "outputs": [
        {
          "output_type": "execute_result",
          "data": {
            "text/plain": [
              "       time     acc_x     acc_y     acc_z     gyr_x     gyr_y     gyr_z  \\\n",
              "0  0.757019  0.447737  0.562130  0.566010  0.765957  0.803607  0.329588   \n",
              "1  0.145501  0.314881  0.507185  0.725018  0.460106  0.152305  0.662921   \n",
              "2  0.181820  0.763269  0.562130  0.706783  0.436170  0.583166  0.565543   \n",
              "3  0.044201  0.285900  0.546069  0.504741  0.497340  0.525050  0.685393   \n",
              "4  0.188665  0.446434  0.628910  0.540481  0.720745  0.442886  0.501873   \n",
              "\n",
              "      mag_x     mag_y     mag_z  \n",
              "0  0.740044  0.389040  0.556710  \n",
              "1  0.588496  0.615301  0.148918  \n",
              "2  0.206858  0.173087  0.424242  \n",
              "3  0.529867  0.237656  0.702165  \n",
              "4  0.494469  0.631036  0.181818  "
            ],
            "text/html": [
              "\n",
              "  <div id=\"df-cc5c772e-888a-4f3b-99ee-f5f2c1e27ee3\">\n",
              "    <div class=\"colab-df-container\">\n",
              "      <div>\n",
              "<style scoped>\n",
              "    .dataframe tbody tr th:only-of-type {\n",
              "        vertical-align: middle;\n",
              "    }\n",
              "\n",
              "    .dataframe tbody tr th {\n",
              "        vertical-align: top;\n",
              "    }\n",
              "\n",
              "    .dataframe thead th {\n",
              "        text-align: right;\n",
              "    }\n",
              "</style>\n",
              "<table border=\"1\" class=\"dataframe\">\n",
              "  <thead>\n",
              "    <tr style=\"text-align: right;\">\n",
              "      <th></th>\n",
              "      <th>time</th>\n",
              "      <th>acc_x</th>\n",
              "      <th>acc_y</th>\n",
              "      <th>acc_z</th>\n",
              "      <th>gyr_x</th>\n",
              "      <th>gyr_y</th>\n",
              "      <th>gyr_z</th>\n",
              "      <th>mag_x</th>\n",
              "      <th>mag_y</th>\n",
              "      <th>mag_z</th>\n",
              "    </tr>\n",
              "  </thead>\n",
              "  <tbody>\n",
              "    <tr>\n",
              "      <th>0</th>\n",
              "      <td>0.757019</td>\n",
              "      <td>0.447737</td>\n",
              "      <td>0.562130</td>\n",
              "      <td>0.566010</td>\n",
              "      <td>0.765957</td>\n",
              "      <td>0.803607</td>\n",
              "      <td>0.329588</td>\n",
              "      <td>0.740044</td>\n",
              "      <td>0.389040</td>\n",
              "      <td>0.556710</td>\n",
              "    </tr>\n",
              "    <tr>\n",
              "      <th>1</th>\n",
              "      <td>0.145501</td>\n",
              "      <td>0.314881</td>\n",
              "      <td>0.507185</td>\n",
              "      <td>0.725018</td>\n",
              "      <td>0.460106</td>\n",
              "      <td>0.152305</td>\n",
              "      <td>0.662921</td>\n",
              "      <td>0.588496</td>\n",
              "      <td>0.615301</td>\n",
              "      <td>0.148918</td>\n",
              "    </tr>\n",
              "    <tr>\n",
              "      <th>2</th>\n",
              "      <td>0.181820</td>\n",
              "      <td>0.763269</td>\n",
              "      <td>0.562130</td>\n",
              "      <td>0.706783</td>\n",
              "      <td>0.436170</td>\n",
              "      <td>0.583166</td>\n",
              "      <td>0.565543</td>\n",
              "      <td>0.206858</td>\n",
              "      <td>0.173087</td>\n",
              "      <td>0.424242</td>\n",
              "    </tr>\n",
              "    <tr>\n",
              "      <th>3</th>\n",
              "      <td>0.044201</td>\n",
              "      <td>0.285900</td>\n",
              "      <td>0.546069</td>\n",
              "      <td>0.504741</td>\n",
              "      <td>0.497340</td>\n",
              "      <td>0.525050</td>\n",
              "      <td>0.685393</td>\n",
              "      <td>0.529867</td>\n",
              "      <td>0.237656</td>\n",
              "      <td>0.702165</td>\n",
              "    </tr>\n",
              "    <tr>\n",
              "      <th>4</th>\n",
              "      <td>0.188665</td>\n",
              "      <td>0.446434</td>\n",
              "      <td>0.628910</td>\n",
              "      <td>0.540481</td>\n",
              "      <td>0.720745</td>\n",
              "      <td>0.442886</td>\n",
              "      <td>0.501873</td>\n",
              "      <td>0.494469</td>\n",
              "      <td>0.631036</td>\n",
              "      <td>0.181818</td>\n",
              "    </tr>\n",
              "  </tbody>\n",
              "</table>\n",
              "</div>\n",
              "      <button class=\"colab-df-convert\" onclick=\"convertToInteractive('df-cc5c772e-888a-4f3b-99ee-f5f2c1e27ee3')\"\n",
              "              title=\"Convert this dataframe to an interactive table.\"\n",
              "              style=\"display:none;\">\n",
              "        \n",
              "  <svg xmlns=\"http://www.w3.org/2000/svg\" height=\"24px\"viewBox=\"0 0 24 24\"\n",
              "       width=\"24px\">\n",
              "    <path d=\"M0 0h24v24H0V0z\" fill=\"none\"/>\n",
              "    <path d=\"M18.56 5.44l.94 2.06.94-2.06 2.06-.94-2.06-.94-.94-2.06-.94 2.06-2.06.94zm-11 1L8.5 8.5l.94-2.06 2.06-.94-2.06-.94L8.5 2.5l-.94 2.06-2.06.94zm10 10l.94 2.06.94-2.06 2.06-.94-2.06-.94-.94-2.06-.94 2.06-2.06.94z\"/><path d=\"M17.41 7.96l-1.37-1.37c-.4-.4-.92-.59-1.43-.59-.52 0-1.04.2-1.43.59L10.3 9.45l-7.72 7.72c-.78.78-.78 2.05 0 2.83L4 21.41c.39.39.9.59 1.41.59.51 0 1.02-.2 1.41-.59l7.78-7.78 2.81-2.81c.8-.78.8-2.07 0-2.86zM5.41 20L4 18.59l7.72-7.72 1.47 1.35L5.41 20z\"/>\n",
              "  </svg>\n",
              "      </button>\n",
              "      \n",
              "  <style>\n",
              "    .colab-df-container {\n",
              "      display:flex;\n",
              "      flex-wrap:wrap;\n",
              "      gap: 12px;\n",
              "    }\n",
              "\n",
              "    .colab-df-convert {\n",
              "      background-color: #E8F0FE;\n",
              "      border: none;\n",
              "      border-radius: 50%;\n",
              "      cursor: pointer;\n",
              "      display: none;\n",
              "      fill: #1967D2;\n",
              "      height: 32px;\n",
              "      padding: 0 0 0 0;\n",
              "      width: 32px;\n",
              "    }\n",
              "\n",
              "    .colab-df-convert:hover {\n",
              "      background-color: #E2EBFA;\n",
              "      box-shadow: 0px 1px 2px rgba(60, 64, 67, 0.3), 0px 1px 3px 1px rgba(60, 64, 67, 0.15);\n",
              "      fill: #174EA6;\n",
              "    }\n",
              "\n",
              "    [theme=dark] .colab-df-convert {\n",
              "      background-color: #3B4455;\n",
              "      fill: #D2E3FC;\n",
              "    }\n",
              "\n",
              "    [theme=dark] .colab-df-convert:hover {\n",
              "      background-color: #434B5C;\n",
              "      box-shadow: 0px 1px 3px 1px rgba(0, 0, 0, 0.15);\n",
              "      filter: drop-shadow(0px 1px 2px rgba(0, 0, 0, 0.3));\n",
              "      fill: #FFFFFF;\n",
              "    }\n",
              "  </style>\n",
              "\n",
              "      <script>\n",
              "        const buttonEl =\n",
              "          document.querySelector('#df-cc5c772e-888a-4f3b-99ee-f5f2c1e27ee3 button.colab-df-convert');\n",
              "        buttonEl.style.display =\n",
              "          google.colab.kernel.accessAllowed ? 'block' : 'none';\n",
              "\n",
              "        async function convertToInteractive(key) {\n",
              "          const element = document.querySelector('#df-cc5c772e-888a-4f3b-99ee-f5f2c1e27ee3');\n",
              "          const dataTable =\n",
              "            await google.colab.kernel.invokeFunction('convertToInteractive',\n",
              "                                                     [key], {});\n",
              "          if (!dataTable) return;\n",
              "\n",
              "          const docLinkHtml = 'Like what you see? Visit the ' +\n",
              "            '<a target=\"_blank\" href=https://colab.research.google.com/notebooks/data_table.ipynb>data table notebook</a>'\n",
              "            + ' to learn more about interactive tables.';\n",
              "          element.innerHTML = '';\n",
              "          dataTable['output_type'] = 'display_data';\n",
              "          await google.colab.output.renderOutput(dataTable, element);\n",
              "          const docLink = document.createElement('div');\n",
              "          docLink.innerHTML = docLinkHtml;\n",
              "          element.appendChild(docLink);\n",
              "        }\n",
              "      </script>\n",
              "    </div>\n",
              "  </div>\n",
              "  "
            ]
          },
          "metadata": {},
          "execution_count": 27
        }
      ]
    },
    {
      "cell_type": "markdown",
      "source": [
        "#Feature Selection - KBest using Chi2 tests"
      ],
      "metadata": {
        "id": "FQDrKHnLzjP4"
      }
    },
    {
      "cell_type": "code",
      "source": [
        "#importing the KBest and Chi2 packages\n",
        "from sklearn.feature_selection import SelectKBest\n",
        "from sklearn.feature_selection import chi2"
      ],
      "metadata": {
        "id": "l5hiLm0vzieT"
      },
      "execution_count": null,
      "outputs": []
    },
    {
      "cell_type": "code",
      "source": [
        "#ranking the features\n",
        "select_k_best_rank_features = SelectKBest(score_func = chi2, k = 5)\n",
        "k_best_features = select_k_best_rank_features.fit(df1x_normalised,df1y)\n",
        "\n",
        "df_k_scores = pd.DataFrame(k_best_features.scores_, columns = ['score'])\n",
        "dfcolumns = pd.DataFrame(df1x_normalised.columns)\n",
        "\n",
        "k_best_feature_rank = pd.concat([dfcolumns, df_k_scores], axis = 1)\n",
        "\n",
        "k_best_feature_rank.columns = ('features', 'k_score')\n",
        "print(k_best_feature_rank.nlargest(10, 'k_score'))"
      ],
      "metadata": {
        "colab": {
          "base_uri": "https://localhost:8080/"
        },
        "id": "SFb-dCVMzyHX",
        "outputId": "eb2c2a00-87ca-4a7a-e691-76bd9435a6ef"
      },
      "execution_count": null,
      "outputs": [
        {
          "output_type": "stream",
          "name": "stdout",
          "text": [
            "  features     k_score\n",
            "0     time  874.881903\n",
            "1    acc_x  247.421563\n",
            "7    mag_x  168.932281\n",
            "8    mag_y  119.335553\n",
            "3    acc_z   73.884975\n",
            "2    acc_y   54.880115\n",
            "9    mag_z   31.717841\n",
            "5    gyr_y    1.369495\n",
            "4    gyr_x    1.256267\n",
            "6    gyr_z    0.339655\n"
          ]
        }
      ]
    },
    {
      "cell_type": "markdown",
      "source": [
        "#Feature Selection using Mutual Info. Classifier"
      ],
      "metadata": {
        "id": "KcHo5Dkfjxtf"
      }
    },
    {
      "cell_type": "code",
      "source": [
        "from sklearn.feature_selection import mutual_info_classif\n",
        "mutual_info = mutual_info_classif(df1x_normalised, df1y)\n",
        "\n",
        "mutual_data = pd.Series(mutual_info, index = df1x_normalised.columns)\n",
        "mutual_data.sort_values(ascending = False)\n",
        "\n",
        "print(mutual_data.nlargest(10))\n",
        "\n",
        "mutual_data.nlargest(10).plot(kind = 'barh')\n",
        "plt.show()"
      ],
      "metadata": {
        "colab": {
          "base_uri": "https://localhost:8080/",
          "height": 456
        },
        "id": "OOCZ2n6I1laG",
        "outputId": "77f7802e-1bc3-44db-93a7-25cfe314693f"
      },
      "execution_count": null,
      "outputs": [
        {
          "output_type": "stream",
          "name": "stdout",
          "text": [
            "time     1.301511\n",
            "mag_y    0.431762\n",
            "mag_x    0.288137\n",
            "acc_x    0.271849\n",
            "mag_z    0.209176\n",
            "gyr_z    0.160537\n",
            "gyr_y    0.158917\n",
            "gyr_x    0.139992\n",
            "acc_z    0.121892\n",
            "acc_y    0.121367\n",
            "dtype: float64\n"
          ]
        },
        {
          "output_type": "display_data",
          "data": {
            "text/plain": [
              "<Figure size 432x288 with 1 Axes>"
            ],
            "image/png": "[encoded data removed]"
          },
          "metadata": {
            "needs_background": "light"
          }
        }
      ]
    },
    {
      "cell_type": "markdown",
      "source": [
        "**From the above 2 methods of feature selection, we can find that the insignificant features are gyr_x, gyr_y, gyr_z , acc_y and mag_z. Hence we need to drop these features while we create the models**"
      ],
      "metadata": {
        "id": "zYaGKxpkjrVB"
      }
    },
    {
      "cell_type": "code",
      "source": [
        "#dropping the insignificant features\n",
        "df1x_normalised.drop(['acc_y','gyr_x','gyr_y','gyr_z','mag_z'],inplace = True, axis = 1)"
      ],
      "metadata": {
        "id": "uvYcvb59kSFN"
      },
      "execution_count": null,
      "outputs": []
    },
    {
      "cell_type": "code",
      "source": [
        "#checking if the insignificant features are dropped\n",
        "df1x_normalised.head()"
      ],
      "metadata": {
        "colab": {
          "base_uri": "https://localhost:8080/",
          "height": 206
        },
        "id": "gQZMfs2x3j3k",
        "outputId": "4392ee34-318d-48f2-b779-84e9543ae540"
      },
      "execution_count": null,
      "outputs": [
        {
          "output_type": "execute_result",
          "data": {
            "text/plain": [
              "       time     acc_x     acc_z     mag_x     mag_y\n",
              "0  0.757019  0.447737  0.566010  0.740044  0.389040\n",
              "1  0.145501  0.314881  0.725018  0.588496  0.615301\n",
              "2  0.181820  0.763269  0.706783  0.206858  0.173087\n",
              "3  0.044201  0.285900  0.504741  0.529867  0.237656\n",
              "4  0.188665  0.446434  0.540481  0.494469  0.631036"
            ],
            "text/html": [
              "\n",
              "  <div id=\"df-b0c11c1c-e771-406d-96b2-eb085ce417cc\">\n",
              "    <div class=\"colab-df-container\">\n",
              "      <div>\n",
              "<style scoped>\n",
              "    .dataframe tbody tr th:only-of-type {\n",
              "        vertical-align: middle;\n",
              "    }\n",
              "\n",
              "    .dataframe tbody tr th {\n",
              "        vertical-align: top;\n",
              "    }\n",
              "\n",
              "    .dataframe thead th {\n",
              "        text-align: right;\n",
              "    }\n",
              "</style>\n",
              "<table border=\"1\" class=\"dataframe\">\n",
              "  <thead>\n",
              "    <tr style=\"text-align: right;\">\n",
              "      <th></th>\n",
              "      <th>time</th>\n",
              "      <th>acc_x</th>\n",
              "      <th>acc_z</th>\n",
              "      <th>mag_x</th>\n",
              "      <th>mag_y</th>\n",
              "    </tr>\n",
              "  </thead>\n",
              "  <tbody>\n",
              "    <tr>\n",
              "      <th>0</th>\n",
              "      <td>0.757019</td>\n",
              "      <td>0.447737</td>\n",
              "      <td>0.566010</td>\n",
              "      <td>0.740044</td>\n",
              "      <td>0.389040</td>\n",
              "    </tr>\n",
              "    <tr>\n",
              "      <th>1</th>\n",
              "      <td>0.145501</td>\n",
              "      <td>0.314881</td>\n",
              "      <td>0.725018</td>\n",
              "      <td>0.588496</td>\n",
              "      <td>0.615301</td>\n",
              "    </tr>\n",
              "    <tr>\n",
              "      <th>2</th>\n",
              "      <td>0.181820</td>\n",
              "      <td>0.763269</td>\n",
              "      <td>0.706783</td>\n",
              "      <td>0.206858</td>\n",
              "      <td>0.173087</td>\n",
              "    </tr>\n",
              "    <tr>\n",
              "      <th>3</th>\n",
              "      <td>0.044201</td>\n",
              "      <td>0.285900</td>\n",
              "      <td>0.504741</td>\n",
              "      <td>0.529867</td>\n",
              "      <td>0.237656</td>\n",
              "    </tr>\n",
              "    <tr>\n",
              "      <th>4</th>\n",
              "      <td>0.188665</td>\n",
              "      <td>0.446434</td>\n",
              "      <td>0.540481</td>\n",
              "      <td>0.494469</td>\n",
              "      <td>0.631036</td>\n",
              "    </tr>\n",
              "  </tbody>\n",
              "</table>\n",
              "</div>\n",
              "      <button class=\"colab-df-convert\" onclick=\"convertToInteractive('df-b0c11c1c-e771-406d-96b2-eb085ce417cc')\"\n",
              "              title=\"Convert this dataframe to an interactive table.\"\n",
              "              style=\"display:none;\">\n",
              "        \n",
              "  <svg xmlns=\"http://www.w3.org/2000/svg\" height=\"24px\"viewBox=\"0 0 24 24\"\n",
              "       width=\"24px\">\n",
              "    <path d=\"M0 0h24v24H0V0z\" fill=\"none\"/>\n",
              "    <path d=\"M18.56 5.44l.94 2.06.94-2.06 2.06-.94-2.06-.94-.94-2.06-.94 2.06-2.06.94zm-11 1L8.5 8.5l.94-2.06 2.06-.94-2.06-.94L8.5 2.5l-.94 2.06-2.06.94zm10 10l.94 2.06.94-2.06 2.06-.94-2.06-.94-.94-2.06-.94 2.06-2.06.94z\"/><path d=\"M17.41 7.96l-1.37-1.37c-.4-.4-.92-.59-1.43-.59-.52 0-1.04.2-1.43.59L10.3 9.45l-7.72 7.72c-.78.78-.78 2.05 0 2.83L4 21.41c.39.39.9.59 1.41.59.51 0 1.02-.2 1.41-.59l7.78-7.78 2.81-2.81c.8-.78.8-2.07 0-2.86zM5.41 20L4 18.59l7.72-7.72 1.47 1.35L5.41 20z\"/>\n",
              "  </svg>\n",
              "      </button>\n",
              "      \n",
              "  <style>\n",
              "    .colab-df-container {\n",
              "      display:flex;\n",
              "      flex-wrap:wrap;\n",
              "      gap: 12px;\n",
              "    }\n",
              "\n",
              "    .colab-df-convert {\n",
              "      background-color: #E8F0FE;\n",
              "      border: none;\n",
              "      border-radius: 50%;\n",
              "      cursor: pointer;\n",
              "      display: none;\n",
              "      fill: #1967D2;\n",
              "      height: 32px;\n",
              "      padding: 0 0 0 0;\n",
              "      width: 32px;\n",
              "    }\n",
              "\n",
              "    .colab-df-convert:hover {\n",
              "      background-color: #E2EBFA;\n",
              "      box-shadow: 0px 1px 2px rgba(60, 64, 67, 0.3), 0px 1px 3px 1px rgba(60, 64, 67, 0.15);\n",
              "      fill: #174EA6;\n",
              "    }\n",
              "\n",
              "    [theme=dark] .colab-df-convert {\n",
              "      background-color: #3B4455;\n",
              "      fill: #D2E3FC;\n",
              "    }\n",
              "\n",
              "    [theme=dark] .colab-df-convert:hover {\n",
              "      background-color: #434B5C;\n",
              "      box-shadow: 0px 1px 3px 1px rgba(0, 0, 0, 0.15);\n",
              "      filter: drop-shadow(0px 1px 2px rgba(0, 0, 0, 0.3));\n",
              "      fill: #FFFFFF;\n",
              "    }\n",
              "  </style>\n",
              "\n",
              "      <script>\n",
              "        const buttonEl =\n",
              "          document.querySelector('#df-b0c11c1c-e771-406d-96b2-eb085ce417cc button.colab-df-convert');\n",
              "        buttonEl.style.display =\n",
              "          google.colab.kernel.accessAllowed ? 'block' : 'none';\n",
              "\n",
              "        async function convertToInteractive(key) {\n",
              "          const element = document.querySelector('#df-b0c11c1c-e771-406d-96b2-eb085ce417cc');\n",
              "          const dataTable =\n",
              "            await google.colab.kernel.invokeFunction('convertToInteractive',\n",
              "                                                     [key], {});\n",
              "          if (!dataTable) return;\n",
              "\n",
              "          const docLinkHtml = 'Like what you see? Visit the ' +\n",
              "            '<a target=\"_blank\" href=https://colab.research.google.com/notebooks/data_table.ipynb>data table notebook</a>'\n",
              "            + ' to learn more about interactive tables.';\n",
              "          element.innerHTML = '';\n",
              "          dataTable['output_type'] = 'display_data';\n",
              "          await google.colab.output.renderOutput(dataTable, element);\n",
              "          const docLink = document.createElement('div');\n",
              "          docLink.innerHTML = docLinkHtml;\n",
              "          element.appendChild(docLink);\n",
              "        }\n",
              "      </script>\n",
              "    </div>\n",
              "  </div>\n",
              "  "
            ]
          },
          "metadata": {},
          "execution_count": 32
        }
      ]
    },
    {
      "cell_type": "markdown",
      "metadata": {
        "id": "C5oJVXm6dWBt"
      },
      "source": [
        "#Splitting the data into Training and Testing data"
      ]
    },
    {
      "cell_type": "code",
      "execution_count": null,
      "metadata": {
        "colab": {
          "base_uri": "https://localhost:8080/"
        },
        "id": "sqIO9Tfzc4Nc",
        "outputId": "f74be766-0a63-405b-d3bf-9cb6aa1e78bf"
      },
      "outputs": [
        {
          "output_type": "execute_result",
          "data": {
            "text/plain": [
              "((16000, 5), (4000, 5), (16000, 1), (4000, 1))"
            ]
          },
          "metadata": {},
          "execution_count": 33
        }
      ],
      "source": [
        "#splitting the data into train and combined data(test data +validation data) in 80-20 ratio\n",
        "from sklearn.model_selection import train_test_split\n",
        "X_train,X_combine,Y_train,Y_combine = train_test_split(df1x_normalised,df1y,train_size=0.80, random_state=500)\n",
        "X_train.shape,X_combine.shape,Y_train.shape,Y_combine.shape\n"
      ]
    },
    {
      "cell_type": "code",
      "execution_count": null,
      "metadata": {
        "colab": {
          "base_uri": "https://localhost:8080/"
        },
        "id": "jUuSdNQ_fSME",
        "outputId": "d52213da-58d8-4143-88ca-3103aa07b912"
      },
      "outputs": [
        {
          "output_type": "execute_result",
          "data": {
            "text/plain": [
              "((2000, 5), (2000, 5), (2000, 1), (2000, 1))"
            ]
          },
          "metadata": {},
          "execution_count": 34
        }
      ],
      "source": [
        "#splitting the data into train and combined data(test data +validation data) in 50-50 ratio\n",
        "from sklearn.model_selection import train_test_split\n",
        "X_train,X_combine,Y_train,Y_combine = train_test_split(df1x_normalised,df1y,train_size=0.50, random_state=500)\n",
        "X_train.shape,X_combine.shape,Y_train.shape,Y_combine.shape"
      ]
    },
    {
      "cell_type": "markdown",
      "source": [
        "#Build Model - Support Vector Classifier for df1"
      ],
      "metadata": {
        "id": "dwhXhrxnoLUN"
      }
    },
    {
      "cell_type": "code",
      "source": [
        "#We use Support Vector classifier as a classifier\n",
        "from sklearn.svm import SVC\n",
        "from sklearn.metrics import confusion_matrix"
      ],
      "metadata": {
        "id": "TvSgOSAMoJvQ"
      },
      "execution_count": null,
      "outputs": []
    },
    {
      "cell_type": "code",
      "source": [
        "# training the classifier using X_Train and Y_train \n",
        "clf = SVC(kernel = 'linear').fit(X_train,Y_train)\n",
        "clf.predict(X_train)"
      ],
      "metadata": {
        "id": "cZMg5JafAfo-",
        "colab": {
          "base_uri": "https://localhost:8080/"
        },
        "outputId": "439a4889-81ee-4c69-84b6-9928831b6ba8"
      },
      "execution_count": null,
      "outputs": [
        {
          "output_type": "execute_result",
          "data": {
            "text/plain": [
              "array([1, 1, 1, ..., 4, 4, 1])"
            ]
          },
          "metadata": {},
          "execution_count": 36
        }
      ]
    },
    {
      "cell_type": "code",
      "source": [
        "# testing the model using X_test and storing the output in y_pred\n",
        "Y_pred = clf.predict(X_test)"
      ],
      "metadata": {
        "id": "Hm3dS5L0At0_"
      },
      "execution_count": null,
      "outputs": []
    },
    {
      "cell_type": "markdown",
      "source": [
        "**Model Evaluation - SVC**"
      ],
      "metadata": {
        "id": "MsoRuXE0pTF1"
      }
    },
    {
      "cell_type": "code",
      "source": [
        "# importing and creating a confusion matrix,which compares the Y_test and y_pred values\n",
        "\n",
        "from sklearn.metrics import confusion_matrix\n",
        "cm = confusion_matrix(Y_test, Y_pred)\n",
        "print ('Confusion\\n')\n",
        "print (cm)"
      ],
      "metadata": {
        "colab": {
          "base_uri": "https://localhost:8080/"
        },
        "id": "t6dA6DXZpHyA",
        "outputId": "ff8f3b2d-f3c6-4cee-b344-1a9397f06331"
      },
      "execution_count": null,
      "outputs": [
        {
          "output_type": "stream",
          "name": "stdout",
          "text": [
            "Confusion\n",
            "\n",
            "[[345   0   0 225   8   0   6   0   0]\n",
            " [  3   0   0   2   1   0   1   0   0]\n",
            " [ 13   0   0   2   2   0   3   0   0]\n",
            " [121   0   0 280  16   1  12   0   0]\n",
            " [ 55   0   0  56  63   1  89   0   0]\n",
            " [126   0   0 138   1   3  11   0   0]\n",
            " [ 65   0   0  54  39   1 136   0   0]\n",
            " [ 29   0   0  27   2   0   2   0   0]\n",
            " [ 55   0   0   3   2   0   1   0   0]]\n"
          ]
        }
      ]
    },
    {
      "cell_type": "code",
      "source": [
        "#importing accuracy_score, precision_score, recall_score, f1_score\n",
        "from sklearn.metrics import accuracy_score, precision_score, recall_score, f1_score\n",
        "print('\\nAccuracy: {:.2f}\\n'.format(accuracy_score(Y_test, Y_pred)))\n",
        "\n",
        "print('Micro Precision: {:.2f}'.format(precision_score(Y_test, Y_pred, average='micro')))\n",
        "print('Micro Recall: {:.2f}'.format(recall_score(Y_test, Y_pred, average='micro')))\n",
        "print('Micro F1-score: {:.2f}\\n'.format(f1_score(Y_test, Y_pred, average='micro')))\n",
        "\n",
        "print('Macro Precision: {:.2f}'.format(precision_score(Y_test, Y_pred, average='macro')))\n",
        "print('Macro Recall: {:.2f}'.format(recall_score(Y_test, Y_pred, average='macro')))\n",
        "print('Macro F1-score: {:.2f}\\n'.format(f1_score(Y_test, Y_pred, average='macro')))\n",
        "\n",
        "print('Weighted Precision: {:.2f}'.format(precision_score(Y_test, Y_pred, average='weighted')))\n",
        "print('Weighted Recall: {:.2f}'.format(recall_score(Y_test, Y_pred, average='weighted')))\n",
        "print('Weighted F1-score: {:.2f}'.format(f1_score(Y_test, Y_pred, average='weighted')))\n",
        "\n",
        "from sklearn.metrics import classification_report\n",
        "print('\\nClassification Report\\n')\n",
        "print(classification_report(Y_test, Y_pred))"
      ],
      "metadata": {
        "colab": {
          "base_uri": "https://localhost:8080/"
        },
        "id": "tLY23ZoXPMTR",
        "outputId": "fc40c210-2a2b-4f81-ca96-d9ce132a33d2"
      },
      "execution_count": null,
      "outputs": [
        {
          "output_type": "stream",
          "name": "stdout",
          "text": [
            "\n",
            "Accuracy: 0.41\n",
            "\n",
            "Micro Precision: 0.41\n",
            "Micro Recall: 0.41\n",
            "Micro F1-score: 0.41\n",
            "\n",
            "Macro Precision: 0.25\n",
            "Macro Recall: 0.22\n",
            "Macro F1-score: 0.20\n",
            "\n",
            "Weighted Precision: 0.41\n",
            "Weighted Recall: 0.41\n",
            "Weighted F1-score: 0.36\n",
            "\n",
            "Classification Report\n",
            "\n",
            "              precision    recall  f1-score   support\n",
            "\n",
            "           1       0.42      0.59      0.49       584\n",
            "           2       0.00      0.00      0.00         7\n",
            "           3       0.00      0.00      0.00        20\n",
            "           4       0.36      0.65      0.46       430\n",
            "           5       0.47      0.24      0.32       264\n",
            "           6       0.50      0.01      0.02       279\n",
            "           7       0.52      0.46      0.49       295\n",
            "           8       0.00      0.00      0.00        60\n",
            "           9       0.00      0.00      0.00        61\n",
            "\n",
            "    accuracy                           0.41      2000\n",
            "   macro avg       0.25      0.22      0.20      2000\n",
            "weighted avg       0.41      0.41      0.36      2000\n",
            "\n"
          ]
        }
      ]
    },
    {
      "cell_type": "markdown",
      "source": [
        "Grid Search - Support Vector Classifier"
      ],
      "metadata": {
        "id": "OHzZAE1fWQwy"
      }
    },
    {
      "cell_type": "code",
      "source": [
        "param_grid = {'C' :[0.1,1,10,100,1000], 'gamma' :[0.1,0.01,0.001,0.0001], 'kernel':['rbf']}"
      ],
      "metadata": {
        "id": "xWOtuqbvWRq7"
      },
      "execution_count": null,
      "outputs": []
    },
    {
      "cell_type": "code",
      "source": [
        "#cross-validation\n",
        "from sklearn.model_selection import GridSearchCV"
      ],
      "metadata": {
        "id": "NTNSfHF8WbS9"
      },
      "execution_count": null,
      "outputs": []
    },
    {
      "cell_type": "code",
      "source": [
        "#an estimator like SVC and creates a new estimator that behaves exactly the same \n",
        "grid = GridSearchCV(SVC(),param_grid,refit = True,verbose = 5)"
      ],
      "metadata": {
        "id": "dWG-pQJoWdIB"
      },
      "execution_count": null,
      "outputs": []
    },
    {
      "cell_type": "code",
      "source": [
        "#fitting the grid into the training dataset\n",
        "grid.fit(X_train,Y_train)"
      ],
      "metadata": {
        "colab": {
          "base_uri": "https://localhost:8080/"
        },
        "id": "ROPK_o4tWhra",
        "outputId": "5232c3e1-1e29-4610-df4b-8a39dfee4c1c"
      },
      "execution_count": null,
      "outputs": [
        {
          "output_type": "stream",
          "name": "stdout",
          "text": [
            "Fitting 5 folds for each of 20 candidates, totalling 100 fits\n",
            "[CV 1/5] END ......C=0.1, gamma=0.1, kernel=rbf;, score=0.379 total time=  13.2s\n",
            "[CV 2/5] END ......C=0.1, gamma=0.1, kernel=rbf;, score=0.375 total time=  13.1s\n",
            "[CV 3/5] END ......C=0.1, gamma=0.1, kernel=rbf;, score=0.381 total time=  15.0s\n",
            "[CV 4/5] END ......C=0.1, gamma=0.1, kernel=rbf;, score=0.385 total time=  13.2s\n",
            "[CV 5/5] END ......C=0.1, gamma=0.1, kernel=rbf;, score=0.381 total time=  13.1s\n",
            "[CV 1/5] END .....C=0.1, gamma=0.01, kernel=rbf;, score=0.282 total time=  14.2s\n",
            "[CV 2/5] END .....C=0.1, gamma=0.01, kernel=rbf;, score=0.282 total time=  14.0s\n",
            "[CV 3/5] END .....C=0.1, gamma=0.01, kernel=rbf;, score=0.282 total time=  14.2s\n",
            "[CV 4/5] END .....C=0.1, gamma=0.01, kernel=rbf;, score=0.282 total time=  14.1s\n",
            "[CV 5/5] END .....C=0.1, gamma=0.01, kernel=rbf;, score=0.282 total time=  14.1s\n",
            "[CV 1/5] END ....C=0.1, gamma=0.001, kernel=rbf;, score=0.282 total time=  13.8s\n",
            "[CV 2/5] END ....C=0.1, gamma=0.001, kernel=rbf;, score=0.282 total time=  13.9s\n",
            "[CV 3/5] END ....C=0.1, gamma=0.001, kernel=rbf;, score=0.282 total time=  14.0s\n",
            "[CV 4/5] END ....C=0.1, gamma=0.001, kernel=rbf;, score=0.282 total time=  14.0s\n",
            "[CV 5/5] END ....C=0.1, gamma=0.001, kernel=rbf;, score=0.282 total time=  14.0s\n",
            "[CV 1/5] END ...C=0.1, gamma=0.0001, kernel=rbf;, score=0.282 total time=  13.7s\n",
            "[CV 2/5] END ...C=0.1, gamma=0.0001, kernel=rbf;, score=0.282 total time=  13.6s\n",
            "[CV 3/5] END ...C=0.1, gamma=0.0001, kernel=rbf;, score=0.282 total time=  15.3s\n",
            "[CV 4/5] END ...C=0.1, gamma=0.0001, kernel=rbf;, score=0.282 total time=  13.6s\n",
            "[CV 5/5] END ...C=0.1, gamma=0.0001, kernel=rbf;, score=0.282 total time=  13.6s\n",
            "[CV 1/5] END ........C=1, gamma=0.1, kernel=rbf;, score=0.393 total time=  12.4s\n",
            "[CV 2/5] END ........C=1, gamma=0.1, kernel=rbf;, score=0.391 total time=  12.3s\n",
            "[CV 3/5] END ........C=1, gamma=0.1, kernel=rbf;, score=0.398 total time=  12.5s\n",
            "[CV 4/5] END ........C=1, gamma=0.1, kernel=rbf;, score=0.398 total time=  12.4s\n",
            "[CV 5/5] END ........C=1, gamma=0.1, kernel=rbf;, score=0.398 total time=  12.4s\n",
            "[CV 1/5] END .......C=1, gamma=0.01, kernel=rbf;, score=0.374 total time=  13.0s\n",
            "[CV 2/5] END .......C=1, gamma=0.01, kernel=rbf;, score=0.373 total time=  13.1s\n",
            "[CV 3/5] END .......C=1, gamma=0.01, kernel=rbf;, score=0.381 total time=  13.1s\n",
            "[CV 4/5] END .......C=1, gamma=0.01, kernel=rbf;, score=0.385 total time=  12.9s\n",
            "[CV 5/5] END .......C=1, gamma=0.01, kernel=rbf;, score=0.379 total time=  13.2s\n",
            "[CV 1/5] END ......C=1, gamma=0.001, kernel=rbf;, score=0.282 total time=  14.0s\n",
            "[CV 2/5] END ......C=1, gamma=0.001, kernel=rbf;, score=0.282 total time=  14.1s\n",
            "[CV 3/5] END ......C=1, gamma=0.001, kernel=rbf;, score=0.282 total time=  15.7s\n",
            "[CV 4/5] END ......C=1, gamma=0.001, kernel=rbf;, score=0.282 total time=  14.1s\n",
            "[CV 5/5] END ......C=1, gamma=0.001, kernel=rbf;, score=0.282 total time=  14.0s\n",
            "[CV 1/5] END .....C=1, gamma=0.0001, kernel=rbf;, score=0.282 total time=  13.9s\n",
            "[CV 2/5] END .....C=1, gamma=0.0001, kernel=rbf;, score=0.282 total time=  13.9s\n",
            "[CV 3/5] END .....C=1, gamma=0.0001, kernel=rbf;, score=0.282 total time=  13.9s\n",
            "[CV 4/5] END .....C=1, gamma=0.0001, kernel=rbf;, score=0.282 total time=  13.9s\n",
            "[CV 5/5] END .....C=1, gamma=0.0001, kernel=rbf;, score=0.282 total time=  13.9s\n",
            "[CV 1/5] END .......C=10, gamma=0.1, kernel=rbf;, score=0.461 total time=  12.1s\n",
            "[CV 2/5] END .......C=10, gamma=0.1, kernel=rbf;, score=0.458 total time=  12.1s\n",
            "[CV 3/5] END .......C=10, gamma=0.1, kernel=rbf;, score=0.475 total time=  12.2s\n",
            "[CV 4/5] END .......C=10, gamma=0.1, kernel=rbf;, score=0.461 total time=  12.2s\n",
            "[CV 5/5] END .......C=10, gamma=0.1, kernel=rbf;, score=0.467 total time=  12.2s\n",
            "[CV 1/5] END ......C=10, gamma=0.01, kernel=rbf;, score=0.387 total time=  12.7s\n",
            "[CV 2/5] END ......C=10, gamma=0.01, kernel=rbf;, score=0.380 total time=  12.7s\n",
            "[CV 3/5] END ......C=10, gamma=0.01, kernel=rbf;, score=0.390 total time=  14.5s\n",
            "[CV 4/5] END ......C=10, gamma=0.01, kernel=rbf;, score=0.392 total time=  13.0s\n",
            "[CV 5/5] END ......C=10, gamma=0.01, kernel=rbf;, score=0.388 total time=  12.8s\n",
            "[CV 1/5] END .....C=10, gamma=0.001, kernel=rbf;, score=0.374 total time=  12.9s\n",
            "[CV 2/5] END .....C=10, gamma=0.001, kernel=rbf;, score=0.373 total time=  12.8s\n",
            "[CV 3/5] END .....C=10, gamma=0.001, kernel=rbf;, score=0.383 total time=  12.9s\n",
            "[CV 4/5] END .....C=10, gamma=0.001, kernel=rbf;, score=0.384 total time=  13.0s\n",
            "[CV 5/5] END .....C=10, gamma=0.001, kernel=rbf;, score=0.379 total time=  12.9s\n",
            "[CV 1/5] END ....C=10, gamma=0.0001, kernel=rbf;, score=0.282 total time=  13.9s\n",
            "[CV 2/5] END ....C=10, gamma=0.0001, kernel=rbf;, score=0.282 total time=  13.9s\n",
            "[CV 3/5] END ....C=10, gamma=0.0001, kernel=rbf;, score=0.282 total time=  14.0s\n",
            "[CV 4/5] END ....C=10, gamma=0.0001, kernel=rbf;, score=0.282 total time=  13.9s\n",
            "[CV 5/5] END ....C=10, gamma=0.0001, kernel=rbf;, score=0.282 total time=  14.0s\n",
            "[CV 1/5] END ......C=100, gamma=0.1, kernel=rbf;, score=0.526 total time=  13.2s\n",
            "[CV 2/5] END ......C=100, gamma=0.1, kernel=rbf;, score=0.543 total time=  13.4s\n",
            "[CV 3/5] END ......C=100, gamma=0.1, kernel=rbf;, score=0.546 total time=  14.4s\n",
            "[CV 4/5] END ......C=100, gamma=0.1, kernel=rbf;, score=0.547 total time=  14.3s\n",
            "[CV 5/5] END ......C=100, gamma=0.1, kernel=rbf;, score=0.534 total time=  13.5s\n",
            "[CV 1/5] END .....C=100, gamma=0.01, kernel=rbf;, score=0.395 total time=  13.5s\n",
            "[CV 2/5] END .....C=100, gamma=0.01, kernel=rbf;, score=0.390 total time=  13.5s\n",
            "[CV 3/5] END .....C=100, gamma=0.01, kernel=rbf;, score=0.400 total time=  13.5s\n",
            "[CV 4/5] END .....C=100, gamma=0.01, kernel=rbf;, score=0.401 total time=  13.6s\n",
            "[CV 5/5] END .....C=100, gamma=0.01, kernel=rbf;, score=0.403 total time=  13.6s\n",
            "[CV 1/5] END ....C=100, gamma=0.001, kernel=rbf;, score=0.386 total time=  12.8s\n",
            "[CV 2/5] END ....C=100, gamma=0.001, kernel=rbf;, score=0.377 total time=  12.7s\n",
            "[CV 3/5] END ....C=100, gamma=0.001, kernel=rbf;, score=0.391 total time=  13.0s\n",
            "[CV 4/5] END ....C=100, gamma=0.001, kernel=rbf;, score=0.392 total time=  13.1s\n",
            "[CV 5/5] END ....C=100, gamma=0.001, kernel=rbf;, score=0.386 total time=  12.9s\n",
            "[CV 1/5] END ...C=100, gamma=0.0001, kernel=rbf;, score=0.374 total time=  12.9s\n",
            "[CV 2/5] END ...C=100, gamma=0.0001, kernel=rbf;, score=0.374 total time=  12.8s\n",
            "[CV 3/5] END ...C=100, gamma=0.0001, kernel=rbf;, score=0.383 total time=  12.9s\n",
            "[CV 4/5] END ...C=100, gamma=0.0001, kernel=rbf;, score=0.384 total time=  14.5s\n",
            "[CV 5/5] END ...C=100, gamma=0.0001, kernel=rbf;, score=0.378 total time=  13.1s\n",
            "[CV 1/5] END .....C=1000, gamma=0.1, kernel=rbf;, score=0.571 total time=  18.1s\n",
            "[CV 2/5] END .....C=1000, gamma=0.1, kernel=rbf;, score=0.585 total time=  18.1s\n",
            "[CV 3/5] END .....C=1000, gamma=0.1, kernel=rbf;, score=0.579 total time=  18.5s\n",
            "[CV 4/5] END .....C=1000, gamma=0.1, kernel=rbf;, score=0.581 total time=  18.6s\n",
            "[CV 5/5] END .....C=1000, gamma=0.1, kernel=rbf;, score=0.569 total time=  18.0s\n",
            "[CV 1/5] END ....C=1000, gamma=0.01, kernel=rbf;, score=0.460 total time=  17.5s\n",
            "[CV 2/5] END ....C=1000, gamma=0.01, kernel=rbf;, score=0.459 total time=  17.6s\n",
            "[CV 3/5] END ....C=1000, gamma=0.01, kernel=rbf;, score=0.473 total time=  17.9s\n",
            "[CV 4/5] END ....C=1000, gamma=0.01, kernel=rbf;, score=0.461 total time=  17.8s\n",
            "[CV 5/5] END ....C=1000, gamma=0.01, kernel=rbf;, score=0.465 total time=  18.7s\n",
            "[CV 1/5] END ...C=1000, gamma=0.001, kernel=rbf;, score=0.392 total time=  15.9s\n",
            "[CV 2/5] END ...C=1000, gamma=0.001, kernel=rbf;, score=0.380 total time=  15.4s\n",
            "[CV 3/5] END ...C=1000, gamma=0.001, kernel=rbf;, score=0.394 total time=  15.3s\n",
            "[CV 4/5] END ...C=1000, gamma=0.001, kernel=rbf;, score=0.392 total time=  15.3s\n",
            "[CV 5/5] END ...C=1000, gamma=0.001, kernel=rbf;, score=0.394 total time=  15.4s\n",
            "[CV 1/5] END ..C=1000, gamma=0.0001, kernel=rbf;, score=0.386 total time=  13.0s\n",
            "[CV 2/5] END ..C=1000, gamma=0.0001, kernel=rbf;, score=0.377 total time=  13.1s\n",
            "[CV 3/5] END ..C=1000, gamma=0.0001, kernel=rbf;, score=0.392 total time=  13.3s\n",
            "[CV 4/5] END ..C=1000, gamma=0.0001, kernel=rbf;, score=0.392 total time=  13.1s\n",
            "[CV 5/5] END ..C=1000, gamma=0.0001, kernel=rbf;, score=0.386 total time=  13.1s\n"
          ]
        },
        {
          "output_type": "execute_result",
          "data": {
            "text/plain": [
              "GridSearchCV(estimator=SVC(),\n",
              "             param_grid={'C': [0.1, 1, 10, 100, 1000],\n",
              "                         'gamma': [0.1, 0.01, 0.001, 0.0001],\n",
              "                         'kernel': ['rbf']},\n",
              "             verbose=5)"
            ]
          },
          "metadata": {},
          "execution_count": 49
        }
      ]
    },
    {
      "cell_type": "markdown",
      "source": [
        "Inspect the best parameters found by GridSearchCV in the best_params_attribute and the best estimator in best_estimator_attribute :"
      ],
      "metadata": {
        "id": "CcxZFgd_Y843"
      }
    },
    {
      "cell_type": "code",
      "source": [
        "grid.best_params_"
      ],
      "metadata": {
        "colab": {
          "base_uri": "https://localhost:8080/",
          "height": 167
        },
        "id": "LL88lJj9Ywo9",
        "outputId": "b54c0fd3-e433-4634-a4b6-03628ff96864"
      },
      "execution_count": null,
      "outputs": [
        {
          "output_type": "error",
          "ename": "NameError",
          "evalue": "ignored",
          "traceback": [
            "\u001b[0;31m---------------------------------------------------------------------------\u001b[0m",
            "\u001b[0;31mNameError\u001b[0m                                 Traceback (most recent call last)",
            "\u001b[0;32m<ipython-input-42-28c2e4d7952c>\u001b[0m in \u001b[0;36m<module>\u001b[0;34m\u001b[0m\n\u001b[0;32m----> 1\u001b[0;31m \u001b[0mgrid\u001b[0m\u001b[0;34m.\u001b[0m\u001b[0mbest_params_\u001b[0m\u001b[0;34m\u001b[0m\u001b[0;34m\u001b[0m\u001b[0m\n\u001b[0m",
            "\u001b[0;31mNameError\u001b[0m: name 'grid' is not defined"
          ]
        }
      ]
    },
    {
      "cell_type": "code",
      "source": [
        "grid.best_estimator_"
      ],
      "metadata": {
        "colab": {
          "base_uri": "https://localhost:8080/"
        },
        "id": "pyMBusV1ZG1g",
        "outputId": "4898acb0-f446-473c-8bd1-9a53868bcfcc"
      },
      "execution_count": null,
      "outputs": [
        {
          "output_type": "execute_result",
          "data": {
            "text/plain": [
              "SVC(C=1000, gamma=0.1)"
            ]
          },
          "metadata": {},
          "execution_count": 51
        }
      ]
    },
    {
      "cell_type": "code",
      "source": [
        "#Re-run predictions on this grid object \n",
        "grid_predictions = grid.predict(X_test)"
      ],
      "metadata": {
        "id": "LVXa8-yDZL7_"
      },
      "execution_count": null,
      "outputs": []
    },
    {
      "cell_type": "code",
      "source": [
        "print(confusion_matrix(Y_test,grid_predictions))"
      ],
      "metadata": {
        "colab": {
          "base_uri": "https://localhost:8080/"
        },
        "id": "gutwj_yuZXbz",
        "outputId": "8659b002-a047-48e4-caf0-cc9c5f2be300"
      },
      "execution_count": null,
      "outputs": [
        {
          "output_type": "stream",
          "name": "stdout",
          "text": [
            "[[449   0   0  65   2   6   5   0   6]\n",
            " [  0   0   2   1   1   1   0   0   0]\n",
            " [  7   0   7   0   2   1   1   0   1]\n",
            " [158   0   0 260   2   3  17   0   0]\n",
            " [ 23   0   0  12 160   5  91   0   0]\n",
            " [147   0   0  88   2  55   3   0   1]\n",
            " [ 59   0   0   9  39   1 179   0   0]\n",
            " [ 25   0   4  28   5   0   0   0   3]\n",
            " [  3   0   0  12   1   0   0   0  48]]\n"
          ]
        }
      ]
    },
    {
      "cell_type": "code",
      "source": [
        "#recalculation of the evaluation parameters\n",
        "print('\\nAccuracy: {:.2f}\\n'.format(accuracy_score(Y_test, grid_predictions)))\n",
        "\n",
        "print('Micro Precision: {:.2f}'.format(precision_score(Y_test,grid_predictions, average='micro')))\n",
        "print('Micro Recall: {:.2f}'.format(recall_score(Y_test,grid_predictions, average='micro')))\n",
        "print('Micro F1-score: {:.2f}\\n'.format(f1_score(Y_test,grid_predictions, average='micro')))\n",
        "\n",
        "print('Macro Precision: {:.2f}'.format(precision_score(Y_test,grid_predictions, average='macro')))\n",
        "print('Macro Recall: {:.2f}'.format(recall_score(Y_test,grid_predictions, average='macro')))\n",
        "print('Macro F1-score: {:.2f}\\n'.format(f1_score(Y_test,grid_predictions, average='macro')))\n",
        "\n",
        "print('Weighted Precision: {:.2f}'.format(precision_score(Y_test,grid_predictions, average='weighted')))\n",
        "print('Weighted Recall: {:.2f}'.format(recall_score(Y_test,grid_predictions, average='weighted')))\n",
        "print('Weighted F1-score: {:.2f}'.format(f1_score(Y_test,grid_predictions, average='weighted')))\n",
        "\n",
        "from sklearn.metrics import classification_report\n",
        "print('\\nClassification Report\\n')\n",
        "print(classification_report(Y_test,grid_predictions))"
      ],
      "metadata": {
        "colab": {
          "base_uri": "https://localhost:8080/"
        },
        "id": "mhEFLKqlZmfO",
        "outputId": "f3da754e-5db2-4d7b-9ad7-f96c2764cb18"
      },
      "execution_count": null,
      "outputs": [
        {
          "output_type": "stream",
          "name": "stdout",
          "text": [
            "\n",
            "Accuracy: 0.58\n",
            "\n",
            "Micro Precision: 0.58\n",
            "Micro Recall: 0.58\n",
            "Micro F1-score: 0.58\n",
            "\n",
            "Macro Precision: 0.50\n",
            "Macro Recall: 0.43\n",
            "Macro F1-score: 0.44\n",
            "\n",
            "Weighted Precision: 0.60\n",
            "Weighted Recall: 0.58\n",
            "Weighted F1-score: 0.55\n",
            "\n",
            "Classification Report\n",
            "\n",
            "              precision    recall  f1-score   support\n",
            "\n",
            "           1       0.52      0.84      0.64       533\n",
            "           2       0.00      0.00      0.00         5\n",
            "           3       0.54      0.37      0.44        19\n",
            "           4       0.55      0.59      0.57       440\n",
            "           5       0.75      0.55      0.63       291\n",
            "           6       0.76      0.19      0.30       296\n",
            "           7       0.60      0.62      0.61       287\n",
            "           8       0.00      0.00      0.00        65\n",
            "           9       0.81      0.75      0.78        64\n",
            "\n",
            "    accuracy                           0.58      2000\n",
            "   macro avg       0.50      0.43      0.44      2000\n",
            "weighted avg       0.60      0.58      0.55      2000\n",
            "\n"
          ]
        }
      ]
    },
    {
      "cell_type": "markdown",
      "source": [
        "#Build Model - Random Forest Classifier for df1"
      ],
      "metadata": {
        "id": "jZ4Lyp98neSs"
      }
    },
    {
      "cell_type": "code",
      "source": [
        "#model training on training data and predicting for test data\n",
        "from sklearn.ensemble import RandomForestClassifier\n",
        "rfc = RandomForestClassifier(n_estimators = 10, criterion = 'entropy' , random_state = 500)\n",
        "rfc.fit(X_train , Y_train)\n",
        "Y_pred = rfc.predict(X_test)"
      ],
      "metadata": {
        "id": "490JDv99vnQb"
      },
      "execution_count": null,
      "outputs": []
    },
    {
      "cell_type": "markdown",
      "source": [
        "**Model Evaluation - Random Forest**\n",
        "\n",
        "\n"
      ],
      "metadata": {
        "id": "RFxdDqjLn5a5"
      }
    },
    {
      "cell_type": "code",
      "source": [
        "# importing and creating a confusion matrix,which compares the Y_test and y_pred values\n",
        "\n",
        "from sklearn.metrics import confusion_matrix\n",
        "cm = confusion_matrix(Y_test, Y_pred)\n",
        "print ('Confusion\\n')\n",
        "print (cm)"
      ],
      "metadata": {
        "colab": {
          "base_uri": "https://localhost:8080/"
        },
        "id": "tlhUfUH8nMcF",
        "outputId": "47ea2945-ee51-4def-99f8-f8a43f66711f"
      },
      "execution_count": null,
      "outputs": [
        {
          "output_type": "stream",
          "name": "stdout",
          "text": [
            "Confusion\n",
            "\n",
            "[[554   0   0  24   2   3   0   1   0]\n",
            " [  0   5   1   1   0   0   0   0   0]\n",
            " [  1   0  15   0   2   1   0   1   0]\n",
            " [ 30   0   0 383   2   7   1   7   0]\n",
            " [  1   0   0   2 257   1   3   0   0]\n",
            " [  7   0   0  22   1 247   1   1   0]\n",
            " [  1   0   0   2   4   1 287   0   0]\n",
            " [  7   0   0  18   1   0   1  32   1]\n",
            " [  0   0   0   1   0   0   1   1  58]]\n"
          ]
        }
      ]
    },
    {
      "cell_type": "code",
      "source": [
        "#importing accuracy_score, precision_score, recall_score, f1_score\n",
        "from sklearn.metrics import accuracy_score, precision_score, recall_score, f1_score\n",
        "print('\\nAccuracy: {:.2f}\\n'.format(accuracy_score(Y_test, Y_pred)))\n",
        "\n",
        "print('Micro Precision: {:.2f}'.format(precision_score(Y_test, Y_pred, average='micro')))\n",
        "print('Micro Recall: {:.2f}'.format(recall_score(Y_test, Y_pred, average='micro')))\n",
        "print('Micro F1-score: {:.2f}\\n'.format(f1_score(Y_test, Y_pred, average='micro')))\n",
        "\n",
        "print('Macro Precision: {:.2f}'.format(precision_score(Y_test, Y_pred, average='macro')))\n",
        "print('Macro Recall: {:.2f}'.format(recall_score(Y_test, Y_pred, average='macro')))\n",
        "print('Macro F1-score: {:.2f}\\n'.format(f1_score(Y_test, Y_pred, average='macro')))\n",
        "\n",
        "print('Weighted Precision: {:.2f}'.format(precision_score(Y_test, Y_pred, average='weighted')))\n",
        "print('Weighted Recall: {:.2f}'.format(recall_score(Y_test, Y_pred, average='weighted')))\n",
        "print('Weighted F1-score: {:.2f}'.format(f1_score(Y_test, Y_pred, average='weighted')))\n",
        "\n",
        "from sklearn.metrics import classification_report\n",
        "print('\\nClassification Report\\n')\n",
        "print(classification_report(Y_test, Y_pred))"
      ],
      "metadata": {
        "colab": {
          "base_uri": "https://localhost:8080/"
        },
        "id": "UfSUteJwoMY2",
        "outputId": "825bfa08-eea8-4e1e-8087-22e9a02cbfda"
      },
      "execution_count": null,
      "outputs": [
        {
          "output_type": "stream",
          "name": "stdout",
          "text": [
            "\n",
            "Accuracy: 0.93\n",
            "\n",
            "Micro Precision: 0.93\n",
            "Micro Recall: 0.93\n",
            "Micro F1-score: 0.93\n",
            "\n",
            "Macro Precision: 0.89\n",
            "Macro Recall: 0.82\n",
            "Macro F1-score: 0.85\n",
            "\n",
            "Weighted Precision: 0.92\n",
            "Weighted Recall: 0.93\n",
            "Weighted F1-score: 0.92\n",
            "\n",
            "Classification Report\n",
            "\n",
            "              precision    recall  f1-score   support\n",
            "\n",
            "           1       0.92      0.96      0.94       533\n",
            "           2       0.60      0.60      0.60         5\n",
            "           3       0.92      0.58      0.71        19\n",
            "           4       0.88      0.92      0.90       440\n",
            "           5       0.95      0.97      0.96       291\n",
            "           6       0.94      0.88      0.91       296\n",
            "           7       0.97      0.97      0.97       287\n",
            "           8       0.87      0.51      0.64        65\n",
            "           9       0.97      0.98      0.98        64\n",
            "\n",
            "    accuracy                           0.93      2000\n",
            "   macro avg       0.89      0.82      0.85      2000\n",
            "weighted avg       0.92      0.93      0.92      2000\n",
            "\n"
          ]
        }
      ]
    },
    {
      "cell_type": "markdown",
      "source": [
        "#Checking if the evaluation parameter scores can be bettered if imbalance of output values is cancelled using Oversampling method (SMOTE)"
      ],
      "metadata": {
        "id": "4UTlPQCv4oIF"
      }
    },
    {
      "cell_type": "markdown",
      "source": [
        "*SMOTE - Synthetic Minority Oversampling Technique is an oversampling technique where the synthetic samples are generated for the minority class. This algorithm helps to overcome the overfitting problem posed by random oversampling.*"
      ],
      "metadata": {
        "id": "BvXcRO3w4nqr"
      }
    },
    {
      "cell_type": "code",
      "source": [
        "!pip install imblearn"
      ],
      "metadata": {
        "colab": {
          "base_uri": "https://localhost:8080/"
        },
        "id": "aJbeWj_p4nI3",
        "outputId": "7a0d96a9-dc45-4895-c0f4-43790f3ed790"
      },
      "execution_count": null,
      "outputs": [
        {
          "output_type": "stream",
          "name": "stdout",
          "text": [
            "Looking in indexes: https://pypi.org/simple, https://us-python.pkg.dev/colab-wheels/public/simple/\n",
            "Requirement already satisfied: imblearn in /usr/local/lib/python3.7/dist-packages (0.0)\n",
            "Requirement already satisfied: imbalanced-learn in /usr/local/lib/python3.7/dist-packages (from imblearn) (0.8.1)\n",
            "Requirement already satisfied: scikit-learn>=0.24 in /usr/local/lib/python3.7/dist-packages (from imbalanced-learn->imblearn) (1.0.2)\n",
            "Requirement already satisfied: numpy>=1.13.3 in /usr/local/lib/python3.7/dist-packages (from imbalanced-learn->imblearn) (1.21.6)\n",
            "Requirement already satisfied: scipy>=0.19.1 in /usr/local/lib/python3.7/dist-packages (from imbalanced-learn->imblearn) (1.7.3)\n",
            "Requirement already satisfied: joblib>=0.11 in /usr/local/lib/python3.7/dist-packages (from imbalanced-learn->imblearn) (1.2.0)\n",
            "Requirement already satisfied: threadpoolctl>=2.0.0 in /usr/local/lib/python3.7/dist-packages (from scikit-learn>=0.24->imbalanced-learn->imblearn) (3.1.0)\n"
          ]
        }
      ]
    },
    {
      "cell_type": "code",
      "source": [
        "#checking the count of each 'label' in Y_train before SMOTE\n",
        "df1y , count = np.unique(Y_train,return_counts = True)\n",
        "Y_train_dict_value_count = { k:v for (k,v) in zip(df1x_normalised , count)}\n",
        "Y_train_dict_value_count"
      ],
      "metadata": {
        "colab": {
          "base_uri": "https://localhost:8080/"
        },
        "id": "IQOi2g2K8jPJ",
        "outputId": "0fb4cb00-ae1f-4291-b362-ec539358a537"
      },
      "execution_count": null,
      "outputs": [
        {
          "output_type": "execute_result",
          "data": {
            "text/plain": [
              "{1: 4519, 2: 71, 3: 197, 4: 3242, 5: 2263, 6: 2177, 7: 2514, 8: 441, 9: 576}"
            ]
          },
          "metadata": {},
          "execution_count": 68
        }
      ]
    },
    {
      "cell_type": "code",
      "source": [
        "#importing the SMOTE package and fitting the same for the test and train data\n",
        "from imblearn.over_sampling import SMOTE\n",
        "smote = SMOTE(random_state = 10)\n",
        "\n",
        "X_train_smote, Y_train_smote = smote.fit_resample(X_train,Y_train)"
      ],
      "metadata": {
        "id": "szKouf2U5k0r"
      },
      "execution_count": null,
      "outputs": []
    },
    {
      "cell_type": "code",
      "source": [
        "#checking the count of each 'label' in Y_train after SMOTE\n",
        "df1y , count = np.unique(Y_train_smote,return_counts = True)\n",
        "Y_train_smote_value_count = { k:v for (k,v) in zip(df1x_normalised , count)}\n",
        "Y_train_smote_value_count"
      ],
      "metadata": {
        "colab": {
          "base_uri": "https://localhost:8080/"
        },
        "id": "1llnpAWy-4Cj",
        "outputId": "5c14016a-f71e-4633-c458-1dc04740454c"
      },
      "execution_count": null,
      "outputs": [
        {
          "output_type": "execute_result",
          "data": {
            "text/plain": [
              "{1: 4519,\n",
              " 2: 4519,\n",
              " 3: 4519,\n",
              " 4: 4519,\n",
              " 5: 4519,\n",
              " 6: 4519,\n",
              " 7: 4519,\n",
              " 8: 4519,\n",
              " 9: 4519}"
            ]
          },
          "metadata": {},
          "execution_count": 69
        }
      ]
    },
    {
      "cell_type": "markdown",
      "source": [
        "#Model Building using SVC after SMOTE "
      ],
      "metadata": {
        "id": "IBY51GEuAfJj"
      }
    },
    {
      "cell_type": "code",
      "source": [
        "# fitting the classifier for X_Train_smote and Y_train_smote values and defining the prediction\n",
        "clf = SVC(kernel = 'linear').fit(X_train_smote,Y_train_smote)\n",
        "clf.predict(X_train)\n",
        "\n",
        "# testing the model using X_test and storing the output in y_pred\n",
        "Y_pred = clf.predict(X_test)"
      ],
      "metadata": {
        "id": "_wX7H97oAqDt"
      },
      "execution_count": null,
      "outputs": []
    },
    {
      "cell_type": "markdown",
      "source": [
        "Evaluating the model built on SVC , after SMOTE is done\n",
        "\n",
        "\n",
        "\n"
      ],
      "metadata": {
        "id": "R5ZXF4k1CA4o"
      }
    },
    {
      "cell_type": "code",
      "source": [
        "# importing and creating a confusion matrix,which compares the Y_test and y_pred values\n",
        "\n",
        "from sklearn.metrics import confusion_matrix\n",
        "cm = confusion_matrix(Y_test, Y_pred)\n",
        "print ('Confusion\\n')\n",
        "print (cm)"
      ],
      "metadata": {
        "colab": {
          "base_uri": "https://localhost:8080/"
        },
        "id": "6s6WhUw2CHTq",
        "outputId": "158d8628-900c-4c88-ebb5-ffdb5a1b3ed9"
      },
      "execution_count": null,
      "outputs": [
        {
          "output_type": "stream",
          "name": "stdout",
          "text": [
            "Confusion\n",
            "\n",
            "[[ 43  52  58 224  14   5   5  65  67]\n",
            " [  0   2   1   1   0   1   0   0   0]\n",
            " [  2   8   2   1   1   0   3   0   2]\n",
            " [ 14  15  11 299  14   1  12  73   1]\n",
            " [  3  43   9  34  70   0 101  31   0]\n",
            " [  2  34  23 141   0  46   6  28  16]\n",
            " [ 13  41  21  29  51   7  97  28   0]\n",
            " [  2   7   3  14   2   0   0  37   0]\n",
            " [  3   1   0   0   1   0   0  11  48]]\n"
          ]
        }
      ]
    },
    {
      "cell_type": "code",
      "source": [
        "#importing accuracy_score, precision_score, recall_score, f1_score\n",
        "from sklearn.metrics import accuracy_score, precision_score, recall_score, f1_score\n",
        "print('\\nAccuracy: {:.2f}\\n'.format(accuracy_score(Y_test, Y_pred)))\n",
        "\n",
        "print('Micro Precision: {:.2f}'.format(precision_score(Y_test, Y_pred, average='micro')))\n",
        "print('Micro Recall: {:.2f}'.format(recall_score(Y_test, Y_pred, average='micro')))\n",
        "print('Micro F1-score: {:.2f}\\n'.format(f1_score(Y_test, Y_pred, average='micro')))\n",
        "\n",
        "print('Macro Precision: {:.2f}'.format(precision_score(Y_test, Y_pred, average='macro')))\n",
        "print('Macro Recall: {:.2f}'.format(recall_score(Y_test, Y_pred, average='macro')))\n",
        "print('Macro F1-score: {:.2f}\\n'.format(f1_score(Y_test, Y_pred, average='macro')))\n",
        "\n",
        "print('Weighted Precision: {:.2f}'.format(precision_score(Y_test, Y_pred, average='weighted')))\n",
        "print('Weighted Recall: {:.2f}'.format(recall_score(Y_test, Y_pred, average='weighted')))\n",
        "print('Weighted F1-score: {:.2f}'.format(f1_score(Y_test, Y_pred, average='weighted')))\n",
        "\n",
        "from sklearn.metrics import classification_report\n",
        "print('\\nClassification Report\\n')\n",
        "print(classification_report(Y_test, Y_pred))"
      ],
      "metadata": {
        "colab": {
          "base_uri": "https://localhost:8080/"
        },
        "id": "F8eXeirSCfdN",
        "outputId": "a3a249bd-0ea0-4187-8fc1-c3bd3874209c"
      },
      "execution_count": null,
      "outputs": [
        {
          "output_type": "stream",
          "name": "stdout",
          "text": [
            "\n",
            "Accuracy: 0.32\n",
            "\n",
            "Micro Precision: 0.32\n",
            "Micro Recall: 0.32\n",
            "Micro F1-score: 0.32\n",
            "\n",
            "Macro Precision: 0.34\n",
            "Macro Recall: 0.37\n",
            "Macro F1-score: 0.26\n",
            "\n",
            "Weighted Precision: 0.49\n",
            "Weighted Recall: 0.32\n",
            "Weighted F1-score: 0.31\n",
            "\n",
            "Classification Report\n",
            "\n",
            "              precision    recall  f1-score   support\n",
            "\n",
            "           1       0.52      0.08      0.14       533\n",
            "           2       0.01      0.40      0.02         5\n",
            "           3       0.02      0.11      0.03        19\n",
            "           4       0.40      0.68      0.51       440\n",
            "           5       0.46      0.24      0.32       291\n",
            "           6       0.77      0.16      0.26       296\n",
            "           7       0.43      0.34      0.38       287\n",
            "           8       0.14      0.57      0.22        65\n",
            "           9       0.36      0.75      0.48        64\n",
            "\n",
            "    accuracy                           0.32      2000\n",
            "   macro avg       0.34      0.37      0.26      2000\n",
            "weighted avg       0.49      0.32      0.31      2000\n",
            "\n"
          ]
        }
      ]
    },
    {
      "cell_type": "markdown",
      "source": [
        "#Model Building using Random Forest after SMOTE \n",
        "\n",
        "---\n",
        "\n"
      ],
      "metadata": {
        "id": "0FNklMCPEOG5"
      }
    },
    {
      "cell_type": "code",
      "source": [
        "#model training on training data and predicting for test data\n",
        "from sklearn.ensemble import RandomForestClassifier\n",
        "rfc = RandomForestClassifier(n_estimators = 10, criterion = 'entropy' , random_state = 500)\n",
        "rfc.fit(X_train_smote , Y_train_smote)\n",
        "Y_pred = rfc.predict(X_test)"
      ],
      "metadata": {
        "id": "3jSfAPq1ERVn"
      },
      "execution_count": null,
      "outputs": []
    },
    {
      "cell_type": "markdown",
      "source": [
        "**Model Evaluation - Random Forest**\n",
        "\n",
        "\n",
        "\n"
      ],
      "metadata": {
        "id": "sWHtikisEs9v"
      }
    },
    {
      "cell_type": "code",
      "source": [
        "# importing and creating a confusion matrix,which compares the Y_test and Y_pred values\n",
        "\n",
        "from sklearn.metrics import confusion_matrix\n",
        "cm = confusion_matrix(Y_test, Y_pred)\n",
        "print ('Confusion\\n')\n",
        "print (cm)"
      ],
      "metadata": {
        "colab": {
          "base_uri": "https://localhost:8080/"
        },
        "id": "RMIQ3iqTEwYR",
        "outputId": "e8f98a57-8f73-46c6-a704-1803d4b08d26"
      },
      "execution_count": null,
      "outputs": [
        {
          "output_type": "stream",
          "name": "stdout",
          "text": [
            "Confusion\n",
            "\n",
            "[[489   0   2  26   0   7   0   9   0]\n",
            " [  0   3   1   1   0   0   0   0   0]\n",
            " [  1   5   9   2   1   0   1   0   0]\n",
            " [ 28   0   2 369   3  18   3  16   1]\n",
            " [  2   0   1   1 282   0   5   0   0]\n",
            " [  6   2   2  17   0 264   1   4   0]\n",
            " [  0   0   0   2  11   0 273   0   1]\n",
            " [ 10   1   0  11   1   1   0  40   1]\n",
            " [  0   0   0   0   0   0   0   0  64]]\n"
          ]
        }
      ]
    },
    {
      "cell_type": "code",
      "source": [
        "#importing accuracy_score, precision_score, recall_score, f1_score\n",
        "from sklearn.metrics import accuracy_score, precision_score, recall_score, f1_score\n",
        "print('\\nAccuracy: {:.2f}\\n'.format(accuracy_score(Y_test, Y_pred)))\n",
        "\n",
        "print('Micro Precision: {:.2f}'.format(precision_score(Y_test, Y_pred, average='micro')))\n",
        "print('Micro Recall: {:.2f}'.format(recall_score(Y_test, Y_pred, average='micro')))\n",
        "print('Micro F1-score: {:.2f}\\n'.format(f1_score(Y_test, Y_pred, average='micro')))\n",
        "\n",
        "print('Macro Precision: {:.2f}'.format(precision_score(Y_test, Y_pred, average='macro')))\n",
        "print('Macro Recall: {:.2f}'.format(recall_score(Y_test, Y_pred, average='macro')))\n",
        "print('Macro F1-score: {:.2f}\\n'.format(f1_score(Y_test, Y_pred, average='macro')))\n",
        "\n",
        "print('Weighted Precision: {:.2f}'.format(precision_score(Y_test, Y_pred, average='weighted')))\n",
        "print('Weighted Recall: {:.2f}'.format(recall_score(Y_test, Y_pred, average='weighted')))\n",
        "print('Weighted F1-score: {:.2f}'.format(f1_score(Y_test, Y_pred, average='weighted')))\n",
        "\n",
        "from sklearn.metrics import classification_report\n",
        "print('\\nClassification Report\\n')\n",
        "print(classification_report(Y_test, Y_pred))"
      ],
      "metadata": {
        "colab": {
          "base_uri": "https://localhost:8080/"
        },
        "id": "57gbrDHhFAzP",
        "outputId": "7db79f98-252d-47a9-f1a2-2b597b6a7854"
      },
      "execution_count": null,
      "outputs": [
        {
          "output_type": "stream",
          "name": "stdout",
          "text": [
            "\n",
            "Accuracy: 0.90\n",
            "\n",
            "Micro Precision: 0.90\n",
            "Micro Recall: 0.90\n",
            "Micro F1-score: 0.90\n",
            "\n",
            "Macro Precision: 0.77\n",
            "Macro Recall: 0.81\n",
            "Macro F1-score: 0.78\n",
            "\n",
            "Weighted Precision: 0.90\n",
            "Weighted Recall: 0.90\n",
            "Weighted F1-score: 0.90\n",
            "\n",
            "Classification Report\n",
            "\n",
            "              precision    recall  f1-score   support\n",
            "\n",
            "           1       0.91      0.92      0.91       533\n",
            "           2       0.27      0.60      0.37         5\n",
            "           3       0.53      0.47      0.50        19\n",
            "           4       0.86      0.84      0.85       440\n",
            "           5       0.95      0.97      0.96       291\n",
            "           6       0.91      0.89      0.90       296\n",
            "           7       0.96      0.95      0.96       287\n",
            "           8       0.58      0.62      0.60        65\n",
            "           9       0.96      1.00      0.98        64\n",
            "\n",
            "    accuracy                           0.90      2000\n",
            "   macro avg       0.77      0.81      0.78      2000\n",
            "weighted avg       0.90      0.90      0.90      2000\n",
            "\n"
          ]
        }
      ]
    }
  ],
  "metadata": {
    "colab": {
      "collapsed_sections": [],
      "provenance": []
    },
    "kernelspec": {
      "display_name": "Python 3",
      "name": "python3"
    },
    "language_info": {
      "name": "python"
    }
  },
  "nbformat": 4,
  "nbformat_minor": 0
}