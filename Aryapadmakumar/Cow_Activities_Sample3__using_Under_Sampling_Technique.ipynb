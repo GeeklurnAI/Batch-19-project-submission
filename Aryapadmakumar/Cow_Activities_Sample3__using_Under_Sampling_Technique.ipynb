{
  "nbformat": 4,
  "nbformat_minor": 0,
  "metadata": {
    "colab": {
      "provenance": []
    },
    "kernelspec": {
      "name": "python3",
      "display_name": "Python 3"
    },
    "language_info": {
      "name": "python"
    }
  },
  "cells": [
    {
      "cell_type": "code",
      "execution_count": 58,
      "metadata": {
        "id": "JIMbP4PtFswi"
      },
      "outputs": [],
      "source": [
        "#importing the common packages\n",
        "import pandas as pd\n",
        "import numpy as np\n",
        "import matplotlib as mpl\n",
        "import matplotlib.pyplot as plt\n",
        "%matplotlib inline\n",
        "import scipy.stats as stats\n",
        "import seaborn as sns\n",
        "import warnings\n",
        "warnings.filterwarnings('ignore')"
      ]
    },
    {
      "cell_type": "code",
      "source": [
        "#importing modeling packages\n",
        "from sklearn.linear_model import LinearRegression\n",
        "from sklearn.ensemble import RandomForestClassifier\n",
        "from sklearn.tree import DecisionTreeClassifier\n",
        "from sklearn.svm import SVC"
      ],
      "metadata": {
        "id": "1cu8UNNyGM9H"
      },
      "execution_count": 59,
      "outputs": []
    },
    {
      "cell_type": "code",
      "source": [
        "#importing the model parameters or matrix\n",
        "from sklearn.metrics import accuracy_score\n",
        "from sklearn.metrics import precision_score\n",
        "from sklearn.metrics import recall_score\n",
        "from sklearn.metrics import f1_score"
      ],
      "metadata": {
        "id": "YTEBrhctGXRI"
      },
      "execution_count": 60,
      "outputs": []
    },
    {
      "cell_type": "code",
      "source": [
        "from google.colab import drive\n",
        "drive.mount('/content/drive/',force_remount = True)"
      ],
      "metadata": {
        "colab": {
          "base_uri": "https://localhost:8080/"
        },
        "id": "NR-9_Ni7GYsO",
        "outputId": "05a4e7c9-56ae-4308-baa2-1eb3263bf568"
      },
      "execution_count": 61,
      "outputs": [
        {
          "output_type": "stream",
          "name": "stdout",
          "text": [
            "Mounted at /content/drive/\n"
          ]
        }
      ]
    },
    {
      "cell_type": "code",
      "source": [
        "#mounting the files from google drive to colab and renaming and reading them\n",
        "path1 = '/content/drive/MyDrive/DM Certifications and Documents/Cow Positions - Data Sets/E1_train.csv'\n",
        "path2 = '/content/drive/MyDrive/DM Certifications and Documents/Cow Positions - Data Sets/D2_train.csv'\n",
        "path3 = '/content/drive/MyDrive/DM Certifications and Documents/Cow Positions - Data Sets/W3_train.csv'\n",
        "path4 = '/content/drive/MyDrive/DM Certifications and Documents/Cow Positions - Data Sets/S4_train.csv'\n",
        "path5 = '/content/drive/MyDrive/DM Certifications and Documents/Cow Positions - Data Sets/L5_train.csv'\n",
        "path6 ='/content/drive/MyDrive/DM Certifications and Documents/Cow Positions - Data Sets/RS6_train.csv'\n",
        "path7 = '/content/drive/MyDrive/DM Certifications and Documents/Cow Positions - Data Sets/RL7_train.csv'\n",
        "path8 = '/content/drive/MyDrive/DM Certifications and Documents/Cow Positions - Data Sets/G8_train.csv'\n",
        "path9 = '/content/drive/MyDrive/DM Certifications and Documents/Cow Positions - Data Sets/I9_train.csv'\n",
        "eating = pd.read_csv(path1)\n",
        "drinking = pd.read_csv(path2)\n",
        "walking = pd.read_csv(path3)\n",
        "standing = pd.read_csv(path4)\n",
        "lying = pd.read_csv(path5)\n",
        "rs = pd.read_csv(path6)\n",
        "rl = pd.read_csv(path7)\n",
        "grooming = pd.read_csv(path8)\n",
        "idle = pd.read_csv(path9)"
      ],
      "metadata": {
        "id": "vDLmLvBVGndL"
      },
      "execution_count": 62,
      "outputs": []
    },
    {
      "cell_type": "code",
      "source": [
        "#concatinating all the dataframes into a single dataframe and checking the number of rows and columns in the final dataframe\n",
        "df = pd.concat([eating,drinking,walking,standing,lying,rs,rl,grooming,idle])\n",
        "df.shape"
      ],
      "metadata": {
        "colab": {
          "base_uri": "https://localhost:8080/"
        },
        "id": "sbpMWJQwGrlg",
        "outputId": "b1351be9-9f22-4a5b-8d88-0852c383247c"
      },
      "execution_count": 63,
      "outputs": [
        {
          "output_type": "execute_result",
          "data": {
            "text/plain": [
              "(12263524, 11)"
            ]
          },
          "metadata": {},
          "execution_count": 63
        }
      ]
    },
    {
      "cell_type": "code",
      "source": [
        "#checking the data types in df\n",
        "df.info()"
      ],
      "metadata": {
        "colab": {
          "base_uri": "https://localhost:8080/"
        },
        "id": "zcmtYkWwZufW",
        "outputId": "9dbceb49-9f5f-4da6-b2ed-87cd5b3b3bba"
      },
      "execution_count": 64,
      "outputs": [
        {
          "output_type": "stream",
          "name": "stdout",
          "text": [
            "<class 'pandas.core.frame.DataFrame'>\n",
            "Int64Index: 12263524 entries, 0 to 405262\n",
            "Data columns (total 11 columns):\n",
            " #   Column  Dtype  \n",
            "---  ------  -----  \n",
            " 0   time    int64  \n",
            " 1   acc_x   float64\n",
            " 2   acc_y   float64\n",
            " 3   acc_z   float64\n",
            " 4   gyr_x   float64\n",
            " 5   gyr_y   float64\n",
            " 6   gyr_z   float64\n",
            " 7   mag_x   float64\n",
            " 8   mag_y   float64\n",
            " 9   mag_z   float64\n",
            " 10  label   int64  \n",
            "dtypes: float64(9), int64(2)\n",
            "memory usage: 1.1 GB\n"
          ]
        }
      ]
    },
    {
      "cell_type": "code",
      "source": [
        "#checking the statistical parameters of values in df\n",
        "df.describe()"
      ],
      "metadata": {
        "colab": {
          "base_uri": "https://localhost:8080/",
          "height": 364
        },
        "id": "oAHHEF4UZ7ix",
        "outputId": "d277e977-4bdb-442e-8b1f-873fae9b953d"
      },
      "execution_count": 65,
      "outputs": [
        {
          "output_type": "execute_result",
          "data": {
            "text/plain": [
              "               time         acc_x         acc_y         acc_z         gyr_x  \\\n",
              "count  1.226352e+07  1.226352e+07  1.226352e+07  1.226352e+07  1.226352e+07   \n",
              "mean   1.628243e+09 -2.807402e-02  6.211683e-01  1.081455e-01  8.722215e-01   \n",
              "std    1.205662e+05  2.622167e-01  7.084800e-01  1.888613e-01  1.282481e+01   \n",
              "min    1.628067e+09 -1.599756e+01 -1.314160e+01 -1.599121e+01 -1.999756e+03   \n",
              "25%    1.628106e+09 -2.182617e-01  8.281250e-01  3.173830e-02 -2.014160e+00   \n",
              "50%    1.628312e+09 -2.490230e-02  9.370118e-01  1.230469e-01  8.544922e-01   \n",
              "75%    1.628335e+09  1.616211e-01  9.736329e-01  2.006836e-01  3.723145e+00   \n",
              "max    1.628421e+09  1.051514e+01  1.182617e+01  1.599854e+01  1.999756e+03   \n",
              "\n",
              "              gyr_y         gyr_z         mag_x         mag_y         mag_z  \\\n",
              "count  1.226352e+07  1.226352e+07  1.226352e+07  1.226352e+07  1.226352e+07   \n",
              "mean  -1.837340e+00 -6.375345e-01 -2.934089e+02  4.300977e+02  2.037158e+02   \n",
              "std    2.014151e+01  1.030093e+01  2.736141e+02  5.969720e+02  4.382996e+02   \n",
              "min   -1.998779e+03 -1.999756e+03 -1.534500e+03 -1.057500e+03 -1.152000e+03   \n",
              "25%   -5.676270e+00 -2.685547e+00 -4.635000e+02 -4.950000e+01  6.900000e+01   \n",
              "50%   -1.892090e+00 -6.103516e-01 -2.535000e+02  1.395000e+02  3.165000e+02   \n",
              "75%    1.892090e+00  1.464844e+00 -1.260000e+02  9.795000e+02  5.520000e+02   \n",
              "max    1.999939e+03  1.973511e+03  7.920000e+02  1.918500e+03  1.179000e+03   \n",
              "\n",
              "              label  \n",
              "count  1.226352e+07  \n",
              "mean   4.320899e+00  \n",
              "std    2.417436e+00  \n",
              "min    1.000000e+00  \n",
              "25%    1.000000e+00  \n",
              "50%    4.000000e+00  \n",
              "75%    6.000000e+00  \n",
              "max    9.000000e+00  "
            ],
            "text/html": [
              "\n",
              "  <div id=\"df-8086bfa0-dd25-4311-8b50-654717d529ef\">\n",
              "    <div class=\"colab-df-container\">\n",
              "      <div>\n",
              "<style scoped>\n",
              "    .dataframe tbody tr th:only-of-type {\n",
              "        vertical-align: middle;\n",
              "    }\n",
              "\n",
              "    .dataframe tbody tr th {\n",
              "        vertical-align: top;\n",
              "    }\n",
              "\n",
              "    .dataframe thead th {\n",
              "        text-align: right;\n",
              "    }\n",
              "</style>\n",
              "<table border=\"1\" class=\"dataframe\">\n",
              "  <thead>\n",
              "    <tr style=\"text-align: right;\">\n",
              "      <th></th>\n",
              "      <th>time</th>\n",
              "      <th>acc_x</th>\n",
              "      <th>acc_y</th>\n",
              "      <th>acc_z</th>\n",
              "      <th>gyr_x</th>\n",
              "      <th>gyr_y</th>\n",
              "      <th>gyr_z</th>\n",
              "      <th>mag_x</th>\n",
              "      <th>mag_y</th>\n",
              "      <th>mag_z</th>\n",
              "      <th>label</th>\n",
              "    </tr>\n",
              "  </thead>\n",
              "  <tbody>\n",
              "    <tr>\n",
              "      <th>count</th>\n",
              "      <td>1.226352e+07</td>\n",
              "      <td>1.226352e+07</td>\n",
              "      <td>1.226352e+07</td>\n",
              "      <td>1.226352e+07</td>\n",
              "      <td>1.226352e+07</td>\n",
              "      <td>1.226352e+07</td>\n",
              "      <td>1.226352e+07</td>\n",
              "      <td>1.226352e+07</td>\n",
              "      <td>1.226352e+07</td>\n",
              "      <td>1.226352e+07</td>\n",
              "      <td>1.226352e+07</td>\n",
              "    </tr>\n",
              "    <tr>\n",
              "      <th>mean</th>\n",
              "      <td>1.628243e+09</td>\n",
              "      <td>-2.807402e-02</td>\n",
              "      <td>6.211683e-01</td>\n",
              "      <td>1.081455e-01</td>\n",
              "      <td>8.722215e-01</td>\n",
              "      <td>-1.837340e+00</td>\n",
              "      <td>-6.375345e-01</td>\n",
              "      <td>-2.934089e+02</td>\n",
              "      <td>4.300977e+02</td>\n",
              "      <td>2.037158e+02</td>\n",
              "      <td>4.320899e+00</td>\n",
              "    </tr>\n",
              "    <tr>\n",
              "      <th>std</th>\n",
              "      <td>1.205662e+05</td>\n",
              "      <td>2.622167e-01</td>\n",
              "      <td>7.084800e-01</td>\n",
              "      <td>1.888613e-01</td>\n",
              "      <td>1.282481e+01</td>\n",
              "      <td>2.014151e+01</td>\n",
              "      <td>1.030093e+01</td>\n",
              "      <td>2.736141e+02</td>\n",
              "      <td>5.969720e+02</td>\n",
              "      <td>4.382996e+02</td>\n",
              "      <td>2.417436e+00</td>\n",
              "    </tr>\n",
              "    <tr>\n",
              "      <th>min</th>\n",
              "      <td>1.628067e+09</td>\n",
              "      <td>-1.599756e+01</td>\n",
              "      <td>-1.314160e+01</td>\n",
              "      <td>-1.599121e+01</td>\n",
              "      <td>-1.999756e+03</td>\n",
              "      <td>-1.998779e+03</td>\n",
              "      <td>-1.999756e+03</td>\n",
              "      <td>-1.534500e+03</td>\n",
              "      <td>-1.057500e+03</td>\n",
              "      <td>-1.152000e+03</td>\n",
              "      <td>1.000000e+00</td>\n",
              "    </tr>\n",
              "    <tr>\n",
              "      <th>25%</th>\n",
              "      <td>1.628106e+09</td>\n",
              "      <td>-2.182617e-01</td>\n",
              "      <td>8.281250e-01</td>\n",
              "      <td>3.173830e-02</td>\n",
              "      <td>-2.014160e+00</td>\n",
              "      <td>-5.676270e+00</td>\n",
              "      <td>-2.685547e+00</td>\n",
              "      <td>-4.635000e+02</td>\n",
              "      <td>-4.950000e+01</td>\n",
              "      <td>6.900000e+01</td>\n",
              "      <td>1.000000e+00</td>\n",
              "    </tr>\n",
              "    <tr>\n",
              "      <th>50%</th>\n",
              "      <td>1.628312e+09</td>\n",
              "      <td>-2.490230e-02</td>\n",
              "      <td>9.370118e-01</td>\n",
              "      <td>1.230469e-01</td>\n",
              "      <td>8.544922e-01</td>\n",
              "      <td>-1.892090e+00</td>\n",
              "      <td>-6.103516e-01</td>\n",
              "      <td>-2.535000e+02</td>\n",
              "      <td>1.395000e+02</td>\n",
              "      <td>3.165000e+02</td>\n",
              "      <td>4.000000e+00</td>\n",
              "    </tr>\n",
              "    <tr>\n",
              "      <th>75%</th>\n",
              "      <td>1.628335e+09</td>\n",
              "      <td>1.616211e-01</td>\n",
              "      <td>9.736329e-01</td>\n",
              "      <td>2.006836e-01</td>\n",
              "      <td>3.723145e+00</td>\n",
              "      <td>1.892090e+00</td>\n",
              "      <td>1.464844e+00</td>\n",
              "      <td>-1.260000e+02</td>\n",
              "      <td>9.795000e+02</td>\n",
              "      <td>5.520000e+02</td>\n",
              "      <td>6.000000e+00</td>\n",
              "    </tr>\n",
              "    <tr>\n",
              "      <th>max</th>\n",
              "      <td>1.628421e+09</td>\n",
              "      <td>1.051514e+01</td>\n",
              "      <td>1.182617e+01</td>\n",
              "      <td>1.599854e+01</td>\n",
              "      <td>1.999756e+03</td>\n",
              "      <td>1.999939e+03</td>\n",
              "      <td>1.973511e+03</td>\n",
              "      <td>7.920000e+02</td>\n",
              "      <td>1.918500e+03</td>\n",
              "      <td>1.179000e+03</td>\n",
              "      <td>9.000000e+00</td>\n",
              "    </tr>\n",
              "  </tbody>\n",
              "</table>\n",
              "</div>\n",
              "      <button class=\"colab-df-convert\" onclick=\"convertToInteractive('df-8086bfa0-dd25-4311-8b50-654717d529ef')\"\n",
              "              title=\"Convert this dataframe to an interactive table.\"\n",
              "              style=\"display:none;\">\n",
              "        \n",
              "  <svg xmlns=\"http://www.w3.org/2000/svg\" height=\"24px\"viewBox=\"0 0 24 24\"\n",
              "       width=\"24px\">\n",
              "    <path d=\"M0 0h24v24H0V0z\" fill=\"none\"/>\n",
              "    <path d=\"M18.56 5.44l.94 2.06.94-2.06 2.06-.94-2.06-.94-.94-2.06-.94 2.06-2.06.94zm-11 1L8.5 8.5l.94-2.06 2.06-.94-2.06-.94L8.5 2.5l-.94 2.06-2.06.94zm10 10l.94 2.06.94-2.06 2.06-.94-2.06-.94-.94-2.06-.94 2.06-2.06.94z\"/><path d=\"M17.41 7.96l-1.37-1.37c-.4-.4-.92-.59-1.43-.59-.52 0-1.04.2-1.43.59L10.3 9.45l-7.72 7.72c-.78.78-.78 2.05 0 2.83L4 21.41c.39.39.9.59 1.41.59.51 0 1.02-.2 1.41-.59l7.78-7.78 2.81-2.81c.8-.78.8-2.07 0-2.86zM5.41 20L4 18.59l7.72-7.72 1.47 1.35L5.41 20z\"/>\n",
              "  </svg>\n",
              "      </button>\n",
              "      \n",
              "  <style>\n",
              "    .colab-df-container {\n",
              "      display:flex;\n",
              "      flex-wrap:wrap;\n",
              "      gap: 12px;\n",
              "    }\n",
              "\n",
              "    .colab-df-convert {\n",
              "      background-color: #E8F0FE;\n",
              "      border: none;\n",
              "      border-radius: 50%;\n",
              "      cursor: pointer;\n",
              "      display: none;\n",
              "      fill: #1967D2;\n",
              "      height: 32px;\n",
              "      padding: 0 0 0 0;\n",
              "      width: 32px;\n",
              "    }\n",
              "\n",
              "    .colab-df-convert:hover {\n",
              "      background-color: #E2EBFA;\n",
              "      box-shadow: 0px 1px 2px rgba(60, 64, 67, 0.3), 0px 1px 3px 1px rgba(60, 64, 67, 0.15);\n",
              "      fill: #174EA6;\n",
              "    }\n",
              "\n",
              "    [theme=dark] .colab-df-convert {\n",
              "      background-color: #3B4455;\n",
              "      fill: #D2E3FC;\n",
              "    }\n",
              "\n",
              "    [theme=dark] .colab-df-convert:hover {\n",
              "      background-color: #434B5C;\n",
              "      box-shadow: 0px 1px 3px 1px rgba(0, 0, 0, 0.15);\n",
              "      filter: drop-shadow(0px 1px 2px rgba(0, 0, 0, 0.3));\n",
              "      fill: #FFFFFF;\n",
              "    }\n",
              "  </style>\n",
              "\n",
              "      <script>\n",
              "        const buttonEl =\n",
              "          document.querySelector('#df-8086bfa0-dd25-4311-8b50-654717d529ef button.colab-df-convert');\n",
              "        buttonEl.style.display =\n",
              "          google.colab.kernel.accessAllowed ? 'block' : 'none';\n",
              "\n",
              "        async function convertToInteractive(key) {\n",
              "          const element = document.querySelector('#df-8086bfa0-dd25-4311-8b50-654717d529ef');\n",
              "          const dataTable =\n",
              "            await google.colab.kernel.invokeFunction('convertToInteractive',\n",
              "                                                     [key], {});\n",
              "          if (!dataTable) return;\n",
              "\n",
              "          const docLinkHtml = 'Like what you see? Visit the ' +\n",
              "            '<a target=\"_blank\" href=https://colab.research.google.com/notebooks/data_table.ipynb>data table notebook</a>'\n",
              "            + ' to learn more about interactive tables.';\n",
              "          element.innerHTML = '';\n",
              "          dataTable['output_type'] = 'display_data';\n",
              "          await google.colab.output.renderOutput(dataTable, element);\n",
              "          const docLink = document.createElement('div');\n",
              "          docLink.innerHTML = docLinkHtml;\n",
              "          element.appendChild(docLink);\n",
              "        }\n",
              "      </script>\n",
              "    </div>\n",
              "  </div>\n",
              "  "
            ]
          },
          "metadata": {},
          "execution_count": 65
        }
      ]
    },
    {
      "cell_type": "markdown",
      "source": [
        "#Working using Under Sampling \n",
        "\n",
        "Creating a new dataframe from the original dataframe df, with the count of unique values under each output class equal to that of least value."
      ],
      "metadata": {
        "id": "T-4enObfHE4z"
      }
    },
    {
      "cell_type": "code",
      "source": [
        "#creating a countplot to check the imbalance in the output class\n",
        "sns.countplot(df['label'])"
      ],
      "metadata": {
        "colab": {
          "base_uri": "https://localhost:8080/",
          "height": 307
        },
        "id": "Ez7KDSwJHJv-",
        "outputId": "63bf0d84-0d55-4a6c-d57a-d694f1c85257"
      },
      "execution_count": 66,
      "outputs": [
        {
          "output_type": "execute_result",
          "data": {
            "text/plain": [
              "<matplotlib.axes._subplots.AxesSubplot at 0x7ff6a7965710>"
            ]
          },
          "metadata": {},
          "execution_count": 66
        },
        {
          "output_type": "display_data",
          "data": {
            "text/plain": [
              "<Figure size 432x288 with 1 Axes>"
            ],
            "image/png": "[encoded data removed]"
          },
          "metadata": {
            "needs_background": "light"
          }
        }
      ]
    },
    {
      "cell_type": "code",
      "source": [
        "#checking the count of values under each output class\n",
        "print(df['label'].value_counts(ascending=False))"
      ],
      "metadata": {
        "colab": {
          "base_uri": "https://localhost:8080/"
        },
        "id": "UbFLnuDmHjXV",
        "outputId": "0017c3cc-4bef-492f-9d93-00dad980483f"
      },
      "execution_count": 67,
      "outputs": [
        {
          "output_type": "stream",
          "name": "stdout",
          "text": [
            "1    3405702\n",
            "4    2539806\n",
            "7    1928968\n",
            "5    1711687\n",
            "6    1703683\n",
            "9     405263\n",
            "8     368607\n",
            "3     145369\n",
            "2      54439\n",
            "Name: label, dtype: int64\n"
          ]
        }
      ]
    },
    {
      "cell_type": "code",
      "source": [
        "#checking the correlation between all the features of df1 using heatmap\n",
        "plt.figure(figsize=(10,10))\n",
        "cor = df.corr()\n",
        "sns.heatmap(cor,annot = True, cmap=\"coolwarm\", fmt = '.0%' )\n",
        "plt.show()"
      ],
      "metadata": {
        "colab": {
          "base_uri": "https://localhost:8080/",
          "height": 596
        },
        "id": "IKlB5Rx1XCQ1",
        "outputId": "92985249-c4a4-41e7-d1cd-27166e42e8a1"
      },
      "execution_count": 68,
      "outputs": [
        {
          "output_type": "display_data",
          "data": {
            "text/plain": [
              "<Figure size 720x720 with 2 Axes>"
            ],
            "image/png": "[encoded data removed]"
          },
          "metadata": {
            "needs_background": "light"
          }
        }
      ]
    },
    {
      "cell_type": "code",
      "source": [
        "#checking for the distibution of data under each feature in terms of skewness etc. using distribution plot\n",
        "for column in df.columns:\n",
        "    plt.figure()             \n",
        "    sns.distplot(df[column])"
      ],
      "metadata": {
        "colab": {
          "base_uri": "https://localhost:8080/",
          "height": 1000
        },
        "id": "bmdTb2VubK2O",
        "outputId": "78cc5e6e-9eef-43e7-991d-bbcfb52f3204"
      },
      "execution_count": 57,
      "outputs": [
        {
          "output_type": "display_data",
          "data": {
            "text/plain": [
              "<Figure size 432x288 with 1 Axes>"
            ],
            "image/png": "[encoded data removed]"
          },
          "metadata": {
            "needs_background": "light"
          }
        },
        {
          "output_type": "display_data",
          "data": {
            "text/plain": [
              "<Figure size 432x288 with 1 Axes>"
            ],
            "image/png": "[encoded data removed]"
          },
          "metadata": {
            "needs_background": "light"
          }
        },
        {
          "output_type": "display_data",
          "data": {
            "text/plain": [
              "<Figure size 432x288 with 1 Axes>"
            ],
            "image/png": "[encoded data removed]"
          },
          "metadata": {
            "needs_background": "light"
          }
        },
        {
          "output_type": "display_data",
          "data": {
            "text/plain": [
              "<Figure size 432x288 with 1 Axes>"
            ],
            "image/png": "[encoded data removed]"
          },
          "metadata": {
            "needs_background": "light"
          }
        },
        {
          "output_type": "display_data",
          "data": {
            "text/plain": [
              "<Figure size 432x288 with 1 Axes>"
            ],
            "image/png": "[encoded data removed]"
          },
          "metadata": {
            "needs_background": "light"
          }
        },
        {
          "output_type": "display_data",
          "data": {
            "text/plain": [
              "<Figure size 432x288 with 1 Axes>"
            ],
            "image/png": "[encoded data removed]"
          },
          "metadata": {
            "needs_background": "light"
          }
        },
        {
          "output_type": "display_data",
          "data": {
            "text/plain": [
              "<Figure size 432x288 with 1 Axes>"
            ],
            "image/png": "[encoded data removed]"
          },
          "metadata": {
            "needs_background": "light"
          }
        },
        {
          "output_type": "display_data",
          "data": {
            "text/plain": [
              "<Figure size 432x288 with 1 Axes>"
            ],
            "image/png": "[encoded data removed]"
          },
          "metadata": {
            "needs_background": "light"
          }
        },
        {
          "output_type": "display_data",
          "data": {
            "text/plain": [
              "<Figure size 432x288 with 1 Axes>"
            ],
            "image/png": "[encoded data removed]"
          },
          "metadata": {
            "needs_background": "light"
          }
        },
        {
          "output_type": "display_data",
          "data": {
            "text/plain": [
              "<Figure size 432x288 with 1 Axes>"
            ],
            "image/png": "[encoded data removed]"
          },
          "metadata": {
            "needs_background": "light"
          }
        },
        {
          "output_type": "display_data",
          "data": {
            "text/plain": [
              "<Figure size 432x288 with 1 Axes>"
            ],
            "image/png": "[encoded data removed]"
          },
          "metadata": {
            "needs_background": "light"
          }
        }
      ]
    },
    {
      "cell_type": "code",
      "source": [
        "#splitting the input variables and output variable of dataframe df into 2 seperate dataframes\n",
        "dfx = df.drop(['label'],axis = 1)\n",
        "dfy = df[['label']] "
      ],
      "metadata": {
        "id": "Ewva1bS7R_sF"
      },
      "execution_count": 69,
      "outputs": []
    },
    {
      "cell_type": "code",
      "source": [
        "#rechecking the features under the dataframe with the input variables \n",
        "dfx.head()"
      ],
      "metadata": {
        "colab": {
          "base_uri": "https://localhost:8080/",
          "height": 206
        },
        "id": "vFZFs-YOTAs-",
        "outputId": "704ac64f-0152-40de-9b48-27ecc729d262"
      },
      "execution_count": 70,
      "outputs": [
        {
          "output_type": "execute_result",
          "data": {
            "text/plain": [
              "         time     acc_x     acc_y     acc_z      gyr_x      gyr_y      gyr_z  \\\n",
              "0  1628308980  0.376465  0.860840 -0.114746  22.521973 -18.981934  15.075683   \n",
              "1  1628308980  0.325684  0.889160 -0.103516  25.085449   3.417969  12.756348   \n",
              "2  1628308980  0.269531  0.931641 -0.067383  24.353027  20.019531  11.352539   \n",
              "3  1628308980  0.225098  0.958008 -0.031250  19.104004  23.803711   7.019043   \n",
              "4  1628308980  0.204590  0.961426 -0.001953  15.258789  23.193359   2.807617   \n",
              "\n",
              "   mag_x   mag_y  mag_z  \n",
              "0 -297.0  1432.5  508.5  \n",
              "1 -292.5  1447.5  520.5  \n",
              "2 -297.0  1423.5  523.5  \n",
              "3 -297.0  1431.0  523.5  \n",
              "4 -286.5  1431.0  538.5  "
            ],
            "text/html": [
              "\n",
              "  <div id=\"df-2e3259af-a815-43e5-ba27-2c76eac8f6bc\">\n",
              "    <div class=\"colab-df-container\">\n",
              "      <div>\n",
              "<style scoped>\n",
              "    .dataframe tbody tr th:only-of-type {\n",
              "        vertical-align: middle;\n",
              "    }\n",
              "\n",
              "    .dataframe tbody tr th {\n",
              "        vertical-align: top;\n",
              "    }\n",
              "\n",
              "    .dataframe thead th {\n",
              "        text-align: right;\n",
              "    }\n",
              "</style>\n",
              "<table border=\"1\" class=\"dataframe\">\n",
              "  <thead>\n",
              "    <tr style=\"text-align: right;\">\n",
              "      <th></th>\n",
              "      <th>time</th>\n",
              "      <th>acc_x</th>\n",
              "      <th>acc_y</th>\n",
              "      <th>acc_z</th>\n",
              "      <th>gyr_x</th>\n",
              "      <th>gyr_y</th>\n",
              "      <th>gyr_z</th>\n",
              "      <th>mag_x</th>\n",
              "      <th>mag_y</th>\n",
              "      <th>mag_z</th>\n",
              "    </tr>\n",
              "  </thead>\n",
              "  <tbody>\n",
              "    <tr>\n",
              "      <th>0</th>\n",
              "      <td>1628308980</td>\n",
              "      <td>0.376465</td>\n",
              "      <td>0.860840</td>\n",
              "      <td>-0.114746</td>\n",
              "      <td>22.521973</td>\n",
              "      <td>-18.981934</td>\n",
              "      <td>15.075683</td>\n",
              "      <td>-297.0</td>\n",
              "      <td>1432.5</td>\n",
              "      <td>508.5</td>\n",
              "    </tr>\n",
              "    <tr>\n",
              "      <th>1</th>\n",
              "      <td>1628308980</td>\n",
              "      <td>0.325684</td>\n",
              "      <td>0.889160</td>\n",
              "      <td>-0.103516</td>\n",
              "      <td>25.085449</td>\n",
              "      <td>3.417969</td>\n",
              "      <td>12.756348</td>\n",
              "      <td>-292.5</td>\n",
              "      <td>1447.5</td>\n",
              "      <td>520.5</td>\n",
              "    </tr>\n",
              "    <tr>\n",
              "      <th>2</th>\n",
              "      <td>1628308980</td>\n",
              "      <td>0.269531</td>\n",
              "      <td>0.931641</td>\n",
              "      <td>-0.067383</td>\n",
              "      <td>24.353027</td>\n",
              "      <td>20.019531</td>\n",
              "      <td>11.352539</td>\n",
              "      <td>-297.0</td>\n",
              "      <td>1423.5</td>\n",
              "      <td>523.5</td>\n",
              "    </tr>\n",
              "    <tr>\n",
              "      <th>3</th>\n",
              "      <td>1628308980</td>\n",
              "      <td>0.225098</td>\n",
              "      <td>0.958008</td>\n",
              "      <td>-0.031250</td>\n",
              "      <td>19.104004</td>\n",
              "      <td>23.803711</td>\n",
              "      <td>7.019043</td>\n",
              "      <td>-297.0</td>\n",
              "      <td>1431.0</td>\n",
              "      <td>523.5</td>\n",
              "    </tr>\n",
              "    <tr>\n",
              "      <th>4</th>\n",
              "      <td>1628308980</td>\n",
              "      <td>0.204590</td>\n",
              "      <td>0.961426</td>\n",
              "      <td>-0.001953</td>\n",
              "      <td>15.258789</td>\n",
              "      <td>23.193359</td>\n",
              "      <td>2.807617</td>\n",
              "      <td>-286.5</td>\n",
              "      <td>1431.0</td>\n",
              "      <td>538.5</td>\n",
              "    </tr>\n",
              "  </tbody>\n",
              "</table>\n",
              "</div>\n",
              "      <button class=\"colab-df-convert\" onclick=\"convertToInteractive('df-2e3259af-a815-43e5-ba27-2c76eac8f6bc')\"\n",
              "              title=\"Convert this dataframe to an interactive table.\"\n",
              "              style=\"display:none;\">\n",
              "        \n",
              "  <svg xmlns=\"http://www.w3.org/2000/svg\" height=\"24px\"viewBox=\"0 0 24 24\"\n",
              "       width=\"24px\">\n",
              "    <path d=\"M0 0h24v24H0V0z\" fill=\"none\"/>\n",
              "    <path d=\"M18.56 5.44l.94 2.06.94-2.06 2.06-.94-2.06-.94-.94-2.06-.94 2.06-2.06.94zm-11 1L8.5 8.5l.94-2.06 2.06-.94-2.06-.94L8.5 2.5l-.94 2.06-2.06.94zm10 10l.94 2.06.94-2.06 2.06-.94-2.06-.94-.94-2.06-.94 2.06-2.06.94z\"/><path d=\"M17.41 7.96l-1.37-1.37c-.4-.4-.92-.59-1.43-.59-.52 0-1.04.2-1.43.59L10.3 9.45l-7.72 7.72c-.78.78-.78 2.05 0 2.83L4 21.41c.39.39.9.59 1.41.59.51 0 1.02-.2 1.41-.59l7.78-7.78 2.81-2.81c.8-.78.8-2.07 0-2.86zM5.41 20L4 18.59l7.72-7.72 1.47 1.35L5.41 20z\"/>\n",
              "  </svg>\n",
              "      </button>\n",
              "      \n",
              "  <style>\n",
              "    .colab-df-container {\n",
              "      display:flex;\n",
              "      flex-wrap:wrap;\n",
              "      gap: 12px;\n",
              "    }\n",
              "\n",
              "    .colab-df-convert {\n",
              "      background-color: #E8F0FE;\n",
              "      border: none;\n",
              "      border-radius: 50%;\n",
              "      cursor: pointer;\n",
              "      display: none;\n",
              "      fill: #1967D2;\n",
              "      height: 32px;\n",
              "      padding: 0 0 0 0;\n",
              "      width: 32px;\n",
              "    }\n",
              "\n",
              "    .colab-df-convert:hover {\n",
              "      background-color: #E2EBFA;\n",
              "      box-shadow: 0px 1px 2px rgba(60, 64, 67, 0.3), 0px 1px 3px 1px rgba(60, 64, 67, 0.15);\n",
              "      fill: #174EA6;\n",
              "    }\n",
              "\n",
              "    [theme=dark] .colab-df-convert {\n",
              "      background-color: #3B4455;\n",
              "      fill: #D2E3FC;\n",
              "    }\n",
              "\n",
              "    [theme=dark] .colab-df-convert:hover {\n",
              "      background-color: #434B5C;\n",
              "      box-shadow: 0px 1px 3px 1px rgba(0, 0, 0, 0.15);\n",
              "      filter: drop-shadow(0px 1px 2px rgba(0, 0, 0, 0.3));\n",
              "      fill: #FFFFFF;\n",
              "    }\n",
              "  </style>\n",
              "\n",
              "      <script>\n",
              "        const buttonEl =\n",
              "          document.querySelector('#df-2e3259af-a815-43e5-ba27-2c76eac8f6bc button.colab-df-convert');\n",
              "        buttonEl.style.display =\n",
              "          google.colab.kernel.accessAllowed ? 'block' : 'none';\n",
              "\n",
              "        async function convertToInteractive(key) {\n",
              "          const element = document.querySelector('#df-2e3259af-a815-43e5-ba27-2c76eac8f6bc');\n",
              "          const dataTable =\n",
              "            await google.colab.kernel.invokeFunction('convertToInteractive',\n",
              "                                                     [key], {});\n",
              "          if (!dataTable) return;\n",
              "\n",
              "          const docLinkHtml = 'Like what you see? Visit the ' +\n",
              "            '<a target=\"_blank\" href=https://colab.research.google.com/notebooks/data_table.ipynb>data table notebook</a>'\n",
              "            + ' to learn more about interactive tables.';\n",
              "          element.innerHTML = '';\n",
              "          dataTable['output_type'] = 'display_data';\n",
              "          await google.colab.output.renderOutput(dataTable, element);\n",
              "          const docLink = document.createElement('div');\n",
              "          docLink.innerHTML = docLinkHtml;\n",
              "          element.appendChild(docLink);\n",
              "        }\n",
              "      </script>\n",
              "    </div>\n",
              "  </div>\n",
              "  "
            ]
          },
          "metadata": {},
          "execution_count": 70
        }
      ]
    },
    {
      "cell_type": "code",
      "source": [
        "#rechecking the features under the dataframe with the output variable \n",
        "dfy.head()"
      ],
      "metadata": {
        "colab": {
          "base_uri": "https://localhost:8080/",
          "height": 206
        },
        "id": "eYuvDn_9TIS9",
        "outputId": "04a7bd19-0b6e-4a42-b70a-e91c7a199e87"
      },
      "execution_count": 71,
      "outputs": [
        {
          "output_type": "execute_result",
          "data": {
            "text/plain": [
              "   label\n",
              "0      1\n",
              "1      1\n",
              "2      1\n",
              "3      1\n",
              "4      1"
            ],
            "text/html": [
              "\n",
              "  <div id=\"df-2bec1049-c1fa-4155-80ea-b1e747338c84\">\n",
              "    <div class=\"colab-df-container\">\n",
              "      <div>\n",
              "<style scoped>\n",
              "    .dataframe tbody tr th:only-of-type {\n",
              "        vertical-align: middle;\n",
              "    }\n",
              "\n",
              "    .dataframe tbody tr th {\n",
              "        vertical-align: top;\n",
              "    }\n",
              "\n",
              "    .dataframe thead th {\n",
              "        text-align: right;\n",
              "    }\n",
              "</style>\n",
              "<table border=\"1\" class=\"dataframe\">\n",
              "  <thead>\n",
              "    <tr style=\"text-align: right;\">\n",
              "      <th></th>\n",
              "      <th>label</th>\n",
              "    </tr>\n",
              "  </thead>\n",
              "  <tbody>\n",
              "    <tr>\n",
              "      <th>0</th>\n",
              "      <td>1</td>\n",
              "    </tr>\n",
              "    <tr>\n",
              "      <th>1</th>\n",
              "      <td>1</td>\n",
              "    </tr>\n",
              "    <tr>\n",
              "      <th>2</th>\n",
              "      <td>1</td>\n",
              "    </tr>\n",
              "    <tr>\n",
              "      <th>3</th>\n",
              "      <td>1</td>\n",
              "    </tr>\n",
              "    <tr>\n",
              "      <th>4</th>\n",
              "      <td>1</td>\n",
              "    </tr>\n",
              "  </tbody>\n",
              "</table>\n",
              "</div>\n",
              "      <button class=\"colab-df-convert\" onclick=\"convertToInteractive('df-2bec1049-c1fa-4155-80ea-b1e747338c84')\"\n",
              "              title=\"Convert this dataframe to an interactive table.\"\n",
              "              style=\"display:none;\">\n",
              "        \n",
              "  <svg xmlns=\"http://www.w3.org/2000/svg\" height=\"24px\"viewBox=\"0 0 24 24\"\n",
              "       width=\"24px\">\n",
              "    <path d=\"M0 0h24v24H0V0z\" fill=\"none\"/>\n",
              "    <path d=\"M18.56 5.44l.94 2.06.94-2.06 2.06-.94-2.06-.94-.94-2.06-.94 2.06-2.06.94zm-11 1L8.5 8.5l.94-2.06 2.06-.94-2.06-.94L8.5 2.5l-.94 2.06-2.06.94zm10 10l.94 2.06.94-2.06 2.06-.94-2.06-.94-.94-2.06-.94 2.06-2.06.94z\"/><path d=\"M17.41 7.96l-1.37-1.37c-.4-.4-.92-.59-1.43-.59-.52 0-1.04.2-1.43.59L10.3 9.45l-7.72 7.72c-.78.78-.78 2.05 0 2.83L4 21.41c.39.39.9.59 1.41.59.51 0 1.02-.2 1.41-.59l7.78-7.78 2.81-2.81c.8-.78.8-2.07 0-2.86zM5.41 20L4 18.59l7.72-7.72 1.47 1.35L5.41 20z\"/>\n",
              "  </svg>\n",
              "      </button>\n",
              "      \n",
              "  <style>\n",
              "    .colab-df-container {\n",
              "      display:flex;\n",
              "      flex-wrap:wrap;\n",
              "      gap: 12px;\n",
              "    }\n",
              "\n",
              "    .colab-df-convert {\n",
              "      background-color: #E8F0FE;\n",
              "      border: none;\n",
              "      border-radius: 50%;\n",
              "      cursor: pointer;\n",
              "      display: none;\n",
              "      fill: #1967D2;\n",
              "      height: 32px;\n",
              "      padding: 0 0 0 0;\n",
              "      width: 32px;\n",
              "    }\n",
              "\n",
              "    .colab-df-convert:hover {\n",
              "      background-color: #E2EBFA;\n",
              "      box-shadow: 0px 1px 2px rgba(60, 64, 67, 0.3), 0px 1px 3px 1px rgba(60, 64, 67, 0.15);\n",
              "      fill: #174EA6;\n",
              "    }\n",
              "\n",
              "    [theme=dark] .colab-df-convert {\n",
              "      background-color: #3B4455;\n",
              "      fill: #D2E3FC;\n",
              "    }\n",
              "\n",
              "    [theme=dark] .colab-df-convert:hover {\n",
              "      background-color: #434B5C;\n",
              "      box-shadow: 0px 1px 3px 1px rgba(0, 0, 0, 0.15);\n",
              "      filter: drop-shadow(0px 1px 2px rgba(0, 0, 0, 0.3));\n",
              "      fill: #FFFFFF;\n",
              "    }\n",
              "  </style>\n",
              "\n",
              "      <script>\n",
              "        const buttonEl =\n",
              "          document.querySelector('#df-2bec1049-c1fa-4155-80ea-b1e747338c84 button.colab-df-convert');\n",
              "        buttonEl.style.display =\n",
              "          google.colab.kernel.accessAllowed ? 'block' : 'none';\n",
              "\n",
              "        async function convertToInteractive(key) {\n",
              "          const element = document.querySelector('#df-2bec1049-c1fa-4155-80ea-b1e747338c84');\n",
              "          const dataTable =\n",
              "            await google.colab.kernel.invokeFunction('convertToInteractive',\n",
              "                                                     [key], {});\n",
              "          if (!dataTable) return;\n",
              "\n",
              "          const docLinkHtml = 'Like what you see? Visit the ' +\n",
              "            '<a target=\"_blank\" href=https://colab.research.google.com/notebooks/data_table.ipynb>data table notebook</a>'\n",
              "            + ' to learn more about interactive tables.';\n",
              "          element.innerHTML = '';\n",
              "          dataTable['output_type'] = 'display_data';\n",
              "          await google.colab.output.renderOutput(dataTable, element);\n",
              "          const docLink = document.createElement('div');\n",
              "          docLink.innerHTML = docLinkHtml;\n",
              "          element.appendChild(docLink);\n",
              "        }\n",
              "      </script>\n",
              "    </div>\n",
              "  </div>\n",
              "  "
            ]
          },
          "metadata": {},
          "execution_count": 71
        }
      ]
    },
    {
      "cell_type": "code",
      "source": [
        "from imblearn import under_sampling\n",
        "from imblearn.under_sampling import RandomUnderSampler\n",
        "rus = RandomUnderSampler(random_state = 0)\n",
        "dfx,dfy = rus.fit_resample(dfx,dfy)"
      ],
      "metadata": {
        "id": "95IBFHXpHvEo"
      },
      "execution_count": 72,
      "outputs": []
    },
    {
      "cell_type": "code",
      "source": [
        "#recreating a countplot to check the imbalance in the output class after undersampling\n",
        "sns.countplot(dfy['label'])"
      ],
      "metadata": {
        "colab": {
          "base_uri": "https://localhost:8080/",
          "height": 296
        },
        "id": "ut-gwNZyV7Y_",
        "outputId": "5956d3cd-19aa-4c4f-e629-61b5fee01ae5"
      },
      "execution_count": 73,
      "outputs": [
        {
          "output_type": "execute_result",
          "data": {
            "text/plain": [
              "<matplotlib.axes._subplots.AxesSubplot at 0x7ff6a9a9d7d0>"
            ]
          },
          "metadata": {},
          "execution_count": 73
        },
        {
          "output_type": "display_data",
          "data": {
            "text/plain": [
              "<Figure size 432x288 with 1 Axes>"
            ],
            "image/png": "[encoded data removed]"
          },
          "metadata": {
            "needs_background": "light"
          }
        }
      ]
    },
    {
      "cell_type": "code",
      "source": [
        "#checking for the proportion of counts of each unique in the output feature ' label' of df \n",
        "plt.pie(df['label'].value_counts(),autopct = '%1.1f%%');"
      ],
      "metadata": {
        "colab": {
          "base_uri": "https://localhost:8080/",
          "height": 248
        },
        "id": "nXHIrAZrX1Hn",
        "outputId": "4d747a9d-0f2a-49b2-9f90-94dcf279283d"
      },
      "execution_count": 74,
      "outputs": [
        {
          "output_type": "display_data",
          "data": {
            "text/plain": [
              "<Figure size 432x288 with 1 Axes>"
            ],
            "image/png": "[encoded data removed]"
          },
          "metadata": {}
        }
      ]
    },
    {
      "cell_type": "code",
      "source": [
        "#re-checking for the proportion of counts of each unique in the output feature after under sampling\n",
        "plt.pie(dfy['label'].value_counts(),autopct = '%1.1f%%');"
      ],
      "metadata": {
        "colab": {
          "base_uri": "https://localhost:8080/",
          "height": 248
        },
        "id": "MpYsKyKeYDQf",
        "outputId": "7e22f2b9-9cde-4c5c-f371-9ffbfc70a0aa"
      },
      "execution_count": 75,
      "outputs": [
        {
          "output_type": "display_data",
          "data": {
            "text/plain": [
              "<Figure size 432x288 with 1 Axes>"
            ],
            "image/png": "[encoded data removed]"
          },
          "metadata": {}
        }
      ]
    },
    {
      "cell_type": "code",
      "source": [
        "#rechecking the count of values under each output class\n",
        "print(dfy['label'].value_counts(ascending=False))"
      ],
      "metadata": {
        "colab": {
          "base_uri": "https://localhost:8080/"
        },
        "id": "RSW8xbQUUobY",
        "outputId": "df498901-8946-40fc-c798-e427220aab12"
      },
      "execution_count": 49,
      "outputs": [
        {
          "output_type": "stream",
          "name": "stdout",
          "text": [
            "1    54439\n",
            "2    54439\n",
            "3    54439\n",
            "4    54439\n",
            "5    54439\n",
            "6    54439\n",
            "7    54439\n",
            "8    54439\n",
            "9    54439\n",
            "Name: label, dtype: int64\n"
          ]
        }
      ]
    },
    {
      "cell_type": "code",
      "source": [
        "#checking the shapes of dfx and dfy\n",
        "print (dfx.shape)\n",
        "print (dfy.shape)"
      ],
      "metadata": {
        "colab": {
          "base_uri": "https://localhost:8080/"
        },
        "id": "7XtJUIs4ZNSQ",
        "outputId": "4a94dc71-843d-4e2d-b61d-687b6e2cbd82"
      },
      "execution_count": 52,
      "outputs": [
        {
          "output_type": "stream",
          "name": "stdout",
          "text": [
            "(489951, 10)\n",
            "(489951, 1)\n"
          ]
        }
      ]
    },
    {
      "cell_type": "markdown",
      "source": [
        "\n",
        "\n",
        "1.   From the count plot and the pie chart, we see that the count of unique output variables is the same ie; 54439 after under sampling.\n",
        "2.   This is reconfirmed by the above value_count command and the shapes of the dataframes dfx and dfy\n",
        "\n",
        "\n",
        "\n",
        "  \n",
        "\n"
      ],
      "metadata": {
        "id": "oriq-AiWWklI"
      }
    },
    {
      "cell_type": "markdown",
      "source": [
        "**We shall now do the workings with the under sampled dataframes dfx and dfy"
      ],
      "metadata": {
        "id": "WFAqi10pXMjn"
      }
    },
    {
      "cell_type": "markdown",
      "source": [
        "#Outlier Identification and Treatment ( Using IQR Method)"
      ],
      "metadata": {
        "id": "G7h3wR7JtaOA"
      }
    },
    {
      "cell_type": "code",
      "source": [
        "#giving a common name to all the features of datafram df1x, to call them in future\n",
        "column_name = ['time', 'acc_x', 'acc_y', 'acc_z', 'gyr_x', 'gyr_y', 'gyr_z', 'mag_x', 'mag_y', 'mag_z',]"
      ],
      "metadata": {
        "id": "H3P68GzQtSli"
      },
      "execution_count": 76,
      "outputs": []
    },
    {
      "cell_type": "code",
      "source": [
        "#creating a common function to identify outliers for each feature by drawing a box plot\n",
        "def identify_outliers(df1x, column_name):\n",
        "    fig = plt.figure(figsize=(4,2))\n",
        "    sns.boxplot(data = dfx, y = column_name)\n",
        "plt.show() "
      ],
      "metadata": {
        "id": "PkeXM685tjde"
      },
      "execution_count": 77,
      "outputs": []
    },
    {
      "cell_type": "code",
      "source": [
        "#identifying the outliers for each feature by calling the common function\n",
        "identify_outliers(dfx, 'time')\n",
        "identify_outliers(dfx, 'acc_x')\n",
        "identify_outliers(dfx, 'acc_y')\n",
        "identify_outliers(dfx, 'acc_z')\n",
        "identify_outliers(dfx, 'gyr_x')\n",
        "identify_outliers(dfx, 'gyr_y')\n",
        "identify_outliers(dfx, 'gyr_z')\n",
        "identify_outliers(dfx, 'mag_x')\n",
        "identify_outliers(dfx, 'mag_y')\n",
        "identify_outliers(dfx, 'mag_z')"
      ],
      "metadata": {
        "colab": {
          "base_uri": "https://localhost:8080/",
          "height": 1000
        },
        "id": "g4Tip9yXtuuK",
        "outputId": "883f359b-c8f2-4157-c68d-3f3b7b5b81ea"
      },
      "execution_count": 78,
      "outputs": [
        {
          "output_type": "display_data",
          "data": {
            "text/plain": [
              "<Figure size 288x144 with 1 Axes>"
            ],
            "image/png": "[encoded data removed]"
          },
          "metadata": {
            "needs_background": "light"
          }
        },
        {
          "output_type": "display_data",
          "data": {
            "text/plain": [
              "<Figure size 288x144 with 1 Axes>"
            ],
            "image/png": "[encoded data removed]"
          },
          "metadata": {
            "needs_background": "light"
          }
        },
        {
          "output_type": "display_data",
          "data": {
            "text/plain": [
              "<Figure size 288x144 with 1 Axes>"
            ],
            "image/png": "[encoded data removed]"
          },
          "metadata": {
            "needs_background": "light"
          }
        },
        {
          "output_type": "display_data",
          "data": {
            "text/plain": [
              "<Figure size 288x144 with 1 Axes>"
            ],
            "image/png": "[encoded data removed]"
          },
          "metadata": {
            "needs_background": "light"
          }
        },
        {
          "output_type": "display_data",
          "data": {
            "text/plain": [
              "<Figure size 288x144 with 1 Axes>"
            ],
            "image/png": "[encoded data removed]"
          },
          "metadata": {
            "needs_background": "light"
          }
        },
        {
          "output_type": "display_data",
          "data": {
            "text/plain": [
              "<Figure size 288x144 with 1 Axes>"
            ],
            "image/png": "[encoded data removed]"
          },
          "metadata": {
            "needs_background": "light"
          }
        },
        {
          "output_type": "display_data",
          "data": {
            "text/plain": [
              "<Figure size 288x144 with 1 Axes>"
            ],
            "image/png": "[encoded data removed]"
          },
          "metadata": {
            "needs_background": "light"
          }
        },
        {
          "output_type": "display_data",
          "data": {
            "text/plain": [
              "<Figure size 288x144 with 1 Axes>"
            ],
            "image/png": "[encoded data removed]"
          },
          "metadata": {
            "needs_background": "light"
          }
        },
        {
          "output_type": "display_data",
          "data": {
            "text/plain": [
              "<Figure size 288x144 with 1 Axes>"
            ],
            "image/png": "[encoded data removed]"
          },
          "metadata": {
            "needs_background": "light"
          }
        },
        {
          "output_type": "display_data",
          "data": {
            "text/plain": [
              "<Figure size 288x144 with 1 Axes>"
            ],
            "image/png": "[encoded data removed]"
          },
          "metadata": {
            "needs_background": "light"
          }
        }
      ]
    },
    {
      "cell_type": "code",
      "source": [
        "#creating common function to replace outlier values with the median value and print boxplot thereafter to recheck the removal of outliers ; print upper and lower values of each feature \n",
        "#IQR\n",
        "def replace_outliers(dfx, column_name):\n",
        "        Q1 = np.percentile(dfx[column_name], 25)\n",
        "        Q2 = np.percentile(dfx[column_name], 50)\n",
        "        Q3 = np.percentile(dfx[column_name], 75)\n",
        "        IQR = Q3 - Q1\n",
        "\n",
        "        upper_val = Q3 + (1.5 * IQR)\n",
        "        print('upper', upper_val)\n",
        "        lower_val = Q1 - (1.5 * IQR)\n",
        "        print('lower', lower_val)\n",
        "\n",
        "        dfx.loc[dfx[column_name] > upper_val, column_name] = np.median(dfx[column_name])\n",
        "        dfx.loc[dfx[column_name] < lower_val, column_name] = np.median(dfx[column_name])\n",
        "        \n",
        "        fig = plt.figure(figsize = (4,2))\n",
        "        sns.boxplot(data = dfx,y = column_name)\n",
        "        plt.xticks(rotation = 'horizontal')\n",
        "        plt.show()"
      ],
      "metadata": {
        "id": "ySAkjmdlt86c"
      },
      "execution_count": 79,
      "outputs": []
    },
    {
      "cell_type": "code",
      "source": [
        "#recalling the common function for replacing the outliers in each feature with median value and visualising using boxplot\n",
        "replace_outliers(dfx, 'time')\n",
        "replace_outliers(dfx, 'acc_x')\n",
        "replace_outliers(dfx, 'acc_y')\n",
        "replace_outliers(dfx, 'acc_z')\n",
        "replace_outliers(dfx, 'gyr_x')\n",
        "replace_outliers(dfx, 'gyr_y')\n",
        "replace_outliers(dfx, 'gyr_z')\n",
        "replace_outliers(dfx, 'mag_x')\n",
        "replace_outliers(dfx, 'mag_y')\n",
        "replace_outliers(dfx, 'mag_z')"
      ],
      "metadata": {
        "colab": {
          "base_uri": "https://localhost:8080/",
          "height": 1000
        },
        "id": "5zAl5jvuuQ8j",
        "outputId": "e7a2d994-07ca-4648-b58e-ecb2d9817472"
      },
      "execution_count": 80,
      "outputs": [
        {
          "output_type": "stream",
          "name": "stdout",
          "text": [
            "upper 1628669742.0\n",
            "lower 1627765278.0\n"
          ]
        },
        {
          "output_type": "display_data",
          "data": {
            "text/plain": [
              "<Figure size 288x144 with 1 Axes>"
            ],
            "image/png": "[encoded data removed]"
          },
          "metadata": {
            "needs_background": "light"
          }
        },
        {
          "output_type": "stream",
          "name": "stdout",
          "text": [
            "upper 0.7734376499999998\n",
            "lower -0.8710939499999999\n"
          ]
        },
        {
          "output_type": "display_data",
          "data": {
            "text/plain": [
              "<Figure size 288x144 with 1 Axes>"
            ],
            "image/png": "[encoded data removed]"
          },
          "metadata": {
            "needs_background": "light"
          }
        },
        {
          "output_type": "stream",
          "name": "stdout",
          "text": [
            "upper 1.256592\n",
            "lower 0.48901360000000016\n"
          ]
        },
        {
          "output_type": "display_data",
          "data": {
            "text/plain": [
              "<Figure size 288x144 with 1 Axes>"
            ],
            "image/png": "[encoded data removed]"
          },
          "metadata": {
            "needs_background": "light"
          }
        },
        {
          "output_type": "stream",
          "name": "stdout",
          "text": [
            "upper 0.5144044\n",
            "lower -0.2727052\n"
          ]
        },
        {
          "output_type": "display_data",
          "data": {
            "text/plain": [
              "<Figure size 288x144 with 1 Axes>"
            ],
            "image/png": "[encoded data removed]"
          },
          "metadata": {
            "needs_background": "light"
          }
        },
        {
          "output_type": "stream",
          "name": "stdout",
          "text": [
            "upper 11.779785\n",
            "lower -10.192871\n"
          ]
        },
        {
          "output_type": "display_data",
          "data": {
            "text/plain": [
              "<Figure size 288x144 with 1 Axes>"
            ],
            "image/png": "[encoded data removed]"
          },
          "metadata": {
            "needs_background": "light"
          }
        },
        {
          "output_type": "stream",
          "name": "stdout",
          "text": [
            "upper 12.512207\n",
            "lower -16.296386599999998\n"
          ]
        },
        {
          "output_type": "display_data",
          "data": {
            "text/plain": [
              "<Figure size 288x144 with 1 Axes>"
            ],
            "image/png": "[encoded data removed]"
          },
          "metadata": {
            "needs_background": "light"
          }
        },
        {
          "output_type": "stream",
          "name": "stdout",
          "text": [
            "upper 7.6904296\n",
            "lower -8.911132799999999\n"
          ]
        },
        {
          "output_type": "display_data",
          "data": {
            "text/plain": [
              "<Figure size 288x144 with 1 Axes>"
            ],
            "image/png": "[encoded data removed]"
          },
          "metadata": {
            "needs_background": "light"
          }
        },
        {
          "output_type": "stream",
          "name": "stdout",
          "text": [
            "upper 447.0\n",
            "lower -1029.0\n"
          ]
        },
        {
          "output_type": "display_data",
          "data": {
            "text/plain": [
              "<Figure size 288x144 with 1 Axes>"
            ],
            "image/png": "[encoded data removed]"
          },
          "metadata": {
            "needs_background": "light"
          }
        },
        {
          "output_type": "stream",
          "name": "stdout",
          "text": [
            "upper 2466.75\n",
            "lower -1427.25\n"
          ]
        },
        {
          "output_type": "display_data",
          "data": {
            "text/plain": [
              "<Figure size 288x144 with 1 Axes>"
            ],
            "image/png": "[encoded data removed]"
          },
          "metadata": {
            "needs_background": "light"
          }
        },
        {
          "output_type": "stream",
          "name": "stdout",
          "text": [
            "upper 1239.0\n",
            "lower -609.0\n"
          ]
        },
        {
          "output_type": "display_data",
          "data": {
            "text/plain": [
              "<Figure size 288x144 with 1 Axes>"
            ],
            "image/png": "[encoded data removed]"
          },
          "metadata": {
            "needs_background": "light"
          }
        }
      ]
    },
    {
      "cell_type": "markdown",
      "source": [
        "#Data Normalisation"
      ],
      "metadata": {
        "id": "wztw8vCRuudh"
      }
    },
    {
      "cell_type": "code",
      "source": [
        "from sklearn.preprocessing import MinMaxScaler\n",
        "scaling = MinMaxScaler()\n",
        "dfx_normalised = pd.DataFrame(scaling.fit_transform(dfx),columns = dfx.columns)\n",
        "dfx_normalised.head()"
      ],
      "metadata": {
        "colab": {
          "base_uri": "https://localhost:8080/",
          "height": 206
        },
        "id": "7fbYKsFguvsB",
        "outputId": "eacef31d-4669-46fe-f0f0-388feacfbf8b"
      },
      "execution_count": 92,
      "outputs": [
        {
          "output_type": "execute_result",
          "data": {
            "text/plain": [
              "       time     acc_x     acc_y     acc_z     gyr_x     gyr_y     gyr_z  \\\n",
              "0  0.065196  0.350356  0.551241  0.595282  0.812849  0.365180  0.474074   \n",
              "1  0.056494  0.498812  0.585614  0.769088  0.013966  0.770701  0.281481   \n",
              "2  0.697930  0.366686  0.671547  0.579764  0.324022  0.511677  0.718519   \n",
              "3  0.058416  0.565618  0.601528  0.699566  0.502793  0.388535  0.500000   \n",
              "4  0.082084  0.432898  0.643539  0.402235  0.960894  0.498938  0.500000   \n",
              "\n",
              "      mag_x     mag_y     mag_z  \n",
              "0  0.572154  0.653222  0.532822  \n",
              "1  0.427846  0.664746  0.532822  \n",
              "2  0.565041  0.398638  0.411765  \n",
              "3  0.551829  0.298586  0.562660  \n",
              "4  0.491870  0.654269  0.115942  "
            ],
            "text/html": [
              "\n",
              "  <div id=\"df-c41a5ce5-3c98-4fe9-bf8a-a47c6c270db5\">\n",
              "    <div class=\"colab-df-container\">\n",
              "      <div>\n",
              "<style scoped>\n",
              "    .dataframe tbody tr th:only-of-type {\n",
              "        vertical-align: middle;\n",
              "    }\n",
              "\n",
              "    .dataframe tbody tr th {\n",
              "        vertical-align: top;\n",
              "    }\n",
              "\n",
              "    .dataframe thead th {\n",
              "        text-align: right;\n",
              "    }\n",
              "</style>\n",
              "<table border=\"1\" class=\"dataframe\">\n",
              "  <thead>\n",
              "    <tr style=\"text-align: right;\">\n",
              "      <th></th>\n",
              "      <th>time</th>\n",
              "      <th>acc_x</th>\n",
              "      <th>acc_y</th>\n",
              "      <th>acc_z</th>\n",
              "      <th>gyr_x</th>\n",
              "      <th>gyr_y</th>\n",
              "      <th>gyr_z</th>\n",
              "      <th>mag_x</th>\n",
              "      <th>mag_y</th>\n",
              "      <th>mag_z</th>\n",
              "    </tr>\n",
              "  </thead>\n",
              "  <tbody>\n",
              "    <tr>\n",
              "      <th>0</th>\n",
              "      <td>0.065196</td>\n",
              "      <td>0.350356</td>\n",
              "      <td>0.551241</td>\n",
              "      <td>0.595282</td>\n",
              "      <td>0.812849</td>\n",
              "      <td>0.365180</td>\n",
              "      <td>0.474074</td>\n",
              "      <td>0.572154</td>\n",
              "      <td>0.653222</td>\n",
              "      <td>0.532822</td>\n",
              "    </tr>\n",
              "    <tr>\n",
              "      <th>1</th>\n",
              "      <td>0.056494</td>\n",
              "      <td>0.498812</td>\n",
              "      <td>0.585614</td>\n",
              "      <td>0.769088</td>\n",
              "      <td>0.013966</td>\n",
              "      <td>0.770701</td>\n",
              "      <td>0.281481</td>\n",
              "      <td>0.427846</td>\n",
              "      <td>0.664746</td>\n",
              "      <td>0.532822</td>\n",
              "    </tr>\n",
              "    <tr>\n",
              "      <th>2</th>\n",
              "      <td>0.697930</td>\n",
              "      <td>0.366686</td>\n",
              "      <td>0.671547</td>\n",
              "      <td>0.579764</td>\n",
              "      <td>0.324022</td>\n",
              "      <td>0.511677</td>\n",
              "      <td>0.718519</td>\n",
              "      <td>0.565041</td>\n",
              "      <td>0.398638</td>\n",
              "      <td>0.411765</td>\n",
              "    </tr>\n",
              "    <tr>\n",
              "      <th>3</th>\n",
              "      <td>0.058416</td>\n",
              "      <td>0.565618</td>\n",
              "      <td>0.601528</td>\n",
              "      <td>0.699566</td>\n",
              "      <td>0.502793</td>\n",
              "      <td>0.388535</td>\n",
              "      <td>0.500000</td>\n",
              "      <td>0.551829</td>\n",
              "      <td>0.298586</td>\n",
              "      <td>0.562660</td>\n",
              "    </tr>\n",
              "    <tr>\n",
              "      <th>4</th>\n",
              "      <td>0.082084</td>\n",
              "      <td>0.432898</td>\n",
              "      <td>0.643539</td>\n",
              "      <td>0.402235</td>\n",
              "      <td>0.960894</td>\n",
              "      <td>0.498938</td>\n",
              "      <td>0.500000</td>\n",
              "      <td>0.491870</td>\n",
              "      <td>0.654269</td>\n",
              "      <td>0.115942</td>\n",
              "    </tr>\n",
              "  </tbody>\n",
              "</table>\n",
              "</div>\n",
              "      <button class=\"colab-df-convert\" onclick=\"convertToInteractive('df-c41a5ce5-3c98-4fe9-bf8a-a47c6c270db5')\"\n",
              "              title=\"Convert this dataframe to an interactive table.\"\n",
              "              style=\"display:none;\">\n",
              "        \n",
              "  <svg xmlns=\"http://www.w3.org/2000/svg\" height=\"24px\"viewBox=\"0 0 24 24\"\n",
              "       width=\"24px\">\n",
              "    <path d=\"M0 0h24v24H0V0z\" fill=\"none\"/>\n",
              "    <path d=\"M18.56 5.44l.94 2.06.94-2.06 2.06-.94-2.06-.94-.94-2.06-.94 2.06-2.06.94zm-11 1L8.5 8.5l.94-2.06 2.06-.94-2.06-.94L8.5 2.5l-.94 2.06-2.06.94zm10 10l.94 2.06.94-2.06 2.06-.94-2.06-.94-.94-2.06-.94 2.06-2.06.94z\"/><path d=\"M17.41 7.96l-1.37-1.37c-.4-.4-.92-.59-1.43-.59-.52 0-1.04.2-1.43.59L10.3 9.45l-7.72 7.72c-.78.78-.78 2.05 0 2.83L4 21.41c.39.39.9.59 1.41.59.51 0 1.02-.2 1.41-.59l7.78-7.78 2.81-2.81c.8-.78.8-2.07 0-2.86zM5.41 20L4 18.59l7.72-7.72 1.47 1.35L5.41 20z\"/>\n",
              "  </svg>\n",
              "      </button>\n",
              "      \n",
              "  <style>\n",
              "    .colab-df-container {\n",
              "      display:flex;\n",
              "      flex-wrap:wrap;\n",
              "      gap: 12px;\n",
              "    }\n",
              "\n",
              "    .colab-df-convert {\n",
              "      background-color: #E8F0FE;\n",
              "      border: none;\n",
              "      border-radius: 50%;\n",
              "      cursor: pointer;\n",
              "      display: none;\n",
              "      fill: #1967D2;\n",
              "      height: 32px;\n",
              "      padding: 0 0 0 0;\n",
              "      width: 32px;\n",
              "    }\n",
              "\n",
              "    .colab-df-convert:hover {\n",
              "      background-color: #E2EBFA;\n",
              "      box-shadow: 0px 1px 2px rgba(60, 64, 67, 0.3), 0px 1px 3px 1px rgba(60, 64, 67, 0.15);\n",
              "      fill: #174EA6;\n",
              "    }\n",
              "\n",
              "    [theme=dark] .colab-df-convert {\n",
              "      background-color: #3B4455;\n",
              "      fill: #D2E3FC;\n",
              "    }\n",
              "\n",
              "    [theme=dark] .colab-df-convert:hover {\n",
              "      background-color: #434B5C;\n",
              "      box-shadow: 0px 1px 3px 1px rgba(0, 0, 0, 0.15);\n",
              "      filter: drop-shadow(0px 1px 2px rgba(0, 0, 0, 0.3));\n",
              "      fill: #FFFFFF;\n",
              "    }\n",
              "  </style>\n",
              "\n",
              "      <script>\n",
              "        const buttonEl =\n",
              "          document.querySelector('#df-c41a5ce5-3c98-4fe9-bf8a-a47c6c270db5 button.colab-df-convert');\n",
              "        buttonEl.style.display =\n",
              "          google.colab.kernel.accessAllowed ? 'block' : 'none';\n",
              "\n",
              "        async function convertToInteractive(key) {\n",
              "          const element = document.querySelector('#df-c41a5ce5-3c98-4fe9-bf8a-a47c6c270db5');\n",
              "          const dataTable =\n",
              "            await google.colab.kernel.invokeFunction('convertToInteractive',\n",
              "                                                     [key], {});\n",
              "          if (!dataTable) return;\n",
              "\n",
              "          const docLinkHtml = 'Like what you see? Visit the ' +\n",
              "            '<a target=\"_blank\" href=https://colab.research.google.com/notebooks/data_table.ipynb>data table notebook</a>'\n",
              "            + ' to learn more about interactive tables.';\n",
              "          element.innerHTML = '';\n",
              "          dataTable['output_type'] = 'display_data';\n",
              "          await google.colab.output.renderOutput(dataTable, element);\n",
              "          const docLink = document.createElement('div');\n",
              "          docLink.innerHTML = docLinkHtml;\n",
              "          element.appendChild(docLink);\n",
              "        }\n",
              "      </script>\n",
              "    </div>\n",
              "  </div>\n",
              "  "
            ]
          },
          "metadata": {},
          "execution_count": 92
        }
      ]
    },
    {
      "cell_type": "markdown",
      "source": [
        "#Feature Selection - KBest using Chi2 tests"
      ],
      "metadata": {
        "id": "q97ZB_U3vChI"
      }
    },
    {
      "cell_type": "code",
      "source": [
        "#importing the KBest and Chi2 packages\n",
        "from sklearn.feature_selection import SelectKBest\n",
        "from sklearn.feature_selection import chi2"
      ],
      "metadata": {
        "id": "1hYWa8cUvEUG"
      },
      "execution_count": 82,
      "outputs": []
    },
    {
      "cell_type": "code",
      "source": [
        "#ranking the features\n",
        "select_k_best_rank_features = SelectKBest(score_func = chi2, k = 5)\n",
        "k_best_features = select_k_best_rank_features.fit(dfx_normalised,dfy)\n",
        "\n",
        "df_k_scores = pd.DataFrame(k_best_features.scores_, columns = ['score'])\n",
        "dfcolumns = pd.DataFrame(dfx_normalised.columns)\n",
        "\n",
        "k_best_feature_rank = pd.concat([dfcolumns, df_k_scores], axis = 1)\n",
        "\n",
        "k_best_feature_rank.columns = ('features', 'k_score')\n",
        "print(k_best_feature_rank.nlargest(10, 'k_score'))"
      ],
      "metadata": {
        "colab": {
          "base_uri": "https://localhost:8080/"
        },
        "id": "gUi2FH37vLky",
        "outputId": "b67130cd-0330-42da-df33-d6a0a12385eb"
      },
      "execution_count": 83,
      "outputs": [
        {
          "output_type": "stream",
          "name": "stdout",
          "text": [
            "  features       k_score\n",
            "0     time  29113.580257\n",
            "1    acc_x   6005.854010\n",
            "2    acc_y   4211.219683\n",
            "8    mag_y   3721.014568\n",
            "7    mag_x   3605.790583\n",
            "3    acc_z   1748.246366\n",
            "9    mag_z    769.559798\n",
            "4    gyr_x     17.907963\n",
            "5    gyr_y      6.583537\n",
            "6    gyr_z      2.565240\n"
          ]
        }
      ]
    },
    {
      "cell_type": "markdown",
      "source": [
        "#Feature Selection using Mutual Info. Classifier"
      ],
      "metadata": {
        "id": "944Yg2NFvcWy"
      }
    },
    {
      "cell_type": "code",
      "source": [
        "from sklearn.feature_selection import mutual_info_classif\n",
        "mutual_info = mutual_info_classif(dfx_normalised, dfy)\n",
        "\n",
        "mutual_data = pd.Series(mutual_info, index = dfx_normalised.columns)\n",
        "mutual_data.sort_values(ascending = False)\n",
        "\n",
        "print(mutual_data.nlargest(10))\n",
        "\n",
        "mutual_data.nlargest(10).plot(kind = 'barh')\n",
        "plt.show()"
      ],
      "metadata": {
        "colab": {
          "base_uri": "https://localhost:8080/",
          "height": 456
        },
        "id": "akKuX2SeveDi",
        "outputId": "ceebf533-d628-4d59-f680-19a6125669bb"
      },
      "execution_count": 84,
      "outputs": [
        {
          "output_type": "stream",
          "name": "stdout",
          "text": [
            "time     1.806830\n",
            "mag_y    0.524462\n",
            "mag_x    0.349466\n",
            "acc_x    0.334123\n",
            "acc_y    0.251361\n",
            "mag_z    0.241695\n",
            "gyr_y    0.238717\n",
            "gyr_z    0.234552\n",
            "acc_z    0.233298\n",
            "gyr_x    0.208319\n",
            "dtype: float64\n"
          ]
        },
        {
          "output_type": "display_data",
          "data": {
            "text/plain": [
              "<Figure size 432x288 with 1 Axes>"
            ],
            "image/png": "[encoded data removed]"
          },
          "metadata": {
            "needs_background": "light"
          }
        }
      ]
    },
    {
      "cell_type": "markdown",
      "source": [
        "**From the above 2 methods of feature selection, we can find that the significant features are time, acc_x,acc_y,mag_x and mag_y. Hence we need to drop the insignificant features  select only the significant variables while we create the models**"
      ],
      "metadata": {
        "id": "Dw4pXT6pv_KH"
      }
    },
    {
      "cell_type": "code",
      "source": [
        "#dropping the insignificant features among the input variables\n",
        "dfx_normalised.drop(['acc_z','mag_z','gyr_x','gyr_y','gyr_z'], inplace = True, axis = 1)"
      ],
      "metadata": {
        "id": "tfGltLXHwOCn"
      },
      "execution_count": 93,
      "outputs": []
    },
    {
      "cell_type": "code",
      "source": [
        "dfx_normalised.head()"
      ],
      "metadata": {
        "colab": {
          "base_uri": "https://localhost:8080/",
          "height": 206
        },
        "id": "Q9E-tmNyxqwH",
        "outputId": "4f6f6849-7c6b-4603-deb6-3757134024db"
      },
      "execution_count": 94,
      "outputs": [
        {
          "output_type": "execute_result",
          "data": {
            "text/plain": [
              "       time     acc_x     acc_y     mag_x     mag_y\n",
              "0  0.065196  0.350356  0.551241  0.572154  0.653222\n",
              "1  0.056494  0.498812  0.585614  0.427846  0.664746\n",
              "2  0.697930  0.366686  0.671547  0.565041  0.398638\n",
              "3  0.058416  0.565618  0.601528  0.551829  0.298586\n",
              "4  0.082084  0.432898  0.643539  0.491870  0.654269"
            ],
            "text/html": [
              "\n",
              "  <div id=\"df-7837514a-f368-4fe8-98eb-c2bf380bca39\">\n",
              "    <div class=\"colab-df-container\">\n",
              "      <div>\n",
              "<style scoped>\n",
              "    .dataframe tbody tr th:only-of-type {\n",
              "        vertical-align: middle;\n",
              "    }\n",
              "\n",
              "    .dataframe tbody tr th {\n",
              "        vertical-align: top;\n",
              "    }\n",
              "\n",
              "    .dataframe thead th {\n",
              "        text-align: right;\n",
              "    }\n",
              "</style>\n",
              "<table border=\"1\" class=\"dataframe\">\n",
              "  <thead>\n",
              "    <tr style=\"text-align: right;\">\n",
              "      <th></th>\n",
              "      <th>time</th>\n",
              "      <th>acc_x</th>\n",
              "      <th>acc_y</th>\n",
              "      <th>mag_x</th>\n",
              "      <th>mag_y</th>\n",
              "    </tr>\n",
              "  </thead>\n",
              "  <tbody>\n",
              "    <tr>\n",
              "      <th>0</th>\n",
              "      <td>0.065196</td>\n",
              "      <td>0.350356</td>\n",
              "      <td>0.551241</td>\n",
              "      <td>0.572154</td>\n",
              "      <td>0.653222</td>\n",
              "    </tr>\n",
              "    <tr>\n",
              "      <th>1</th>\n",
              "      <td>0.056494</td>\n",
              "      <td>0.498812</td>\n",
              "      <td>0.585614</td>\n",
              "      <td>0.427846</td>\n",
              "      <td>0.664746</td>\n",
              "    </tr>\n",
              "    <tr>\n",
              "      <th>2</th>\n",
              "      <td>0.697930</td>\n",
              "      <td>0.366686</td>\n",
              "      <td>0.671547</td>\n",
              "      <td>0.565041</td>\n",
              "      <td>0.398638</td>\n",
              "    </tr>\n",
              "    <tr>\n",
              "      <th>3</th>\n",
              "      <td>0.058416</td>\n",
              "      <td>0.565618</td>\n",
              "      <td>0.601528</td>\n",
              "      <td>0.551829</td>\n",
              "      <td>0.298586</td>\n",
              "    </tr>\n",
              "    <tr>\n",
              "      <th>4</th>\n",
              "      <td>0.082084</td>\n",
              "      <td>0.432898</td>\n",
              "      <td>0.643539</td>\n",
              "      <td>0.491870</td>\n",
              "      <td>0.654269</td>\n",
              "    </tr>\n",
              "  </tbody>\n",
              "</table>\n",
              "</div>\n",
              "      <button class=\"colab-df-convert\" onclick=\"convertToInteractive('df-7837514a-f368-4fe8-98eb-c2bf380bca39')\"\n",
              "              title=\"Convert this dataframe to an interactive table.\"\n",
              "              style=\"display:none;\">\n",
              "        \n",
              "  <svg xmlns=\"http://www.w3.org/2000/svg\" height=\"24px\"viewBox=\"0 0 24 24\"\n",
              "       width=\"24px\">\n",
              "    <path d=\"M0 0h24v24H0V0z\" fill=\"none\"/>\n",
              "    <path d=\"M18.56 5.44l.94 2.06.94-2.06 2.06-.94-2.06-.94-.94-2.06-.94 2.06-2.06.94zm-11 1L8.5 8.5l.94-2.06 2.06-.94-2.06-.94L8.5 2.5l-.94 2.06-2.06.94zm10 10l.94 2.06.94-2.06 2.06-.94-2.06-.94-.94-2.06-.94 2.06-2.06.94z\"/><path d=\"M17.41 7.96l-1.37-1.37c-.4-.4-.92-.59-1.43-.59-.52 0-1.04.2-1.43.59L10.3 9.45l-7.72 7.72c-.78.78-.78 2.05 0 2.83L4 21.41c.39.39.9.59 1.41.59.51 0 1.02-.2 1.41-.59l7.78-7.78 2.81-2.81c.8-.78.8-2.07 0-2.86zM5.41 20L4 18.59l7.72-7.72 1.47 1.35L5.41 20z\"/>\n",
              "  </svg>\n",
              "      </button>\n",
              "      \n",
              "  <style>\n",
              "    .colab-df-container {\n",
              "      display:flex;\n",
              "      flex-wrap:wrap;\n",
              "      gap: 12px;\n",
              "    }\n",
              "\n",
              "    .colab-df-convert {\n",
              "      background-color: #E8F0FE;\n",
              "      border: none;\n",
              "      border-radius: 50%;\n",
              "      cursor: pointer;\n",
              "      display: none;\n",
              "      fill: #1967D2;\n",
              "      height: 32px;\n",
              "      padding: 0 0 0 0;\n",
              "      width: 32px;\n",
              "    }\n",
              "\n",
              "    .colab-df-convert:hover {\n",
              "      background-color: #E2EBFA;\n",
              "      box-shadow: 0px 1px 2px rgba(60, 64, 67, 0.3), 0px 1px 3px 1px rgba(60, 64, 67, 0.15);\n",
              "      fill: #174EA6;\n",
              "    }\n",
              "\n",
              "    [theme=dark] .colab-df-convert {\n",
              "      background-color: #3B4455;\n",
              "      fill: #D2E3FC;\n",
              "    }\n",
              "\n",
              "    [theme=dark] .colab-df-convert:hover {\n",
              "      background-color: #434B5C;\n",
              "      box-shadow: 0px 1px 3px 1px rgba(0, 0, 0, 0.15);\n",
              "      filter: drop-shadow(0px 1px 2px rgba(0, 0, 0, 0.3));\n",
              "      fill: #FFFFFF;\n",
              "    }\n",
              "  </style>\n",
              "\n",
              "      <script>\n",
              "        const buttonEl =\n",
              "          document.querySelector('#df-7837514a-f368-4fe8-98eb-c2bf380bca39 button.colab-df-convert');\n",
              "        buttonEl.style.display =\n",
              "          google.colab.kernel.accessAllowed ? 'block' : 'none';\n",
              "\n",
              "        async function convertToInteractive(key) {\n",
              "          const element = document.querySelector('#df-7837514a-f368-4fe8-98eb-c2bf380bca39');\n",
              "          const dataTable =\n",
              "            await google.colab.kernel.invokeFunction('convertToInteractive',\n",
              "                                                     [key], {});\n",
              "          if (!dataTable) return;\n",
              "\n",
              "          const docLinkHtml = 'Like what you see? Visit the ' +\n",
              "            '<a target=\"_blank\" href=https://colab.research.google.com/notebooks/data_table.ipynb>data table notebook</a>'\n",
              "            + ' to learn more about interactive tables.';\n",
              "          element.innerHTML = '';\n",
              "          dataTable['output_type'] = 'display_data';\n",
              "          await google.colab.output.renderOutput(dataTable, element);\n",
              "          const docLink = document.createElement('div');\n",
              "          docLink.innerHTML = docLinkHtml;\n",
              "          element.appendChild(docLink);\n",
              "        }\n",
              "      </script>\n",
              "    </div>\n",
              "  </div>\n",
              "  "
            ]
          },
          "metadata": {},
          "execution_count": 94
        }
      ]
    },
    {
      "cell_type": "markdown",
      "source": [
        "#Splitting the data into Training and Testing data"
      ],
      "metadata": {
        "id": "98LjifUKyf5U"
      }
    },
    {
      "cell_type": "code",
      "source": [
        "#splitting the data into train and combined data(test data +validation data) in 80-20 ratio\n",
        "from sklearn.model_selection import train_test_split\n",
        "X_train,X_combine,Y_train,Y_combine = train_test_split(dfx_normalised,dfy,train_size=0.80, random_state=500)\n",
        "X_train.shape,X_combine.shape,Y_train.shape,Y_combine.shape"
      ],
      "metadata": {
        "colab": {
          "base_uri": "https://localhost:8080/"
        },
        "id": "Bw2Jw019yV1c",
        "outputId": "10313c8c-55e2-42a0-a917-dc5059a62eb7"
      },
      "execution_count": 95,
      "outputs": [
        {
          "output_type": "execute_result",
          "data": {
            "text/plain": [
              "((391960, 5), (97991, 5), (391960, 1), (97991, 1))"
            ]
          },
          "metadata": {},
          "execution_count": 95
        }
      ]
    },
    {
      "cell_type": "code",
      "source": [
        "#splitting the data into train and combined data(test data +validation data) in 50-50 ratio\n",
        "from sklearn.model_selection import train_test_split\n",
        "X_train,X_combine,Y_train,Y_combine = train_test_split(dfx_normalised,dfy,train_size=0.50, random_state=500)\n",
        "X_train.shape,X_combine.shape,Y_train.shape,Y_combine.shape"
      ],
      "metadata": {
        "colab": {
          "base_uri": "https://localhost:8080/"
        },
        "id": "YxPV38RpyrDz",
        "outputId": "ef4db1dc-4c95-4ac6-b07d-77a8ceed2071"
      },
      "execution_count": 97,
      "outputs": [
        {
          "output_type": "execute_result",
          "data": {
            "text/plain": [
              "((244975, 5), (244976, 5), (244975, 1), (244976, 1))"
            ]
          },
          "metadata": {},
          "execution_count": 97
        }
      ]
    }
  ]
}