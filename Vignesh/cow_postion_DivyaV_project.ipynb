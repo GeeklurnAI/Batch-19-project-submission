{
  "cells": [
    {
      "cell_type": "markdown",
      "source": [
        "#Classifying Cow’s activities"
      ],
      "metadata": {
        "id": "sqGmEXEximo0"
      }
    },
    {
      "cell_type": "markdown",
      "source": [
        "AIM : Classify Cow’s activities into 9 categories based on Data collected from IMU SENSORS"
      ],
      "metadata": {
        "id": "1zMlesA4i46G"
      }
    },
    {
      "cell_type": "markdown",
      "source": [
        "Variable Names:-\n",
        "\n",
        "    acc_x,acc_y,acc_z: accelerometer output for all 3 dimensions movement.\n",
        "gyr_x,gyr_y,gyr_z: gyroscope outputs, it measures rotation, rotation rate (angular velocity).\n",
        "mag_x,mag_y,mag_z: magnetometer outputs, catches magnetic field around the device.\n",
        "All three (Acc, Gyr, Mag) gives output in different SI Units i.e The scale for all three are different, so Data must be normalized"
      ],
      "metadata": {
        "id": "zuPljzffi64B"
      }
    },
    {
      "cell_type": "markdown",
      "source": [
        "Classes and their Encoded values:-\n",
        "\n",
        "1. eating\n",
        "\n",
        "2. drinking   \n",
        "\n",
        "3. walking  \n",
        "\n",
        "4. standing \n",
        "\n",
        "5. lying\n",
        "\n",
        "6. ruminating standing\n",
        "\n",
        "7. ruminating lying\n",
        "\n",
        "8. grooming\n",
        "\n",
        "9. idle/other"
      ],
      "metadata": {
        "id": "SNnCrbRAjXye"
      }
    },
    {
      "cell_type": "code",
      "execution_count": 1,
      "metadata": {
        "id": "1eL1lOZmk65p"
      },
      "outputs": [],
      "source": [
        "#i#importing the common libraries\n",
        "import numpy as np      #linear algebra\n",
        "import pandas as pd      # data processing, CSV file I/O (e.g. pd.read_csv)\n",
        "import matplotlib.pyplot as plt      # For creating plots(like axis)\n",
        "import seaborn as sns     #to visualize random distributions in graph\n",
        "%matplotlib inline\n",
        "import warnings\n",
        "warnings.filterwarnings('ignore')"
      ]
    },
    {
      "cell_type": "code",
      "execution_count": 2,
      "metadata": {
        "colab": {
          "base_uri": "https://localhost:8080/"
        },
        "id": "NFiWfmxwlcd2",
        "outputId": "a3f0f1dc-dbda-4742-c76a-5ff00e44ef72"
      },
      "outputs": [
        {
          "output_type": "stream",
          "name": "stdout",
          "text": [
            "Mounted at /content/drive\n"
          ]
        }
      ],
      "source": [
        "from google.colab import drive   #upload the data from google drive to google colab\n",
        "drive.mount('/content/drive')"
      ]
    },
    {
      "cell_type": "code",
      "execution_count": 3,
      "metadata": {
        "id": "4vxZ22IHnybS"
      },
      "outputs": [],
      "source": [
        "#creating a data frame for each activity of cow dataset\n",
        "drinking = pd.read_csv('/content/drive/MyDrive/D2_train.csv')\n",
        "eating = pd.read_csv('/content/drive/MyDrive/E1_train.csv')\n",
        "walking = pd.read_csv('/content/drive/MyDrive/W3_train.csv')\n",
        "grooming = pd.read_csv('/content/drive/MyDrive/G8_train.csv')\n",
        "idle = pd.read_csv('/content/drive/MyDrive/I9_train.csv')\n",
        "lying = pd.read_csv('/content/drive/MyDrive/L5_train.csv')\n",
        "ruminating_lying = pd.read_csv('/content/drive/MyDrive/RS6_train.csv')\n",
        "ruminating_standing = pd.read_csv('/content/drive/MyDrive/RS6_train.csv')\n",
        "standing = pd.read_csv('/content/drive/MyDrive/S4_train.csv')"
      ]
    },
    {
      "cell_type": "code",
      "execution_count": 4,
      "metadata": {
        "id": "xBxjAWvINqX0"
      },
      "outputs": [],
      "source": [
        "#concatinating the data set into a one data frame like  to link together in a series or chain.\n",
        "df = pd.concat([drinking,eating,walking,grooming,idle,lying,ruminating_lying,ruminating_standing,standing])"
      ]
    },
    {
      "cell_type": "code",
      "execution_count": 5,
      "metadata": {
        "colab": {
          "base_uri": "https://localhost:8080/",
          "height": 424
        },
        "id": "DCeg5TjSOwoq",
        "outputId": "d2386682-a944-4157-ae97-310002ef4acd"
      },
      "outputs": [
        {
          "output_type": "execute_result",
          "data": {
            "text/plain": [
              "               time     acc_x     acc_y     acc_z      gyr_x      gyr_y  \\\n",
              "0        1628079761 -0.187012  1.071289  0.321289   7.934570 -40.527344   \n",
              "1        1628079761 -0.137207  1.099121  0.294922   0.305176 -44.677734   \n",
              "2        1628079761  0.028320  1.053711  0.215820  -9.216309 -42.541504   \n",
              "3        1628079761  0.151856  0.960938  0.206543 -15.502930 -31.433105   \n",
              "4        1628079761  0.171387  0.883301  0.247070  -0.061035 -27.832031   \n",
              "...             ...       ...       ...       ...        ...        ...   \n",
              "2539801  1628397674  0.296875  0.908691  0.293457   0.000000  -1.953125   \n",
              "2539802  1628397674  0.298828  0.915527  0.294434   0.610352  -2.624512   \n",
              "2539803  1628397674  0.301270  0.911133  0.295410   1.037598  -2.746582   \n",
              "2539804  1628397674  0.301758  0.920410  0.284668   2.014160  -2.868652   \n",
              "2539805  1628397674  0.301270  0.911133  0.289062   0.915527  -2.319336   \n",
              "\n",
              "             gyr_z  mag_x   mag_y  mag_z  label  \n",
              "0        17.028809 -526.5  1437.0  513.0      2  \n",
              "1        15.930176 -528.0  1423.5  495.0      2  \n",
              "2        10.681152 -510.0  1419.0  484.5      2  \n",
              "3         4.943848 -529.5  1428.0  496.5      2  \n",
              "4        -2.685547 -526.5  1420.5  505.5      2  \n",
              "...            ...    ...     ...    ...    ...  \n",
              "2539801   3.540039 -643.5   880.5  202.5      4  \n",
              "2539802   2.563477 -637.5   903.0  216.0      4  \n",
              "2539803   3.112793 -622.5   885.0  220.5      4  \n",
              "2539804   3.662109 -621.0   909.0  192.0      4  \n",
              "2539805   2.868652 -645.0   900.0  193.5      4  \n",
              "\n",
              "[12038239 rows x 11 columns]"
            ],
            "text/html": [
              "\n",
              "  <div id=\"df-a8b269fc-e2eb-4d65-b209-afcf7af6c0e8\">\n",
              "    <div class=\"colab-df-container\">\n",
              "      <div>\n",
              "<style scoped>\n",
              "    .dataframe tbody tr th:only-of-type {\n",
              "        vertical-align: middle;\n",
              "    }\n",
              "\n",
              "    .dataframe tbody tr th {\n",
              "        vertical-align: top;\n",
              "    }\n",
              "\n",
              "    .dataframe thead th {\n",
              "        text-align: right;\n",
              "    }\n",
              "</style>\n",
              "<table border=\"1\" class=\"dataframe\">\n",
              "  <thead>\n",
              "    <tr style=\"text-align: right;\">\n",
              "      <th></th>\n",
              "      <th>time</th>\n",
              "      <th>acc_x</th>\n",
              "      <th>acc_y</th>\n",
              "      <th>acc_z</th>\n",
              "      <th>gyr_x</th>\n",
              "      <th>gyr_y</th>\n",
              "      <th>gyr_z</th>\n",
              "      <th>mag_x</th>\n",
              "      <th>mag_y</th>\n",
              "      <th>mag_z</th>\n",
              "      <th>label</th>\n",
              "    </tr>\n",
              "  </thead>\n",
              "  <tbody>\n",
              "    <tr>\n",
              "      <th>0</th>\n",
              "      <td>1628079761</td>\n",
              "      <td>-0.187012</td>\n",
              "      <td>1.071289</td>\n",
              "      <td>0.321289</td>\n",
              "      <td>7.934570</td>\n",
              "      <td>-40.527344</td>\n",
              "      <td>17.028809</td>\n",
              "      <td>-526.5</td>\n",
              "      <td>1437.0</td>\n",
              "      <td>513.0</td>\n",
              "      <td>2</td>\n",
              "    </tr>\n",
              "    <tr>\n",
              "      <th>1</th>\n",
              "      <td>1628079761</td>\n",
              "      <td>-0.137207</td>\n",
              "      <td>1.099121</td>\n",
              "      <td>0.294922</td>\n",
              "      <td>0.305176</td>\n",
              "      <td>-44.677734</td>\n",
              "      <td>15.930176</td>\n",
              "      <td>-528.0</td>\n",
              "      <td>1423.5</td>\n",
              "      <td>495.0</td>\n",
              "      <td>2</td>\n",
              "    </tr>\n",
              "    <tr>\n",
              "      <th>2</th>\n",
              "      <td>1628079761</td>\n",
              "      <td>0.028320</td>\n",
              "      <td>1.053711</td>\n",
              "      <td>0.215820</td>\n",
              "      <td>-9.216309</td>\n",
              "      <td>-42.541504</td>\n",
              "      <td>10.681152</td>\n",
              "      <td>-510.0</td>\n",
              "      <td>1419.0</td>\n",
              "      <td>484.5</td>\n",
              "      <td>2</td>\n",
              "    </tr>\n",
              "    <tr>\n",
              "      <th>3</th>\n",
              "      <td>1628079761</td>\n",
              "      <td>0.151856</td>\n",
              "      <td>0.960938</td>\n",
              "      <td>0.206543</td>\n",
              "      <td>-15.502930</td>\n",
              "      <td>-31.433105</td>\n",
              "      <td>4.943848</td>\n",
              "      <td>-529.5</td>\n",
              "      <td>1428.0</td>\n",
              "      <td>496.5</td>\n",
              "      <td>2</td>\n",
              "    </tr>\n",
              "    <tr>\n",
              "      <th>4</th>\n",
              "      <td>1628079761</td>\n",
              "      <td>0.171387</td>\n",
              "      <td>0.883301</td>\n",
              "      <td>0.247070</td>\n",
              "      <td>-0.061035</td>\n",
              "      <td>-27.832031</td>\n",
              "      <td>-2.685547</td>\n",
              "      <td>-526.5</td>\n",
              "      <td>1420.5</td>\n",
              "      <td>505.5</td>\n",
              "      <td>2</td>\n",
              "    </tr>\n",
              "    <tr>\n",
              "      <th>...</th>\n",
              "      <td>...</td>\n",
              "      <td>...</td>\n",
              "      <td>...</td>\n",
              "      <td>...</td>\n",
              "      <td>...</td>\n",
              "      <td>...</td>\n",
              "      <td>...</td>\n",
              "      <td>...</td>\n",
              "      <td>...</td>\n",
              "      <td>...</td>\n",
              "      <td>...</td>\n",
              "    </tr>\n",
              "    <tr>\n",
              "      <th>2539801</th>\n",
              "      <td>1628397674</td>\n",
              "      <td>0.296875</td>\n",
              "      <td>0.908691</td>\n",
              "      <td>0.293457</td>\n",
              "      <td>0.000000</td>\n",
              "      <td>-1.953125</td>\n",
              "      <td>3.540039</td>\n",
              "      <td>-643.5</td>\n",
              "      <td>880.5</td>\n",
              "      <td>202.5</td>\n",
              "      <td>4</td>\n",
              "    </tr>\n",
              "    <tr>\n",
              "      <th>2539802</th>\n",
              "      <td>1628397674</td>\n",
              "      <td>0.298828</td>\n",
              "      <td>0.915527</td>\n",
              "      <td>0.294434</td>\n",
              "      <td>0.610352</td>\n",
              "      <td>-2.624512</td>\n",
              "      <td>2.563477</td>\n",
              "      <td>-637.5</td>\n",
              "      <td>903.0</td>\n",
              "      <td>216.0</td>\n",
              "      <td>4</td>\n",
              "    </tr>\n",
              "    <tr>\n",
              "      <th>2539803</th>\n",
              "      <td>1628397674</td>\n",
              "      <td>0.301270</td>\n",
              "      <td>0.911133</td>\n",
              "      <td>0.295410</td>\n",
              "      <td>1.037598</td>\n",
              "      <td>-2.746582</td>\n",
              "      <td>3.112793</td>\n",
              "      <td>-622.5</td>\n",
              "      <td>885.0</td>\n",
              "      <td>220.5</td>\n",
              "      <td>4</td>\n",
              "    </tr>\n",
              "    <tr>\n",
              "      <th>2539804</th>\n",
              "      <td>1628397674</td>\n",
              "      <td>0.301758</td>\n",
              "      <td>0.920410</td>\n",
              "      <td>0.284668</td>\n",
              "      <td>2.014160</td>\n",
              "      <td>-2.868652</td>\n",
              "      <td>3.662109</td>\n",
              "      <td>-621.0</td>\n",
              "      <td>909.0</td>\n",
              "      <td>192.0</td>\n",
              "      <td>4</td>\n",
              "    </tr>\n",
              "    <tr>\n",
              "      <th>2539805</th>\n",
              "      <td>1628397674</td>\n",
              "      <td>0.301270</td>\n",
              "      <td>0.911133</td>\n",
              "      <td>0.289062</td>\n",
              "      <td>0.915527</td>\n",
              "      <td>-2.319336</td>\n",
              "      <td>2.868652</td>\n",
              "      <td>-645.0</td>\n",
              "      <td>900.0</td>\n",
              "      <td>193.5</td>\n",
              "      <td>4</td>\n",
              "    </tr>\n",
              "  </tbody>\n",
              "</table>\n",
              "<p>12038239 rows × 11 columns</p>\n",
              "</div>\n",
              "      <button class=\"colab-df-convert\" onclick=\"convertToInteractive('df-a8b269fc-e2eb-4d65-b209-afcf7af6c0e8')\"\n",
              "              title=\"Convert this dataframe to an interactive table.\"\n",
              "              style=\"display:none;\">\n",
              "        \n",
              "  <svg xmlns=\"http://www.w3.org/2000/svg\" height=\"24px\"viewBox=\"0 0 24 24\"\n",
              "       width=\"24px\">\n",
              "    <path d=\"M0 0h24v24H0V0z\" fill=\"none\"/>\n",
              "    <path d=\"M18.56 5.44l.94 2.06.94-2.06 2.06-.94-2.06-.94-.94-2.06-.94 2.06-2.06.94zm-11 1L8.5 8.5l.94-2.06 2.06-.94-2.06-.94L8.5 2.5l-.94 2.06-2.06.94zm10 10l.94 2.06.94-2.06 2.06-.94-2.06-.94-.94-2.06-.94 2.06-2.06.94z\"/><path d=\"M17.41 7.96l-1.37-1.37c-.4-.4-.92-.59-1.43-.59-.52 0-1.04.2-1.43.59L10.3 9.45l-7.72 7.72c-.78.78-.78 2.05 0 2.83L4 21.41c.39.39.9.59 1.41.59.51 0 1.02-.2 1.41-.59l7.78-7.78 2.81-2.81c.8-.78.8-2.07 0-2.86zM5.41 20L4 18.59l7.72-7.72 1.47 1.35L5.41 20z\"/>\n",
              "  </svg>\n",
              "      </button>\n",
              "      \n",
              "  <style>\n",
              "    .colab-df-container {\n",
              "      display:flex;\n",
              "      flex-wrap:wrap;\n",
              "      gap: 12px;\n",
              "    }\n",
              "\n",
              "    .colab-df-convert {\n",
              "      background-color: #E8F0FE;\n",
              "      border: none;\n",
              "      border-radius: 50%;\n",
              "      cursor: pointer;\n",
              "      display: none;\n",
              "      fill: #1967D2;\n",
              "      height: 32px;\n",
              "      padding: 0 0 0 0;\n",
              "      width: 32px;\n",
              "    }\n",
              "\n",
              "    .colab-df-convert:hover {\n",
              "      background-color: #E2EBFA;\n",
              "      box-shadow: 0px 1px 2px rgba(60, 64, 67, 0.3), 0px 1px 3px 1px rgba(60, 64, 67, 0.15);\n",
              "      fill: #174EA6;\n",
              "    }\n",
              "\n",
              "    [theme=dark] .colab-df-convert {\n",
              "      background-color: #3B4455;\n",
              "      fill: #D2E3FC;\n",
              "    }\n",
              "\n",
              "    [theme=dark] .colab-df-convert:hover {\n",
              "      background-color: #434B5C;\n",
              "      box-shadow: 0px 1px 3px 1px rgba(0, 0, 0, 0.15);\n",
              "      filter: drop-shadow(0px 1px 2px rgba(0, 0, 0, 0.3));\n",
              "      fill: #FFFFFF;\n",
              "    }\n",
              "  </style>\n",
              "\n",
              "      <script>\n",
              "        const buttonEl =\n",
              "          document.querySelector('#df-a8b269fc-e2eb-4d65-b209-afcf7af6c0e8 button.colab-df-convert');\n",
              "        buttonEl.style.display =\n",
              "          google.colab.kernel.accessAllowed ? 'block' : 'none';\n",
              "\n",
              "        async function convertToInteractive(key) {\n",
              "          const element = document.querySelector('#df-a8b269fc-e2eb-4d65-b209-afcf7af6c0e8');\n",
              "          const dataTable =\n",
              "            await google.colab.kernel.invokeFunction('convertToInteractive',\n",
              "                                                     [key], {});\n",
              "          if (!dataTable) return;\n",
              "\n",
              "          const docLinkHtml = 'Like what you see? Visit the ' +\n",
              "            '<a target=\"_blank\" href=https://colab.research.google.com/notebooks/data_table.ipynb>data table notebook</a>'\n",
              "            + ' to learn more about interactive tables.';\n",
              "          element.innerHTML = '';\n",
              "          dataTable['output_type'] = 'display_data';\n",
              "          await google.colab.output.renderOutput(dataTable, element);\n",
              "          const docLink = document.createElement('div');\n",
              "          docLink.innerHTML = docLinkHtml;\n",
              "          element.appendChild(docLink);\n",
              "        }\n",
              "      </script>\n",
              "    </div>\n",
              "  </div>\n",
              "  "
            ]
          },
          "metadata": {},
          "execution_count": 5
        }
      ],
      "source": [
        "#viewing the concatenated dataset\n",
        "df"
      ]
    },
    {
      "cell_type": "code",
      "execution_count": 6,
      "metadata": {
        "colab": {
          "base_uri": "https://localhost:8080/"
        },
        "id": "C8fs4rTAqPTj",
        "outputId": "d8d5e873-fabe-44bb-89cc-3d71b3820b7b"
      },
      "outputs": [
        {
          "output_type": "execute_result",
          "data": {
            "text/plain": [
              "time     0\n",
              "acc_x    0\n",
              "acc_y    0\n",
              "acc_z    0\n",
              "gyr_x    0\n",
              "gyr_y    0\n",
              "gyr_z    0\n",
              "mag_x    0\n",
              "mag_y    0\n",
              "mag_z    0\n",
              "label    0\n",
              "dtype: int64"
            ]
          },
          "metadata": {},
          "execution_count": 6
        }
      ],
      "source": [
        "#to checking the null values or any missing values are present in this data set\n",
        "df.isnull().sum()"
      ]
    },
    {
      "cell_type": "markdown",
      "source": [
        "so,there is no missing values in this dataset"
      ],
      "metadata": {
        "id": "dIrf2callwoK"
      }
    },
    {
      "cell_type": "markdown",
      "source": [
        "#EDA(Exploration Data & Analysis)\n",
        "\n",
        "Exploratory data analysis (EDA) is used by data scientists to analyze and investigate data sets and summarize their main characteristics, often employing data visualization methods"
      ],
      "metadata": {
        "id": "22qvCu2UmCbY"
      }
    },
    {
      "cell_type": "code",
      "source": [
        "df.shape    #to find how many rows and columns are present in this dataset"
      ],
      "metadata": {
        "colab": {
          "base_uri": "https://localhost:8080/"
        },
        "id": "0sfOgrZ1oQSM",
        "outputId": "fc252e35-d092-47eb-88c9-d7982aa225e9"
      },
      "execution_count": null,
      "outputs": [
        {
          "output_type": "execute_result",
          "data": {
            "text/plain": [
              "(12038239, 11)"
            ]
          },
          "metadata": {},
          "execution_count": 7
        }
      ]
    },
    {
      "cell_type": "code",
      "source": [
        "df.columns    #to viw what are the columns or feature we have in this dataset"
      ],
      "metadata": {
        "colab": {
          "base_uri": "https://localhost:8080/"
        },
        "id": "Wv2BNcf0oVt0",
        "outputId": "cbbaa94f-1856-4d75-9aa3-8de0d1f4c587"
      },
      "execution_count": null,
      "outputs": [
        {
          "output_type": "execute_result",
          "data": {
            "text/plain": [
              "Index(['time', 'acc_x', 'acc_y', 'acc_z', 'gyr_x', 'gyr_y', 'gyr_z', 'mag_x',\n",
              "       'mag_y', 'mag_z', 'label'],\n",
              "      dtype='object')"
            ]
          },
          "metadata": {},
          "execution_count": 8
        }
      ]
    },
    {
      "cell_type": "code",
      "source": [
        "#creating a function to create a table that has feature_name, dtype, missing values and the number of unique values\n",
        "def insights_table(df):\n",
        "    summary = pd.DataFrame(df.dtypes,columns=['dtypes'])\n",
        "    summary = summary.reset_index()\n",
        "    summary['Feature_name'] = summary['index']\n",
        "    summary = summary[['Feature_name','dtypes']]\n",
        "    summary['Missing_values'] = df.isnull().sum().values    \n",
        "    summary['No. Uniques_values'] = df.nunique().values\n",
        "    return summary"
      ],
      "metadata": {
        "id": "zBhfV4Nkob6G"
      },
      "execution_count": null,
      "outputs": []
    },
    {
      "cell_type": "code",
      "source": [
        "df.info()     #to find datatype of each features like categorical(object),float,integers"
      ],
      "metadata": {
        "colab": {
          "base_uri": "https://localhost:8080/"
        },
        "id": "L_y9fxv1ooF2",
        "outputId": "b334b352-8ff9-46cb-a151-43110f314b2c"
      },
      "execution_count": null,
      "outputs": [
        {
          "output_type": "stream",
          "name": "stdout",
          "text": [
            "<class 'pandas.core.frame.DataFrame'>\n",
            "Int64Index: 12038239 entries, 0 to 2539805\n",
            "Data columns (total 11 columns):\n",
            " #   Column  Dtype  \n",
            "---  ------  -----  \n",
            " 0   time    int64  \n",
            " 1   acc_x   float64\n",
            " 2   acc_y   float64\n",
            " 3   acc_z   float64\n",
            " 4   gyr_x   float64\n",
            " 5   gyr_y   float64\n",
            " 6   gyr_z   float64\n",
            " 7   mag_x   float64\n",
            " 8   mag_y   float64\n",
            " 9   mag_z   float64\n",
            " 10  label   int64  \n",
            "dtypes: float64(9), int64(2)\n",
            "memory usage: 1.1 GB\n"
          ]
        }
      ]
    },
    {
      "cell_type": "markdown",
      "source": [
        "there is no catogorical(object) variables are present in this dataset"
      ],
      "metadata": {
        "id": "ev3h7ZvnorOt"
      }
    },
    {
      "cell_type": "code",
      "source": [
        "df.describe()    #to view the statastical decribed values for each features"
      ],
      "metadata": {
        "colab": {
          "base_uri": "https://localhost:8080/",
          "height": 344
        },
        "id": "5dLvA5VTo_hp",
        "outputId": "87d39b9a-4bf2-48a0-887b-da004c2366fb"
      },
      "execution_count": null,
      "outputs": [
        {
          "output_type": "execute_result",
          "data": {
            "text/plain": [
              "               time         acc_x         acc_y         acc_z         gyr_x  \\\n",
              "count  1.203824e+07  1.203824e+07  1.203824e+07  1.203824e+07  1.203824e+07   \n",
              "mean   1.628255e+09 -5.551421e-02  5.784451e-01  1.193638e-01  8.652787e-01   \n",
              "std    1.173003e+05  2.444925e-01  7.475963e-01  1.881079e-01  1.317298e+01   \n",
              "min    1.628067e+09 -1.599756e+01 -1.314160e+01 -1.599121e+01 -1.999756e+03   \n",
              "25%    1.628115e+09 -2.192383e-01  8.061524e-01  5.126950e-02 -2.319336e+00   \n",
              "50%    1.628313e+09 -5.761720e-02  9.365235e-01  1.342773e-01  8.544922e-01   \n",
              "75%    1.628336e+09  8.789060e-02  9.755860e-01  2.114258e-01  3.906250e+00   \n",
              "max    1.628421e+09  1.051514e+01  1.182617e+01  1.599854e+01  1.999756e+03   \n",
              "\n",
              "              gyr_y         gyr_z         mag_x         mag_y         mag_z  \\\n",
              "count  1.203824e+07  1.203824e+07  1.203824e+07  1.203824e+07  1.203824e+07   \n",
              "mean  -1.828423e+00 -6.491921e-01 -2.649449e+02  3.725189e+02  1.775154e+02   \n",
              "std    2.118163e+01  1.063632e+01  2.453102e+02  6.090670e+02  4.207017e+02   \n",
              "min   -1.986816e+03 -1.999756e+03 -1.534500e+03 -1.057500e+03 -1.152000e+03   \n",
              "25%   -6.469727e+00 -2.990723e+00 -3.930000e+02 -1.335000e+02  5.850000e+01   \n",
              "50%   -1.892090e+00 -6.103516e-01 -2.325000e+02  1.200000e+02  2.700000e+02   \n",
              "75%    2.624512e+00  1.770020e+00 -1.200000e+02  9.270000e+02  4.980000e+02   \n",
              "max    1.999939e+03  1.776306e+03  7.920000e+02  1.918500e+03  1.179000e+03   \n",
              "\n",
              "              label  \n",
              "count  1.203824e+07  \n",
              "mean   4.129239e+00  \n",
              "std    2.272779e+00  \n",
              "min    1.000000e+00  \n",
              "25%    1.000000e+00  \n",
              "50%    4.000000e+00  \n",
              "75%    6.000000e+00  \n",
              "max    9.000000e+00  "
            ],
            "text/html": [
              "\n",
              "  <div id=\"df-396fb5d3-c0da-4049-919b-dda0631f519c\">\n",
              "    <div class=\"colab-df-container\">\n",
              "      <div>\n",
              "<style scoped>\n",
              "    .dataframe tbody tr th:only-of-type {\n",
              "        vertical-align: middle;\n",
              "    }\n",
              "\n",
              "    .dataframe tbody tr th {\n",
              "        vertical-align: top;\n",
              "    }\n",
              "\n",
              "    .dataframe thead th {\n",
              "        text-align: right;\n",
              "    }\n",
              "</style>\n",
              "<table border=\"1\" class=\"dataframe\">\n",
              "  <thead>\n",
              "    <tr style=\"text-align: right;\">\n",
              "      <th></th>\n",
              "      <th>time</th>\n",
              "      <th>acc_x</th>\n",
              "      <th>acc_y</th>\n",
              "      <th>acc_z</th>\n",
              "      <th>gyr_x</th>\n",
              "      <th>gyr_y</th>\n",
              "      <th>gyr_z</th>\n",
              "      <th>mag_x</th>\n",
              "      <th>mag_y</th>\n",
              "      <th>mag_z</th>\n",
              "      <th>label</th>\n",
              "    </tr>\n",
              "  </thead>\n",
              "  <tbody>\n",
              "    <tr>\n",
              "      <th>count</th>\n",
              "      <td>1.203824e+07</td>\n",
              "      <td>1.203824e+07</td>\n",
              "      <td>1.203824e+07</td>\n",
              "      <td>1.203824e+07</td>\n",
              "      <td>1.203824e+07</td>\n",
              "      <td>1.203824e+07</td>\n",
              "      <td>1.203824e+07</td>\n",
              "      <td>1.203824e+07</td>\n",
              "      <td>1.203824e+07</td>\n",
              "      <td>1.203824e+07</td>\n",
              "      <td>1.203824e+07</td>\n",
              "    </tr>\n",
              "    <tr>\n",
              "      <th>mean</th>\n",
              "      <td>1.628255e+09</td>\n",
              "      <td>-5.551421e-02</td>\n",
              "      <td>5.784451e-01</td>\n",
              "      <td>1.193638e-01</td>\n",
              "      <td>8.652787e-01</td>\n",
              "      <td>-1.828423e+00</td>\n",
              "      <td>-6.491921e-01</td>\n",
              "      <td>-2.649449e+02</td>\n",
              "      <td>3.725189e+02</td>\n",
              "      <td>1.775154e+02</td>\n",
              "      <td>4.129239e+00</td>\n",
              "    </tr>\n",
              "    <tr>\n",
              "      <th>std</th>\n",
              "      <td>1.173003e+05</td>\n",
              "      <td>2.444925e-01</td>\n",
              "      <td>7.475963e-01</td>\n",
              "      <td>1.881079e-01</td>\n",
              "      <td>1.317298e+01</td>\n",
              "      <td>2.118163e+01</td>\n",
              "      <td>1.063632e+01</td>\n",
              "      <td>2.453102e+02</td>\n",
              "      <td>6.090670e+02</td>\n",
              "      <td>4.207017e+02</td>\n",
              "      <td>2.272779e+00</td>\n",
              "    </tr>\n",
              "    <tr>\n",
              "      <th>min</th>\n",
              "      <td>1.628067e+09</td>\n",
              "      <td>-1.599756e+01</td>\n",
              "      <td>-1.314160e+01</td>\n",
              "      <td>-1.599121e+01</td>\n",
              "      <td>-1.999756e+03</td>\n",
              "      <td>-1.986816e+03</td>\n",
              "      <td>-1.999756e+03</td>\n",
              "      <td>-1.534500e+03</td>\n",
              "      <td>-1.057500e+03</td>\n",
              "      <td>-1.152000e+03</td>\n",
              "      <td>1.000000e+00</td>\n",
              "    </tr>\n",
              "    <tr>\n",
              "      <th>25%</th>\n",
              "      <td>1.628115e+09</td>\n",
              "      <td>-2.192383e-01</td>\n",
              "      <td>8.061524e-01</td>\n",
              "      <td>5.126950e-02</td>\n",
              "      <td>-2.319336e+00</td>\n",
              "      <td>-6.469727e+00</td>\n",
              "      <td>-2.990723e+00</td>\n",
              "      <td>-3.930000e+02</td>\n",
              "      <td>-1.335000e+02</td>\n",
              "      <td>5.850000e+01</td>\n",
              "      <td>1.000000e+00</td>\n",
              "    </tr>\n",
              "    <tr>\n",
              "      <th>50%</th>\n",
              "      <td>1.628313e+09</td>\n",
              "      <td>-5.761720e-02</td>\n",
              "      <td>9.365235e-01</td>\n",
              "      <td>1.342773e-01</td>\n",
              "      <td>8.544922e-01</td>\n",
              "      <td>-1.892090e+00</td>\n",
              "      <td>-6.103516e-01</td>\n",
              "      <td>-2.325000e+02</td>\n",
              "      <td>1.200000e+02</td>\n",
              "      <td>2.700000e+02</td>\n",
              "      <td>4.000000e+00</td>\n",
              "    </tr>\n",
              "    <tr>\n",
              "      <th>75%</th>\n",
              "      <td>1.628336e+09</td>\n",
              "      <td>8.789060e-02</td>\n",
              "      <td>9.755860e-01</td>\n",
              "      <td>2.114258e-01</td>\n",
              "      <td>3.906250e+00</td>\n",
              "      <td>2.624512e+00</td>\n",
              "      <td>1.770020e+00</td>\n",
              "      <td>-1.200000e+02</td>\n",
              "      <td>9.270000e+02</td>\n",
              "      <td>4.980000e+02</td>\n",
              "      <td>6.000000e+00</td>\n",
              "    </tr>\n",
              "    <tr>\n",
              "      <th>max</th>\n",
              "      <td>1.628421e+09</td>\n",
              "      <td>1.051514e+01</td>\n",
              "      <td>1.182617e+01</td>\n",
              "      <td>1.599854e+01</td>\n",
              "      <td>1.999756e+03</td>\n",
              "      <td>1.999939e+03</td>\n",
              "      <td>1.776306e+03</td>\n",
              "      <td>7.920000e+02</td>\n",
              "      <td>1.918500e+03</td>\n",
              "      <td>1.179000e+03</td>\n",
              "      <td>9.000000e+00</td>\n",
              "    </tr>\n",
              "  </tbody>\n",
              "</table>\n",
              "</div>\n",
              "      <button class=\"colab-df-convert\" onclick=\"convertToInteractive('df-396fb5d3-c0da-4049-919b-dda0631f519c')\"\n",
              "              title=\"Convert this dataframe to an interactive table.\"\n",
              "              style=\"display:none;\">\n",
              "        \n",
              "  <svg xmlns=\"http://www.w3.org/2000/svg\" height=\"24px\"viewBox=\"0 0 24 24\"\n",
              "       width=\"24px\">\n",
              "    <path d=\"M0 0h24v24H0V0z\" fill=\"none\"/>\n",
              "    <path d=\"M18.56 5.44l.94 2.06.94-2.06 2.06-.94-2.06-.94-.94-2.06-.94 2.06-2.06.94zm-11 1L8.5 8.5l.94-2.06 2.06-.94-2.06-.94L8.5 2.5l-.94 2.06-2.06.94zm10 10l.94 2.06.94-2.06 2.06-.94-2.06-.94-.94-2.06-.94 2.06-2.06.94z\"/><path d=\"M17.41 7.96l-1.37-1.37c-.4-.4-.92-.59-1.43-.59-.52 0-1.04.2-1.43.59L10.3 9.45l-7.72 7.72c-.78.78-.78 2.05 0 2.83L4 21.41c.39.39.9.59 1.41.59.51 0 1.02-.2 1.41-.59l7.78-7.78 2.81-2.81c.8-.78.8-2.07 0-2.86zM5.41 20L4 18.59l7.72-7.72 1.47 1.35L5.41 20z\"/>\n",
              "  </svg>\n",
              "      </button>\n",
              "      \n",
              "  <style>\n",
              "    .colab-df-container {\n",
              "      display:flex;\n",
              "      flex-wrap:wrap;\n",
              "      gap: 12px;\n",
              "    }\n",
              "\n",
              "    .colab-df-convert {\n",
              "      background-color: #E8F0FE;\n",
              "      border: none;\n",
              "      border-radius: 50%;\n",
              "      cursor: pointer;\n",
              "      display: none;\n",
              "      fill: #1967D2;\n",
              "      height: 32px;\n",
              "      padding: 0 0 0 0;\n",
              "      width: 32px;\n",
              "    }\n",
              "\n",
              "    .colab-df-convert:hover {\n",
              "      background-color: #E2EBFA;\n",
              "      box-shadow: 0px 1px 2px rgba(60, 64, 67, 0.3), 0px 1px 3px 1px rgba(60, 64, 67, 0.15);\n",
              "      fill: #174EA6;\n",
              "    }\n",
              "\n",
              "    [theme=dark] .colab-df-convert {\n",
              "      background-color: #3B4455;\n",
              "      fill: #D2E3FC;\n",
              "    }\n",
              "\n",
              "    [theme=dark] .colab-df-convert:hover {\n",
              "      background-color: #434B5C;\n",
              "      box-shadow: 0px 1px 3px 1px rgba(0, 0, 0, 0.15);\n",
              "      filter: drop-shadow(0px 1px 2px rgba(0, 0, 0, 0.3));\n",
              "      fill: #FFFFFF;\n",
              "    }\n",
              "  </style>\n",
              "\n",
              "      <script>\n",
              "        const buttonEl =\n",
              "          document.querySelector('#df-396fb5d3-c0da-4049-919b-dda0631f519c button.colab-df-convert');\n",
              "        buttonEl.style.display =\n",
              "          google.colab.kernel.accessAllowed ? 'block' : 'none';\n",
              "\n",
              "        async function convertToInteractive(key) {\n",
              "          const element = document.querySelector('#df-396fb5d3-c0da-4049-919b-dda0631f519c');\n",
              "          const dataTable =\n",
              "            await google.colab.kernel.invokeFunction('convertToInteractive',\n",
              "                                                     [key], {});\n",
              "          if (!dataTable) return;\n",
              "\n",
              "          const docLinkHtml = 'Like what you see? Visit the ' +\n",
              "            '<a target=\"_blank\" href=https://colab.research.google.com/notebooks/data_table.ipynb>data table notebook</a>'\n",
              "            + ' to learn more about interactive tables.';\n",
              "          element.innerHTML = '';\n",
              "          dataTable['output_type'] = 'display_data';\n",
              "          await google.colab.output.renderOutput(dataTable, element);\n",
              "          const docLink = document.createElement('div');\n",
              "          docLink.innerHTML = docLinkHtml;\n",
              "          element.appendChild(docLink);\n",
              "        }\n",
              "      </script>\n",
              "    </div>\n",
              "  </div>\n",
              "  "
            ]
          },
          "metadata": {},
          "execution_count": 11
        }
      ]
    },
    {
      "cell_type": "code",
      "source": [
        "df.describe().T    #interchanging rows to column"
      ],
      "metadata": {
        "colab": {
          "base_uri": "https://localhost:8080/",
          "height": 394
        },
        "id": "MsUuTmNzEbY7",
        "outputId": "77aa75cb-8b20-47bc-cdfe-708a91421655"
      },
      "execution_count": null,
      "outputs": [
        {
          "output_type": "execute_result",
          "data": {
            "text/plain": [
              "            count          mean            std           min           25%  \\\n",
              "time   12038239.0  1.628255e+09  117300.252277  1.628067e+09  1.628115e+09   \n",
              "acc_x  12038239.0 -5.551421e-02       0.244492 -1.599756e+01 -2.192383e-01   \n",
              "acc_y  12038239.0  5.784451e-01       0.747596 -1.314160e+01  8.061524e-01   \n",
              "acc_z  12038239.0  1.193638e-01       0.188108 -1.599121e+01  5.126950e-02   \n",
              "gyr_x  12038239.0  8.652787e-01      13.172981 -1.999756e+03 -2.319336e+00   \n",
              "gyr_y  12038239.0 -1.828423e+00      21.181631 -1.986816e+03 -6.469727e+00   \n",
              "gyr_z  12038239.0 -6.491921e-01      10.636321 -1.999756e+03 -2.990723e+00   \n",
              "mag_x  12038239.0 -2.649449e+02     245.310243 -1.534500e+03 -3.930000e+02   \n",
              "mag_y  12038239.0  3.725189e+02     609.067046 -1.057500e+03 -1.335000e+02   \n",
              "mag_z  12038239.0  1.775154e+02     420.701685 -1.152000e+03  5.850000e+01   \n",
              "label  12038239.0  4.129239e+00       2.272779  1.000000e+00  1.000000e+00   \n",
              "\n",
              "                50%           75%           max  \n",
              "time   1.628313e+09  1.628336e+09  1.628421e+09  \n",
              "acc_x -5.761720e-02  8.789060e-02  1.051514e+01  \n",
              "acc_y  9.365235e-01  9.755860e-01  1.182617e+01  \n",
              "acc_z  1.342773e-01  2.114258e-01  1.599854e+01  \n",
              "gyr_x  8.544922e-01  3.906250e+00  1.999756e+03  \n",
              "gyr_y -1.892090e+00  2.624512e+00  1.999939e+03  \n",
              "gyr_z -6.103516e-01  1.770020e+00  1.776306e+03  \n",
              "mag_x -2.325000e+02 -1.200000e+02  7.920000e+02  \n",
              "mag_y  1.200000e+02  9.270000e+02  1.918500e+03  \n",
              "mag_z  2.700000e+02  4.980000e+02  1.179000e+03  \n",
              "label  4.000000e+00  6.000000e+00  9.000000e+00  "
            ],
            "text/html": [
              "\n",
              "  <div id=\"df-ad5cbc45-9b80-4b9e-84f1-7f42cb8ed80b\">\n",
              "    <div class=\"colab-df-container\">\n",
              "      <div>\n",
              "<style scoped>\n",
              "    .dataframe tbody tr th:only-of-type {\n",
              "        vertical-align: middle;\n",
              "    }\n",
              "\n",
              "    .dataframe tbody tr th {\n",
              "        vertical-align: top;\n",
              "    }\n",
              "\n",
              "    .dataframe thead th {\n",
              "        text-align: right;\n",
              "    }\n",
              "</style>\n",
              "<table border=\"1\" class=\"dataframe\">\n",
              "  <thead>\n",
              "    <tr style=\"text-align: right;\">\n",
              "      <th></th>\n",
              "      <th>count</th>\n",
              "      <th>mean</th>\n",
              "      <th>std</th>\n",
              "      <th>min</th>\n",
              "      <th>25%</th>\n",
              "      <th>50%</th>\n",
              "      <th>75%</th>\n",
              "      <th>max</th>\n",
              "    </tr>\n",
              "  </thead>\n",
              "  <tbody>\n",
              "    <tr>\n",
              "      <th>time</th>\n",
              "      <td>12038239.0</td>\n",
              "      <td>1.628255e+09</td>\n",
              "      <td>117300.252277</td>\n",
              "      <td>1.628067e+09</td>\n",
              "      <td>1.628115e+09</td>\n",
              "      <td>1.628313e+09</td>\n",
              "      <td>1.628336e+09</td>\n",
              "      <td>1.628421e+09</td>\n",
              "    </tr>\n",
              "    <tr>\n",
              "      <th>acc_x</th>\n",
              "      <td>12038239.0</td>\n",
              "      <td>-5.551421e-02</td>\n",
              "      <td>0.244492</td>\n",
              "      <td>-1.599756e+01</td>\n",
              "      <td>-2.192383e-01</td>\n",
              "      <td>-5.761720e-02</td>\n",
              "      <td>8.789060e-02</td>\n",
              "      <td>1.051514e+01</td>\n",
              "    </tr>\n",
              "    <tr>\n",
              "      <th>acc_y</th>\n",
              "      <td>12038239.0</td>\n",
              "      <td>5.784451e-01</td>\n",
              "      <td>0.747596</td>\n",
              "      <td>-1.314160e+01</td>\n",
              "      <td>8.061524e-01</td>\n",
              "      <td>9.365235e-01</td>\n",
              "      <td>9.755860e-01</td>\n",
              "      <td>1.182617e+01</td>\n",
              "    </tr>\n",
              "    <tr>\n",
              "      <th>acc_z</th>\n",
              "      <td>12038239.0</td>\n",
              "      <td>1.193638e-01</td>\n",
              "      <td>0.188108</td>\n",
              "      <td>-1.599121e+01</td>\n",
              "      <td>5.126950e-02</td>\n",
              "      <td>1.342773e-01</td>\n",
              "      <td>2.114258e-01</td>\n",
              "      <td>1.599854e+01</td>\n",
              "    </tr>\n",
              "    <tr>\n",
              "      <th>gyr_x</th>\n",
              "      <td>12038239.0</td>\n",
              "      <td>8.652787e-01</td>\n",
              "      <td>13.172981</td>\n",
              "      <td>-1.999756e+03</td>\n",
              "      <td>-2.319336e+00</td>\n",
              "      <td>8.544922e-01</td>\n",
              "      <td>3.906250e+00</td>\n",
              "      <td>1.999756e+03</td>\n",
              "    </tr>\n",
              "    <tr>\n",
              "      <th>gyr_y</th>\n",
              "      <td>12038239.0</td>\n",
              "      <td>-1.828423e+00</td>\n",
              "      <td>21.181631</td>\n",
              "      <td>-1.986816e+03</td>\n",
              "      <td>-6.469727e+00</td>\n",
              "      <td>-1.892090e+00</td>\n",
              "      <td>2.624512e+00</td>\n",
              "      <td>1.999939e+03</td>\n",
              "    </tr>\n",
              "    <tr>\n",
              "      <th>gyr_z</th>\n",
              "      <td>12038239.0</td>\n",
              "      <td>-6.491921e-01</td>\n",
              "      <td>10.636321</td>\n",
              "      <td>-1.999756e+03</td>\n",
              "      <td>-2.990723e+00</td>\n",
              "      <td>-6.103516e-01</td>\n",
              "      <td>1.770020e+00</td>\n",
              "      <td>1.776306e+03</td>\n",
              "    </tr>\n",
              "    <tr>\n",
              "      <th>mag_x</th>\n",
              "      <td>12038239.0</td>\n",
              "      <td>-2.649449e+02</td>\n",
              "      <td>245.310243</td>\n",
              "      <td>-1.534500e+03</td>\n",
              "      <td>-3.930000e+02</td>\n",
              "      <td>-2.325000e+02</td>\n",
              "      <td>-1.200000e+02</td>\n",
              "      <td>7.920000e+02</td>\n",
              "    </tr>\n",
              "    <tr>\n",
              "      <th>mag_y</th>\n",
              "      <td>12038239.0</td>\n",
              "      <td>3.725189e+02</td>\n",
              "      <td>609.067046</td>\n",
              "      <td>-1.057500e+03</td>\n",
              "      <td>-1.335000e+02</td>\n",
              "      <td>1.200000e+02</td>\n",
              "      <td>9.270000e+02</td>\n",
              "      <td>1.918500e+03</td>\n",
              "    </tr>\n",
              "    <tr>\n",
              "      <th>mag_z</th>\n",
              "      <td>12038239.0</td>\n",
              "      <td>1.775154e+02</td>\n",
              "      <td>420.701685</td>\n",
              "      <td>-1.152000e+03</td>\n",
              "      <td>5.850000e+01</td>\n",
              "      <td>2.700000e+02</td>\n",
              "      <td>4.980000e+02</td>\n",
              "      <td>1.179000e+03</td>\n",
              "    </tr>\n",
              "    <tr>\n",
              "      <th>label</th>\n",
              "      <td>12038239.0</td>\n",
              "      <td>4.129239e+00</td>\n",
              "      <td>2.272779</td>\n",
              "      <td>1.000000e+00</td>\n",
              "      <td>1.000000e+00</td>\n",
              "      <td>4.000000e+00</td>\n",
              "      <td>6.000000e+00</td>\n",
              "      <td>9.000000e+00</td>\n",
              "    </tr>\n",
              "  </tbody>\n",
              "</table>\n",
              "</div>\n",
              "      <button class=\"colab-df-convert\" onclick=\"convertToInteractive('df-ad5cbc45-9b80-4b9e-84f1-7f42cb8ed80b')\"\n",
              "              title=\"Convert this dataframe to an interactive table.\"\n",
              "              style=\"display:none;\">\n",
              "        \n",
              "  <svg xmlns=\"http://www.w3.org/2000/svg\" height=\"24px\"viewBox=\"0 0 24 24\"\n",
              "       width=\"24px\">\n",
              "    <path d=\"M0 0h24v24H0V0z\" fill=\"none\"/>\n",
              "    <path d=\"M18.56 5.44l.94 2.06.94-2.06 2.06-.94-2.06-.94-.94-2.06-.94 2.06-2.06.94zm-11 1L8.5 8.5l.94-2.06 2.06-.94-2.06-.94L8.5 2.5l-.94 2.06-2.06.94zm10 10l.94 2.06.94-2.06 2.06-.94-2.06-.94-.94-2.06-.94 2.06-2.06.94z\"/><path d=\"M17.41 7.96l-1.37-1.37c-.4-.4-.92-.59-1.43-.59-.52 0-1.04.2-1.43.59L10.3 9.45l-7.72 7.72c-.78.78-.78 2.05 0 2.83L4 21.41c.39.39.9.59 1.41.59.51 0 1.02-.2 1.41-.59l7.78-7.78 2.81-2.81c.8-.78.8-2.07 0-2.86zM5.41 20L4 18.59l7.72-7.72 1.47 1.35L5.41 20z\"/>\n",
              "  </svg>\n",
              "      </button>\n",
              "      \n",
              "  <style>\n",
              "    .colab-df-container {\n",
              "      display:flex;\n",
              "      flex-wrap:wrap;\n",
              "      gap: 12px;\n",
              "    }\n",
              "\n",
              "    .colab-df-convert {\n",
              "      background-color: #E8F0FE;\n",
              "      border: none;\n",
              "      border-radius: 50%;\n",
              "      cursor: pointer;\n",
              "      display: none;\n",
              "      fill: #1967D2;\n",
              "      height: 32px;\n",
              "      padding: 0 0 0 0;\n",
              "      width: 32px;\n",
              "    }\n",
              "\n",
              "    .colab-df-convert:hover {\n",
              "      background-color: #E2EBFA;\n",
              "      box-shadow: 0px 1px 2px rgba(60, 64, 67, 0.3), 0px 1px 3px 1px rgba(60, 64, 67, 0.15);\n",
              "      fill: #174EA6;\n",
              "    }\n",
              "\n",
              "    [theme=dark] .colab-df-convert {\n",
              "      background-color: #3B4455;\n",
              "      fill: #D2E3FC;\n",
              "    }\n",
              "\n",
              "    [theme=dark] .colab-df-convert:hover {\n",
              "      background-color: #434B5C;\n",
              "      box-shadow: 0px 1px 3px 1px rgba(0, 0, 0, 0.15);\n",
              "      filter: drop-shadow(0px 1px 2px rgba(0, 0, 0, 0.3));\n",
              "      fill: #FFFFFF;\n",
              "    }\n",
              "  </style>\n",
              "\n",
              "      <script>\n",
              "        const buttonEl =\n",
              "          document.querySelector('#df-ad5cbc45-9b80-4b9e-84f1-7f42cb8ed80b button.colab-df-convert');\n",
              "        buttonEl.style.display =\n",
              "          google.colab.kernel.accessAllowed ? 'block' : 'none';\n",
              "\n",
              "        async function convertToInteractive(key) {\n",
              "          const element = document.querySelector('#df-ad5cbc45-9b80-4b9e-84f1-7f42cb8ed80b');\n",
              "          const dataTable =\n",
              "            await google.colab.kernel.invokeFunction('convertToInteractive',\n",
              "                                                     [key], {});\n",
              "          if (!dataTable) return;\n",
              "\n",
              "          const docLinkHtml = 'Like what you see? Visit the ' +\n",
              "            '<a target=\"_blank\" href=https://colab.research.google.com/notebooks/data_table.ipynb>data table notebook</a>'\n",
              "            + ' to learn more about interactive tables.';\n",
              "          element.innerHTML = '';\n",
              "          dataTable['output_type'] = 'display_data';\n",
              "          await google.colab.output.renderOutput(dataTable, element);\n",
              "          const docLink = document.createElement('div');\n",
              "          docLink.innerHTML = docLinkHtml;\n",
              "          element.appendChild(docLink);\n",
              "        }\n",
              "      </script>\n",
              "    </div>\n",
              "  </div>\n",
              "  "
            ]
          },
          "metadata": {},
          "execution_count": 12
        }
      ]
    },
    {
      "cell_type": "code",
      "source": [
        "df['label'].value_counts()     #this method returns the count of unique entries in that column"
      ],
      "metadata": {
        "colab": {
          "base_uri": "https://localhost:8080/"
        },
        "id": "KIUw9aRlpDXu",
        "outputId": "aa60e1b7-8468-46a2-865a-e98b202d9679"
      },
      "execution_count": null,
      "outputs": [
        {
          "output_type": "execute_result",
          "data": {
            "text/plain": [
              "6    3407366\n",
              "1    3405702\n",
              "4    2539806\n",
              "5    1711687\n",
              "9     405263\n",
              "8     368607\n",
              "3     145369\n",
              "2      54439\n",
              "Name: label, dtype: int64"
            ]
          },
          "metadata": {},
          "execution_count": 13
        }
      ]
    },
    {
      "cell_type": "code",
      "source": [
        "#distribution of df  in piechart\n",
        "plt.pie(df['label'].value_counts(), autopct = '%1.1f%%')\n",
        "plt.show()"
      ],
      "metadata": {
        "id": "5YsPTCqUpGz0",
        "colab": {
          "base_uri": "https://localhost:8080/",
          "height": 248
        },
        "outputId": "07a08c4f-728c-47ff-b912-e9fda3ab3a2d"
      },
      "execution_count": null,
      "outputs": [
        {
          "output_type": "display_data",
          "data": {
            "text/plain": [
              "<Figure size 432x288 with 1 Axes>"
            ],
            "image/png": "[encoded data removed]"
          },
          "metadata": {}
        }
      ]
    },
    {
      "cell_type": "code",
      "source": [
        "#understanding our target variable\n",
        "sns.countplot(df['label'])"
      ],
      "metadata": {
        "colab": {
          "base_uri": "https://localhost:8080/",
          "height": 307
        },
        "id": "X4ZQtFdopJgE",
        "outputId": "01eef69a-8856-42fe-9194-3c32d1a93700"
      },
      "execution_count": null,
      "outputs": [
        {
          "output_type": "execute_result",
          "data": {
            "text/plain": [
              "<matplotlib.axes._subplots.AxesSubplot at 0x7f0969098610>"
            ]
          },
          "metadata": {},
          "execution_count": 14
        },
        {
          "output_type": "display_data",
          "data": {
            "text/plain": [
              "<Figure size 432x288 with 1 Axes>"
            ],
            "image/png": "[encoded data removed]"
          },
          "metadata": {
            "needs_background": "light"
          }
        }
      ]
    },
    {
      "cell_type": "code",
      "source": [
        "#checking the percentage of each class of the target variable present in the data\n",
        "(df['label'].value_counts()/len(df['label']))*100"
      ],
      "metadata": {
        "colab": {
          "base_uri": "https://localhost:8080/"
        },
        "id": "L2Dwp1pvpMxe",
        "outputId": "824a86f1-8d64-4bde-c8e4-182b3ee86651"
      },
      "execution_count": null,
      "outputs": [
        {
          "output_type": "execute_result",
          "data": {
            "text/plain": [
              "6    28.304522\n",
              "1    28.290699\n",
              "4    21.097820\n",
              "5    14.218749\n",
              "9     3.366464\n",
              "8     3.061968\n",
              "3     1.207560\n",
              "2     0.452217\n",
              "Name: label, dtype: float64"
            ]
          },
          "metadata": {},
          "execution_count": 12
        }
      ]
    },
    {
      "cell_type": "markdown",
      "source": [
        "Observation:\n",
        "\n",
        "The target variables are imbalanced!"
      ],
      "metadata": {
        "id": "T5bEGXPupSLA"
      }
    },
    {
      "cell_type": "markdown",
      "source": [
        "#Correlation\n",
        "\n",
        "Correlation is a statistical measure that expresses the extent to which two variables are linearly related "
      ],
      "metadata": {
        "id": "nKJS-ye2pYQJ"
      }
    },
    {
      "cell_type": "code",
      "source": [
        "df.corr()    #to view a features how much correlate to each other "
      ],
      "metadata": {
        "colab": {
          "base_uri": "https://localhost:8080/",
          "height": 394
        },
        "id": "ZTGHEkuqpZnw",
        "outputId": "df4dd726-05d1-4959-bf9c-7d4e145442ee"
      },
      "execution_count": 7,
      "outputs": [
        {
          "output_type": "execute_result",
          "data": {
            "text/plain": [
              "           time     acc_x     acc_y     acc_z     gyr_x     gyr_y     gyr_z  \\\n",
              "time   1.000000 -0.027670 -0.026418  0.034580 -0.005682 -0.003489 -0.005968   \n",
              "acc_x -0.027670  1.000000  0.053850 -0.062366 -0.006316  0.008142 -0.003950   \n",
              "acc_y -0.026418  0.053850  1.000000 -0.237107 -0.023554  0.004585  0.019732   \n",
              "acc_z  0.034580 -0.062366 -0.237107  1.000000  0.012469 -0.009510 -0.010222   \n",
              "gyr_x -0.005682 -0.006316 -0.023554  0.012469  1.000000 -0.012665 -0.092292   \n",
              "gyr_y -0.003489  0.008142  0.004585 -0.009510 -0.012665  1.000000  0.044312   \n",
              "gyr_z -0.005968 -0.003950  0.019732 -0.010222 -0.092292  0.044312  1.000000   \n",
              "mag_x  0.183277 -0.370609  0.011504  0.158448 -0.004920 -0.010082  0.005549   \n",
              "mag_y  0.065801  0.006814  0.398470 -0.201538 -0.010452  0.006548 -0.007327   \n",
              "mag_z  0.101489  0.158879  0.548802 -0.330254 -0.033407  0.012324  0.020724   \n",
              "label -0.053175  0.079372 -0.071234 -0.062789 -0.000546  0.002546  0.000145   \n",
              "\n",
              "          mag_x     mag_y     mag_z     label  \n",
              "time   0.183277  0.065801  0.101489 -0.053175  \n",
              "acc_x -0.370609  0.006814  0.158879  0.079372  \n",
              "acc_y  0.011504  0.398470  0.548802 -0.071234  \n",
              "acc_z  0.158448 -0.201538 -0.330254 -0.062789  \n",
              "gyr_x -0.004920 -0.010452 -0.033407 -0.000546  \n",
              "gyr_y -0.010082  0.006548  0.012324  0.002546  \n",
              "gyr_z  0.005549 -0.007327  0.020724  0.000145  \n",
              "mag_x  1.000000 -0.290171 -0.099849 -0.071002  \n",
              "mag_y -0.290171  1.000000  0.138158 -0.016132  \n",
              "mag_z -0.099849  0.138158  1.000000  0.010741  \n",
              "label -0.071002 -0.016132  0.010741  1.000000  "
            ],
            "text/html": [
              "\n",
              "  <div id=\"df-fb73d80e-518f-42e9-920e-a3d798884f7d\">\n",
              "    <div class=\"colab-df-container\">\n",
              "      <div>\n",
              "<style scoped>\n",
              "    .dataframe tbody tr th:only-of-type {\n",
              "        vertical-align: middle;\n",
              "    }\n",
              "\n",
              "    .dataframe tbody tr th {\n",
              "        vertical-align: top;\n",
              "    }\n",
              "\n",
              "    .dataframe thead th {\n",
              "        text-align: right;\n",
              "    }\n",
              "</style>\n",
              "<table border=\"1\" class=\"dataframe\">\n",
              "  <thead>\n",
              "    <tr style=\"text-align: right;\">\n",
              "      <th></th>\n",
              "      <th>time</th>\n",
              "      <th>acc_x</th>\n",
              "      <th>acc_y</th>\n",
              "      <th>acc_z</th>\n",
              "      <th>gyr_x</th>\n",
              "      <th>gyr_y</th>\n",
              "      <th>gyr_z</th>\n",
              "      <th>mag_x</th>\n",
              "      <th>mag_y</th>\n",
              "      <th>mag_z</th>\n",
              "      <th>label</th>\n",
              "    </tr>\n",
              "  </thead>\n",
              "  <tbody>\n",
              "    <tr>\n",
              "      <th>time</th>\n",
              "      <td>1.000000</td>\n",
              "      <td>-0.027670</td>\n",
              "      <td>-0.026418</td>\n",
              "      <td>0.034580</td>\n",
              "      <td>-0.005682</td>\n",
              "      <td>-0.003489</td>\n",
              "      <td>-0.005968</td>\n",
              "      <td>0.183277</td>\n",
              "      <td>0.065801</td>\n",
              "      <td>0.101489</td>\n",
              "      <td>-0.053175</td>\n",
              "    </tr>\n",
              "    <tr>\n",
              "      <th>acc_x</th>\n",
              "      <td>-0.027670</td>\n",
              "      <td>1.000000</td>\n",
              "      <td>0.053850</td>\n",
              "      <td>-0.062366</td>\n",
              "      <td>-0.006316</td>\n",
              "      <td>0.008142</td>\n",
              "      <td>-0.003950</td>\n",
              "      <td>-0.370609</td>\n",
              "      <td>0.006814</td>\n",
              "      <td>0.158879</td>\n",
              "      <td>0.079372</td>\n",
              "    </tr>\n",
              "    <tr>\n",
              "      <th>acc_y</th>\n",
              "      <td>-0.026418</td>\n",
              "      <td>0.053850</td>\n",
              "      <td>1.000000</td>\n",
              "      <td>-0.237107</td>\n",
              "      <td>-0.023554</td>\n",
              "      <td>0.004585</td>\n",
              "      <td>0.019732</td>\n",
              "      <td>0.011504</td>\n",
              "      <td>0.398470</td>\n",
              "      <td>0.548802</td>\n",
              "      <td>-0.071234</td>\n",
              "    </tr>\n",
              "    <tr>\n",
              "      <th>acc_z</th>\n",
              "      <td>0.034580</td>\n",
              "      <td>-0.062366</td>\n",
              "      <td>-0.237107</td>\n",
              "      <td>1.000000</td>\n",
              "      <td>0.012469</td>\n",
              "      <td>-0.009510</td>\n",
              "      <td>-0.010222</td>\n",
              "      <td>0.158448</td>\n",
              "      <td>-0.201538</td>\n",
              "      <td>-0.330254</td>\n",
              "      <td>-0.062789</td>\n",
              "    </tr>\n",
              "    <tr>\n",
              "      <th>gyr_x</th>\n",
              "      <td>-0.005682</td>\n",
              "      <td>-0.006316</td>\n",
              "      <td>-0.023554</td>\n",
              "      <td>0.012469</td>\n",
              "      <td>1.000000</td>\n",
              "      <td>-0.012665</td>\n",
              "      <td>-0.092292</td>\n",
              "      <td>-0.004920</td>\n",
              "      <td>-0.010452</td>\n",
              "      <td>-0.033407</td>\n",
              "      <td>-0.000546</td>\n",
              "    </tr>\n",
              "    <tr>\n",
              "      <th>gyr_y</th>\n",
              "      <td>-0.003489</td>\n",
              "      <td>0.008142</td>\n",
              "      <td>0.004585</td>\n",
              "      <td>-0.009510</td>\n",
              "      <td>-0.012665</td>\n",
              "      <td>1.000000</td>\n",
              "      <td>0.044312</td>\n",
              "      <td>-0.010082</td>\n",
              "      <td>0.006548</td>\n",
              "      <td>0.012324</td>\n",
              "      <td>0.002546</td>\n",
              "    </tr>\n",
              "    <tr>\n",
              "      <th>gyr_z</th>\n",
              "      <td>-0.005968</td>\n",
              "      <td>-0.003950</td>\n",
              "      <td>0.019732</td>\n",
              "      <td>-0.010222</td>\n",
              "      <td>-0.092292</td>\n",
              "      <td>0.044312</td>\n",
              "      <td>1.000000</td>\n",
              "      <td>0.005549</td>\n",
              "      <td>-0.007327</td>\n",
              "      <td>0.020724</td>\n",
              "      <td>0.000145</td>\n",
              "    </tr>\n",
              "    <tr>\n",
              "      <th>mag_x</th>\n",
              "      <td>0.183277</td>\n",
              "      <td>-0.370609</td>\n",
              "      <td>0.011504</td>\n",
              "      <td>0.158448</td>\n",
              "      <td>-0.004920</td>\n",
              "      <td>-0.010082</td>\n",
              "      <td>0.005549</td>\n",
              "      <td>1.000000</td>\n",
              "      <td>-0.290171</td>\n",
              "      <td>-0.099849</td>\n",
              "      <td>-0.071002</td>\n",
              "    </tr>\n",
              "    <tr>\n",
              "      <th>mag_y</th>\n",
              "      <td>0.065801</td>\n",
              "      <td>0.006814</td>\n",
              "      <td>0.398470</td>\n",
              "      <td>-0.201538</td>\n",
              "      <td>-0.010452</td>\n",
              "      <td>0.006548</td>\n",
              "      <td>-0.007327</td>\n",
              "      <td>-0.290171</td>\n",
              "      <td>1.000000</td>\n",
              "      <td>0.138158</td>\n",
              "      <td>-0.016132</td>\n",
              "    </tr>\n",
              "    <tr>\n",
              "      <th>mag_z</th>\n",
              "      <td>0.101489</td>\n",
              "      <td>0.158879</td>\n",
              "      <td>0.548802</td>\n",
              "      <td>-0.330254</td>\n",
              "      <td>-0.033407</td>\n",
              "      <td>0.012324</td>\n",
              "      <td>0.020724</td>\n",
              "      <td>-0.099849</td>\n",
              "      <td>0.138158</td>\n",
              "      <td>1.000000</td>\n",
              "      <td>0.010741</td>\n",
              "    </tr>\n",
              "    <tr>\n",
              "      <th>label</th>\n",
              "      <td>-0.053175</td>\n",
              "      <td>0.079372</td>\n",
              "      <td>-0.071234</td>\n",
              "      <td>-0.062789</td>\n",
              "      <td>-0.000546</td>\n",
              "      <td>0.002546</td>\n",
              "      <td>0.000145</td>\n",
              "      <td>-0.071002</td>\n",
              "      <td>-0.016132</td>\n",
              "      <td>0.010741</td>\n",
              "      <td>1.000000</td>\n",
              "    </tr>\n",
              "  </tbody>\n",
              "</table>\n",
              "</div>\n",
              "      <button class=\"colab-df-convert\" onclick=\"convertToInteractive('df-fb73d80e-518f-42e9-920e-a3d798884f7d')\"\n",
              "              title=\"Convert this dataframe to an interactive table.\"\n",
              "              style=\"display:none;\">\n",
              "        \n",
              "  <svg xmlns=\"http://www.w3.org/2000/svg\" height=\"24px\"viewBox=\"0 0 24 24\"\n",
              "       width=\"24px\">\n",
              "    <path d=\"M0 0h24v24H0V0z\" fill=\"none\"/>\n",
              "    <path d=\"M18.56 5.44l.94 2.06.94-2.06 2.06-.94-2.06-.94-.94-2.06-.94 2.06-2.06.94zm-11 1L8.5 8.5l.94-2.06 2.06-.94-2.06-.94L8.5 2.5l-.94 2.06-2.06.94zm10 10l.94 2.06.94-2.06 2.06-.94-2.06-.94-.94-2.06-.94 2.06-2.06.94z\"/><path d=\"M17.41 7.96l-1.37-1.37c-.4-.4-.92-.59-1.43-.59-.52 0-1.04.2-1.43.59L10.3 9.45l-7.72 7.72c-.78.78-.78 2.05 0 2.83L4 21.41c.39.39.9.59 1.41.59.51 0 1.02-.2 1.41-.59l7.78-7.78 2.81-2.81c.8-.78.8-2.07 0-2.86zM5.41 20L4 18.59l7.72-7.72 1.47 1.35L5.41 20z\"/>\n",
              "  </svg>\n",
              "      </button>\n",
              "      \n",
              "  <style>\n",
              "    .colab-df-container {\n",
              "      display:flex;\n",
              "      flex-wrap:wrap;\n",
              "      gap: 12px;\n",
              "    }\n",
              "\n",
              "    .colab-df-convert {\n",
              "      background-color: #E8F0FE;\n",
              "      border: none;\n",
              "      border-radius: 50%;\n",
              "      cursor: pointer;\n",
              "      display: none;\n",
              "      fill: #1967D2;\n",
              "      height: 32px;\n",
              "      padding: 0 0 0 0;\n",
              "      width: 32px;\n",
              "    }\n",
              "\n",
              "    .colab-df-convert:hover {\n",
              "      background-color: #E2EBFA;\n",
              "      box-shadow: 0px 1px 2px rgba(60, 64, 67, 0.3), 0px 1px 3px 1px rgba(60, 64, 67, 0.15);\n",
              "      fill: #174EA6;\n",
              "    }\n",
              "\n",
              "    [theme=dark] .colab-df-convert {\n",
              "      background-color: #3B4455;\n",
              "      fill: #D2E3FC;\n",
              "    }\n",
              "\n",
              "    [theme=dark] .colab-df-convert:hover {\n",
              "      background-color: #434B5C;\n",
              "      box-shadow: 0px 1px 3px 1px rgba(0, 0, 0, 0.15);\n",
              "      filter: drop-shadow(0px 1px 2px rgba(0, 0, 0, 0.3));\n",
              "      fill: #FFFFFF;\n",
              "    }\n",
              "  </style>\n",
              "\n",
              "      <script>\n",
              "        const buttonEl =\n",
              "          document.querySelector('#df-fb73d80e-518f-42e9-920e-a3d798884f7d button.colab-df-convert');\n",
              "        buttonEl.style.display =\n",
              "          google.colab.kernel.accessAllowed ? 'block' : 'none';\n",
              "\n",
              "        async function convertToInteractive(key) {\n",
              "          const element = document.querySelector('#df-fb73d80e-518f-42e9-920e-a3d798884f7d');\n",
              "          const dataTable =\n",
              "            await google.colab.kernel.invokeFunction('convertToInteractive',\n",
              "                                                     [key], {});\n",
              "          if (!dataTable) return;\n",
              "\n",
              "          const docLinkHtml = 'Like what you see? Visit the ' +\n",
              "            '<a target=\"_blank\" href=https://colab.research.google.com/notebooks/data_table.ipynb>data table notebook</a>'\n",
              "            + ' to learn more about interactive tables.';\n",
              "          element.innerHTML = '';\n",
              "          dataTable['output_type'] = 'display_data';\n",
              "          await google.colab.output.renderOutput(dataTable, element);\n",
              "          const docLink = document.createElement('div');\n",
              "          docLink.innerHTML = docLinkHtml;\n",
              "          element.appendChild(docLink);\n",
              "        }\n",
              "      </script>\n",
              "    </div>\n",
              "  </div>\n",
              "  "
            ]
          },
          "metadata": {},
          "execution_count": 7
        }
      ]
    },
    {
      "cell_type": "code",
      "source": [
        "#checking the correlation between all the features(correlations means a mutual relationship or connection between two or more things.)\n",
        "plt.figure(figsize=(10,10))\n",
        "cor = df.corr()\n",
        "sns.heatmap(cor,annot = True, cmap='coolwarm',fmt = '.0%' )\n",
        "plt.show()"
      ],
      "metadata": {
        "id": "D1P6txldpsD0",
        "colab": {
          "base_uri": "https://localhost:8080/",
          "height": 596
        },
        "outputId": "607a8a40-ddb5-424d-bac1-f72f85ed0640"
      },
      "execution_count": 8,
      "outputs": [
        {
          "output_type": "display_data",
          "data": {
            "text/plain": [
              "<Figure size 720x720 with 2 Axes>"
            ],
            "image/png": "[encoded data removed]"
          },
          "metadata": {
            "needs_background": "light"
          }
        }
      ]
    },
    {
      "cell_type": "code",
      "source": [
        "plt.figure(figsize=(20,8))\n",
        "df.corr()['label'].sort_values(ascending = False).plot(kind='bar')"
      ],
      "metadata": {
        "colab": {
          "base_uri": "https://localhost:8080/",
          "height": 523
        },
        "id": "xO55KlNJpwym",
        "outputId": "52d87f30-c505-4942-8378-08054941e15b"
      },
      "execution_count": null,
      "outputs": [
        {
          "output_type": "execute_result",
          "data": {
            "text/plain": [
              "<matplotlib.axes._subplots.AxesSubplot at 0x7f0964d9fe90>"
            ]
          },
          "metadata": {},
          "execution_count": 17
        },
        {
          "output_type": "display_data",
          "data": {
            "text/plain": [
              "<Figure size 1440x576 with 1 Axes>"
            ],
            "image/png": "[encoded data removed]"
          },
          "metadata": {
            "needs_background": "light"
          }
        }
      ]
    },
    {
      "cell_type": "code",
      "source": [
        "corr = df.corrwith(df['label']).sort_values(ascending = False).to_frame()\n",
        "corr.columns = ['Correlations']\n",
        "sns.heatmap(corr,annot = True,cmap = 'rainbow',linewidths = 0.6,linecolor = 'black');\n",
        "plt.title('Correlation w.r.t Target variable');"
      ],
      "metadata": {
        "id": "CEr4JXUBp12C",
        "colab": {
          "base_uri": "https://localhost:8080/",
          "height": 281
        },
        "outputId": "6e374e14-631a-4e7a-dc14-d702c9d7999d"
      },
      "execution_count": null,
      "outputs": [
        {
          "output_type": "display_data",
          "data": {
            "text/plain": [
              "<Figure size 432x288 with 2 Axes>"
            ],
            "image/png": "[encoded data removed]"
          },
          "metadata": {
            "needs_background": "light"
          }
        }
      ]
    },
    {
      "cell_type": "markdown",
      "source": [
        "#Separating the dependent and independent variable\n",
        "\n",
        "  Any predictive mathematical model tends to divide the observations (data) into dependent/ independent features in order to determine the causal effect. It should be noted that relationship between dependent and independent variables need not be linear, it can be polynomial."
      ],
      "metadata": {
        "id": "lS5vyqcfp7-C"
      }
    },
    {
      "cell_type": "code",
      "source": [
        "#seperating the x and y variables\n",
        "x = df.drop('label', axis = 1) #independent features  \n",
        "#x = df.iloc[:,:-1]\n",
        "\n",
        "y = df['label'] #dependent features\n",
        "#y = df.iloc[:,-1]"
      ],
      "metadata": {
        "id": "n9YF6zT6p9zD"
      },
      "execution_count": 9,
      "outputs": []
    },
    {
      "cell_type": "code",
      "source": [
        "#defining a variable named column_name n giving it all the column names expect label\n",
        "column_name = ['time','acc_x', 'acc_y', 'acc_z', 'gyr_x', 'gyr_y', 'gyr_z', 'mag_x','mag_y', 'mag_z']"
      ],
      "metadata": {
        "id": "mXRHlWr3qFFm"
      },
      "execution_count": 10,
      "outputs": []
    },
    {
      "cell_type": "markdown",
      "source": [
        "#outliers\n",
        "\n",
        "  a value that \"lies outside\" (is much smaller or larger than) most of the other values in a set of data"
      ],
      "metadata": {
        "id": "LWvY9gwKqQ4D"
      }
    },
    {
      "cell_type": "code",
      "source": [
        "# Using a for loop inside a function to get the box plots(seaborn) of all the columns\n",
        "def identify_outliers(give_df_name, give_column_name):\n",
        "    for i in column_name:\n",
        "        fig = plt.figure(figsize=(6,8))\n",
        "        sns.boxplot(data = x, y = i)\n",
        "plt.show()"
      ],
      "metadata": {
        "id": "L8bNCmtXqSHE"
      },
      "execution_count": 11,
      "outputs": []
    },
    {
      "cell_type": "code",
      "source": [
        "identify_outliers(x, column_name)"
      ],
      "metadata": {
        "id": "xFrzJ9VxqXny",
        "colab": {
          "base_uri": "https://localhost:8080/",
          "height": 1000
        },
        "outputId": "debd37c8-549d-47df-9858-da8003956df6"
      },
      "execution_count": null,
      "outputs": [
        {
          "output_type": "display_data",
          "data": {
            "text/plain": [
              "<Figure size 432x576 with 1 Axes>"
            ],
            "image/png": "[encoded data removed]"
          },
          "metadata": {
            "needs_background": "light"
          }
        },
        {
          "output_type": "display_data",
          "data": {
            "text/plain": [
              "<Figure size 432x576 with 1 Axes>"
            ],
            "image/png": "[encoded data removed]"
          },
          "metadata": {
            "needs_background": "light"
          }
        },
        {
          "output_type": "display_data",
          "data": {
            "text/plain": [
              "<Figure size 432x576 with 1 Axes>"
            ],
            "image/png": "[encoded data removed]"
          },
          "metadata": {
            "needs_background": "light"
          }
        },
        {
          "output_type": "display_data",
          "data": {
            "text/plain": [
              "<Figure size 432x576 with 1 Axes>"
            ],
            "image/png": "[encoded data removed]"
          },
          "metadata": {
            "needs_background": "light"
          }
        },
        {
          "output_type": "display_data",
          "data": {
            "text/plain": [
              "<Figure size 432x576 with 1 Axes>"
            ],
            "image/png": "[encoded data removed]"
          },
          "metadata": {
            "needs_background": "light"
          }
        },
        {
          "output_type": "display_data",
          "data": {
            "text/plain": [
              "<Figure size 432x576 with 1 Axes>"
            ],
            "image/png": "[encoded data removed]"
          },
          "metadata": {
            "needs_background": "light"
          }
        },
        {
          "output_type": "display_data",
          "data": {
            "text/plain": [
              "<Figure size 432x576 with 1 Axes>"
            ],
            "image/png": "[encoded data removed]"
          },
          "metadata": {
            "needs_background": "light"
          }
        },
        {
          "output_type": "display_data",
          "data": {
            "text/plain": [
              "<Figure size 432x576 with 1 Axes>"
            ],
            "image/png": "[encoded data removed]"
          },
          "metadata": {
            "needs_background": "light"
          }
        },
        {
          "output_type": "display_data",
          "data": {
            "text/plain": [
              "<Figure size 432x576 with 1 Axes>"
            ],
            "image/png": "[encoded data removed]"
          },
          "metadata": {
            "needs_background": "light"
          }
        },
        {
          "output_type": "display_data",
          "data": {
            "text/plain": [
              "<Figure size 432x576 with 1 Axes>"
            ],
            "image/png": "[encoded data removed]"
          },
          "metadata": {
            "needs_background": "light"
          }
        }
      ]
    },
    {
      "cell_type": "markdown",
      "source": [
        "Replacing the outliers with meadian value"
      ],
      "metadata": {
        "id": "owcCZqvBqkNc"
      }
    },
    {
      "cell_type": "code",
      "source": [
        "# Using a for loop inside a function to replace the outliers with median value\n",
        "def replace_outlier(x, column_name):\n",
        "    for i in column_name:\n",
        "        print('column name : ',i)\n",
        "        Q1 = np.percentile(x[i], 25)\n",
        "        Q2 = np.percentile(x[i], 50)\n",
        "        Q3 = np.percentile(x[i], 75)\n",
        "        IQR = Q3 - Q1\n",
        "        print('Q1 =',Q1,'Q2 = ',Q2,'Q3 = ',Q3)\n",
        "\n",
        "        upper_val = Q3 + (1.5 * IQR)\n",
        "        print('upper', upper_val)\n",
        "        lower_val = Q1 - (1.5 * IQR)\n",
        "        print('lower', lower_val)\n",
        "\n",
        "        x.loc[x[i] > upper_val, i] = np.median(x[i])\n",
        "        x.loc[x[i] < lower_val, i] = np.median(x[i])\n",
        "        \n",
        "        fig = plt.figure(figsize = (6,8))\n",
        "        sns.boxplot(data = x,y = i)\n",
        "        plt.xticks(rotation = 'horizontal')\n",
        "        plt.show()"
      ],
      "metadata": {
        "id": "VSMcfhU9qlzJ"
      },
      "execution_count": null,
      "outputs": []
    },
    {
      "cell_type": "code",
      "source": [
        "replace_outlier(x, column_name)"
      ],
      "metadata": {
        "colab": {
          "base_uri": "https://localhost:8080/",
          "height": 1000
        },
        "id": "DynAPpXEqsaA",
        "outputId": "a8305922-0352-4c52-9e29-ee2e99286107"
      },
      "execution_count": null,
      "outputs": [
        {
          "output_type": "stream",
          "name": "stdout",
          "text": [
            "column name :  time\n",
            "Q1 = 1628115313.0 Q2 =  1628312968.0 Q3 =  1628336209.0\n",
            "upper 1628667553.0\n",
            "lower 1627783969.0\n"
          ]
        },
        {
          "output_type": "display_data",
          "data": {
            "text/plain": [
              "<Figure size 432x576 with 1 Axes>"
            ],
            "image/png": "[encoded data removed]"
          },
          "metadata": {
            "needs_background": "light"
          }
        },
        {
          "output_type": "stream",
          "name": "stdout",
          "text": [
            "column name :  acc_x\n",
            "Q1 = -0.2192383 Q2 =  -0.0576172 Q3 =  0.0878906\n",
            "upper 0.54858395\n",
            "lower -0.67993165\n"
          ]
        },
        {
          "output_type": "display_data",
          "data": {
            "text/plain": [
              "<Figure size 432x576 with 1 Axes>"
            ],
            "image/png": "[encoded data removed]"
          },
          "metadata": {
            "needs_background": "light"
          }
        },
        {
          "output_type": "stream",
          "name": "stdout",
          "text": [
            "column name :  acc_y\n",
            "Q1 = 0.8061524 Q2 =  0.9365235 Q3 =  0.975586\n",
            "upper 1.2297364\n",
            "lower 0.5520020000000001\n"
          ]
        },
        {
          "output_type": "display_data",
          "data": {
            "text/plain": [
              "<Figure size 432x576 with 1 Axes>"
            ],
            "image/png": "[encoded data removed]"
          },
          "metadata": {
            "needs_background": "light"
          }
        },
        {
          "output_type": "stream",
          "name": "stdout",
          "text": [
            "column name :  acc_z\n",
            "Q1 = 0.0512695 Q2 =  0.1342773 Q3 =  0.2114258\n",
            "upper 0.45166025\n",
            "lower -0.18896495\n"
          ]
        },
        {
          "output_type": "display_data",
          "data": {
            "text/plain": [
              "<Figure size 432x576 with 1 Axes>"
            ],
            "image/png": "[encoded data removed]"
          },
          "metadata": {
            "needs_background": "light"
          }
        },
        {
          "output_type": "stream",
          "name": "stdout",
          "text": [
            "column name :  gyr_x\n",
            "Q1 = -2.3193359 Q2 =  0.8544921999999998 Q3 =  3.90625\n",
            "upper 13.244628850000002\n",
            "lower -11.657714750000002\n"
          ]
        },
        {
          "output_type": "display_data",
          "data": {
            "text/plain": [
              "<Figure size 432x576 with 1 Axes>"
            ],
            "image/png": "[encoded data removed]"
          },
          "metadata": {
            "needs_background": "light"
          }
        },
        {
          "output_type": "stream",
          "name": "stdout",
          "text": [
            "column name :  gyr_y\n",
            "Q1 = -6.4697265 Q2 =  -1.8920898 Q3 =  2.6245117\n",
            "upper 16.265869\n",
            "lower -20.1110838\n"
          ]
        },
        {
          "output_type": "display_data",
          "data": {
            "text/plain": [
              "<Figure size 432x576 with 1 Axes>"
            ],
            "image/png": "[encoded data removed]"
          },
          "metadata": {
            "needs_background": "light"
          }
        },
        {
          "output_type": "stream",
          "name": "stdout",
          "text": [
            "column name :  gyr_z\n",
            "Q1 = -2.9907227 Q2 =  -0.6103516 Q3 =  1.7700195\n",
            "upper 8.9111328\n",
            "lower -10.131836\n"
          ]
        },
        {
          "output_type": "display_data",
          "data": {
            "text/plain": [
              "<Figure size 432x576 with 1 Axes>"
            ],
            "image/png": "[encoded data removed]"
          },
          "metadata": {
            "needs_background": "light"
          }
        },
        {
          "output_type": "stream",
          "name": "stdout",
          "text": [
            "column name :  mag_x\n",
            "Q1 = -393.0 Q2 =  -232.5 Q3 =  -120.0\n",
            "upper 289.5\n",
            "lower -802.5\n"
          ]
        },
        {
          "output_type": "display_data",
          "data": {
            "text/plain": [
              "<Figure size 432x576 with 1 Axes>"
            ],
            "image/png": "[encoded data removed]"
          },
          "metadata": {
            "needs_background": "light"
          }
        },
        {
          "output_type": "stream",
          "name": "stdout",
          "text": [
            "column name :  mag_y\n",
            "Q1 = -133.5 Q2 =  120.0 Q3 =  927.0\n",
            "upper 2517.75\n",
            "lower -1724.25\n"
          ]
        },
        {
          "output_type": "display_data",
          "data": {
            "text/plain": [
              "<Figure size 432x576 with 1 Axes>"
            ],
            "image/png": "[encoded data removed]"
          },
          "metadata": {
            "needs_background": "light"
          }
        },
        {
          "output_type": "stream",
          "name": "stdout",
          "text": [
            "column name :  mag_z\n",
            "Q1 = 58.5 Q2 =  270.0 Q3 =  498.0\n",
            "upper 1157.25\n",
            "lower -600.75\n"
          ]
        },
        {
          "output_type": "display_data",
          "data": {
            "text/plain": [
              "<Figure size 432x576 with 1 Axes>"
            ],
            "image/png": "[encoded data removed]"
          },
          "metadata": {
            "needs_background": "light"
          }
        }
      ]
    },
    {
      "cell_type": "markdown",
      "source": [
        "looking for outliers after imputing with media"
      ],
      "metadata": {
        "id": "UFmhLicWq5jY"
      }
    },
    {
      "cell_type": "code",
      "source": [
        "identify_outliers(x, column_name)"
      ],
      "metadata": {
        "id": "-z8H1o-bq6VZ",
        "colab": {
          "base_uri": "https://localhost:8080/",
          "height": 1000
        },
        "outputId": "7a839548-efaf-4a72-ee76-e78f2817cb8d"
      },
      "execution_count": null,
      "outputs": [
        {
          "output_type": "display_data",
          "data": {
            "text/plain": [
              "<Figure size 432x576 with 1 Axes>"
            ],
            "image/png": "[encoded data removed]"
          },
          "metadata": {
            "needs_background": "light"
          }
        },
        {
          "output_type": "display_data",
          "data": {
            "text/plain": [
              "<Figure size 432x576 with 1 Axes>"
            ],
            "image/png": "[encoded data removed]"
          },
          "metadata": {
            "needs_background": "light"
          }
        },
        {
          "output_type": "display_data",
          "data": {
            "text/plain": [
              "<Figure size 432x576 with 1 Axes>"
            ],
            "image/png": "[encoded data removed]"
          },
          "metadata": {
            "needs_background": "light"
          }
        },
        {
          "output_type": "display_data",
          "data": {
            "text/plain": [
              "<Figure size 432x576 with 1 Axes>"
            ],
            "image/png": "[encoded data removed]"
          },
          "metadata": {
            "needs_background": "light"
          }
        },
        {
          "output_type": "display_data",
          "data": {
            "text/plain": [
              "<Figure size 432x576 with 1 Axes>"
            ],
            "image/png": "[encoded data removed]"
          },
          "metadata": {
            "needs_background": "light"
          }
        },
        {
          "output_type": "display_data",
          "data": {
            "text/plain": [
              "<Figure size 432x576 with 1 Axes>"
            ],
            "image/png": "[encoded data removed]"
          },
          "metadata": {
            "needs_background": "light"
          }
        },
        {
          "output_type": "display_data",
          "data": {
            "text/plain": [
              "<Figure size 432x576 with 1 Axes>"
            ],
            "image/png": "[encoded data removed]"
          },
          "metadata": {
            "needs_background": "light"
          }
        },
        {
          "output_type": "display_data",
          "data": {
            "text/plain": [
              "<Figure size 432x576 with 1 Axes>"
            ],
            "image/png": "[encoded data removed]"
          },
          "metadata": {
            "needs_background": "light"
          }
        },
        {
          "output_type": "display_data",
          "data": {
            "text/plain": [
              "<Figure size 432x576 with 1 Axes>"
            ],
            "image/png": "[encoded data removed]"
          },
          "metadata": {
            "needs_background": "light"
          }
        },
        {
          "output_type": "display_data",
          "data": {
            "text/plain": [
              "<Figure size 432x576 with 1 Axes>"
            ],
            "image/png": "[encoded data removed]"
          },
          "metadata": {
            "needs_background": "light"
          }
        }
      ]
    },
    {
      "cell_type": "markdown",
      "source": [
        "Outliers are now imputed with the median value"
      ],
      "metadata": {
        "id": "Idj2Ip2TrLkZ"
      }
    },
    {
      "cell_type": "markdown",
      "source": [
        "#Normalization\n",
        "\n",
        "Normalization is the process to eliminate data redundancy and enhance data integrity in the table "
      ],
      "metadata": {
        "id": "sISTuV_KrSRB"
      }
    },
    {
      "cell_type": "code",
      "source": [
        "from sklearn.preprocessing import MinMaxScaler\n",
        "scaling = MinMaxScaler()\n",
        "scaling.fit_transform(x)"
      ],
      "metadata": {
        "colab": {
          "base_uri": "https://localhost:8080/"
        },
        "id": "a8NuXkYArUCk",
        "outputId": "4a819796-c05d-4b3d-fbda-6496921564f9"
      },
      "execution_count": 12,
      "outputs": [
        {
          "output_type": "execute_result",
          "data": {
            "text/plain": [
              "array([[0.03725611, 0.59633872, 0.56924942, ..., 0.43326886, 0.83820565,\n",
              "        0.71428571],\n",
              "       [0.03725611, 0.59821725, 0.57036414, ..., 0.43262411, 0.83366935,\n",
              "        0.70656371],\n",
              "       [0.03725611, 0.60446057, 0.56854539, ..., 0.44036106, 0.83215726,\n",
              "        0.7020592 ],\n",
              "       ...,\n",
              "       [0.93311879, 0.61475561, 0.56283491, ..., 0.39200516, 0.65272177,\n",
              "        0.58880309],\n",
              "       [0.93311879, 0.61477402, 0.56320648, ..., 0.3926499 , 0.66078629,\n",
              "        0.57657658],\n",
              "       [0.93311879, 0.61475561, 0.56283491, ..., 0.38233398, 0.6577621 ,\n",
              "        0.57722008]])"
            ]
          },
          "metadata": {},
          "execution_count": 12
        }
      ]
    },
    {
      "cell_type": "code",
      "source": [
        "x_normalized = pd.DataFrame(scaling.fit_transform(x))\n",
        "x_normalized.head(3)"
      ],
      "metadata": {
        "colab": {
          "base_uri": "https://localhost:8080/",
          "height": 143
        },
        "id": "XTFJSeRorX3u",
        "outputId": "ebdac27c-9680-469b-acc6-c05b753ab15f"
      },
      "execution_count": 13,
      "outputs": [
        {
          "output_type": "execute_result",
          "data": {
            "text/plain": [
              "          0         1         2         3         4         5         6  \\\n",
              "0  0.037256  0.596339  0.569249  0.509929  0.501984  0.488189  0.534097   \n",
              "1  0.037256  0.598217  0.570364  0.509105  0.500076  0.487148  0.533806   \n",
              "2  0.037256  0.604461  0.568545  0.506632  0.497696  0.487684  0.532416   \n",
              "\n",
              "          7         8         9  \n",
              "0  0.433269  0.838206  0.714286  \n",
              "1  0.432624  0.833669  0.706564  \n",
              "2  0.440361  0.832157  0.702059  "
            ],
            "text/html": [
              "\n",
              "  <div id=\"df-f8083bde-9393-4040-9e0e-e5ee9a98f539\">\n",
              "    <div class=\"colab-df-container\">\n",
              "      <div>\n",
              "<style scoped>\n",
              "    .dataframe tbody tr th:only-of-type {\n",
              "        vertical-align: middle;\n",
              "    }\n",
              "\n",
              "    .dataframe tbody tr th {\n",
              "        vertical-align: top;\n",
              "    }\n",
              "\n",
              "    .dataframe thead th {\n",
              "        text-align: right;\n",
              "    }\n",
              "</style>\n",
              "<table border=\"1\" class=\"dataframe\">\n",
              "  <thead>\n",
              "    <tr style=\"text-align: right;\">\n",
              "      <th></th>\n",
              "      <th>0</th>\n",
              "      <th>1</th>\n",
              "      <th>2</th>\n",
              "      <th>3</th>\n",
              "      <th>4</th>\n",
              "      <th>5</th>\n",
              "      <th>6</th>\n",
              "      <th>7</th>\n",
              "      <th>8</th>\n",
              "      <th>9</th>\n",
              "    </tr>\n",
              "  </thead>\n",
              "  <tbody>\n",
              "    <tr>\n",
              "      <th>0</th>\n",
              "      <td>0.037256</td>\n",
              "      <td>0.596339</td>\n",
              "      <td>0.569249</td>\n",
              "      <td>0.509929</td>\n",
              "      <td>0.501984</td>\n",
              "      <td>0.488189</td>\n",
              "      <td>0.534097</td>\n",
              "      <td>0.433269</td>\n",
              "      <td>0.838206</td>\n",
              "      <td>0.714286</td>\n",
              "    </tr>\n",
              "    <tr>\n",
              "      <th>1</th>\n",
              "      <td>0.037256</td>\n",
              "      <td>0.598217</td>\n",
              "      <td>0.570364</td>\n",
              "      <td>0.509105</td>\n",
              "      <td>0.500076</td>\n",
              "      <td>0.487148</td>\n",
              "      <td>0.533806</td>\n",
              "      <td>0.432624</td>\n",
              "      <td>0.833669</td>\n",
              "      <td>0.706564</td>\n",
              "    </tr>\n",
              "    <tr>\n",
              "      <th>2</th>\n",
              "      <td>0.037256</td>\n",
              "      <td>0.604461</td>\n",
              "      <td>0.568545</td>\n",
              "      <td>0.506632</td>\n",
              "      <td>0.497696</td>\n",
              "      <td>0.487684</td>\n",
              "      <td>0.532416</td>\n",
              "      <td>0.440361</td>\n",
              "      <td>0.832157</td>\n",
              "      <td>0.702059</td>\n",
              "    </tr>\n",
              "  </tbody>\n",
              "</table>\n",
              "</div>\n",
              "      <button class=\"colab-df-convert\" onclick=\"convertToInteractive('df-f8083bde-9393-4040-9e0e-e5ee9a98f539')\"\n",
              "              title=\"Convert this dataframe to an interactive table.\"\n",
              "              style=\"display:none;\">\n",
              "        \n",
              "  <svg xmlns=\"http://www.w3.org/2000/svg\" height=\"24px\"viewBox=\"0 0 24 24\"\n",
              "       width=\"24px\">\n",
              "    <path d=\"M0 0h24v24H0V0z\" fill=\"none\"/>\n",
              "    <path d=\"M18.56 5.44l.94 2.06.94-2.06 2.06-.94-2.06-.94-.94-2.06-.94 2.06-2.06.94zm-11 1L8.5 8.5l.94-2.06 2.06-.94-2.06-.94L8.5 2.5l-.94 2.06-2.06.94zm10 10l.94 2.06.94-2.06 2.06-.94-2.06-.94-.94-2.06-.94 2.06-2.06.94z\"/><path d=\"M17.41 7.96l-1.37-1.37c-.4-.4-.92-.59-1.43-.59-.52 0-1.04.2-1.43.59L10.3 9.45l-7.72 7.72c-.78.78-.78 2.05 0 2.83L4 21.41c.39.39.9.59 1.41.59.51 0 1.02-.2 1.41-.59l7.78-7.78 2.81-2.81c.8-.78.8-2.07 0-2.86zM5.41 20L4 18.59l7.72-7.72 1.47 1.35L5.41 20z\"/>\n",
              "  </svg>\n",
              "      </button>\n",
              "      \n",
              "  <style>\n",
              "    .colab-df-container {\n",
              "      display:flex;\n",
              "      flex-wrap:wrap;\n",
              "      gap: 12px;\n",
              "    }\n",
              "\n",
              "    .colab-df-convert {\n",
              "      background-color: #E8F0FE;\n",
              "      border: none;\n",
              "      border-radius: 50%;\n",
              "      cursor: pointer;\n",
              "      display: none;\n",
              "      fill: #1967D2;\n",
              "      height: 32px;\n",
              "      padding: 0 0 0 0;\n",
              "      width: 32px;\n",
              "    }\n",
              "\n",
              "    .colab-df-convert:hover {\n",
              "      background-color: #E2EBFA;\n",
              "      box-shadow: 0px 1px 2px rgba(60, 64, 67, 0.3), 0px 1px 3px 1px rgba(60, 64, 67, 0.15);\n",
              "      fill: #174EA6;\n",
              "    }\n",
              "\n",
              "    [theme=dark] .colab-df-convert {\n",
              "      background-color: #3B4455;\n",
              "      fill: #D2E3FC;\n",
              "    }\n",
              "\n",
              "    [theme=dark] .colab-df-convert:hover {\n",
              "      background-color: #434B5C;\n",
              "      box-shadow: 0px 1px 3px 1px rgba(0, 0, 0, 0.15);\n",
              "      filter: drop-shadow(0px 1px 2px rgba(0, 0, 0, 0.3));\n",
              "      fill: #FFFFFF;\n",
              "    }\n",
              "  </style>\n",
              "\n",
              "      <script>\n",
              "        const buttonEl =\n",
              "          document.querySelector('#df-f8083bde-9393-4040-9e0e-e5ee9a98f539 button.colab-df-convert');\n",
              "        buttonEl.style.display =\n",
              "          google.colab.kernel.accessAllowed ? 'block' : 'none';\n",
              "\n",
              "        async function convertToInteractive(key) {\n",
              "          const element = document.querySelector('#df-f8083bde-9393-4040-9e0e-e5ee9a98f539');\n",
              "          const dataTable =\n",
              "            await google.colab.kernel.invokeFunction('convertToInteractive',\n",
              "                                                     [key], {});\n",
              "          if (!dataTable) return;\n",
              "\n",
              "          const docLinkHtml = 'Like what you see? Visit the ' +\n",
              "            '<a target=\"_blank\" href=https://colab.research.google.com/notebooks/data_table.ipynb>data table notebook</a>'\n",
              "            + ' to learn more about interactive tables.';\n",
              "          element.innerHTML = '';\n",
              "          dataTable['output_type'] = 'display_data';\n",
              "          await google.colab.output.renderOutput(dataTable, element);\n",
              "          const docLink = document.createElement('div');\n",
              "          docLink.innerHTML = docLinkHtml;\n",
              "          element.appendChild(docLink);\n",
              "        }\n",
              "      </script>\n",
              "    </div>\n",
              "  </div>\n",
              "  "
            ]
          },
          "metadata": {},
          "execution_count": 13
        }
      ]
    },
    {
      "cell_type": "code",
      "source": [
        "x_normalized = pd.DataFrame(scaling.fit_transform(x),columns = x.columns)\n",
        "x_normalized.head(3)"
      ],
      "metadata": {
        "colab": {
          "base_uri": "https://localhost:8080/",
          "height": 143
        },
        "id": "en_rwIM2txI8",
        "outputId": "f5df8508-1493-4f10-e44d-5464803de1a5"
      },
      "execution_count": 14,
      "outputs": [
        {
          "output_type": "execute_result",
          "data": {
            "text/plain": [
              "       time     acc_x     acc_y     acc_z     gyr_x     gyr_y     gyr_z  \\\n",
              "0  0.037256  0.596339  0.569249  0.509929  0.501984  0.488189  0.534097   \n",
              "1  0.037256  0.598217  0.570364  0.509105  0.500076  0.487148  0.533806   \n",
              "2  0.037256  0.604461  0.568545  0.506632  0.497696  0.487684  0.532416   \n",
              "\n",
              "      mag_x     mag_y     mag_z  \n",
              "0  0.433269  0.838206  0.714286  \n",
              "1  0.432624  0.833669  0.706564  \n",
              "2  0.440361  0.832157  0.702059  "
            ],
            "text/html": [
              "\n",
              "  <div id=\"df-738d3aa9-d4b0-4bb3-a7d7-f440db163533\">\n",
              "    <div class=\"colab-df-container\">\n",
              "      <div>\n",
              "<style scoped>\n",
              "    .dataframe tbody tr th:only-of-type {\n",
              "        vertical-align: middle;\n",
              "    }\n",
              "\n",
              "    .dataframe tbody tr th {\n",
              "        vertical-align: top;\n",
              "    }\n",
              "\n",
              "    .dataframe thead th {\n",
              "        text-align: right;\n",
              "    }\n",
              "</style>\n",
              "<table border=\"1\" class=\"dataframe\">\n",
              "  <thead>\n",
              "    <tr style=\"text-align: right;\">\n",
              "      <th></th>\n",
              "      <th>time</th>\n",
              "      <th>acc_x</th>\n",
              "      <th>acc_y</th>\n",
              "      <th>acc_z</th>\n",
              "      <th>gyr_x</th>\n",
              "      <th>gyr_y</th>\n",
              "      <th>gyr_z</th>\n",
              "      <th>mag_x</th>\n",
              "      <th>mag_y</th>\n",
              "      <th>mag_z</th>\n",
              "    </tr>\n",
              "  </thead>\n",
              "  <tbody>\n",
              "    <tr>\n",
              "      <th>0</th>\n",
              "      <td>0.037256</td>\n",
              "      <td>0.596339</td>\n",
              "      <td>0.569249</td>\n",
              "      <td>0.509929</td>\n",
              "      <td>0.501984</td>\n",
              "      <td>0.488189</td>\n",
              "      <td>0.534097</td>\n",
              "      <td>0.433269</td>\n",
              "      <td>0.838206</td>\n",
              "      <td>0.714286</td>\n",
              "    </tr>\n",
              "    <tr>\n",
              "      <th>1</th>\n",
              "      <td>0.037256</td>\n",
              "      <td>0.598217</td>\n",
              "      <td>0.570364</td>\n",
              "      <td>0.509105</td>\n",
              "      <td>0.500076</td>\n",
              "      <td>0.487148</td>\n",
              "      <td>0.533806</td>\n",
              "      <td>0.432624</td>\n",
              "      <td>0.833669</td>\n",
              "      <td>0.706564</td>\n",
              "    </tr>\n",
              "    <tr>\n",
              "      <th>2</th>\n",
              "      <td>0.037256</td>\n",
              "      <td>0.604461</td>\n",
              "      <td>0.568545</td>\n",
              "      <td>0.506632</td>\n",
              "      <td>0.497696</td>\n",
              "      <td>0.487684</td>\n",
              "      <td>0.532416</td>\n",
              "      <td>0.440361</td>\n",
              "      <td>0.832157</td>\n",
              "      <td>0.702059</td>\n",
              "    </tr>\n",
              "  </tbody>\n",
              "</table>\n",
              "</div>\n",
              "      <button class=\"colab-df-convert\" onclick=\"convertToInteractive('df-738d3aa9-d4b0-4bb3-a7d7-f440db163533')\"\n",
              "              title=\"Convert this dataframe to an interactive table.\"\n",
              "              style=\"display:none;\">\n",
              "        \n",
              "  <svg xmlns=\"http://www.w3.org/2000/svg\" height=\"24px\"viewBox=\"0 0 24 24\"\n",
              "       width=\"24px\">\n",
              "    <path d=\"M0 0h24v24H0V0z\" fill=\"none\"/>\n",
              "    <path d=\"M18.56 5.44l.94 2.06.94-2.06 2.06-.94-2.06-.94-.94-2.06-.94 2.06-2.06.94zm-11 1L8.5 8.5l.94-2.06 2.06-.94-2.06-.94L8.5 2.5l-.94 2.06-2.06.94zm10 10l.94 2.06.94-2.06 2.06-.94-2.06-.94-.94-2.06-.94 2.06-2.06.94z\"/><path d=\"M17.41 7.96l-1.37-1.37c-.4-.4-.92-.59-1.43-.59-.52 0-1.04.2-1.43.59L10.3 9.45l-7.72 7.72c-.78.78-.78 2.05 0 2.83L4 21.41c.39.39.9.59 1.41.59.51 0 1.02-.2 1.41-.59l7.78-7.78 2.81-2.81c.8-.78.8-2.07 0-2.86zM5.41 20L4 18.59l7.72-7.72 1.47 1.35L5.41 20z\"/>\n",
              "  </svg>\n",
              "      </button>\n",
              "      \n",
              "  <style>\n",
              "    .colab-df-container {\n",
              "      display:flex;\n",
              "      flex-wrap:wrap;\n",
              "      gap: 12px;\n",
              "    }\n",
              "\n",
              "    .colab-df-convert {\n",
              "      background-color: #E8F0FE;\n",
              "      border: none;\n",
              "      border-radius: 50%;\n",
              "      cursor: pointer;\n",
              "      display: none;\n",
              "      fill: #1967D2;\n",
              "      height: 32px;\n",
              "      padding: 0 0 0 0;\n",
              "      width: 32px;\n",
              "    }\n",
              "\n",
              "    .colab-df-convert:hover {\n",
              "      background-color: #E2EBFA;\n",
              "      box-shadow: 0px 1px 2px rgba(60, 64, 67, 0.3), 0px 1px 3px 1px rgba(60, 64, 67, 0.15);\n",
              "      fill: #174EA6;\n",
              "    }\n",
              "\n",
              "    [theme=dark] .colab-df-convert {\n",
              "      background-color: #3B4455;\n",
              "      fill: #D2E3FC;\n",
              "    }\n",
              "\n",
              "    [theme=dark] .colab-df-convert:hover {\n",
              "      background-color: #434B5C;\n",
              "      box-shadow: 0px 1px 3px 1px rgba(0, 0, 0, 0.15);\n",
              "      filter: drop-shadow(0px 1px 2px rgba(0, 0, 0, 0.3));\n",
              "      fill: #FFFFFF;\n",
              "    }\n",
              "  </style>\n",
              "\n",
              "      <script>\n",
              "        const buttonEl =\n",
              "          document.querySelector('#df-738d3aa9-d4b0-4bb3-a7d7-f440db163533 button.colab-df-convert');\n",
              "        buttonEl.style.display =\n",
              "          google.colab.kernel.accessAllowed ? 'block' : 'none';\n",
              "\n",
              "        async function convertToInteractive(key) {\n",
              "          const element = document.querySelector('#df-738d3aa9-d4b0-4bb3-a7d7-f440db163533');\n",
              "          const dataTable =\n",
              "            await google.colab.kernel.invokeFunction('convertToInteractive',\n",
              "                                                     [key], {});\n",
              "          if (!dataTable) return;\n",
              "\n",
              "          const docLinkHtml = 'Like what you see? Visit the ' +\n",
              "            '<a target=\"_blank\" href=https://colab.research.google.com/notebooks/data_table.ipynb>data table notebook</a>'\n",
              "            + ' to learn more about interactive tables.';\n",
              "          element.innerHTML = '';\n",
              "          dataTable['output_type'] = 'display_data';\n",
              "          await google.colab.output.renderOutput(dataTable, element);\n",
              "          const docLink = document.createElement('div');\n",
              "          docLink.innerHTML = docLinkHtml;\n",
              "          element.appendChild(docLink);\n",
              "        }\n",
              "      </script>\n",
              "    </div>\n",
              "  </div>\n",
              "  "
            ]
          },
          "metadata": {},
          "execution_count": 14
        }
      ]
    },
    {
      "cell_type": "markdown",
      "source": [
        "#Feature Selection\n",
        "\n",
        "Selecting KBest Features using chi2\n",
        "\n",
        "we aim to select the features which are highly dependent on the response. "
      ],
      "metadata": {
        "id": "cdcOas4Vt2SS"
      }
    },
    {
      "cell_type": "code",
      "source": [
        "#select k best\n",
        "from sklearn.feature_selection import SelectKBest\n",
        "from sklearn.feature_selection import chi2"
      ],
      "metadata": {
        "id": "-3lFGunBt6IY"
      },
      "execution_count": 15,
      "outputs": []
    },
    {
      "cell_type": "code",
      "source": [
        "#ranking the features\n",
        "select_k_best_rank_features = SelectKBest(score_func = chi2, k = 5)\n",
        "k_best_features = select_k_best_rank_features.fit(x_normalized,y)\n",
        "\n",
        "df_k_scores = pd.DataFrame(k_best_features.scores_, columns = ['score'])\n",
        "dfcolumns = pd.DataFrame(x_normalized.columns)\n",
        "\n",
        "k_best_feature_rank = pd.concat([dfcolumns, df_k_scores], axis = 1)\n",
        "\n",
        "k_best_feature_rank.columns = ('features', 'k_score')\n",
        "print(k_best_feature_rank.nlargest(6, 'k_score'))"
      ],
      "metadata": {
        "id": "CpaGxbTat9Ig",
        "colab": {
          "base_uri": "https://localhost:8080/"
        },
        "outputId": "e301d3ad-edc3-4aed-8569-98dfdba75064"
      },
      "execution_count": 16,
      "outputs": [
        {
          "output_type": "stream",
          "name": "stdout",
          "text": [
            "  features        k_score\n",
            "0     time  369291.876210\n",
            "8    mag_y   84705.496364\n",
            "7    mag_x   44704.675721\n",
            "9    mag_z    5699.859296\n",
            "2    acc_y     787.746265\n",
            "1    acc_x     318.969470\n"
          ]
        }
      ]
    },
    {
      "cell_type": "markdown",
      "source": [
        "From chi2 we see that the top 6 features are time, acc_x, mag_x, mag_y, acc_z, acc_y"
      ],
      "metadata": {
        "id": "yfvBzZMiuGdj"
      }
    },
    {
      "cell_type": "code",
      "source": [
        "new_df = x_normalized\n",
        "new_df['label'] = y.values\n",
        "new_df"
      ],
      "metadata": {
        "id": "ZPQchqw4u89i",
        "colab": {
          "base_uri": "https://localhost:8080/",
          "height": 424
        },
        "outputId": "22b29e51-8a19-4d2a-bc09-a73f51cc2115"
      },
      "execution_count": 17,
      "outputs": [
        {
          "output_type": "execute_result",
          "data": {
            "text/plain": [
              "              time     acc_x     acc_y     acc_z     gyr_x     gyr_y  \\\n",
              "0         0.037256  0.596339  0.569249  0.509929  0.501984  0.488189   \n",
              "1         0.037256  0.598217  0.570364  0.509105  0.500076  0.487148   \n",
              "2         0.037256  0.604461  0.568545  0.506632  0.497696  0.487684   \n",
              "3         0.037256  0.609120  0.564830  0.506342  0.496124  0.490470   \n",
              "4         0.037256  0.609857  0.561720  0.507609  0.499985  0.491373   \n",
              "...            ...       ...       ...       ...       ...       ...   \n",
              "12038234  0.933119  0.614590  0.562737  0.509059  0.500000  0.497864   \n",
              "12038235  0.933119  0.614664  0.563011  0.509090  0.500153  0.497696   \n",
              "12038236  0.933119  0.614756  0.562835  0.509120  0.500259  0.497665   \n",
              "12038237  0.933119  0.614774  0.563206  0.508784  0.500504  0.497635   \n",
              "12038238  0.933119  0.614756  0.562835  0.508922  0.500229  0.497772   \n",
              "\n",
              "             gyr_z     mag_x     mag_y     mag_z  label  \n",
              "0         0.534097  0.433269  0.838206  0.714286      2  \n",
              "1         0.533806  0.432624  0.833669  0.706564      2  \n",
              "2         0.532416  0.440361  0.832157  0.702059      2  \n",
              "3         0.530897  0.431979  0.835181  0.707207      2  \n",
              "4         0.528876  0.433269  0.832661  0.711068      2  \n",
              "...            ...       ...       ...       ...    ...  \n",
              "12038234  0.530525  0.382979  0.651210  0.581081      4  \n",
              "12038235  0.530267  0.385558  0.658770  0.586873      4  \n",
              "12038236  0.530412  0.392005  0.652722  0.588803      4  \n",
              "12038237  0.530557  0.392650  0.660786  0.576577      4  \n",
              "12038238  0.530347  0.382334  0.657762  0.577220      4  \n",
              "\n",
              "[12038239 rows x 11 columns]"
            ],
            "text/html": [
              "\n",
              "  <div id=\"df-ffe17f4e-0d9d-469d-98b8-f462ab3301d2\">\n",
              "    <div class=\"colab-df-container\">\n",
              "      <div>\n",
              "<style scoped>\n",
              "    .dataframe tbody tr th:only-of-type {\n",
              "        vertical-align: middle;\n",
              "    }\n",
              "\n",
              "    .dataframe tbody tr th {\n",
              "        vertical-align: top;\n",
              "    }\n",
              "\n",
              "    .dataframe thead th {\n",
              "        text-align: right;\n",
              "    }\n",
              "</style>\n",
              "<table border=\"1\" class=\"dataframe\">\n",
              "  <thead>\n",
              "    <tr style=\"text-align: right;\">\n",
              "      <th></th>\n",
              "      <th>time</th>\n",
              "      <th>acc_x</th>\n",
              "      <th>acc_y</th>\n",
              "      <th>acc_z</th>\n",
              "      <th>gyr_x</th>\n",
              "      <th>gyr_y</th>\n",
              "      <th>gyr_z</th>\n",
              "      <th>mag_x</th>\n",
              "      <th>mag_y</th>\n",
              "      <th>mag_z</th>\n",
              "      <th>label</th>\n",
              "    </tr>\n",
              "  </thead>\n",
              "  <tbody>\n",
              "    <tr>\n",
              "      <th>0</th>\n",
              "      <td>0.037256</td>\n",
              "      <td>0.596339</td>\n",
              "      <td>0.569249</td>\n",
              "      <td>0.509929</td>\n",
              "      <td>0.501984</td>\n",
              "      <td>0.488189</td>\n",
              "      <td>0.534097</td>\n",
              "      <td>0.433269</td>\n",
              "      <td>0.838206</td>\n",
              "      <td>0.714286</td>\n",
              "      <td>2</td>\n",
              "    </tr>\n",
              "    <tr>\n",
              "      <th>1</th>\n",
              "      <td>0.037256</td>\n",
              "      <td>0.598217</td>\n",
              "      <td>0.570364</td>\n",
              "      <td>0.509105</td>\n",
              "      <td>0.500076</td>\n",
              "      <td>0.487148</td>\n",
              "      <td>0.533806</td>\n",
              "      <td>0.432624</td>\n",
              "      <td>0.833669</td>\n",
              "      <td>0.706564</td>\n",
              "      <td>2</td>\n",
              "    </tr>\n",
              "    <tr>\n",
              "      <th>2</th>\n",
              "      <td>0.037256</td>\n",
              "      <td>0.604461</td>\n",
              "      <td>0.568545</td>\n",
              "      <td>0.506632</td>\n",
              "      <td>0.497696</td>\n",
              "      <td>0.487684</td>\n",
              "      <td>0.532416</td>\n",
              "      <td>0.440361</td>\n",
              "      <td>0.832157</td>\n",
              "      <td>0.702059</td>\n",
              "      <td>2</td>\n",
              "    </tr>\n",
              "    <tr>\n",
              "      <th>3</th>\n",
              "      <td>0.037256</td>\n",
              "      <td>0.609120</td>\n",
              "      <td>0.564830</td>\n",
              "      <td>0.506342</td>\n",
              "      <td>0.496124</td>\n",
              "      <td>0.490470</td>\n",
              "      <td>0.530897</td>\n",
              "      <td>0.431979</td>\n",
              "      <td>0.835181</td>\n",
              "      <td>0.707207</td>\n",
              "      <td>2</td>\n",
              "    </tr>\n",
              "    <tr>\n",
              "      <th>4</th>\n",
              "      <td>0.037256</td>\n",
              "      <td>0.609857</td>\n",
              "      <td>0.561720</td>\n",
              "      <td>0.507609</td>\n",
              "      <td>0.499985</td>\n",
              "      <td>0.491373</td>\n",
              "      <td>0.528876</td>\n",
              "      <td>0.433269</td>\n",
              "      <td>0.832661</td>\n",
              "      <td>0.711068</td>\n",
              "      <td>2</td>\n",
              "    </tr>\n",
              "    <tr>\n",
              "      <th>...</th>\n",
              "      <td>...</td>\n",
              "      <td>...</td>\n",
              "      <td>...</td>\n",
              "      <td>...</td>\n",
              "      <td>...</td>\n",
              "      <td>...</td>\n",
              "      <td>...</td>\n",
              "      <td>...</td>\n",
              "      <td>...</td>\n",
              "      <td>...</td>\n",
              "      <td>...</td>\n",
              "    </tr>\n",
              "    <tr>\n",
              "      <th>12038234</th>\n",
              "      <td>0.933119</td>\n",
              "      <td>0.614590</td>\n",
              "      <td>0.562737</td>\n",
              "      <td>0.509059</td>\n",
              "      <td>0.500000</td>\n",
              "      <td>0.497864</td>\n",
              "      <td>0.530525</td>\n",
              "      <td>0.382979</td>\n",
              "      <td>0.651210</td>\n",
              "      <td>0.581081</td>\n",
              "      <td>4</td>\n",
              "    </tr>\n",
              "    <tr>\n",
              "      <th>12038235</th>\n",
              "      <td>0.933119</td>\n",
              "      <td>0.614664</td>\n",
              "      <td>0.563011</td>\n",
              "      <td>0.509090</td>\n",
              "      <td>0.500153</td>\n",
              "      <td>0.497696</td>\n",
              "      <td>0.530267</td>\n",
              "      <td>0.385558</td>\n",
              "      <td>0.658770</td>\n",
              "      <td>0.586873</td>\n",
              "      <td>4</td>\n",
              "    </tr>\n",
              "    <tr>\n",
              "      <th>12038236</th>\n",
              "      <td>0.933119</td>\n",
              "      <td>0.614756</td>\n",
              "      <td>0.562835</td>\n",
              "      <td>0.509120</td>\n",
              "      <td>0.500259</td>\n",
              "      <td>0.497665</td>\n",
              "      <td>0.530412</td>\n",
              "      <td>0.392005</td>\n",
              "      <td>0.652722</td>\n",
              "      <td>0.588803</td>\n",
              "      <td>4</td>\n",
              "    </tr>\n",
              "    <tr>\n",
              "      <th>12038237</th>\n",
              "      <td>0.933119</td>\n",
              "      <td>0.614774</td>\n",
              "      <td>0.563206</td>\n",
              "      <td>0.508784</td>\n",
              "      <td>0.500504</td>\n",
              "      <td>0.497635</td>\n",
              "      <td>0.530557</td>\n",
              "      <td>0.392650</td>\n",
              "      <td>0.660786</td>\n",
              "      <td>0.576577</td>\n",
              "      <td>4</td>\n",
              "    </tr>\n",
              "    <tr>\n",
              "      <th>12038238</th>\n",
              "      <td>0.933119</td>\n",
              "      <td>0.614756</td>\n",
              "      <td>0.562835</td>\n",
              "      <td>0.508922</td>\n",
              "      <td>0.500229</td>\n",
              "      <td>0.497772</td>\n",
              "      <td>0.530347</td>\n",
              "      <td>0.382334</td>\n",
              "      <td>0.657762</td>\n",
              "      <td>0.577220</td>\n",
              "      <td>4</td>\n",
              "    </tr>\n",
              "  </tbody>\n",
              "</table>\n",
              "<p>12038239 rows × 11 columns</p>\n",
              "</div>\n",
              "      <button class=\"colab-df-convert\" onclick=\"convertToInteractive('df-ffe17f4e-0d9d-469d-98b8-f462ab3301d2')\"\n",
              "              title=\"Convert this dataframe to an interactive table.\"\n",
              "              style=\"display:none;\">\n",
              "        \n",
              "  <svg xmlns=\"http://www.w3.org/2000/svg\" height=\"24px\"viewBox=\"0 0 24 24\"\n",
              "       width=\"24px\">\n",
              "    <path d=\"M0 0h24v24H0V0z\" fill=\"none\"/>\n",
              "    <path d=\"M18.56 5.44l.94 2.06.94-2.06 2.06-.94-2.06-.94-.94-2.06-.94 2.06-2.06.94zm-11 1L8.5 8.5l.94-2.06 2.06-.94-2.06-.94L8.5 2.5l-.94 2.06-2.06.94zm10 10l.94 2.06.94-2.06 2.06-.94-2.06-.94-.94-2.06-.94 2.06-2.06.94z\"/><path d=\"M17.41 7.96l-1.37-1.37c-.4-.4-.92-.59-1.43-.59-.52 0-1.04.2-1.43.59L10.3 9.45l-7.72 7.72c-.78.78-.78 2.05 0 2.83L4 21.41c.39.39.9.59 1.41.59.51 0 1.02-.2 1.41-.59l7.78-7.78 2.81-2.81c.8-.78.8-2.07 0-2.86zM5.41 20L4 18.59l7.72-7.72 1.47 1.35L5.41 20z\"/>\n",
              "  </svg>\n",
              "      </button>\n",
              "      \n",
              "  <style>\n",
              "    .colab-df-container {\n",
              "      display:flex;\n",
              "      flex-wrap:wrap;\n",
              "      gap: 12px;\n",
              "    }\n",
              "\n",
              "    .colab-df-convert {\n",
              "      background-color: #E8F0FE;\n",
              "      border: none;\n",
              "      border-radius: 50%;\n",
              "      cursor: pointer;\n",
              "      display: none;\n",
              "      fill: #1967D2;\n",
              "      height: 32px;\n",
              "      padding: 0 0 0 0;\n",
              "      width: 32px;\n",
              "    }\n",
              "\n",
              "    .colab-df-convert:hover {\n",
              "      background-color: #E2EBFA;\n",
              "      box-shadow: 0px 1px 2px rgba(60, 64, 67, 0.3), 0px 1px 3px 1px rgba(60, 64, 67, 0.15);\n",
              "      fill: #174EA6;\n",
              "    }\n",
              "\n",
              "    [theme=dark] .colab-df-convert {\n",
              "      background-color: #3B4455;\n",
              "      fill: #D2E3FC;\n",
              "    }\n",
              "\n",
              "    [theme=dark] .colab-df-convert:hover {\n",
              "      background-color: #434B5C;\n",
              "      box-shadow: 0px 1px 3px 1px rgba(0, 0, 0, 0.15);\n",
              "      filter: drop-shadow(0px 1px 2px rgba(0, 0, 0, 0.3));\n",
              "      fill: #FFFFFF;\n",
              "    }\n",
              "  </style>\n",
              "\n",
              "      <script>\n",
              "        const buttonEl =\n",
              "          document.querySelector('#df-ffe17f4e-0d9d-469d-98b8-f462ab3301d2 button.colab-df-convert');\n",
              "        buttonEl.style.display =\n",
              "          google.colab.kernel.accessAllowed ? 'block' : 'none';\n",
              "\n",
              "        async function convertToInteractive(key) {\n",
              "          const element = document.querySelector('#df-ffe17f4e-0d9d-469d-98b8-f462ab3301d2');\n",
              "          const dataTable =\n",
              "            await google.colab.kernel.invokeFunction('convertToInteractive',\n",
              "                                                     [key], {});\n",
              "          if (!dataTable) return;\n",
              "\n",
              "          const docLinkHtml = 'Like what you see? Visit the ' +\n",
              "            '<a target=\"_blank\" href=https://colab.research.google.com/notebooks/data_table.ipynb>data table notebook</a>'\n",
              "            + ' to learn more about interactive tables.';\n",
              "          element.innerHTML = '';\n",
              "          dataTable['output_type'] = 'display_data';\n",
              "          await google.colab.output.renderOutput(dataTable, element);\n",
              "          const docLink = document.createElement('div');\n",
              "          docLink.innerHTML = docLinkHtml;\n",
              "          element.appendChild(docLink);\n",
              "        }\n",
              "      </script>\n",
              "    </div>\n",
              "  </div>\n",
              "  "
            ]
          },
          "metadata": {},
          "execution_count": 17
        }
      ]
    },
    {
      "cell_type": "markdown",
      "source": [
        "#1 - df1 - Logistic Regression\n",
        "\n",
        "Logistic regression is a statistical analysis method to predict a binary outcome, such as yes or no, based on prior observations of a data set"
      ],
      "metadata": {
        "id": "uUqfkFTzvGPZ"
      }
    },
    {
      "cell_type": "code",
      "source": [
        "# taking a sample of 40,000\n",
        "import random\n",
        "df1 = new_df.sample(40000)\n",
        "df1.shape"
      ],
      "metadata": {
        "id": "wZna597avBb6",
        "colab": {
          "base_uri": "https://localhost:8080/"
        },
        "outputId": "2d83c359-ec91-4db4-e2bc-9d3640f4cdcc"
      },
      "execution_count": null,
      "outputs": [
        {
          "output_type": "execute_result",
          "data": {
            "text/plain": [
              "(40000, 11)"
            ]
          },
          "metadata": {},
          "execution_count": 30
        }
      ]
    },
    {
      "cell_type": "code",
      "source": [
        "df1['label'].value_counts()"
      ],
      "metadata": {
        "id": "eJjlLmRRvPpJ",
        "colab": {
          "base_uri": "https://localhost:8080/"
        },
        "outputId": "13c9b933-d368-4214-9342-448c72655b77"
      },
      "execution_count": null,
      "outputs": [
        {
          "output_type": "execute_result",
          "data": {
            "text/plain": [
              "6    11390\n",
              "1    11328\n",
              "4     8415\n",
              "5     5619\n",
              "9     1342\n",
              "8     1230\n",
              "3      487\n",
              "2      189\n",
              "Name: label, dtype: int64"
            ]
          },
          "metadata": {},
          "execution_count": 31
        }
      ]
    },
    {
      "cell_type": "code",
      "source": [
        "#distribution of sample df1\n",
        "plt.pie(df1['label'].value_counts(), autopct = '%1.1f%%');"
      ],
      "metadata": {
        "id": "vAFXSV7bvSoX",
        "colab": {
          "base_uri": "https://localhost:8080/",
          "height": 248
        },
        "outputId": "c16739fe-5c22-468d-feec-0a01a5e29f12"
      },
      "execution_count": null,
      "outputs": [
        {
          "output_type": "display_data",
          "data": {
            "text/plain": [
              "<Figure size 432x288 with 1 Axes>"
            ],
            "image/png": "[encoded data removed]"
          },
          "metadata": {}
        }
      ]
    },
    {
      "cell_type": "code",
      "source": [
        "!-pip intall spikit-plot"
      ],
      "metadata": {
        "colab": {
          "base_uri": "https://localhost:8080/"
        },
        "id": "rMHeEnlEG6yg",
        "outputId": "4007acbd-f77e-4e7b-9b8b-30c963de98e0"
      },
      "execution_count": null,
      "outputs": [
        {
          "output_type": "stream",
          "name": "stdout",
          "text": [
            "/bin/bash: - : invalid option\n",
            "Usage:\t/bin/bash [GNU long option] [option] ...\n",
            "\t/bin/bash [GNU long option] [option] script-file ...\n",
            "GNU long options:\n",
            "\t--debug\n",
            "\t--debugger\n",
            "\t--dump-po-strings\n",
            "\t--dump-strings\n",
            "\t--help\n",
            "\t--init-file\n",
            "\t--login\n",
            "\t--noediting\n",
            "\t--noprofile\n",
            "\t--norc\n",
            "\t--posix\n",
            "\t--rcfile\n",
            "\t--restricted\n",
            "\t--verbose\n",
            "\t--version\n",
            "Shell options:\n",
            "\t-ilrsD or -c command or -O shopt_option\t\t(invocation only)\n",
            "\t-abefhkmnptuvxBCHP or -o option\n"
          ]
        }
      ]
    },
    {
      "cell_type": "code",
      "source": [
        "#importing libraries \n",
        "from sklearn.model_selection import train_test_split\n",
        "from sklearn.metrics import confusion_matrix\n",
        "from sklearn.metrics import roc_auc_score\n",
        "from sklearn.metrics import plot_roc_curve\n",
        "from sklearn.model_selection import cross_val_score\n",
        "from sklearn.metrics import classification_report\n",
        "from sklearn.metrics import accuracy_score\n",
        "from sklearn.model_selection import RepeatedStratifiedKFold\n",
        "from sklearn.metrics import precision_recall_curve\n",
        "from sklearn.metrics import f1_score\n",
        "from sklearn.metrics import precision_score, recall_score\n",
        "\n",
        "\n",
        "# for smote\n",
        "import imblearn\n",
        "from collections import Counter\n",
        "from imblearn.over_sampling import SMOTE"
      ],
      "metadata": {
        "id": "lL_jMZFvvVqP"
      },
      "execution_count": null,
      "outputs": []
    },
    {
      "cell_type": "markdown",
      "source": [
        "Data Balancing using SMOTE : In order to cope with imbalanced data, there are 2 options :\n",
        "\n",
        "Undersampling : Trim down the majority samples of the target variable.\n",
        "\n",
        "Oversampling : Increase the minority samples of the target variable to the majority samples. we have decided to go with oversampling beacuse we might lose data if we do undersampling\n",
        "\n",
        "For data balancing, we will use imblearn.\n",
        "\n",
        "pip statement : !pip install imbalanced-learn"
      ],
      "metadata": {
        "id": "gtzI5m6uveB1"
      }
    },
    {
      "cell_type": "code",
      "source": [
        "# Splitting x and y variables\n",
        "x1 = df1[['time' ,'acc_x', 'mag_x', 'mag_y', 'acc_z', 'acc_y']] #independent features\n",
        "y1 = df1['label'] #dependent features"
      ],
      "metadata": {
        "id": "-Hl2rznQvfBe"
      },
      "execution_count": null,
      "outputs": []
    },
    {
      "cell_type": "markdown",
      "source": [
        "Taking only the 6 best features we got from chi2"
      ],
      "metadata": {
        "id": "3Yp4CyU3vlF5"
      }
    },
    {
      "cell_type": "code",
      "source": [
        "print(x1.shape, y1.shape)"
      ],
      "metadata": {
        "id": "4Dytn8nKvmB4",
        "colab": {
          "base_uri": "https://localhost:8080/"
        },
        "outputId": "5cb98b50-3df7-4962-8ac7-c157454e85b6"
      },
      "execution_count": null,
      "outputs": [
        {
          "output_type": "stream",
          "name": "stdout",
          "text": [
            "(40000, 6) (40000,)\n"
          ]
        }
      ]
    },
    {
      "cell_type": "code",
      "source": [
        "#splitting the data\n",
        "x1_train, x1_test, y1_train, y1_test = train_test_split(x1, y1, test_size = 0.3, random_state = 0)\n",
        "print(x1_train.shape, y1_train.shape, x1_test.shape)\n",
        "print('Classes and number of values in trainset before SMOTE:',Counter(y1_train),'\\n')\n",
        "\n",
        "# applying smote to handle imbalance in the target variable\n",
        "from imblearn.over_sampling import SMOTE\n",
        "oversample = SMOTE()\n",
        "x1_train,y1_train = oversample.fit_resample(x1_train,y1_train)\n",
        "print('Classes and number of values in trainset after SMOTE:',Counter(y1_train),'\\n')\n",
        "\n",
        "# importing Logistic Regression\n",
        "from sklearn.linear_model import LogisticRegression\n",
        "classifier_lr = LogisticRegression(random_state = 1000, multi_class = 'multinomial',penalty='none')\n",
        "\n",
        "#fitting the logistic regression model to x1_train and y1_train\n",
        "classifier_lr.fit(x1_train, y1_train)\n",
        "y1_pred = classifier_lr.predict(x1_test)\n",
        "print('model.predict :',y1_pred)\n",
        "print('model.score :', classifier_lr.score(x1_train, y1_train))\n",
        "\n",
        "#accuracy_score\n",
        "from sklearn.metrics import accuracy_score\n",
        "accuracy_lr = accuracy_score(y1_test, y1_pred)\n",
        "print('Accuracy : ',accuracy_lr)\n",
        "\n",
        "from sklearn.model_selection import cross_val_score\n",
        "cv_scores_lr = cross_val_score(classifier_lr, x1, y1, cv=5)\n",
        "print('Cross Validation scores :', cv_scores_lr)\n",
        "\n",
        "mean_cv_lr = (np.mean(cv_scores_lr))*100\n",
        "print('Mean cv :',mean_cv_lr)"
      ],
      "metadata": {
        "id": "hRvOFVrbvr5x",
        "colab": {
          "base_uri": "https://localhost:8080/"
        },
        "outputId": "1f907c56-2584-4fa1-b1a9-98490958f6ed"
      },
      "execution_count": null,
      "outputs": [
        {
          "output_type": "stream",
          "name": "stdout",
          "text": [
            "(28000, 6) (28000,) (12000, 6)\n",
            "Classes and number of values in trainset before SMOTE: Counter({6: 8027, 1: 7944, 4: 5898, 5: 3891, 9: 912, 8: 850, 3: 344, 2: 134}) \n",
            "\n",
            "Classes and number of values in trainset after SMOTE: Counter({6: 8027, 1: 8027, 5: 8027, 4: 8027, 8: 8027, 2: 8027, 9: 8027, 3: 8027}) \n",
            "\n",
            "model.predict : [6 6 5 ... 4 9 4]\n",
            "model.score : 0.37422137784975706\n",
            "Accuracy :  0.29033333333333333\n",
            "Cross Validation scores : [0.4185   0.43325  0.421375 0.41325  0.428625]\n",
            "Mean cv : 42.29999999999999\n"
          ]
        }
      ]
    },
    {
      "cell_type": "code",
      "source": [
        "#f1_score\n",
        "f1_score_lr = f1_score(y1_test, y1_pred, average='weighted')\n",
        "print('F1-score (average = weighted): {:.2f}'.format(f1_score_lr))\n",
        "\n",
        "#precision\n",
        "precision_score_lr = precision_score(y1_test, y1_pred, average='weighted')\n",
        "print('Precision (average = weighted): {:.2f}'.format(precision_score_lr))\n",
        "\n",
        "#recall\n",
        "recall_score_lr = recall_score(y1_test, y1_pred, average='weighted')\n",
        "print('Recall (average = weighted): {:.2f}'.format(recall_score_lr))"
      ],
      "metadata": {
        "id": "bmKK5WNkvxeD",
        "colab": {
          "base_uri": "https://localhost:8080/"
        },
        "outputId": "b2f79c86-50bd-4c7d-c5db-49ce73c27b09"
      },
      "execution_count": null,
      "outputs": [
        {
          "output_type": "stream",
          "name": "stdout",
          "text": [
            "F1-score (average = weighted): 0.27\n",
            "Precision (average = weighted): 0.46\n",
            "Recall (average = weighted): 0.29\n"
          ]
        }
      ]
    },
    {
      "cell_type": "markdown",
      "source": [
        "#2 - df2 - Decision Tree Classifier\n",
        "\n",
        "The decision tree classifier creates the classification model by building a decision tree. Each node in the tree specifies a test on an attribute, each branch descending from that node corresponds to one of the possible values for that attribute."
      ],
      "metadata": {
        "id": "TzYjn5mzv2ny"
      }
    },
    {
      "cell_type": "code",
      "source": [
        "# taking a sample of 40,000\n",
        "import random\n",
        "df2 = new_df.sample(40000)\n",
        "df2.shape"
      ],
      "metadata": {
        "id": "q8G9PFKmv5qs",
        "colab": {
          "base_uri": "https://localhost:8080/"
        },
        "outputId": "82739aea-6b9b-4f68-e646-10cdd376c702"
      },
      "execution_count": null,
      "outputs": [
        {
          "output_type": "execute_result",
          "data": {
            "text/plain": [
              "(40000, 11)"
            ]
          },
          "metadata": {},
          "execution_count": 36
        }
      ]
    },
    {
      "cell_type": "code",
      "source": [
        "df2['label'].value_counts()"
      ],
      "metadata": {
        "id": "gUAcpc9_v-sJ",
        "colab": {
          "base_uri": "https://localhost:8080/"
        },
        "outputId": "a53ecc4d-da6a-4346-cf16-ac64e6af006a"
      },
      "execution_count": null,
      "outputs": [
        {
          "output_type": "execute_result",
          "data": {
            "text/plain": [
              "1    11362\n",
              "6    11236\n",
              "4     8537\n",
              "5     5686\n",
              "9     1278\n",
              "8     1225\n",
              "3      508\n",
              "2      168\n",
              "Name: label, dtype: int64"
            ]
          },
          "metadata": {},
          "execution_count": 40
        }
      ]
    },
    {
      "cell_type": "code",
      "source": [
        "#distribution of sample df2\n",
        "plt.pie(df2['label'].value_counts(), autopct = '%1.1f%%');"
      ],
      "metadata": {
        "id": "oGyRXjQRwBYr",
        "colab": {
          "base_uri": "https://localhost:8080/",
          "height": 248
        },
        "outputId": "7cf80321-ebc4-4dd5-989b-d8eaf042c9b0"
      },
      "execution_count": null,
      "outputs": [
        {
          "output_type": "display_data",
          "data": {
            "text/plain": [
              "<Figure size 432x288 with 1 Axes>"
            ],
            "image/png": "[encoded data removed]"
          },
          "metadata": {}
        }
      ]
    },
    {
      "cell_type": "code",
      "source": [
        "# Splitting x and y variables\n",
        "x2 = df2[['time' ,'acc_x', 'mag_x', 'mag_y', 'acc_z', 'acc_y']] #independent features\n",
        "y2 = df2['label'] #dependent features\n",
        "print(x2.shape, y2.shape)"
      ],
      "metadata": {
        "id": "XhTXBWb2wDmx",
        "colab": {
          "base_uri": "https://localhost:8080/"
        },
        "outputId": "b8f9dd8f-ffae-4974-b087-545387aecce3"
      },
      "execution_count": null,
      "outputs": [
        {
          "output_type": "stream",
          "name": "stdout",
          "text": [
            "(40000, 6) (40000,)\n"
          ]
        }
      ]
    },
    {
      "cell_type": "code",
      "source": [
        "#splitting the data\n",
        "x2_train, x2_test, y2_train, y2_test = train_test_split(x2, y2, test_size = 0.3, random_state = 0)\n",
        "print(x2_train.shape, y2_train.shape, x2_test.shape)\n",
        "print('Classes and number of values in trainset before SMOTE:',Counter(y2_train),'\\n')\n",
        "\n",
        "#smote\n",
        "from imblearn.over_sampling import SMOTE\n",
        "oversample = SMOTE()\n",
        "x2_train,y2_train = oversample.fit_resample(x2_train,y2_train)\n",
        "print('Classes and number of values in trainset after SMOTE:',Counter(y2_train),'\\n')\n",
        "\n",
        "#importing Decision Trees\n",
        "from sklearn.tree import DecisionTreeClassifier\n",
        "classifier_dtc = DecisionTreeClassifier(random_state=1000,max_depth=15,min_samples_leaf = 1)\n",
        "\n",
        "classifier_dtc.fit(x2_train, y2_train)\n",
        "y2_pred = classifier_dtc.predict(x2_test)\n",
        "print('model.predict :',y2_pred)\n",
        "print('model.score :', classifier_dtc.score(x2_train, y2_train))\n",
        "\n",
        "from sklearn.metrics import accuracy_score\n",
        "accuracy_dtc = accuracy_score(y2_test, y2_pred)\n",
        "print('Accuracy : ',accuracy_dtc)\n",
        "\n",
        "from sklearn.model_selection import cross_val_score\n",
        "cv_scores_dtc = cross_val_score(classifier_dtc, x2, y2, cv=5)\n",
        "print('Cross Validation scores :', cv_scores_dtc)\n",
        "\n",
        "mean_cv_dtc = (np.mean(cv_scores_dtc))*100\n",
        "print('Mean cv :',mean_cv_dtc)"
      ],
      "metadata": {
        "id": "gsglPRXQwHRx",
        "colab": {
          "base_uri": "https://localhost:8080/"
        },
        "outputId": "3fb8d9ab-7793-4c4e-b5b2-69c35b1e9f65"
      },
      "execution_count": null,
      "outputs": [
        {
          "output_type": "stream",
          "name": "stdout",
          "text": [
            "(28000, 6) (28000,) (12000, 6)\n",
            "Classes and number of values in trainset before SMOTE: Counter({6: 7896, 1: 7859, 4: 6057, 5: 3989, 9: 879, 8: 873, 3: 324, 2: 123}) \n",
            "\n",
            "Classes and number of values in trainset after SMOTE: Counter({5: 7896, 6: 7896, 1: 7896, 2: 7896, 8: 7896, 4: 7896, 9: 7896, 3: 7896}) \n",
            "\n",
            "model.predict : [4 4 4 ... 9 4 1]\n",
            "model.score : 0.9657579787234043\n",
            "Accuracy :  0.9211666666666667\n",
            "Cross Validation scores : [0.945    0.947375 0.9365   0.941375 0.938375]\n",
            "Mean cv : 94.17249999999999\n"
          ]
        }
      ]
    },
    {
      "cell_type": "code",
      "source": [
        "f1_score_dtc = f1_score(y2_test, y2_pred, average='weighted')\n",
        "print('F1-score (average = weighted): {:.2f}'.format(f1_score_dtc))\n",
        "\n",
        "precision_score_dtc = precision_score(y2_test, y2_pred, average='weighted')\n",
        "print('Precision (average = weighted): {:.2f}'.format(precision_score_dtc))\n",
        "\n",
        "recall_score_dtc = recall_score(y2_test, y2_pred, average='weighted')\n",
        "print('Recall (average = weighted): {:.2f}'.format(recall_score_dtc))"
      ],
      "metadata": {
        "id": "Qy9YJLMNwQqQ",
        "colab": {
          "base_uri": "https://localhost:8080/"
        },
        "outputId": "57694596-2356-48d6-e25c-c872fe10bfd0"
      },
      "execution_count": null,
      "outputs": [
        {
          "output_type": "stream",
          "name": "stdout",
          "text": [
            "F1-score (average = weighted): 0.93\n",
            "Precision (average = weighted): 0.93\n",
            "Recall (average = weighted): 0.92\n"
          ]
        }
      ]
    },
    {
      "cell_type": "markdown",
      "source": [
        "#3 - df3 - Random Forest Classifier\n",
        "\n",
        " It builds decision trees on different samples and takes their majority vote for classification and average in case of regression."
      ],
      "metadata": {
        "id": "kNkyB4uYwVIi"
      }
    },
    {
      "cell_type": "code",
      "source": [
        "import random\n",
        "df3 = new_df.sample(40000)"
      ],
      "metadata": {
        "id": "qTPzjlkvwWcI"
      },
      "execution_count": null,
      "outputs": []
    },
    {
      "cell_type": "code",
      "source": [
        "df3['label'].value_counts()"
      ],
      "metadata": {
        "id": "lik2Jzg0wef5",
        "colab": {
          "base_uri": "https://localhost:8080/"
        },
        "outputId": "b252b1d9-90e8-4037-a00b-73e89f95e8bd"
      },
      "execution_count": null,
      "outputs": [
        {
          "output_type": "execute_result",
          "data": {
            "text/plain": [
              "1    11351\n",
              "6    11220\n",
              "4     8537\n",
              "5     5611\n",
              "9     1360\n",
              "8     1257\n",
              "3      472\n",
              "2      192\n",
              "Name: label, dtype: int64"
            ]
          },
          "metadata": {},
          "execution_count": 45
        }
      ]
    },
    {
      "cell_type": "code",
      "source": [
        "# Splitting x and y variables\n",
        "x3 = df3[['time' ,'acc_x', 'mag_x', 'mag_y', 'acc_z', 'acc_y']] #independent features\n",
        "y3 = df3['label'] #dependent features\n",
        "print(x3.shape, y3.shape)"
      ],
      "metadata": {
        "id": "sYo6oyUwwhbq",
        "colab": {
          "base_uri": "https://localhost:8080/"
        },
        "outputId": "1b1c978d-ee5f-424e-ad5c-850544da8e9c"
      },
      "execution_count": null,
      "outputs": [
        {
          "output_type": "stream",
          "name": "stdout",
          "text": [
            "(40000, 6) (40000,)\n"
          ]
        }
      ]
    },
    {
      "cell_type": "code",
      "source": [
        "#splitting the data\n",
        "x3_train, x3_test, y3_train, y3_test = train_test_split(x3, y3, test_size = 0.3, random_state = 0)\n",
        "print('Classes and number of values in trainset before SMOTE:',Counter(y3_train),'\\n')\n",
        "\n",
        "#smote\n",
        "from imblearn.over_sampling import SMOTE\n",
        "oversample = SMOTE()\n",
        "x3_train,y3_train = oversample.fit_resample(x3_train,y3_train)\n",
        "print('Classes and number of values in trainset after SMOTE:',Counter(y3_train),'\\n')\n",
        "\n",
        "\n",
        "from sklearn.ensemble import RandomForestClassifier\n",
        "classifier_rf = RandomForestClassifier(n_estimators=20, random_state=23)\n",
        "\n",
        "classifier_rf.fit(x3_train, y3_train)\n",
        "y3_pred = classifier_rf.predict(x3_test)\n",
        "print('model.predict :',y3_pred)\n",
        "print('model.score :', classifier_rf.score(x3_train, y3_train))\n",
        "\n",
        "from sklearn.metrics import accuracy_score\n",
        "accuracy_rf = accuracy_score(y3_test, y3_pred)\n",
        "print('Accuracy : ',accuracy_rf)\n",
        "\n",
        "from sklearn.model_selection import cross_val_score\n",
        "cv_scores_rf = cross_val_score(classifier_rf, x3, y3, cv=5)\n",
        "print('Cross Validation scores :', cv_scores_rf)\n",
        "\n",
        "mean_accuracy_rf = (np.mean(cv_scores_rf))*100\n",
        "print('Mean Accuracy :',mean_accuracy_rf)"
      ],
      "metadata": {
        "id": "K3DXhvhEwk8H",
        "colab": {
          "base_uri": "https://localhost:8080/"
        },
        "outputId": "5bf64120-08c6-4ac4-f17b-dc817b82dab1"
      },
      "execution_count": null,
      "outputs": [
        {
          "output_type": "stream",
          "name": "stdout",
          "text": [
            "Classes and number of values in trainset before SMOTE: Counter({1: 8019, 6: 7780, 4: 5990, 5: 3915, 9: 934, 8: 893, 3: 333, 2: 136}) \n",
            "\n",
            "Classes and number of values in trainset after SMOTE: Counter({5: 8019, 1: 8019, 4: 8019, 6: 8019, 9: 8019, 8: 8019, 3: 8019, 2: 8019}) \n",
            "\n",
            "model.predict : [5 6 6 ... 9 5 4]\n",
            "model.score : 0.9998441202144905\n",
            "Accuracy :  0.9395833333333333\n",
            "Cross Validation scores : [0.946    0.945625 0.940125 0.938875 0.942875]\n",
            "Mean Accuracy : 94.27\n"
          ]
        }
      ]
    },
    {
      "cell_type": "code",
      "source": [
        "f1_score_rf = f1_score(y3_test, y3_pred, average='weighted')\n",
        "print('F1-score (average = weighted): {:.2f}'.format(f1_score_rf))\n",
        "\n",
        "precision_score_rf = precision_score(y3_test, y3_pred, average='weighted')\n",
        "print('Precision (average = weighted): {:.2f}'.format(precision_score_rf))\n",
        "\n",
        "recall_score_rf = recall_score(y3_test, y3_pred, average='weighted')\n",
        "print('Recall (average = weighted): {:.2f}'.format(recall_score_rf))"
      ],
      "metadata": {
        "id": "rlL9mNYMwn5p",
        "colab": {
          "base_uri": "https://localhost:8080/"
        },
        "outputId": "bb510a01-90aa-46bb-eaaf-889f6ec287c8"
      },
      "execution_count": null,
      "outputs": [
        {
          "output_type": "stream",
          "name": "stdout",
          "text": [
            "F1-score (average = weighted): 0.94\n",
            "Precision (average = weighted): 0.94\n",
            "Recall (average = weighted): 0.94\n"
          ]
        }
      ]
    },
    {
      "cell_type": "markdown",
      "source": [
        "#4 - df4 - Support Vector Classifier\n",
        "\n",
        "Support Vector Machine(SVM) is a supervised machine learning algorithm used for both classification and regression. Though we say regression problems as well its best suited for classification. The objective of SVM algorithm is to find a hyperplane in an N-dimensional space that distinctly classifies the data points"
      ],
      "metadata": {
        "id": "sUHtCBqvws7g"
      }
    },
    {
      "cell_type": "code",
      "source": [
        "import random\n",
        "df4 = new_df.sample(40000)"
      ],
      "metadata": {
        "id": "VGtCAbBOwuDw"
      },
      "execution_count": null,
      "outputs": []
    },
    {
      "cell_type": "code",
      "source": [
        "df4['label'].value_counts()"
      ],
      "metadata": {
        "id": "mUyzTYLXwzfg",
        "colab": {
          "base_uri": "https://localhost:8080/"
        },
        "outputId": "721b4618-af08-4680-b09b-b1bcbd83f040"
      },
      "execution_count": null,
      "outputs": [
        {
          "output_type": "execute_result",
          "data": {
            "text/plain": [
              "1    11401\n",
              "6    11393\n",
              "4     8382\n",
              "5     5617\n",
              "9     1389\n",
              "8     1209\n",
              "3      431\n",
              "2      178\n",
              "Name: label, dtype: int64"
            ]
          },
          "metadata": {},
          "execution_count": 50
        }
      ]
    },
    {
      "cell_type": "code",
      "source": [
        "# Splitting x and y variables\n",
        "x4 = df4[['time' ,'acc_x', 'mag_x', 'mag_y', 'acc_z', 'acc_y']] #independent features\n",
        "y4 = df4['label'] #dependent features\n",
        "print(x4.shape, y4.shape)"
      ],
      "metadata": {
        "id": "VItFNw-9w15n",
        "colab": {
          "base_uri": "https://localhost:8080/"
        },
        "outputId": "6ea0b7d3-6e4b-497c-928d-68dff61396e7"
      },
      "execution_count": null,
      "outputs": [
        {
          "output_type": "stream",
          "name": "stdout",
          "text": [
            "(40000, 6) (40000,)\n"
          ]
        }
      ]
    },
    {
      "cell_type": "code",
      "source": [
        "#splitting the data\n",
        "x4_train, x4_test, y4_train, y4_test = train_test_split(x4, y4, test_size = 0.3, random_state = 0)\n",
        "print('Classes and number of values in trainset before SMOTE:',Counter(y4_train),'\\n')\n",
        "\n",
        "#smote\n",
        "from imblearn.over_sampling import SMOTE\n",
        "oversample = SMOTE()\n",
        "x4_train,y4_train = oversample.fit_resample(x4_train,y4_train)\n",
        "print('Classes and number of values in trainset after SMOTE:',Counter(y4_train),'\\n')\n",
        "\n",
        "\n",
        "from sklearn.svm import SVC\n",
        "classifier_svc=SVC(decision_function_shape='ovo')\n",
        "\n",
        "\n",
        "classifier_svc.fit(x4_train, y4_train)\n",
        "y4_pred = classifier_svc.predict(x4_test)\n",
        "print('model.predict :',y4_pred)\n",
        "print('model.score :', classifier_svc.score(x4_train, y4_train))\n",
        "\n",
        "from sklearn.metrics import accuracy_score\n",
        "accuracy_svc = accuracy_score(y4_test, y4_pred)\n",
        "print('Accuracy : ',accuracy_svc)\n",
        "\n",
        "from sklearn.model_selection import cross_val_score\n",
        "cv_scores_svc = cross_val_score(classifier_svc, x4, y4, cv=5)\n",
        "print('Cross Validation scores :', cv_scores_svc)\n",
        "\n",
        "mean_cv_svc = (np.mean(cv_scores_svc))*100\n",
        "print('Mean cv :',mean_cv_svc)"
      ],
      "metadata": {
        "id": "41RvraEyw5Wu",
        "colab": {
          "base_uri": "https://localhost:8080/"
        },
        "outputId": "b0eaf048-0512-434b-fe4f-fe03f9ca7378"
      },
      "execution_count": null,
      "outputs": [
        {
          "output_type": "stream",
          "name": "stdout",
          "text": [
            "Classes and number of values in trainset before SMOTE: Counter({6: 7998, 1: 7938, 4: 5903, 5: 3938, 9: 967, 8: 851, 3: 289, 2: 116}) \n",
            "\n",
            "Classes and number of values in trainset after SMOTE: Counter({6: 7998, 4: 7998, 1: 7998, 5: 7998, 9: 7998, 8: 7998, 3: 7998, 2: 7998}) \n",
            "\n",
            "model.predict : [1 5 1 ... 1 4 6]\n",
            "model.score : 0.6832489372343086\n",
            "Accuracy :  0.6060833333333333\n",
            "Cross Validation scores : [0.67575  0.68725  0.679625 0.66875  0.67575 ]\n",
            "Mean cv : 67.7425\n"
          ]
        }
      ]
    },
    {
      "cell_type": "markdown",
      "source": [
        "#5 - df5 - KNearest Neighbors\n",
        "\n",
        "the k-nearest neighbors (KNN) algorithm is a simple, supervised machine learning algorithm that can be used to solve both classification and regression problems.\n",
        "\n",
        "it's easy to implement and understand, but has a major drawback of becoming significantly slows as the size of that data in use grows."
      ],
      "metadata": {
        "id": "YKpoBuPoxHin"
      }
    },
    {
      "cell_type": "code",
      "source": [
        "import random\n",
        "df5 = new_df.sample(40000)"
      ],
      "metadata": {
        "id": "x-KQy7fdxIs4"
      },
      "execution_count": null,
      "outputs": []
    },
    {
      "cell_type": "code",
      "source": [
        "df5['label'].value_counts()"
      ],
      "metadata": {
        "id": "rkCRzEOkxOnu",
        "colab": {
          "base_uri": "https://localhost:8080/"
        },
        "outputId": "c9a28371-bb69-4faf-a168-d64b50921a84"
      },
      "execution_count": null,
      "outputs": [
        {
          "output_type": "execute_result",
          "data": {
            "text/plain": [
              "6    11406\n",
              "1    11199\n",
              "4     8350\n",
              "5     5798\n",
              "9     1374\n",
              "8     1219\n",
              "3      467\n",
              "2      187\n",
              "Name: label, dtype: int64"
            ]
          },
          "metadata": {},
          "execution_count": 56
        }
      ]
    },
    {
      "cell_type": "code",
      "source": [
        "# Splitting x and y variables\n",
        "x5 = df5[['time' ,'acc_x', 'mag_x', 'mag_y', 'acc_z', 'acc_y']] #independent features\n",
        "y5 = df5['label'] #dependent features"
      ],
      "metadata": {
        "id": "mpp11QcJxR2H"
      },
      "execution_count": null,
      "outputs": []
    },
    {
      "cell_type": "code",
      "source": [
        "#splitting the data\n",
        "x5_train, x5_test, y5_train, y5_test = train_test_split(x5, y5, test_size = 0.3, random_state = 0)\n",
        "print('Classes and number of values in trainset before SMOTE:',Counter(y5_train),'\\n')\n",
        "\n",
        "#smote\n",
        "from imblearn.over_sampling import SMOTE\n",
        "oversample = SMOTE()\n",
        "x5_train,y5_train = oversample.fit_resample(x5_train,y5_train)\n",
        "print('Classes and number of values in trainset after SMOTE:',Counter(y5_train),'\\n')\n",
        "\n",
        "\n",
        "from sklearn.neighbors import KNeighborsClassifier\n",
        "classifier_knn= KNeighborsClassifier()\n",
        "\n",
        "classifier_knn.fit(x5_train, y5_train)\n",
        "y5_pred = classifier_knn.predict(x5_test)\n",
        "print('model.predict :',y5_pred)\n",
        "print('model.score :', classifier_knn.score(x5_train, y5_train))\n",
        "\n",
        "from sklearn.metrics import accuracy_score\n",
        "accuracy_knn = accuracy_score(y5_test, y5_pred)\n",
        "print('Accuracy : ',accuracy_knn)\n",
        "\n",
        "from sklearn.model_selection import cross_val_score\n",
        "cv_scores_knn = cross_val_score(classifier_knn, x5, y5, cv=5)\n",
        "print('Cross Validation scores :', cv_scores_knn)\n",
        "\n",
        "mean_cv_knn = (np.mean(cv_scores_knn))*100\n",
        "print('Mean cv :',mean_cv_knn)"
      ],
      "metadata": {
        "id": "El2gpEllxVDW",
        "colab": {
          "base_uri": "https://localhost:8080/"
        },
        "outputId": "3ac6fc8a-7f00-4af5-d600-66ee39c9d09c"
      },
      "execution_count": null,
      "outputs": [
        {
          "output_type": "stream",
          "name": "stdout",
          "text": [
            "Classes and number of values in trainset before SMOTE: Counter({6: 8026, 1: 7816, 4: 5806, 5: 4075, 9: 960, 8: 854, 3: 330, 2: 133}) \n",
            "\n",
            "Classes and number of values in trainset after SMOTE: Counter({5: 8026, 6: 8026, 9: 8026, 1: 8026, 8: 8026, 4: 8026, 3: 8026, 2: 8026}) \n",
            "\n",
            "model.predict : [5 6 6 ... 6 1 1]\n",
            "model.score : 0.9608148517318714\n",
            "Accuracy :  0.8679166666666667\n",
            "Cross Validation scores : [0.888625 0.88675  0.883    0.889625 0.88625 ]\n",
            "Mean cv : 88.68500000000002\n"
          ]
        }
      ]
    },
    {
      "cell_type": "code",
      "source": [
        "f1_score_knn = f1_score(y5_test, y5_pred, average='weighted')\n",
        "print('F1-score (average = weighted): {:.2f}'.format(f1_score_knn))\n",
        "\n",
        "precision_score_knn = precision_score(y5_test, y5_pred, average='weighted')\n",
        "print('Precision (average = weighted): {:.2f}'.format(precision_score_knn))\n",
        "\n",
        "recall_score_knn = recall_score(y5_test, y5_pred, average='weighted')\n",
        "print('Recall (average = weighted): {:.2f}'.format(recall_score_knn))"
      ],
      "metadata": {
        "id": "a90VKP2NxXqh",
        "colab": {
          "base_uri": "https://localhost:8080/"
        },
        "outputId": "bdce501d-e199-4d5b-c84d-37804a5b8b2d"
      },
      "execution_count": null,
      "outputs": [
        {
          "output_type": "stream",
          "name": "stdout",
          "text": [
            "F1-score (average = weighted): 0.87\n",
            "Precision (average = weighted): 0.88\n",
            "Recall (average = weighted): 0.87\n"
          ]
        }
      ]
    },
    {
      "cell_type": "markdown",
      "source": [
        "#6- df6 - XGBoost Classifier\n",
        "\n",
        "XGBoost, which stands for Extreme Gradient Boosting, is a scalable, distributed gradient-boosted decision tree (GBDT) machine learning library. It provides parallel tree boosting and is the leading machine learning library for regression, classification, and ranking problems."
      ],
      "metadata": {
        "id": "7AmZ23m9xZET"
      }
    },
    {
      "cell_type": "code",
      "source": [
        "import random     \n",
        "df6 = new_df.sample(40000)"
      ],
      "metadata": {
        "id": "qkR3GVt1xh5h"
      },
      "execution_count": null,
      "outputs": []
    },
    {
      "cell_type": "code",
      "source": [
        "df6['label'].value_counts()"
      ],
      "metadata": {
        "id": "uQ5nhp_Exl4-",
        "colab": {
          "base_uri": "https://localhost:8080/"
        },
        "outputId": "36dc0e9e-c584-435f-f402-191e2bac9033"
      },
      "execution_count": null,
      "outputs": [
        {
          "output_type": "execute_result",
          "data": {
            "text/plain": [
              "1    11372\n",
              "6    11113\n",
              "4     8505\n",
              "5     5745\n",
              "9     1348\n",
              "8     1247\n",
              "3      483\n",
              "2      187\n",
              "Name: label, dtype: int64"
            ]
          },
          "metadata": {},
          "execution_count": 61
        }
      ]
    },
    {
      "cell_type": "code",
      "source": [
        "# Splitting x and y variables\n",
        "x6 = df6[['time' ,'acc_x', 'mag_x', 'mag_y', 'acc_z', 'acc_y']] #independent features\n",
        "y6 = df6['label'] #dependent features"
      ],
      "metadata": {
        "id": "tkVAkso4xniu"
      },
      "execution_count": null,
      "outputs": []
    },
    {
      "cell_type": "code",
      "source": [
        "###### splitting the data\n",
        "x6_train, x6_test, y6_train, y6_test = train_test_split(x6, y6, test_size = 0.3, random_state = 0)\n",
        "print('Classes and number of values in trainset before SMOTE:',Counter(y6_train),'\\n')\n",
        "\n",
        "#smote\n",
        "from imblearn.over_sampling import SMOTE\n",
        "oversample = SMOTE()\n",
        "x6_train,y6_train = oversample.fit_resample(x6_train,y6_train)\n",
        "print('Classes and number of values in trainset after SMOTE:',Counter(y6_train),'\\n')\n",
        "\n",
        "from xgboost import XGBClassifier\n",
        "classifier_xgb = XGBClassifier(learning_rate= 0.01,max_depth = 15,n_estimators = 1000)\n",
        "\n",
        "from sklearn.preprocessing import LabelEncoder\n",
        "le = LabelEncoder()\n",
        "y6 = le.fit_transform(y6)\n",
        "\n",
        "\n",
        "classifier_xgb.fit(x6_train, y6_train)\n",
        "y6_pred = classifier_xgb.predict(x6_test)\n",
        "print('model.predict :',y6_pred)\n",
        "print('model.score :', classifier_xgb.score(x6_train, y6_train))\n",
        "\n",
        "from sklearn.metrics import accuracy_score\n",
        "accuracy_xgb = accuracy_score(y6_test, y6_pred)\n",
        "print('Accuracy : ',accuracy_xgb)\n",
        "\n",
        "from sklearn.preprocessing import LabelEncoder\n",
        "le = LabelEncoder()\n",
        "y7 = le.fit_transform(y6)\n",
        "\n",
        "from sklearn.model_selection import cross_val_score\n",
        "cv_scores_xgb = cross_val_score(classifier_xgb, x6, y6, cv=5)\n",
        "print('Cross Validation scores :', cv_scores_xgb)\n",
        "\n",
        "mean_cv_xgb = (np.mean(cv_scores_xgb))*100\n",
        "print('Mean cv :',mean_cv_xgb)"
      ],
      "metadata": {
        "id": "ScTOsXRBxsnH",
        "colab": {
          "base_uri": "https://localhost:8080/"
        },
        "outputId": "3642b942-8eea-4434-a89e-a495870e75ce"
      },
      "execution_count": null,
      "outputs": [
        {
          "output_type": "stream",
          "name": "stdout",
          "text": [
            "Classes and number of values in trainset before SMOTE: Counter({1: 7907, 6: 7857, 4: 5976, 5: 3967, 9: 970, 8: 829, 3: 359, 2: 135}) \n",
            "\n",
            "Classes and number of values in trainset after SMOTE: Counter({3: 7907, 6: 7907, 4: 7907, 8: 7907, 1: 7907, 5: 7907, 9: 7907, 2: 7907}) \n",
            "\n",
            "model.predict : [6 6 1 ... 1 5 4]\n",
            "model.score : 0.999952573668901\n",
            "Accuracy :  0.9706666666666667\n",
            "Cross Validation scores : [0.98325  0.9835   0.981    0.98     0.982375]\n",
            "Mean cv : 98.20249999999999\n"
          ]
        }
      ]
    },
    {
      "cell_type": "code",
      "source": [
        "f1_score_xgb = f1_score(y6_test, y6_pred, average='weighted')\n",
        "print('F1-score (average = weighted): {:.2f}'.format(f1_score_xgb))\n",
        "\n",
        "precision_score_xgb = precision_score(y6_test, y6_pred, average='weighted')\n",
        "print('Precision (average = weighted): {:.2f}'.format(precision_score_xgb))\n",
        "\n",
        "recall_score_xgb = recall_score(y6_test, y6_pred, average='weighted')\n",
        "print('Recall (average = weighted): {:.2f}'.format(recall_score_xgb))"
      ],
      "metadata": {
        "id": "AF2GFIPIycNz",
        "colab": {
          "base_uri": "https://localhost:8080/"
        },
        "outputId": "cfd77695-942b-4d41-e973-db3974aab2aa"
      },
      "execution_count": null,
      "outputs": [
        {
          "output_type": "stream",
          "name": "stdout",
          "text": [
            "F1-score (average = weighted): 0.97\n",
            "Precision (average = weighted): 0.97\n",
            "Recall (average = weighted): 0.97\n"
          ]
        }
      ]
    }
  ],
  "metadata": {
    "colab": {
      "collapsed_sections": [],
      "provenance": []
    },
    "kernelspec": {
      "display_name": "Python 3",
      "name": "python3"
    },
    "language_info": {
      "name": "python"
    }
  },
  "nbformat": 4,
  "nbformat_minor": 0
}